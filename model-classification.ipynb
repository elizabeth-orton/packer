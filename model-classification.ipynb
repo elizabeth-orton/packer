{
 "cells": [
  {
   "cell_type": "markdown",
   "id": "3e36bbfc",
   "metadata": {
    "papermill": {
     "duration": 0.009116,
     "end_time": "2023-12-11T17:13:37.050077",
     "exception": false,
     "start_time": "2023-12-11T17:13:37.040961",
     "status": "completed"
    },
    "tags": []
   },
   "source": [
    "# Stage 1"
   ]
  },
  {
   "cell_type": "code",
   "execution_count": 1,
   "id": "b5f68769",
   "metadata": {
    "_cell_guid": "b1076dfc-b9ad-4769-8c92-a6c4dae69d19",
    "_uuid": "8f2839f25d086af736a60e9eeb907d3b93b6e0e5",
    "execution": {
     "iopub.execute_input": "2023-12-11T17:13:37.070336Z",
     "iopub.status.busy": "2023-12-11T17:13:37.069811Z",
     "iopub.status.idle": "2023-12-11T17:13:39.387173Z",
     "shell.execute_reply": "2023-12-11T17:13:39.385724Z"
    },
    "papermill": {
     "duration": 2.331487,
     "end_time": "2023-12-11T17:13:39.390439",
     "exception": false,
     "start_time": "2023-12-11T17:13:37.058952",
     "status": "completed"
    },
    "tags": []
   },
   "outputs": [],
   "source": [
    "#import block\n",
    "import numpy as np\n",
    "import pandas as pd\n",
    "import sys\n",
    "from sklearn.model_selection import train_test_split"
   ]
  },
  {
   "cell_type": "code",
   "execution_count": 2,
   "id": "e0f16c3d",
   "metadata": {
    "execution": {
     "iopub.execute_input": "2023-12-11T17:13:39.411775Z",
     "iopub.status.busy": "2023-12-11T17:13:39.411240Z",
     "iopub.status.idle": "2023-12-11T17:13:39.419218Z",
     "shell.execute_reply": "2023-12-11T17:13:39.417638Z"
    },
    "papermill": {
     "duration": 0.022444,
     "end_time": "2023-12-11T17:13:39.422429",
     "exception": false,
     "start_time": "2023-12-11T17:13:39.399985",
     "status": "completed"
    },
    "tags": []
   },
   "outputs": [],
   "source": [
    "#this turns a set of 3-character strings into a single one-hot encoded array\n",
    "def transformVector(d):\n",
    "    l = len(charlist)\n",
    "    d = eval(d)\n",
    "    v = np.zeros(l**3).astype('uint64')\n",
    "    for string in d:\n",
    "        num = charlist.index(string[0])*l*l + charlist.index(string[1])*l + charlist.index(string[2])\n",
    "        v[num] = 1\n",
    "    return v"
   ]
  },
  {
   "cell_type": "code",
   "execution_count": 3,
   "id": "cf6f03ad",
   "metadata": {
    "execution": {
     "iopub.execute_input": "2023-12-11T17:13:39.445295Z",
     "iopub.status.busy": "2023-12-11T17:13:39.444045Z",
     "iopub.status.idle": "2023-12-11T17:13:39.454195Z",
     "shell.execute_reply": "2023-12-11T17:13:39.453135Z"
    },
    "papermill": {
     "duration": 0.025122,
     "end_time": "2023-12-11T17:13:39.457190",
     "exception": false,
     "start_time": "2023-12-11T17:13:39.432068",
     "status": "completed"
    },
    "tags": []
   },
   "outputs": [],
   "source": [
    "def fileDeal(file): #converts a file to just lowercase letters and changes all non-alpha characters to # (spaces are *)\n",
    "    nfile = \"\"\n",
    "    for char in file:\n",
    "        if char.isalpha():\n",
    "            nfile += char.lower()\n",
    "        elif char.isnumeric():\n",
    "            nfile += char\n",
    "        elif char == \" \":\n",
    "            nfile += \"*\"\n",
    "        else:\n",
    "            nfile += \"#\"\n",
    "    return nfile\n",
    "def makeVector(file): #this converts the character string to a set of all of the three-character combinations that are in the character string\n",
    "    newfile = fileDeal(file)\n",
    "    featureSet = set(())\n",
    "    i = 0\n",
    "    while i < (len(newfile)-2):\n",
    "        featureSet.add(newfile[i:i+3])\n",
    "        i+=1\n",
    "    return featureSet"
   ]
  },
  {
   "cell_type": "markdown",
   "id": "8c270f3b",
   "metadata": {
    "papermill": {
     "duration": 0.008962,
     "end_time": "2023-12-11T17:13:39.475628",
     "exception": false,
     "start_time": "2023-12-11T17:13:39.466666",
     "status": "completed"
    },
    "tags": []
   },
   "source": [
    "The training set has already been run through the previous two procedures."
   ]
  },
  {
   "cell_type": "code",
   "execution_count": 4,
   "id": "86bf122f",
   "metadata": {
    "execution": {
     "iopub.execute_input": "2023-12-11T17:13:39.497041Z",
     "iopub.status.busy": "2023-12-11T17:13:39.496487Z",
     "iopub.status.idle": "2023-12-11T17:13:39.531321Z",
     "shell.execute_reply": "2023-12-11T17:13:39.529873Z"
    },
    "papermill": {
     "duration": 0.04877,
     "end_time": "2023-12-11T17:13:39.534284",
     "exception": false,
     "start_time": "2023-12-11T17:13:39.485514",
     "status": "completed"
    },
    "tags": []
   },
   "outputs": [],
   "source": [
    "df = pd.read_csv(\"/kaggle/input/vectorfile-version-2/vectorfilev2.csv\") #read the training data into a pandas dataframe"
   ]
  },
  {
   "cell_type": "code",
   "execution_count": 5,
   "id": "d7007259",
   "metadata": {
    "execution": {
     "iopub.execute_input": "2023-12-11T17:13:39.555338Z",
     "iopub.status.busy": "2023-12-11T17:13:39.553908Z",
     "iopub.status.idle": "2023-12-11T17:13:39.624231Z",
     "shell.execute_reply": "2023-12-11T17:13:39.622602Z"
    },
    "papermill": {
     "duration": 0.083652,
     "end_time": "2023-12-11T17:13:39.627141",
     "exception": false,
     "start_time": "2023-12-11T17:13:39.543489",
     "status": "completed"
    },
    "tags": []
   },
   "outputs": [
    {
     "data": {
      "text/html": [
       "<div>\n",
       "<style scoped>\n",
       "    .dataframe tbody tr th:only-of-type {\n",
       "        vertical-align: middle;\n",
       "    }\n",
       "\n",
       "    .dataframe tbody tr th {\n",
       "        vertical-align: top;\n",
       "    }\n",
       "\n",
       "    .dataframe thead th {\n",
       "        text-align: right;\n",
       "    }\n",
       "</style>\n",
       "<table border=\"1\" class=\"dataframe\">\n",
       "  <thead>\n",
       "    <tr style=\"text-align: right;\">\n",
       "      <th></th>\n",
       "      <th>name</th>\n",
       "      <th>vector</th>\n",
       "      <th>algo1</th>\n",
       "      <th>algo2</th>\n",
       "      <th>unpacked</th>\n",
       "    </tr>\n",
       "  </thead>\n",
       "  <tbody>\n",
       "    <tr>\n",
       "      <th>0</th>\n",
       "      <td>initdirectory/script1.py</td>\n",
       "      <td>{'##n', 'ucc', '*wi', '#*t', 'n##', 'tes', 'ut...</td>\n",
       "      <td>0</td>\n",
       "      <td>0</td>\n",
       "      <td>1</td>\n",
       "    </tr>\n",
       "    <tr>\n",
       "      <th>1</th>\n",
       "      <td>initdirectory/script2.py</td>\n",
       "      <td>{'##n', 'ut#', '#in', '*wh', 's*#', 'ill', 'op...</td>\n",
       "      <td>0</td>\n",
       "      <td>0</td>\n",
       "      <td>1</td>\n",
       "    </tr>\n",
       "    <tr>\n",
       "      <th>2</th>\n",
       "      <td>initdirectory/script3.py</td>\n",
       "      <td>{'##n', 'n##', 'ut#', 'tim', 'gge', 'g*s', 'ul...</td>\n",
       "      <td>0</td>\n",
       "      <td>0</td>\n",
       "      <td>1</td>\n",
       "    </tr>\n",
       "    <tr>\n",
       "      <th>3</th>\n",
       "      <td>initdirectory/script4.py</td>\n",
       "      <td>{'vis', '##n', 'snu', 'nd*', 'yes', 'quo', 'n#...</td>\n",
       "      <td>0</td>\n",
       "      <td>0</td>\n",
       "      <td>1</td>\n",
       "    </tr>\n",
       "    <tr>\n",
       "      <th>4</th>\n",
       "      <td>initdirectory/script5.py</td>\n",
       "      <td>{'its', 'k#u', 'per', 'n#d', 'nis', 'eco', 'tr...</td>\n",
       "      <td>0</td>\n",
       "      <td>0</td>\n",
       "      <td>1</td>\n",
       "    </tr>\n",
       "  </tbody>\n",
       "</table>\n",
       "</div>"
      ],
      "text/plain": [
       "                       name  \\\n",
       "0  initdirectory/script1.py   \n",
       "1  initdirectory/script2.py   \n",
       "2  initdirectory/script3.py   \n",
       "3  initdirectory/script4.py   \n",
       "4  initdirectory/script5.py   \n",
       "\n",
       "                                              vector  algo1  algo2  unpacked  \n",
       "0  {'##n', 'ucc', '*wi', '#*t', 'n##', 'tes', 'ut...      0      0         1  \n",
       "1  {'##n', 'ut#', '#in', '*wh', 's*#', 'ill', 'op...      0      0         1  \n",
       "2  {'##n', 'n##', 'ut#', 'tim', 'gge', 'g*s', 'ul...      0      0         1  \n",
       "3  {'vis', '##n', 'snu', 'nd*', 'yes', 'quo', 'n#...      0      0         1  \n",
       "4  {'its', 'k#u', 'per', 'n#d', 'nis', 'eco', 'tr...      0      0         1  "
      ]
     },
     "execution_count": 5,
     "metadata": {},
     "output_type": "execute_result"
    }
   ],
   "source": [
    "#this creates three columns: one for algorithm 1, one for algorithm 2, and one for unpacked. For each row, the respective algorithm will have a 1 and the other two will have a 0\n",
    "df['algo1'] = 0\n",
    "df['algo2'] = 0\n",
    "df['unpacked'] = 0\n",
    "for row in df.index:\n",
    "    try:\n",
    "        if str(df['name'][row]).split('/')[3] == 'algo1':\n",
    "            df.loc[row, 'algo1']= 1\n",
    "        elif str(df['name'][row]).split('/')[3] == 'algo2':\n",
    "            df.loc[row, 'algo2' ] =1\n",
    "    except:\n",
    "        df.loc[row, 'unpacked']=  1 \n",
    "df.head()"
   ]
  },
  {
   "cell_type": "code",
   "execution_count": 6,
   "id": "2ca53e13",
   "metadata": {
    "execution": {
     "iopub.execute_input": "2023-12-11T17:13:39.647575Z",
     "iopub.status.busy": "2023-12-11T17:13:39.647099Z",
     "iopub.status.idle": "2023-12-11T17:13:40.133576Z",
     "shell.execute_reply": "2023-12-11T17:13:40.132267Z"
    },
    "papermill": {
     "duration": 0.500495,
     "end_time": "2023-12-11T17:13:40.136832",
     "exception": false,
     "start_time": "2023-12-11T17:13:39.636337",
     "status": "completed"
    },
    "tags": []
   },
   "outputs": [],
   "source": [
    "#the charlist contains every possible character that is included in this classification system\n",
    "charlist = ['0','1', '2', '3', '4', '5', '6', '7', '8', '9', 'a', 'b', 'c', 'd', 'e', 'f', 'g', 'h', 'i', 'j', 'k', 'l', 'm', 'n', 'o', 'p', 'q', 'r', 's', 't', 'u', 'v', 'w', 'x', 'y', 'z', '#', '*']\n",
    "df['enumerated'] = df['vector'].apply(transformVector)"
   ]
  },
  {
   "cell_type": "markdown",
   "id": "efb15319",
   "metadata": {
    "papermill": {
     "duration": 0.009471,
     "end_time": "2023-12-11T17:13:40.155518",
     "exception": false,
     "start_time": "2023-12-11T17:13:40.146047",
     "status": "completed"
    },
    "tags": []
   },
   "source": [
    "The following blocks of code are just to make sure that the dataframe looks the way we want it to."
   ]
  },
  {
   "cell_type": "code",
   "execution_count": 7,
   "id": "76f3c978",
   "metadata": {
    "execution": {
     "iopub.execute_input": "2023-12-11T17:13:40.175703Z",
     "iopub.status.busy": "2023-12-11T17:13:40.175239Z",
     "iopub.status.idle": "2023-12-11T17:13:40.201972Z",
     "shell.execute_reply": "2023-12-11T17:13:40.200871Z"
    },
    "papermill": {
     "duration": 0.040188,
     "end_time": "2023-12-11T17:13:40.204715",
     "exception": false,
     "start_time": "2023-12-11T17:13:40.164527",
     "status": "completed"
    },
    "tags": []
   },
   "outputs": [
    {
     "name": "stdout",
     "output_type": "stream",
     "text": [
      "54872\n"
     ]
    },
    {
     "data": {
      "text/html": [
       "<div>\n",
       "<style scoped>\n",
       "    .dataframe tbody tr th:only-of-type {\n",
       "        vertical-align: middle;\n",
       "    }\n",
       "\n",
       "    .dataframe tbody tr th {\n",
       "        vertical-align: top;\n",
       "    }\n",
       "\n",
       "    .dataframe thead th {\n",
       "        text-align: right;\n",
       "    }\n",
       "</style>\n",
       "<table border=\"1\" class=\"dataframe\">\n",
       "  <thead>\n",
       "    <tr style=\"text-align: right;\">\n",
       "      <th></th>\n",
       "      <th>name</th>\n",
       "      <th>vector</th>\n",
       "      <th>algo1</th>\n",
       "      <th>algo2</th>\n",
       "      <th>unpacked</th>\n",
       "      <th>enumerated</th>\n",
       "    </tr>\n",
       "  </thead>\n",
       "  <tbody>\n",
       "    <tr>\n",
       "      <th>0</th>\n",
       "      <td>initdirectory/script1.py</td>\n",
       "      <td>{'##n', 'ucc', '*wi', '#*t', 'n##', 'tes', 'ut...</td>\n",
       "      <td>0</td>\n",
       "      <td>0</td>\n",
       "      <td>1</td>\n",
       "      <td>[0, 0, 0, 0, 0, 0, 0, 0, 0, 0, 0, 0, 0, 0, 0, ...</td>\n",
       "    </tr>\n",
       "    <tr>\n",
       "      <th>1</th>\n",
       "      <td>initdirectory/script2.py</td>\n",
       "      <td>{'##n', 'ut#', '#in', '*wh', 's*#', 'ill', 'op...</td>\n",
       "      <td>0</td>\n",
       "      <td>0</td>\n",
       "      <td>1</td>\n",
       "      <td>[0, 0, 0, 0, 0, 0, 0, 0, 0, 0, 0, 0, 0, 0, 0, ...</td>\n",
       "    </tr>\n",
       "    <tr>\n",
       "      <th>2</th>\n",
       "      <td>initdirectory/script3.py</td>\n",
       "      <td>{'##n', 'n##', 'ut#', 'tim', 'gge', 'g*s', 'ul...</td>\n",
       "      <td>0</td>\n",
       "      <td>0</td>\n",
       "      <td>1</td>\n",
       "      <td>[0, 0, 0, 0, 0, 0, 0, 0, 0, 0, 0, 0, 0, 0, 0, ...</td>\n",
       "    </tr>\n",
       "    <tr>\n",
       "      <th>3</th>\n",
       "      <td>initdirectory/script4.py</td>\n",
       "      <td>{'vis', '##n', 'snu', 'nd*', 'yes', 'quo', 'n#...</td>\n",
       "      <td>0</td>\n",
       "      <td>0</td>\n",
       "      <td>1</td>\n",
       "      <td>[0, 0, 0, 0, 0, 0, 0, 0, 0, 0, 0, 0, 0, 0, 0, ...</td>\n",
       "    </tr>\n",
       "    <tr>\n",
       "      <th>4</th>\n",
       "      <td>initdirectory/script5.py</td>\n",
       "      <td>{'its', 'k#u', 'per', 'n#d', 'nis', 'eco', 'tr...</td>\n",
       "      <td>0</td>\n",
       "      <td>0</td>\n",
       "      <td>1</td>\n",
       "      <td>[0, 0, 0, 0, 0, 0, 0, 0, 0, 0, 0, 0, 0, 0, 0, ...</td>\n",
       "    </tr>\n",
       "  </tbody>\n",
       "</table>\n",
       "</div>"
      ],
      "text/plain": [
       "                       name  \\\n",
       "0  initdirectory/script1.py   \n",
       "1  initdirectory/script2.py   \n",
       "2  initdirectory/script3.py   \n",
       "3  initdirectory/script4.py   \n",
       "4  initdirectory/script5.py   \n",
       "\n",
       "                                              vector  algo1  algo2  unpacked  \\\n",
       "0  {'##n', 'ucc', '*wi', '#*t', 'n##', 'tes', 'ut...      0      0         1   \n",
       "1  {'##n', 'ut#', '#in', '*wh', 's*#', 'ill', 'op...      0      0         1   \n",
       "2  {'##n', 'n##', 'ut#', 'tim', 'gge', 'g*s', 'ul...      0      0         1   \n",
       "3  {'vis', '##n', 'snu', 'nd*', 'yes', 'quo', 'n#...      0      0         1   \n",
       "4  {'its', 'k#u', 'per', 'n#d', 'nis', 'eco', 'tr...      0      0         1   \n",
       "\n",
       "                                          enumerated  \n",
       "0  [0, 0, 0, 0, 0, 0, 0, 0, 0, 0, 0, 0, 0, 0, 0, ...  \n",
       "1  [0, 0, 0, 0, 0, 0, 0, 0, 0, 0, 0, 0, 0, 0, 0, ...  \n",
       "2  [0, 0, 0, 0, 0, 0, 0, 0, 0, 0, 0, 0, 0, 0, 0, ...  \n",
       "3  [0, 0, 0, 0, 0, 0, 0, 0, 0, 0, 0, 0, 0, 0, 0, ...  \n",
       "4  [0, 0, 0, 0, 0, 0, 0, 0, 0, 0, 0, 0, 0, 0, 0, ...  "
      ]
     },
     "execution_count": 7,
     "metadata": {},
     "output_type": "execute_result"
    }
   ],
   "source": [
    "print(np.size(df.loc[1, 'enumerated']))\n",
    "df.head()"
   ]
  },
  {
   "cell_type": "code",
   "execution_count": 8,
   "id": "798fdff5",
   "metadata": {
    "execution": {
     "iopub.execute_input": "2023-12-11T17:13:40.225810Z",
     "iopub.status.busy": "2023-12-11T17:13:40.225444Z",
     "iopub.status.idle": "2023-12-11T17:13:40.253985Z",
     "shell.execute_reply": "2023-12-11T17:13:40.251622Z"
    },
    "papermill": {
     "duration": 0.042427,
     "end_time": "2023-12-11T17:13:40.256646",
     "exception": false,
     "start_time": "2023-12-11T17:13:40.214219",
     "status": "completed"
    },
    "tags": []
   },
   "outputs": [
    {
     "name": "stdout",
     "output_type": "stream",
     "text": [
      "<class 'numpy.ndarray'>\n"
     ]
    },
    {
     "data": {
      "text/html": [
       "<div>\n",
       "<style scoped>\n",
       "    .dataframe tbody tr th:only-of-type {\n",
       "        vertical-align: middle;\n",
       "    }\n",
       "\n",
       "    .dataframe tbody tr th {\n",
       "        vertical-align: top;\n",
       "    }\n",
       "\n",
       "    .dataframe thead th {\n",
       "        text-align: right;\n",
       "    }\n",
       "</style>\n",
       "<table border=\"1\" class=\"dataframe\">\n",
       "  <thead>\n",
       "    <tr style=\"text-align: right;\">\n",
       "      <th></th>\n",
       "      <th>name</th>\n",
       "      <th>vector</th>\n",
       "      <th>algo1</th>\n",
       "      <th>algo2</th>\n",
       "      <th>unpacked</th>\n",
       "      <th>enumerated</th>\n",
       "    </tr>\n",
       "  </thead>\n",
       "  <tbody>\n",
       "    <tr>\n",
       "      <th>215</th>\n",
       "      <td>initdirectory/outfile/script10/algo2/script10a...</td>\n",
       "      <td>{'**j', '595', '840', 'ey*', '47#', '14#', '53...</td>\n",
       "      <td>0</td>\n",
       "      <td>1</td>\n",
       "      <td>0</td>\n",
       "      <td>[0, 0, 0, 0, 0, 0, 0, 0, 0, 0, 0, 0, 0, 0, 0, ...</td>\n",
       "    </tr>\n",
       "    <tr>\n",
       "      <th>216</th>\n",
       "      <td>initdirectory/outfile/script10/algo2/script10a...</td>\n",
       "      <td>{'**j', '856', '*91', '840', 'ey*', '896', '*8...</td>\n",
       "      <td>0</td>\n",
       "      <td>1</td>\n",
       "      <td>0</td>\n",
       "      <td>[1, 0, 0, 0, 0, 0, 0, 0, 0, 0, 0, 0, 0, 0, 0, ...</td>\n",
       "    </tr>\n",
       "    <tr>\n",
       "      <th>217</th>\n",
       "      <td>initdirectory/outfile/script10/algo2/script10a...</td>\n",
       "      <td>{'**j', '*91', 'ey*', '14#', '47#', '468', '63...</td>\n",
       "      <td>0</td>\n",
       "      <td>1</td>\n",
       "      <td>0</td>\n",
       "      <td>[0, 0, 0, 0, 0, 0, 0, 0, 1, 0, 0, 0, 0, 0, 0, ...</td>\n",
       "    </tr>\n",
       "    <tr>\n",
       "      <th>218</th>\n",
       "      <td>initdirectory/outfile/script10/algo2/script10a...</td>\n",
       "      <td>{'**j', '*12', '840', 'ey*', '820', '103', '*8...</td>\n",
       "      <td>0</td>\n",
       "      <td>1</td>\n",
       "      <td>0</td>\n",
       "      <td>[1, 0, 0, 0, 0, 0, 0, 0, 0, 0, 0, 0, 0, 0, 0, ...</td>\n",
       "    </tr>\n",
       "    <tr>\n",
       "      <th>219</th>\n",
       "      <td>initdirectory/outfile/script10/algo2/script10a...</td>\n",
       "      <td>{'045', '*91', '42#', 'c#d', '125', '13#', '74...</td>\n",
       "      <td>0</td>\n",
       "      <td>1</td>\n",
       "      <td>0</td>\n",
       "      <td>[0, 0, 0, 0, 0, 0, 0, 0, 0, 0, 0, 0, 0, 0, 0, ...</td>\n",
       "    </tr>\n",
       "  </tbody>\n",
       "</table>\n",
       "</div>"
      ],
      "text/plain": [
       "                                                  name  \\\n",
       "215  initdirectory/outfile/script10/algo2/script10a...   \n",
       "216  initdirectory/outfile/script10/algo2/script10a...   \n",
       "217  initdirectory/outfile/script10/algo2/script10a...   \n",
       "218  initdirectory/outfile/script10/algo2/script10a...   \n",
       "219  initdirectory/outfile/script10/algo2/script10a...   \n",
       "\n",
       "                                                vector  algo1  algo2  \\\n",
       "215  {'**j', '595', '840', 'ey*', '47#', '14#', '53...      0      1   \n",
       "216  {'**j', '856', '*91', '840', 'ey*', '896', '*8...      0      1   \n",
       "217  {'**j', '*91', 'ey*', '14#', '47#', '468', '63...      0      1   \n",
       "218  {'**j', '*12', '840', 'ey*', '820', '103', '*8...      0      1   \n",
       "219  {'045', '*91', '42#', 'c#d', '125', '13#', '74...      0      1   \n",
       "\n",
       "     unpacked                                         enumerated  \n",
       "215         0  [0, 0, 0, 0, 0, 0, 0, 0, 0, 0, 0, 0, 0, 0, 0, ...  \n",
       "216         0  [1, 0, 0, 0, 0, 0, 0, 0, 0, 0, 0, 0, 0, 0, 0, ...  \n",
       "217         0  [0, 0, 0, 0, 0, 0, 0, 0, 1, 0, 0, 0, 0, 0, 0, ...  \n",
       "218         0  [1, 0, 0, 0, 0, 0, 0, 0, 0, 0, 0, 0, 0, 0, 0, ...  \n",
       "219         0  [0, 0, 0, 0, 0, 0, 0, 0, 0, 0, 0, 0, 0, 0, 0, ...  "
      ]
     },
     "execution_count": 8,
     "metadata": {},
     "output_type": "execute_result"
    }
   ],
   "source": [
    "print(type(df.loc[1, 'enumerated']))\n",
    "df.tail()"
   ]
  },
  {
   "cell_type": "markdown",
   "id": "064565a5",
   "metadata": {
    "papermill": {
     "duration": 0.012298,
     "end_time": "2023-12-11T17:13:40.279219",
     "exception": false,
     "start_time": "2023-12-11T17:13:40.266921",
     "status": "completed"
    },
    "tags": []
   },
   "source": [
    "# Stage 2"
   ]
  },
  {
   "cell_type": "code",
   "execution_count": 9,
   "id": "410d9349",
   "metadata": {
    "execution": {
     "iopub.execute_input": "2023-12-11T17:13:40.301778Z",
     "iopub.status.busy": "2023-12-11T17:13:40.301414Z",
     "iopub.status.idle": "2023-12-11T17:13:50.407938Z",
     "shell.execute_reply": "2023-12-11T17:13:50.406096Z"
    },
    "papermill": {
     "duration": 10.120443,
     "end_time": "2023-12-11T17:13:50.410456",
     "exception": false,
     "start_time": "2023-12-11T17:13:40.290013",
     "status": "completed"
    },
    "tags": []
   },
   "outputs": [
    {
     "name": "stdout",
     "output_type": "stream",
     "text": [
      "Index(['name', 'vector', 'algo1', 'algo2', 'unpacked', 'enumerated'], dtype='object')\n"
     ]
    }
   ],
   "source": [
    "#more importing\n",
    "from tensorflow import keras\n",
    "from tensorflow.keras import layers\n",
    "print(df.columns)"
   ]
  },
  {
   "cell_type": "code",
   "execution_count": 10,
   "id": "e75f5c61",
   "metadata": {
    "execution": {
     "iopub.execute_input": "2023-12-11T17:13:50.433502Z",
     "iopub.status.busy": "2023-12-11T17:13:50.431897Z",
     "iopub.status.idle": "2023-12-11T17:13:50.466890Z",
     "shell.execute_reply": "2023-12-11T17:13:50.465522Z"
    },
    "papermill": {
     "duration": 0.048872,
     "end_time": "2023-12-11T17:13:50.469292",
     "exception": false,
     "start_time": "2023-12-11T17:13:50.420420",
     "status": "completed"
    },
    "tags": []
   },
   "outputs": [
    {
     "data": {
      "text/html": [
       "<div>\n",
       "<style scoped>\n",
       "    .dataframe tbody tr th:only-of-type {\n",
       "        vertical-align: middle;\n",
       "    }\n",
       "\n",
       "    .dataframe tbody tr th {\n",
       "        vertical-align: top;\n",
       "    }\n",
       "\n",
       "    .dataframe thead th {\n",
       "        text-align: right;\n",
       "    }\n",
       "</style>\n",
       "<table border=\"1\" class=\"dataframe\">\n",
       "  <thead>\n",
       "    <tr style=\"text-align: right;\">\n",
       "      <th></th>\n",
       "      <th>name</th>\n",
       "      <th>vector</th>\n",
       "      <th>algo1</th>\n",
       "      <th>algo2</th>\n",
       "      <th>unpacked</th>\n",
       "      <th>enumerated</th>\n",
       "      <th>Y</th>\n",
       "    </tr>\n",
       "  </thead>\n",
       "  <tbody>\n",
       "    <tr>\n",
       "      <th>0</th>\n",
       "      <td>initdirectory/script1.py</td>\n",
       "      <td>{'##n', 'ucc', '*wi', '#*t', 'n##', 'tes', 'ut...</td>\n",
       "      <td>0</td>\n",
       "      <td>0</td>\n",
       "      <td>1</td>\n",
       "      <td>[0, 0, 0, 0, 0, 0, 0, 0, 0, 0, 0, 0, 0, 0, 0, ...</td>\n",
       "      <td>[0, 0, 1]</td>\n",
       "    </tr>\n",
       "    <tr>\n",
       "      <th>1</th>\n",
       "      <td>initdirectory/script2.py</td>\n",
       "      <td>{'##n', 'ut#', '#in', '*wh', 's*#', 'ill', 'op...</td>\n",
       "      <td>0</td>\n",
       "      <td>0</td>\n",
       "      <td>1</td>\n",
       "      <td>[0, 0, 0, 0, 0, 0, 0, 0, 0, 0, 0, 0, 0, 0, 0, ...</td>\n",
       "      <td>[0, 0, 1]</td>\n",
       "    </tr>\n",
       "    <tr>\n",
       "      <th>2</th>\n",
       "      <td>initdirectory/script3.py</td>\n",
       "      <td>{'##n', 'n##', 'ut#', 'tim', 'gge', 'g*s', 'ul...</td>\n",
       "      <td>0</td>\n",
       "      <td>0</td>\n",
       "      <td>1</td>\n",
       "      <td>[0, 0, 0, 0, 0, 0, 0, 0, 0, 0, 0, 0, 0, 0, 0, ...</td>\n",
       "      <td>[0, 0, 1]</td>\n",
       "    </tr>\n",
       "    <tr>\n",
       "      <th>3</th>\n",
       "      <td>initdirectory/script4.py</td>\n",
       "      <td>{'vis', '##n', 'snu', 'nd*', 'yes', 'quo', 'n#...</td>\n",
       "      <td>0</td>\n",
       "      <td>0</td>\n",
       "      <td>1</td>\n",
       "      <td>[0, 0, 0, 0, 0, 0, 0, 0, 0, 0, 0, 0, 0, 0, 0, ...</td>\n",
       "      <td>[0, 0, 1]</td>\n",
       "    </tr>\n",
       "    <tr>\n",
       "      <th>4</th>\n",
       "      <td>initdirectory/script5.py</td>\n",
       "      <td>{'its', 'k#u', 'per', 'n#d', 'nis', 'eco', 'tr...</td>\n",
       "      <td>0</td>\n",
       "      <td>0</td>\n",
       "      <td>1</td>\n",
       "      <td>[0, 0, 0, 0, 0, 0, 0, 0, 0, 0, 0, 0, 0, 0, 0, ...</td>\n",
       "      <td>[0, 0, 1]</td>\n",
       "    </tr>\n",
       "  </tbody>\n",
       "</table>\n",
       "</div>"
      ],
      "text/plain": [
       "                       name  \\\n",
       "0  initdirectory/script1.py   \n",
       "1  initdirectory/script2.py   \n",
       "2  initdirectory/script3.py   \n",
       "3  initdirectory/script4.py   \n",
       "4  initdirectory/script5.py   \n",
       "\n",
       "                                              vector  algo1  algo2  unpacked  \\\n",
       "0  {'##n', 'ucc', '*wi', '#*t', 'n##', 'tes', 'ut...      0      0         1   \n",
       "1  {'##n', 'ut#', '#in', '*wh', 's*#', 'ill', 'op...      0      0         1   \n",
       "2  {'##n', 'n##', 'ut#', 'tim', 'gge', 'g*s', 'ul...      0      0         1   \n",
       "3  {'vis', '##n', 'snu', 'nd*', 'yes', 'quo', 'n#...      0      0         1   \n",
       "4  {'its', 'k#u', 'per', 'n#d', 'nis', 'eco', 'tr...      0      0         1   \n",
       "\n",
       "                                          enumerated          Y  \n",
       "0  [0, 0, 0, 0, 0, 0, 0, 0, 0, 0, 0, 0, 0, 0, 0, ...  [0, 0, 1]  \n",
       "1  [0, 0, 0, 0, 0, 0, 0, 0, 0, 0, 0, 0, 0, 0, 0, ...  [0, 0, 1]  \n",
       "2  [0, 0, 0, 0, 0, 0, 0, 0, 0, 0, 0, 0, 0, 0, 0, ...  [0, 0, 1]  \n",
       "3  [0, 0, 0, 0, 0, 0, 0, 0, 0, 0, 0, 0, 0, 0, 0, ...  [0, 0, 1]  \n",
       "4  [0, 0, 0, 0, 0, 0, 0, 0, 0, 0, 0, 0, 0, 0, 0, ...  [0, 0, 1]  "
      ]
     },
     "execution_count": 10,
     "metadata": {},
     "output_type": "execute_result"
    }
   ],
   "source": [
    "#this creates a \"Y\" column containing the information in algo1, algo2, and unpacked.\n",
    "def create_y(row):\n",
    "    return [row['algo1'], row['algo2'], row['unpacked']]\n",
    "df['Y'] = df.apply(create_y, axis=1)\n",
    "df.head()"
   ]
  },
  {
   "cell_type": "code",
   "execution_count": 11,
   "id": "dfa613ee",
   "metadata": {
    "execution": {
     "iopub.execute_input": "2023-12-11T17:13:50.493075Z",
     "iopub.status.busy": "2023-12-11T17:13:50.491628Z",
     "iopub.status.idle": "2023-12-11T17:13:50.609477Z",
     "shell.execute_reply": "2023-12-11T17:13:50.608205Z"
    },
    "papermill": {
     "duration": 0.132888,
     "end_time": "2023-12-11T17:13:50.612529",
     "exception": false,
     "start_time": "2023-12-11T17:13:50.479641",
     "status": "completed"
    },
    "tags": []
   },
   "outputs": [],
   "source": [
    "#this converts the data into numpy arrays\n",
    "X = np.array(df['enumerated'].to_numpy().tolist())\n",
    "y = np.array(df['Y'].to_numpy().tolist())\n",
    "#defining the testing and training split\n",
    "X_train, X_test, y_train, y_test = train_test_split(X, y, test_size=0.4, random_state=0)"
   ]
  },
  {
   "cell_type": "markdown",
   "id": "a22a53b6",
   "metadata": {
    "papermill": {
     "duration": 0.010434,
     "end_time": "2023-12-11T17:13:50.633210",
     "exception": false,
     "start_time": "2023-12-11T17:13:50.622776",
     "status": "completed"
    },
    "tags": []
   },
   "source": [
    "The next code block makes sure that the training and testing splits look right."
   ]
  },
  {
   "cell_type": "code",
   "execution_count": 12,
   "id": "e0c1f9ab",
   "metadata": {
    "execution": {
     "iopub.execute_input": "2023-12-11T17:13:50.655506Z",
     "iopub.status.busy": "2023-12-11T17:13:50.655109Z",
     "iopub.status.idle": "2023-12-11T17:13:50.661687Z",
     "shell.execute_reply": "2023-12-11T17:13:50.660139Z"
    },
    "papermill": {
     "duration": 0.021361,
     "end_time": "2023-12-11T17:13:50.664708",
     "exception": false,
     "start_time": "2023-12-11T17:13:50.643347",
     "status": "completed"
    },
    "tags": []
   },
   "outputs": [
    {
     "name": "stdout",
     "output_type": "stream",
     "text": [
      "(132, 54872)\n",
      "(88, 54872)\n",
      "(132, 3)\n",
      "(88, 3)\n"
     ]
    }
   ],
   "source": [
    "print(X_train.shape)\n",
    "print(X_test.shape)\n",
    "print(y_train.shape)\n",
    "print(y_test.shape)"
   ]
  },
  {
   "cell_type": "code",
   "execution_count": 13,
   "id": "716fc5b6",
   "metadata": {
    "execution": {
     "iopub.execute_input": "2023-12-11T17:13:50.687709Z",
     "iopub.status.busy": "2023-12-11T17:13:50.687254Z",
     "iopub.status.idle": "2023-12-11T17:13:55.371398Z",
     "shell.execute_reply": "2023-12-11T17:13:55.370189Z"
    },
    "papermill": {
     "duration": 4.699177,
     "end_time": "2023-12-11T17:13:55.374254",
     "exception": false,
     "start_time": "2023-12-11T17:13:50.675077",
     "status": "completed"
    },
    "tags": []
   },
   "outputs": [],
   "source": [
    "model = keras.Sequential([\n",
    "    #these layers are big but that's necessary because of the size of the input shape\n",
    "    #this is the input layer:\n",
    "    layers.Dense(8192, input_shape = [54872], activation = 'relu'), \n",
    "    #these are hidden layers:\n",
    "    layers.Dense(6000, activation = 'relu'),\n",
    "    layers.Dense(4096, activation = 'relu'),\n",
    "    layers.Dense(2048, activation = 'relu'),\n",
    "    #this is the output layer:\n",
    "    layers.Dense(units = 3, activation = 'softmax') \n",
    "])"
   ]
  },
  {
   "cell_type": "code",
   "execution_count": 14,
   "id": "2370bbfc",
   "metadata": {
    "execution": {
     "iopub.execute_input": "2023-12-11T17:13:55.396734Z",
     "iopub.status.busy": "2023-12-11T17:13:55.396332Z",
     "iopub.status.idle": "2023-12-11T17:13:55.420738Z",
     "shell.execute_reply": "2023-12-11T17:13:55.419644Z"
    },
    "papermill": {
     "duration": 0.038716,
     "end_time": "2023-12-11T17:13:55.423595",
     "exception": false,
     "start_time": "2023-12-11T17:13:55.384879",
     "status": "completed"
    },
    "tags": []
   },
   "outputs": [],
   "source": [
    "#defining the optimization and loss algorithms that the model will use to fit the data. Since we have categorical data, we are using Categorical Crossentropy\n",
    "model.compile(\n",
    "    optimizer = 'adam',\n",
    "    loss = keras.losses.CategoricalCrossentropy(),\n",
    "    metrics=[keras.metrics.CategoricalAccuracy()]\n",
    ")"
   ]
  },
  {
   "cell_type": "code",
   "execution_count": 15,
   "id": "bea055c2",
   "metadata": {
    "execution": {
     "iopub.execute_input": "2023-12-11T17:13:55.446874Z",
     "iopub.status.busy": "2023-12-11T17:13:55.445734Z",
     "iopub.status.idle": "2023-12-11T17:17:20.411470Z",
     "shell.execute_reply": "2023-12-11T17:17:20.410183Z"
    },
    "papermill": {
     "duration": 204.980045,
     "end_time": "2023-12-11T17:17:20.414257",
     "exception": false,
     "start_time": "2023-12-11T17:13:55.434212",
     "status": "completed"
    },
    "tags": []
   },
   "outputs": [
    {
     "name": "stdout",
     "output_type": "stream",
     "text": [
      "Epoch 1/10\n",
      "3/3 [==============================] - 23s 7s/step - loss: 7.8028 - categorical_accuracy: 0.4470 - val_loss: 1.1973 - val_categorical_accuracy: 0.5455\n",
      "Epoch 2/10\n",
      "3/3 [==============================] - 19s 6s/step - loss: 1.3631 - categorical_accuracy: 0.5303 - val_loss: 0.0230 - val_categorical_accuracy: 0.9886\n",
      "Epoch 3/10\n",
      "3/3 [==============================] - 19s 7s/step - loss: 0.0019 - categorical_accuracy: 1.0000 - val_loss: 1.2565e-04 - val_categorical_accuracy: 1.0000\n",
      "Epoch 4/10\n",
      "3/3 [==============================] - 19s 6s/step - loss: 5.3744e-05 - categorical_accuracy: 1.0000 - val_loss: 9.4688e-07 - val_categorical_accuracy: 1.0000\n",
      "Epoch 5/10\n",
      "3/3 [==============================] - 19s 6s/step - loss: 2.5196e-07 - categorical_accuracy: 1.0000 - val_loss: 2.7093e-08 - val_categorical_accuracy: 1.0000\n",
      "Epoch 6/10\n",
      "3/3 [==============================] - 19s 6s/step - loss: 8.1279e-09 - categorical_accuracy: 1.0000 - val_loss: 1.3547e-09 - val_categorical_accuracy: 1.0000\n",
      "Epoch 7/10\n",
      "3/3 [==============================] - 19s 6s/step - loss: 0.0000e+00 - categorical_accuracy: 1.0000 - val_loss: 0.0000e+00 - val_categorical_accuracy: 1.0000\n",
      "Epoch 8/10\n",
      "3/3 [==============================] - 19s 7s/step - loss: 0.0000e+00 - categorical_accuracy: 1.0000 - val_loss: 0.0000e+00 - val_categorical_accuracy: 1.0000\n",
      "Epoch 9/10\n",
      "3/3 [==============================] - 18s 6s/step - loss: 0.0000e+00 - categorical_accuracy: 1.0000 - val_loss: 0.0000e+00 - val_categorical_accuracy: 1.0000\n",
      "Epoch 10/10\n",
      "3/3 [==============================] - 19s 6s/step - loss: 0.0000e+00 - categorical_accuracy: 1.0000 - val_loss: 0.0000e+00 - val_categorical_accuracy: 1.0000\n"
     ]
    }
   ],
   "source": [
    "#this trains the model and saves the metrics to a variable called \"history\"\n",
    "history = model.fit(\n",
    "    X_train, y_train,\n",
    "    validation_data = (X_test, y_test),\n",
    "    batch_size = 50,\n",
    "    epochs = 10 #for many similar problems, more epochs are necessary, but this model appears to start to level out before epoch 10\n",
    ")"
   ]
  },
  {
   "cell_type": "code",
   "execution_count": 16,
   "id": "2fb67166",
   "metadata": {
    "execution": {
     "iopub.execute_input": "2023-12-11T17:17:20.447232Z",
     "iopub.status.busy": "2023-12-11T17:17:20.445925Z",
     "iopub.status.idle": "2023-12-11T17:17:20.452375Z",
     "shell.execute_reply": "2023-12-11T17:17:20.451372Z"
    },
    "papermill": {
     "duration": 0.02537,
     "end_time": "2023-12-11T17:17:20.454423",
     "exception": false,
     "start_time": "2023-12-11T17:17:20.429053",
     "status": "completed"
    },
    "tags": []
   },
   "outputs": [],
   "source": [
    "def accuracyof1(prediction, actual):\n",
    "    prediction = np.argmax(prediction)\n",
    "    actual = np.argmax(actual)\n",
    "    return (prediction == actual)"
   ]
  },
  {
   "cell_type": "code",
   "execution_count": 17,
   "id": "e95b0265",
   "metadata": {
    "execution": {
     "iopub.execute_input": "2023-12-11T17:17:20.487098Z",
     "iopub.status.busy": "2023-12-11T17:17:20.486435Z",
     "iopub.status.idle": "2023-12-11T17:17:44.053396Z",
     "shell.execute_reply": "2023-12-11T17:17:44.052289Z"
    },
    "papermill": {
     "duration": 23.586052,
     "end_time": "2023-12-11T17:17:44.055727",
     "exception": false,
     "start_time": "2023-12-11T17:17:20.469675",
     "status": "completed"
    },
    "tags": []
   },
   "outputs": [
    {
     "name": "stdout",
     "output_type": "stream",
     "text": [
      "1/1 [==============================] - 0s 319ms/step\n",
      "1/1 [==============================] - 0s 227ms/step\n",
      "1/1 [==============================] - 0s 216ms/step\n",
      "1/1 [==============================] - 0s 221ms/step\n",
      "1/1 [==============================] - 0s 218ms/step\n",
      "1/1 [==============================] - 0s 220ms/step\n",
      "1/1 [==============================] - 0s 217ms/step\n",
      "1/1 [==============================] - 0s 216ms/step\n",
      "1/1 [==============================] - 0s 219ms/step\n",
      "1/1 [==============================] - 0s 218ms/step\n",
      "1/1 [==============================] - 0s 222ms/step\n",
      "1/1 [==============================] - 0s 218ms/step\n",
      "1/1 [==============================] - 0s 220ms/step\n",
      "1/1 [==============================] - 0s 216ms/step\n",
      "1/1 [==============================] - 0s 217ms/step\n",
      "1/1 [==============================] - 0s 221ms/step\n",
      "1/1 [==============================] - 0s 218ms/step\n",
      "1/1 [==============================] - 0s 221ms/step\n",
      "1/1 [==============================] - 0s 220ms/step\n",
      "1/1 [==============================] - 0s 217ms/step\n",
      "1/1 [==============================] - 0s 218ms/step\n",
      "1/1 [==============================] - 0s 222ms/step\n",
      "1/1 [==============================] - 0s 221ms/step\n",
      "1/1 [==============================] - 0s 217ms/step\n",
      "1/1 [==============================] - 0s 220ms/step\n",
      "1/1 [==============================] - 0s 217ms/step\n",
      "1/1 [==============================] - 0s 220ms/step\n",
      "1/1 [==============================] - 0s 216ms/step\n",
      "1/1 [==============================] - 0s 218ms/step\n",
      "1/1 [==============================] - 0s 215ms/step\n",
      "1/1 [==============================] - 0s 220ms/step\n",
      "1/1 [==============================] - 0s 217ms/step\n",
      "1/1 [==============================] - 0s 214ms/step\n",
      "1/1 [==============================] - 0s 214ms/step\n",
      "1/1 [==============================] - 0s 234ms/step\n",
      "1/1 [==============================] - 0s 252ms/step\n",
      "1/1 [==============================] - 0s 226ms/step\n",
      "1/1 [==============================] - 0s 222ms/step\n",
      "1/1 [==============================] - 0s 225ms/step\n",
      "1/1 [==============================] - 0s 218ms/step\n",
      "1/1 [==============================] - 0s 216ms/step\n",
      "1/1 [==============================] - 0s 216ms/step\n",
      "1/1 [==============================] - 0s 225ms/step\n",
      "1/1 [==============================] - 0s 224ms/step\n",
      "1/1 [==============================] - 0s 219ms/step\n",
      "1/1 [==============================] - 0s 219ms/step\n",
      "1/1 [==============================] - 0s 225ms/step\n",
      "1/1 [==============================] - 0s 220ms/step\n",
      "1/1 [==============================] - 0s 222ms/step\n",
      "1/1 [==============================] - 0s 221ms/step\n",
      "1/1 [==============================] - 0s 220ms/step\n",
      "1/1 [==============================] - 0s 220ms/step\n",
      "1/1 [==============================] - 0s 218ms/step\n",
      "1/1 [==============================] - 0s 220ms/step\n",
      "1/1 [==============================] - 0s 220ms/step\n",
      "1/1 [==============================] - 0s 223ms/step\n",
      "1/1 [==============================] - 0s 218ms/step\n",
      "1/1 [==============================] - 0s 218ms/step\n",
      "1/1 [==============================] - 0s 222ms/step\n",
      "1/1 [==============================] - 0s 215ms/step\n",
      "1/1 [==============================] - 0s 215ms/step\n",
      "1/1 [==============================] - 0s 215ms/step\n",
      "1/1 [==============================] - 0s 215ms/step\n",
      "1/1 [==============================] - 0s 217ms/step\n",
      "1/1 [==============================] - 0s 221ms/step\n",
      "1/1 [==============================] - 0s 220ms/step\n",
      "1/1 [==============================] - 0s 222ms/step\n",
      "1/1 [==============================] - 0s 219ms/step\n",
      "1/1 [==============================] - 0s 220ms/step\n",
      "1/1 [==============================] - 0s 217ms/step\n",
      "1/1 [==============================] - 0s 217ms/step\n",
      "1/1 [==============================] - 0s 219ms/step\n",
      "1/1 [==============================] - 0s 225ms/step\n",
      "1/1 [==============================] - 0s 223ms/step\n",
      "1/1 [==============================] - 0s 219ms/step\n",
      "1/1 [==============================] - 0s 221ms/step\n",
      "1/1 [==============================] - 0s 220ms/step\n",
      "1/1 [==============================] - 0s 217ms/step\n",
      "1/1 [==============================] - 0s 218ms/step\n",
      "1/1 [==============================] - 0s 217ms/step\n",
      "1/1 [==============================] - 0s 219ms/step\n",
      "1/1 [==============================] - 0s 217ms/step\n",
      "1/1 [==============================] - 0s 220ms/step\n",
      "1/1 [==============================] - 0s 220ms/step\n",
      "1/1 [==============================] - 0s 218ms/step\n",
      "1/1 [==============================] - 0s 215ms/step\n",
      "1/1 [==============================] - 0s 214ms/step\n",
      "1/1 [==============================] - 0s 217ms/step\n"
     ]
    }
   ],
   "source": [
    "accuracy = 0\n",
    "count = 0\n",
    "for i in range(88):\n",
    "    prediction = model.predict(X_test[i].reshape(1, -1))\n",
    "    if accuracyof1(prediction, y_test[i]):\n",
    "        accuracy += 1\n",
    "    count += 1\n",
    "accuracy = (accuracy/count)*100"
   ]
  },
  {
   "cell_type": "code",
   "execution_count": 18,
   "id": "2865ee00",
   "metadata": {
    "execution": {
     "iopub.execute_input": "2023-12-11T17:17:44.118900Z",
     "iopub.status.busy": "2023-12-11T17:17:44.118203Z",
     "iopub.status.idle": "2023-12-11T17:17:44.123402Z",
     "shell.execute_reply": "2023-12-11T17:17:44.122292Z"
    },
    "papermill": {
     "duration": 0.039048,
     "end_time": "2023-12-11T17:17:44.125631",
     "exception": false,
     "start_time": "2023-12-11T17:17:44.086583",
     "status": "completed"
    },
    "tags": []
   },
   "outputs": [
    {
     "name": "stdout",
     "output_type": "stream",
     "text": [
      "We have achieved 100.0 % accuracy.\n"
     ]
    }
   ],
   "source": [
    "print(\"We have achieved\", accuracy, \"% accuracy.\")"
   ]
  },
  {
   "cell_type": "code",
   "execution_count": 19,
   "id": "cc59a3e4",
   "metadata": {
    "execution": {
     "iopub.execute_input": "2023-12-11T17:17:44.255044Z",
     "iopub.status.busy": "2023-12-11T17:17:44.254612Z",
     "iopub.status.idle": "2023-12-11T17:17:44.268897Z",
     "shell.execute_reply": "2023-12-11T17:17:44.268015Z"
    },
    "papermill": {
     "duration": 0.114556,
     "end_time": "2023-12-11T17:17:44.270991",
     "exception": false,
     "start_time": "2023-12-11T17:17:44.156435",
     "status": "completed"
    },
    "tags": []
   },
   "outputs": [
    {
     "data": {
      "text/html": [
       "<div>\n",
       "<style scoped>\n",
       "    .dataframe tbody tr th:only-of-type {\n",
       "        vertical-align: middle;\n",
       "    }\n",
       "\n",
       "    .dataframe tbody tr th {\n",
       "        vertical-align: top;\n",
       "    }\n",
       "\n",
       "    .dataframe thead th {\n",
       "        text-align: right;\n",
       "    }\n",
       "</style>\n",
       "<table border=\"1\" class=\"dataframe\">\n",
       "  <thead>\n",
       "    <tr style=\"text-align: right;\">\n",
       "      <th></th>\n",
       "      <th>loss</th>\n",
       "      <th>categorical_accuracy</th>\n",
       "      <th>val_loss</th>\n",
       "      <th>val_categorical_accuracy</th>\n",
       "    </tr>\n",
       "  </thead>\n",
       "  <tbody>\n",
       "    <tr>\n",
       "      <th>0</th>\n",
       "      <td>7.802758e+00</td>\n",
       "      <td>0.446970</td>\n",
       "      <td>1.197318e+00</td>\n",
       "      <td>0.545455</td>\n",
       "    </tr>\n",
       "    <tr>\n",
       "      <th>1</th>\n",
       "      <td>1.363084e+00</td>\n",
       "      <td>0.530303</td>\n",
       "      <td>2.301339e-02</td>\n",
       "      <td>0.988636</td>\n",
       "    </tr>\n",
       "    <tr>\n",
       "      <th>2</th>\n",
       "      <td>1.933799e-03</td>\n",
       "      <td>1.000000</td>\n",
       "      <td>1.256517e-04</td>\n",
       "      <td>1.000000</td>\n",
       "    </tr>\n",
       "    <tr>\n",
       "      <th>3</th>\n",
       "      <td>5.374440e-05</td>\n",
       "      <td>1.000000</td>\n",
       "      <td>9.468817e-07</td>\n",
       "      <td>1.000000</td>\n",
       "    </tr>\n",
       "    <tr>\n",
       "      <th>4</th>\n",
       "      <td>2.519637e-07</td>\n",
       "      <td>1.000000</td>\n",
       "      <td>2.709299e-08</td>\n",
       "      <td>1.000000</td>\n",
       "    </tr>\n",
       "  </tbody>\n",
       "</table>\n",
       "</div>"
      ],
      "text/plain": [
       "           loss  categorical_accuracy      val_loss  val_categorical_accuracy\n",
       "0  7.802758e+00              0.446970  1.197318e+00                  0.545455\n",
       "1  1.363084e+00              0.530303  2.301339e-02                  0.988636\n",
       "2  1.933799e-03              1.000000  1.256517e-04                  1.000000\n",
       "3  5.374440e-05              1.000000  9.468817e-07                  1.000000\n",
       "4  2.519637e-07              1.000000  2.709299e-08                  1.000000"
      ]
     },
     "execution_count": 19,
     "metadata": {},
     "output_type": "execute_result"
    }
   ],
   "source": [
    "history_df = pd.DataFrame(history.history)\n",
    "history_df.head()"
   ]
  },
  {
   "cell_type": "code",
   "execution_count": 20,
   "id": "00ce91de",
   "metadata": {
    "execution": {
     "iopub.execute_input": "2023-12-11T17:17:44.335781Z",
     "iopub.status.busy": "2023-12-11T17:17:44.334593Z",
     "iopub.status.idle": "2023-12-11T17:17:44.340661Z",
     "shell.execute_reply": "2023-12-11T17:17:44.339825Z"
    },
    "papermill": {
     "duration": 0.041034,
     "end_time": "2023-12-11T17:17:44.343098",
     "exception": false,
     "start_time": "2023-12-11T17:17:44.302064",
     "status": "completed"
    },
    "tags": []
   },
   "outputs": [],
   "source": [
    "#this converts the numerical prediction to an easily understandable output\n",
    "def reformPrediction(prediction):\n",
    "    max_index = np.argmax(prediction)\n",
    "    if max_index == 0:\n",
    "        return \"Algorithm 1\"\n",
    "    elif max_index == 1:\n",
    "        return \"Algorithm 2\"\n",
    "    elif max_index == 2:\n",
    "        return \"Unpacked\"\n",
    "    else:\n",
    "        return \"Error\""
   ]
  },
  {
   "cell_type": "markdown",
   "id": "06679c90",
   "metadata": {
    "papermill": {
     "duration": 0.030341,
     "end_time": "2023-12-11T17:17:44.404181",
     "exception": false,
     "start_time": "2023-12-11T17:17:44.373840",
     "status": "completed"
    },
    "tags": []
   },
   "source": [
    "## Run your own file through this algorithm:"
   ]
  },
  {
   "cell_type": "code",
   "execution_count": 21,
   "id": "322a16d0",
   "metadata": {
    "execution": {
     "iopub.execute_input": "2023-12-11T17:17:44.469358Z",
     "iopub.status.busy": "2023-12-11T17:17:44.468967Z",
     "iopub.status.idle": "2023-12-11T17:17:44.737685Z",
     "shell.execute_reply": "2023-12-11T17:17:44.736629Z"
    },
    "papermill": {
     "duration": 0.304124,
     "end_time": "2023-12-11T17:17:44.739894",
     "exception": false,
     "start_time": "2023-12-11T17:17:44.435770",
     "status": "completed"
    },
    "tags": []
   },
   "outputs": [
    {
     "name": "stdout",
     "output_type": "stream",
     "text": [
      "1/1 [==============================] - 0s 219ms/step\n"
     ]
    },
    {
     "data": {
      "text/plain": [
       "'Unpacked'"
      ]
     },
     "execution_count": 21,
     "metadata": {},
     "output_type": "execute_result"
    }
   ],
   "source": [
    "file = 'for i in j: do something' #this is here as a placeholder\n",
    "#fill out the next line with the path to your file and uncomment the next line\n",
    "#make sure to upload it to keras first if you are using this on the web\n",
    "#file = open('path_to_file', r)\n",
    "file = fileDeal(file)\n",
    "v = str(makeVector(file))\n",
    "v = np.array(transformVector(v))\n",
    "v = v.reshape(1, -1)\n",
    "reformPrediction(model.predict(v))"
   ]
  }
 ],
 "metadata": {
  "kaggle": {
   "accelerator": "none",
   "dataSources": [
    {
     "datasetId": 3964709,
     "sourceId": 6967199,
     "sourceType": "datasetVersion"
    },
    {
     "datasetId": 4002922,
     "sourceId": 6975064,
     "sourceType": "datasetVersion"
    }
   ],
   "dockerImageVersionId": 30558,
   "isGpuEnabled": false,
   "isInternetEnabled": true,
   "language": "python",
   "sourceType": "notebook"
  },
  "kernelspec": {
   "display_name": "Python 3",
   "language": "python",
   "name": "python3"
  },
  "language_info": {
   "codemirror_mode": {
    "name": "ipython",
    "version": 3
   },
   "file_extension": ".py",
   "mimetype": "text/x-python",
   "name": "python",
   "nbconvert_exporter": "python",
   "pygments_lexer": "ipython3",
   "version": "3.10.12"
  },
  "papermill": {
   "default_parameters": {},
   "duration": 255.180763,
   "end_time": "2023-12-11T17:17:47.958564",
   "environment_variables": {},
   "exception": null,
   "input_path": "__notebook__.ipynb",
   "output_path": "__notebook__.ipynb",
   "parameters": {},
   "start_time": "2023-12-11T17:13:32.777801",
   "version": "2.4.0"
  }
 },
 "nbformat": 4,
 "nbformat_minor": 5
}
