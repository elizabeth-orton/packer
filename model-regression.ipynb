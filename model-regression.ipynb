{
 "cells": [
  {
   "cell_type": "markdown",
   "id": "7a11f158",
   "metadata": {
    "papermill": {
     "duration": 0.00903,
     "end_time": "2023-12-11T16:59:12.691416",
     "exception": false,
     "start_time": "2023-12-11T16:59:12.682386",
     "status": "completed"
    },
    "tags": []
   },
   "source": [
    "# Stage 1"
   ]
  },
  {
   "cell_type": "code",
   "execution_count": 1,
   "id": "bd5a9a9f",
   "metadata": {
    "_cell_guid": "b1076dfc-b9ad-4769-8c92-a6c4dae69d19",
    "_uuid": "8f2839f25d086af736a60e9eeb907d3b93b6e0e5",
    "execution": {
     "iopub.execute_input": "2023-12-11T16:59:12.710394Z",
     "iopub.status.busy": "2023-12-11T16:59:12.709993Z",
     "iopub.status.idle": "2023-12-11T16:59:15.037802Z",
     "shell.execute_reply": "2023-12-11T16:59:15.036269Z"
    },
    "papermill": {
     "duration": 2.341683,
     "end_time": "2023-12-11T16:59:15.041770",
     "exception": false,
     "start_time": "2023-12-11T16:59:12.700087",
     "status": "completed"
    },
    "tags": []
   },
   "outputs": [],
   "source": [
    "#import block\n",
    "import numpy as np\n",
    "import pandas as pd\n",
    "import sys\n",
    "from sklearn.model_selection import train_test_split"
   ]
  },
  {
   "cell_type": "code",
   "execution_count": 2,
   "id": "7f0cff4d",
   "metadata": {
    "execution": {
     "iopub.execute_input": "2023-12-11T16:59:15.064388Z",
     "iopub.status.busy": "2023-12-11T16:59:15.063614Z",
     "iopub.status.idle": "2023-12-11T16:59:15.071529Z",
     "shell.execute_reply": "2023-12-11T16:59:15.070411Z"
    },
    "papermill": {
     "duration": 0.021264,
     "end_time": "2023-12-11T16:59:15.074001",
     "exception": false,
     "start_time": "2023-12-11T16:59:15.052737",
     "status": "completed"
    },
    "tags": []
   },
   "outputs": [],
   "source": [
    "#this turns a set of 3-character strings into a single one-hot encoded array\n",
    "def transformVector(d):\n",
    "    l = len(charlist)\n",
    "    d = eval(d)\n",
    "    v = np.zeros(l**3).astype('uint64')\n",
    "    for string in d:\n",
    "        num = charlist.index(string[0])*l*l + charlist.index(string[1])*l + charlist.index(string[2])\n",
    "        v[num] = 1\n",
    "    return v"
   ]
  },
  {
   "cell_type": "code",
   "execution_count": 3,
   "id": "01d5bfaa",
   "metadata": {
    "execution": {
     "iopub.execute_input": "2023-12-11T16:59:15.096665Z",
     "iopub.status.busy": "2023-12-11T16:59:15.096139Z",
     "iopub.status.idle": "2023-12-11T16:59:15.131969Z",
     "shell.execute_reply": "2023-12-11T16:59:15.130411Z"
    },
    "papermill": {
     "duration": 0.05094,
     "end_time": "2023-12-11T16:59:15.135474",
     "exception": false,
     "start_time": "2023-12-11T16:59:15.084534",
     "status": "completed"
    },
    "tags": []
   },
   "outputs": [],
   "source": [
    "df = pd.read_csv(\"/kaggle/input/vectorfile-version-2/vectorfilev2.csv\") #this uploads the training data into a pandas dataframe"
   ]
  },
  {
   "cell_type": "code",
   "execution_count": 4,
   "id": "40c31278",
   "metadata": {
    "execution": {
     "iopub.execute_input": "2023-12-11T16:59:15.161420Z",
     "iopub.status.busy": "2023-12-11T16:59:15.160512Z",
     "iopub.status.idle": "2023-12-11T16:59:15.230856Z",
     "shell.execute_reply": "2023-12-11T16:59:15.229933Z"
    },
    "papermill": {
     "duration": 0.088457,
     "end_time": "2023-12-11T16:59:15.233209",
     "exception": false,
     "start_time": "2023-12-11T16:59:15.144752",
     "status": "completed"
    },
    "tags": []
   },
   "outputs": [
    {
     "data": {
      "text/html": [
       "<div>\n",
       "<style scoped>\n",
       "    .dataframe tbody tr th:only-of-type {\n",
       "        vertical-align: middle;\n",
       "    }\n",
       "\n",
       "    .dataframe tbody tr th {\n",
       "        vertical-align: top;\n",
       "    }\n",
       "\n",
       "    .dataframe thead th {\n",
       "        text-align: right;\n",
       "    }\n",
       "</style>\n",
       "<table border=\"1\" class=\"dataframe\">\n",
       "  <thead>\n",
       "    <tr style=\"text-align: right;\">\n",
       "      <th></th>\n",
       "      <th>name</th>\n",
       "      <th>vector</th>\n",
       "      <th>algorithm</th>\n",
       "    </tr>\n",
       "  </thead>\n",
       "  <tbody>\n",
       "    <tr>\n",
       "      <th>0</th>\n",
       "      <td>initdirectory/script1.py</td>\n",
       "      <td>{'##n', 'ucc', '*wi', '#*t', 'n##', 'tes', 'ut...</td>\n",
       "      <td>2.0</td>\n",
       "    </tr>\n",
       "    <tr>\n",
       "      <th>1</th>\n",
       "      <td>initdirectory/script2.py</td>\n",
       "      <td>{'##n', 'ut#', '#in', '*wh', 's*#', 'ill', 'op...</td>\n",
       "      <td>2.0</td>\n",
       "    </tr>\n",
       "    <tr>\n",
       "      <th>2</th>\n",
       "      <td>initdirectory/script3.py</td>\n",
       "      <td>{'##n', 'n##', 'ut#', 'tim', 'gge', 'g*s', 'ul...</td>\n",
       "      <td>2.0</td>\n",
       "    </tr>\n",
       "    <tr>\n",
       "      <th>3</th>\n",
       "      <td>initdirectory/script4.py</td>\n",
       "      <td>{'vis', '##n', 'snu', 'nd*', 'yes', 'quo', 'n#...</td>\n",
       "      <td>2.0</td>\n",
       "    </tr>\n",
       "    <tr>\n",
       "      <th>4</th>\n",
       "      <td>initdirectory/script5.py</td>\n",
       "      <td>{'its', 'k#u', 'per', 'n#d', 'nis', 'eco', 'tr...</td>\n",
       "      <td>2.0</td>\n",
       "    </tr>\n",
       "  </tbody>\n",
       "</table>\n",
       "</div>"
      ],
      "text/plain": [
       "                       name  \\\n",
       "0  initdirectory/script1.py   \n",
       "1  initdirectory/script2.py   \n",
       "2  initdirectory/script3.py   \n",
       "3  initdirectory/script4.py   \n",
       "4  initdirectory/script5.py   \n",
       "\n",
       "                                              vector  algorithm  \n",
       "0  {'##n', 'ucc', '*wi', '#*t', 'n##', 'tes', 'ut...        2.0  \n",
       "1  {'##n', 'ut#', '#in', '*wh', 's*#', 'ill', 'op...        2.0  \n",
       "2  {'##n', 'n##', 'ut#', 'tim', 'gge', 'g*s', 'ul...        2.0  \n",
       "3  {'vis', '##n', 'snu', 'nd*', 'yes', 'quo', 'n#...        2.0  \n",
       "4  {'its', 'k#u', 'per', 'n#d', 'nis', 'eco', 'tr...        2.0  "
      ]
     },
     "execution_count": 4,
     "metadata": {},
     "output_type": "execute_result"
    }
   ],
   "source": [
    "#this creates a column containing 2 if the initial code is unpacked, a 1 if it was packed using algorithm 2, and a 0 if it was packed using algorithm 1\n",
    "for row in df.index:\n",
    "    try:\n",
    "        if str(df['name'][row]).split('/')[3] == 'algo1':\n",
    "            df.loc[row, 'algorithm'] = 0\n",
    "        elif str(df['name'][row]).split('/')[3] == 'algo2':\n",
    "            df.loc[row, 'algorithm'] = 1\n",
    "    except:\n",
    "        df.loc[row, 'algorithm'] = 2 #this is unpacked\n",
    "df.head()"
   ]
  },
  {
   "cell_type": "code",
   "execution_count": 5,
   "id": "0aa279d2",
   "metadata": {
    "execution": {
     "iopub.execute_input": "2023-12-11T16:59:15.253134Z",
     "iopub.status.busy": "2023-12-11T16:59:15.252341Z",
     "iopub.status.idle": "2023-12-11T16:59:15.654067Z",
     "shell.execute_reply": "2023-12-11T16:59:15.652883Z"
    },
    "papermill": {
     "duration": 0.414974,
     "end_time": "2023-12-11T16:59:15.657027",
     "exception": false,
     "start_time": "2023-12-11T16:59:15.242053",
     "status": "completed"
    },
    "tags": []
   },
   "outputs": [],
   "source": [
    "#this transforms the set into a one-hot encoded array\n",
    "charlist = ['0','1', '2', '3', '4', '5', '6', '7', '8', '9', 'a', 'b', 'c', 'd', 'e', 'f', 'g', 'h', 'i', 'j', 'k', 'l', 'm', 'n', 'o', 'p', 'q', 'r', 's', 't', 'u', 'v', 'w', 'x', 'y', 'z', '#', '*']\n",
    "df['enumerated'] = df['vector'].apply(transformVector)"
   ]
  },
  {
   "cell_type": "markdown",
   "id": "a1a2be21",
   "metadata": {
    "papermill": {
     "duration": 0.008719,
     "end_time": "2023-12-11T16:59:15.674773",
     "exception": false,
     "start_time": "2023-12-11T16:59:15.666054",
     "status": "completed"
    },
    "tags": []
   },
   "source": [
    "The next two code blocks make sure that the dataframe looks the way we want it to."
   ]
  },
  {
   "cell_type": "code",
   "execution_count": 6,
   "id": "ea70df29",
   "metadata": {
    "execution": {
     "iopub.execute_input": "2023-12-11T16:59:15.694166Z",
     "iopub.status.busy": "2023-12-11T16:59:15.693733Z",
     "iopub.status.idle": "2023-12-11T16:59:15.720002Z",
     "shell.execute_reply": "2023-12-11T16:59:15.718700Z"
    },
    "papermill": {
     "duration": 0.039067,
     "end_time": "2023-12-11T16:59:15.722764",
     "exception": false,
     "start_time": "2023-12-11T16:59:15.683697",
     "status": "completed"
    },
    "tags": []
   },
   "outputs": [
    {
     "name": "stdout",
     "output_type": "stream",
     "text": [
      "54872\n"
     ]
    },
    {
     "data": {
      "text/html": [
       "<div>\n",
       "<style scoped>\n",
       "    .dataframe tbody tr th:only-of-type {\n",
       "        vertical-align: middle;\n",
       "    }\n",
       "\n",
       "    .dataframe tbody tr th {\n",
       "        vertical-align: top;\n",
       "    }\n",
       "\n",
       "    .dataframe thead th {\n",
       "        text-align: right;\n",
       "    }\n",
       "</style>\n",
       "<table border=\"1\" class=\"dataframe\">\n",
       "  <thead>\n",
       "    <tr style=\"text-align: right;\">\n",
       "      <th></th>\n",
       "      <th>name</th>\n",
       "      <th>vector</th>\n",
       "      <th>algorithm</th>\n",
       "      <th>enumerated</th>\n",
       "    </tr>\n",
       "  </thead>\n",
       "  <tbody>\n",
       "    <tr>\n",
       "      <th>0</th>\n",
       "      <td>initdirectory/script1.py</td>\n",
       "      <td>{'##n', 'ucc', '*wi', '#*t', 'n##', 'tes', 'ut...</td>\n",
       "      <td>2.0</td>\n",
       "      <td>[0, 0, 0, 0, 0, 0, 0, 0, 0, 0, 0, 0, 0, 0, 0, ...</td>\n",
       "    </tr>\n",
       "    <tr>\n",
       "      <th>1</th>\n",
       "      <td>initdirectory/script2.py</td>\n",
       "      <td>{'##n', 'ut#', '#in', '*wh', 's*#', 'ill', 'op...</td>\n",
       "      <td>2.0</td>\n",
       "      <td>[0, 0, 0, 0, 0, 0, 0, 0, 0, 0, 0, 0, 0, 0, 0, ...</td>\n",
       "    </tr>\n",
       "    <tr>\n",
       "      <th>2</th>\n",
       "      <td>initdirectory/script3.py</td>\n",
       "      <td>{'##n', 'n##', 'ut#', 'tim', 'gge', 'g*s', 'ul...</td>\n",
       "      <td>2.0</td>\n",
       "      <td>[0, 0, 0, 0, 0, 0, 0, 0, 0, 0, 0, 0, 0, 0, 0, ...</td>\n",
       "    </tr>\n",
       "    <tr>\n",
       "      <th>3</th>\n",
       "      <td>initdirectory/script4.py</td>\n",
       "      <td>{'vis', '##n', 'snu', 'nd*', 'yes', 'quo', 'n#...</td>\n",
       "      <td>2.0</td>\n",
       "      <td>[0, 0, 0, 0, 0, 0, 0, 0, 0, 0, 0, 0, 0, 0, 0, ...</td>\n",
       "    </tr>\n",
       "    <tr>\n",
       "      <th>4</th>\n",
       "      <td>initdirectory/script5.py</td>\n",
       "      <td>{'its', 'k#u', 'per', 'n#d', 'nis', 'eco', 'tr...</td>\n",
       "      <td>2.0</td>\n",
       "      <td>[0, 0, 0, 0, 0, 0, 0, 0, 0, 0, 0, 0, 0, 0, 0, ...</td>\n",
       "    </tr>\n",
       "  </tbody>\n",
       "</table>\n",
       "</div>"
      ],
      "text/plain": [
       "                       name  \\\n",
       "0  initdirectory/script1.py   \n",
       "1  initdirectory/script2.py   \n",
       "2  initdirectory/script3.py   \n",
       "3  initdirectory/script4.py   \n",
       "4  initdirectory/script5.py   \n",
       "\n",
       "                                              vector  algorithm  \\\n",
       "0  {'##n', 'ucc', '*wi', '#*t', 'n##', 'tes', 'ut...        2.0   \n",
       "1  {'##n', 'ut#', '#in', '*wh', 's*#', 'ill', 'op...        2.0   \n",
       "2  {'##n', 'n##', 'ut#', 'tim', 'gge', 'g*s', 'ul...        2.0   \n",
       "3  {'vis', '##n', 'snu', 'nd*', 'yes', 'quo', 'n#...        2.0   \n",
       "4  {'its', 'k#u', 'per', 'n#d', 'nis', 'eco', 'tr...        2.0   \n",
       "\n",
       "                                          enumerated  \n",
       "0  [0, 0, 0, 0, 0, 0, 0, 0, 0, 0, 0, 0, 0, 0, 0, ...  \n",
       "1  [0, 0, 0, 0, 0, 0, 0, 0, 0, 0, 0, 0, 0, 0, 0, ...  \n",
       "2  [0, 0, 0, 0, 0, 0, 0, 0, 0, 0, 0, 0, 0, 0, 0, ...  \n",
       "3  [0, 0, 0, 0, 0, 0, 0, 0, 0, 0, 0, 0, 0, 0, 0, ...  \n",
       "4  [0, 0, 0, 0, 0, 0, 0, 0, 0, 0, 0, 0, 0, 0, 0, ...  "
      ]
     },
     "execution_count": 6,
     "metadata": {},
     "output_type": "execute_result"
    }
   ],
   "source": [
    "print(np.size(df.loc[1, 'enumerated']))\n",
    "df.head()"
   ]
  },
  {
   "cell_type": "code",
   "execution_count": 7,
   "id": "6a02761e",
   "metadata": {
    "execution": {
     "iopub.execute_input": "2023-12-11T16:59:15.743573Z",
     "iopub.status.busy": "2023-12-11T16:59:15.742968Z",
     "iopub.status.idle": "2023-12-11T16:59:15.767603Z",
     "shell.execute_reply": "2023-12-11T16:59:15.766611Z"
    },
    "papermill": {
     "duration": 0.037628,
     "end_time": "2023-12-11T16:59:15.769883",
     "exception": false,
     "start_time": "2023-12-11T16:59:15.732255",
     "status": "completed"
    },
    "tags": []
   },
   "outputs": [
    {
     "name": "stdout",
     "output_type": "stream",
     "text": [
      "<class 'numpy.ndarray'>\n"
     ]
    },
    {
     "data": {
      "text/html": [
       "<div>\n",
       "<style scoped>\n",
       "    .dataframe tbody tr th:only-of-type {\n",
       "        vertical-align: middle;\n",
       "    }\n",
       "\n",
       "    .dataframe tbody tr th {\n",
       "        vertical-align: top;\n",
       "    }\n",
       "\n",
       "    .dataframe thead th {\n",
       "        text-align: right;\n",
       "    }\n",
       "</style>\n",
       "<table border=\"1\" class=\"dataframe\">\n",
       "  <thead>\n",
       "    <tr style=\"text-align: right;\">\n",
       "      <th></th>\n",
       "      <th>name</th>\n",
       "      <th>vector</th>\n",
       "      <th>algorithm</th>\n",
       "      <th>enumerated</th>\n",
       "    </tr>\n",
       "  </thead>\n",
       "  <tbody>\n",
       "    <tr>\n",
       "      <th>215</th>\n",
       "      <td>initdirectory/outfile/script10/algo2/script10a...</td>\n",
       "      <td>{'**j', '595', '840', 'ey*', '47#', '14#', '53...</td>\n",
       "      <td>1.0</td>\n",
       "      <td>[0, 0, 0, 0, 0, 0, 0, 0, 0, 0, 0, 0, 0, 0, 0, ...</td>\n",
       "    </tr>\n",
       "    <tr>\n",
       "      <th>216</th>\n",
       "      <td>initdirectory/outfile/script10/algo2/script10a...</td>\n",
       "      <td>{'**j', '856', '*91', '840', 'ey*', '896', '*8...</td>\n",
       "      <td>1.0</td>\n",
       "      <td>[1, 0, 0, 0, 0, 0, 0, 0, 0, 0, 0, 0, 0, 0, 0, ...</td>\n",
       "    </tr>\n",
       "    <tr>\n",
       "      <th>217</th>\n",
       "      <td>initdirectory/outfile/script10/algo2/script10a...</td>\n",
       "      <td>{'**j', '*91', 'ey*', '14#', '47#', '468', '63...</td>\n",
       "      <td>1.0</td>\n",
       "      <td>[0, 0, 0, 0, 0, 0, 0, 0, 1, 0, 0, 0, 0, 0, 0, ...</td>\n",
       "    </tr>\n",
       "    <tr>\n",
       "      <th>218</th>\n",
       "      <td>initdirectory/outfile/script10/algo2/script10a...</td>\n",
       "      <td>{'**j', '*12', '840', 'ey*', '820', '103', '*8...</td>\n",
       "      <td>1.0</td>\n",
       "      <td>[1, 0, 0, 0, 0, 0, 0, 0, 0, 0, 0, 0, 0, 0, 0, ...</td>\n",
       "    </tr>\n",
       "    <tr>\n",
       "      <th>219</th>\n",
       "      <td>initdirectory/outfile/script10/algo2/script10a...</td>\n",
       "      <td>{'045', '*91', '42#', 'c#d', '125', '13#', '74...</td>\n",
       "      <td>1.0</td>\n",
       "      <td>[0, 0, 0, 0, 0, 0, 0, 0, 0, 0, 0, 0, 0, 0, 0, ...</td>\n",
       "    </tr>\n",
       "  </tbody>\n",
       "</table>\n",
       "</div>"
      ],
      "text/plain": [
       "                                                  name  \\\n",
       "215  initdirectory/outfile/script10/algo2/script10a...   \n",
       "216  initdirectory/outfile/script10/algo2/script10a...   \n",
       "217  initdirectory/outfile/script10/algo2/script10a...   \n",
       "218  initdirectory/outfile/script10/algo2/script10a...   \n",
       "219  initdirectory/outfile/script10/algo2/script10a...   \n",
       "\n",
       "                                                vector  algorithm  \\\n",
       "215  {'**j', '595', '840', 'ey*', '47#', '14#', '53...        1.0   \n",
       "216  {'**j', '856', '*91', '840', 'ey*', '896', '*8...        1.0   \n",
       "217  {'**j', '*91', 'ey*', '14#', '47#', '468', '63...        1.0   \n",
       "218  {'**j', '*12', '840', 'ey*', '820', '103', '*8...        1.0   \n",
       "219  {'045', '*91', '42#', 'c#d', '125', '13#', '74...        1.0   \n",
       "\n",
       "                                            enumerated  \n",
       "215  [0, 0, 0, 0, 0, 0, 0, 0, 0, 0, 0, 0, 0, 0, 0, ...  \n",
       "216  [1, 0, 0, 0, 0, 0, 0, 0, 0, 0, 0, 0, 0, 0, 0, ...  \n",
       "217  [0, 0, 0, 0, 0, 0, 0, 0, 1, 0, 0, 0, 0, 0, 0, ...  \n",
       "218  [1, 0, 0, 0, 0, 0, 0, 0, 0, 0, 0, 0, 0, 0, 0, ...  \n",
       "219  [0, 0, 0, 0, 0, 0, 0, 0, 0, 0, 0, 0, 0, 0, 0, ...  "
      ]
     },
     "execution_count": 7,
     "metadata": {},
     "output_type": "execute_result"
    }
   ],
   "source": [
    "print(type(df.loc[1, 'enumerated']))\n",
    "df.tail()"
   ]
  },
  {
   "cell_type": "markdown",
   "id": "cc380e8c",
   "metadata": {
    "papermill": {
     "duration": 0.009312,
     "end_time": "2023-12-11T16:59:15.789219",
     "exception": false,
     "start_time": "2023-12-11T16:59:15.779907",
     "status": "completed"
    },
    "tags": []
   },
   "source": [
    "# Stage 2"
   ]
  },
  {
   "cell_type": "code",
   "execution_count": 8,
   "id": "adaa6723",
   "metadata": {
    "execution": {
     "iopub.execute_input": "2023-12-11T16:59:15.810028Z",
     "iopub.status.busy": "2023-12-11T16:59:15.809641Z",
     "iopub.status.idle": "2023-12-11T16:59:25.373044Z",
     "shell.execute_reply": "2023-12-11T16:59:25.371737Z"
    },
    "papermill": {
     "duration": 9.576518,
     "end_time": "2023-12-11T16:59:25.375483",
     "exception": false,
     "start_time": "2023-12-11T16:59:15.798965",
     "status": "completed"
    },
    "tags": []
   },
   "outputs": [
    {
     "name": "stdout",
     "output_type": "stream",
     "text": [
      "Index(['name', 'vector', 'algorithm', 'enumerated'], dtype='object')\n"
     ]
    }
   ],
   "source": [
    "#more importing\n",
    "from tensorflow import keras\n",
    "from tensorflow.keras import layers\n",
    "print(df.columns)"
   ]
  },
  {
   "cell_type": "code",
   "execution_count": 9,
   "id": "065eef88",
   "metadata": {
    "execution": {
     "iopub.execute_input": "2023-12-11T16:59:25.397261Z",
     "iopub.status.busy": "2023-12-11T16:59:25.396526Z",
     "iopub.status.idle": "2023-12-11T16:59:25.498637Z",
     "shell.execute_reply": "2023-12-11T16:59:25.497148Z"
    },
    "papermill": {
     "duration": 0.116159,
     "end_time": "2023-12-11T16:59:25.501504",
     "exception": false,
     "start_time": "2023-12-11T16:59:25.385345",
     "status": "completed"
    },
    "tags": []
   },
   "outputs": [],
   "source": [
    "#this puts the data into formats that will work for keras.\n",
    "X = np.array(df['enumerated'].to_numpy().tolist())\n",
    "y = df['algorithm']\n",
    "#defining the testing and training split\n",
    "X_train, X_test, y_train, y_test = train_test_split(X, y, test_size=0.4, random_state=0)"
   ]
  },
  {
   "cell_type": "code",
   "execution_count": 10,
   "id": "6690b8ba",
   "metadata": {
    "execution": {
     "iopub.execute_input": "2023-12-11T16:59:25.523485Z",
     "iopub.status.busy": "2023-12-11T16:59:25.522524Z",
     "iopub.status.idle": "2023-12-11T16:59:25.529202Z",
     "shell.execute_reply": "2023-12-11T16:59:25.527984Z"
    },
    "papermill": {
     "duration": 0.020566,
     "end_time": "2023-12-11T16:59:25.531834",
     "exception": false,
     "start_time": "2023-12-11T16:59:25.511268",
     "status": "completed"
    },
    "tags": []
   },
   "outputs": [
    {
     "name": "stdout",
     "output_type": "stream",
     "text": [
      "(132, 54872)\n",
      "(88, 54872)\n",
      "(132,)\n",
      "(88,)\n"
     ]
    }
   ],
   "source": [
    "#check on the training and testing splits\n",
    "print(X_train.shape)\n",
    "print(X_test.shape)\n",
    "print(y_train.shape)\n",
    "print(y_test.shape)"
   ]
  },
  {
   "cell_type": "code",
   "execution_count": 11,
   "id": "ef4705d0",
   "metadata": {
    "execution": {
     "iopub.execute_input": "2023-12-11T16:59:25.553335Z",
     "iopub.status.busy": "2023-12-11T16:59:25.552943Z",
     "iopub.status.idle": "2023-12-11T16:59:25.563031Z",
     "shell.execute_reply": "2023-12-11T16:59:25.561664Z"
    },
    "papermill": {
     "duration": 0.024039,
     "end_time": "2023-12-11T16:59:25.565650",
     "exception": false,
     "start_time": "2023-12-11T16:59:25.541611",
     "status": "completed"
    },
    "tags": []
   },
   "outputs": [
    {
     "data": {
      "text/plain": [
       "152    1.0\n",
       "74     1.0\n",
       "71     1.0\n",
       "161    0.0\n",
       "162    0.0\n",
       "      ... \n",
       "104    0.0\n",
       "189    0.0\n",
       "108    0.0\n",
       "86     0.0\n",
       "109    0.0\n",
       "Name: algorithm, Length: 88, dtype: float64"
      ]
     },
     "execution_count": 11,
     "metadata": {},
     "output_type": "execute_result"
    }
   ],
   "source": [
    "y_test"
   ]
  },
  {
   "cell_type": "code",
   "execution_count": 12,
   "id": "536e72bd",
   "metadata": {
    "execution": {
     "iopub.execute_input": "2023-12-11T16:59:25.587574Z",
     "iopub.status.busy": "2023-12-11T16:59:25.586915Z",
     "iopub.status.idle": "2023-12-11T16:59:31.107278Z",
     "shell.execute_reply": "2023-12-11T16:59:31.106123Z"
    },
    "papermill": {
     "duration": 5.534415,
     "end_time": "2023-12-11T16:59:31.110003",
     "exception": false,
     "start_time": "2023-12-11T16:59:25.575588",
     "status": "completed"
    },
    "tags": []
   },
   "outputs": [],
   "source": [
    "model = keras.Sequential([\n",
    "    #these layers are big but that's necessary because of the size of the input shape\n",
    "    #input layer\n",
    "    layers.Dense(8192, input_shape = [54872], activation = 'relu'),\n",
    "    #hidden layers\n",
    "    layers.Dense(8192, activation = 'relu'),\n",
    "    layers.Dense(8192, activation = 'relu'),\n",
    "    layers.Dense(8192, activation = 'relu'),\n",
    "    #output layer\n",
    "    layers.Dense(units = 1)\n",
    "])"
   ]
  },
  {
   "cell_type": "code",
   "execution_count": 13,
   "id": "f4ee53f5",
   "metadata": {
    "execution": {
     "iopub.execute_input": "2023-12-11T16:59:31.132171Z",
     "iopub.status.busy": "2023-12-11T16:59:31.131770Z",
     "iopub.status.idle": "2023-12-11T16:59:31.153046Z",
     "shell.execute_reply": "2023-12-11T16:59:31.151998Z"
    },
    "papermill": {
     "duration": 0.03563,
     "end_time": "2023-12-11T16:59:31.155830",
     "exception": false,
     "start_time": "2023-12-11T16:59:31.120200",
     "status": "completed"
    },
    "tags": []
   },
   "outputs": [],
   "source": [
    "model.compile(\n",
    "    optimizer = 'adam',\n",
    "    loss = 'mae',\n",
    ")"
   ]
  },
  {
   "cell_type": "code",
   "execution_count": 14,
   "id": "5c4c81f1",
   "metadata": {
    "execution": {
     "iopub.execute_input": "2023-12-11T16:59:31.177470Z",
     "iopub.status.busy": "2023-12-11T16:59:31.177083Z",
     "iopub.status.idle": "2023-12-11T17:08:23.470077Z",
     "shell.execute_reply": "2023-12-11T17:08:23.469143Z"
    },
    "papermill": {
     "duration": 532.306824,
     "end_time": "2023-12-11T17:08:23.472645",
     "exception": false,
     "start_time": "2023-12-11T16:59:31.165821",
     "status": "completed"
    },
    "tags": []
   },
   "outputs": [
    {
     "name": "stdout",
     "output_type": "stream",
     "text": [
      "Epoch 1/20\n",
      "3/3 [==============================] - 30s 9s/step - loss: 34.0455 - val_loss: 0.9624\n",
      "Epoch 2/20\n",
      "3/3 [==============================] - 26s 9s/step - loss: 1.3725 - val_loss: 1.6699\n",
      "Epoch 3/20\n",
      "3/3 [==============================] - 26s 9s/step - loss: 1.1526 - val_loss: 1.0727\n",
      "Epoch 4/20\n",
      "3/3 [==============================] - 25s 9s/step - loss: 0.8005 - val_loss: 0.3890\n",
      "Epoch 5/20\n",
      "3/3 [==============================] - 25s 9s/step - loss: 0.2567 - val_loss: 0.3479\n",
      "Epoch 6/20\n",
      "3/3 [==============================] - 26s 9s/step - loss: 0.3009 - val_loss: 0.3568\n",
      "Epoch 7/20\n",
      "3/3 [==============================] - 26s 9s/step - loss: 0.2918 - val_loss: 0.2579\n",
      "Epoch 8/20\n",
      "3/3 [==============================] - 26s 9s/step - loss: 0.2310 - val_loss: 0.2402\n",
      "Epoch 9/20\n",
      "3/3 [==============================] - 25s 9s/step - loss: 0.1630 - val_loss: 0.3122\n",
      "Epoch 10/20\n",
      "3/3 [==============================] - 26s 9s/step - loss: 0.2406 - val_loss: 0.1683\n",
      "Epoch 11/20\n",
      "3/3 [==============================] - 26s 9s/step - loss: 0.1567 - val_loss: 0.1892\n",
      "Epoch 12/20\n",
      "3/3 [==============================] - 26s 9s/step - loss: 0.1191 - val_loss: 0.2014\n",
      "Epoch 13/20\n",
      "3/3 [==============================] - 26s 9s/step - loss: 0.1239 - val_loss: 0.1325\n",
      "Epoch 14/20\n",
      "3/3 [==============================] - 51s 12s/step - loss: 0.0785 - val_loss: 0.1213\n",
      "Epoch 15/20\n",
      "3/3 [==============================] - 24s 8s/step - loss: 0.0715 - val_loss: 0.1315\n",
      "Epoch 16/20\n",
      "3/3 [==============================] - 24s 8s/step - loss: 0.0857 - val_loss: 0.1383\n",
      "Epoch 17/20\n",
      "3/3 [==============================] - 24s 8s/step - loss: 0.0741 - val_loss: 0.1275\n",
      "Epoch 18/20\n",
      "3/3 [==============================] - 24s 8s/step - loss: 0.0593 - val_loss: 0.1060\n",
      "Epoch 19/20\n",
      "3/3 [==============================] - 24s 8s/step - loss: 0.0739 - val_loss: 0.1229\n",
      "Epoch 20/20\n",
      "3/3 [==============================] - 24s 8s/step - loss: 0.0680 - val_loss: 0.1066\n"
     ]
    }
   ],
   "source": [
    "history = model.fit(\n",
    "    X_train, y_train,\n",
    "    validation_data = (X_test, y_test),\n",
    "    batch_size = 50,\n",
    "    epochs = 20\n",
    ")"
   ]
  },
  {
   "cell_type": "code",
   "execution_count": 15,
   "id": "48c1bf3b",
   "metadata": {
    "execution": {
     "iopub.execute_input": "2023-12-11T17:08:23.513602Z",
     "iopub.status.busy": "2023-12-11T17:08:23.512871Z",
     "iopub.status.idle": "2023-12-11T17:08:23.519097Z",
     "shell.execute_reply": "2023-12-11T17:08:23.518273Z"
    },
    "papermill": {
     "duration": 0.029202,
     "end_time": "2023-12-11T17:08:23.521346",
     "exception": false,
     "start_time": "2023-12-11T17:08:23.492144",
     "status": "completed"
    },
    "tags": []
   },
   "outputs": [],
   "source": [
    "def accuracyof1(prediction, actual):\n",
    "    prediction = round(prediction.item())\n",
    "    if prediction < 0:\n",
    "        prediction = 0\n",
    "    if prediction > 2:\n",
    "        prediction = 2\n",
    "    return (prediction == actual)\n",
    "y_test = y_test.reset_index(drop=True)"
   ]
  },
  {
   "cell_type": "code",
   "execution_count": 16,
   "id": "e07d3321",
   "metadata": {
    "execution": {
     "iopub.execute_input": "2023-12-11T17:08:23.562024Z",
     "iopub.status.busy": "2023-12-11T17:08:23.561196Z",
     "iopub.status.idle": "2023-12-11T17:08:23.567713Z",
     "shell.execute_reply": "2023-12-11T17:08:23.566876Z"
    },
    "papermill": {
     "duration": 0.029551,
     "end_time": "2023-12-11T17:08:23.569877",
     "exception": false,
     "start_time": "2023-12-11T17:08:23.540326",
     "status": "completed"
    },
    "tags": []
   },
   "outputs": [
    {
     "data": {
      "text/plain": [
       "1.0"
      ]
     },
     "execution_count": 16,
     "metadata": {},
     "output_type": "execute_result"
    }
   ],
   "source": [
    "X_test[0]\n",
    "y_test[0]"
   ]
  },
  {
   "cell_type": "code",
   "execution_count": 17,
   "id": "770a05e4",
   "metadata": {
    "execution": {
     "iopub.execute_input": "2023-12-11T17:08:23.610944Z",
     "iopub.status.busy": "2023-12-11T17:08:23.610248Z",
     "iopub.status.idle": "2023-12-11T17:08:51.129094Z",
     "shell.execute_reply": "2023-12-11T17:08:51.128066Z"
    },
    "papermill": {
     "duration": 27.542434,
     "end_time": "2023-12-11T17:08:51.131436",
     "exception": false,
     "start_time": "2023-12-11T17:08:23.589002",
     "status": "completed"
    },
    "tags": []
   },
   "outputs": [
    {
     "name": "stdout",
     "output_type": "stream",
     "text": [
      "1/1 [==============================] - 0s 365ms/step\n",
      "1/1 [==============================] - 0s 264ms/step\n",
      "1/1 [==============================] - 0s 266ms/step\n",
      "1/1 [==============================] - 0s 264ms/step\n",
      "1/1 [==============================] - 0s 274ms/step\n",
      "1/1 [==============================] - 0s 264ms/step\n",
      "1/1 [==============================] - 0s 260ms/step\n",
      "1/1 [==============================] - 0s 263ms/step\n",
      "1/1 [==============================] - 0s 266ms/step\n",
      "1/1 [==============================] - 0s 265ms/step\n",
      "1/1 [==============================] - 0s 265ms/step\n",
      "1/1 [==============================] - 0s 266ms/step\n",
      "1/1 [==============================] - 0s 268ms/step\n",
      "1/1 [==============================] - 0s 265ms/step\n",
      "1/1 [==============================] - 0s 264ms/step\n",
      "1/1 [==============================] - 0s 263ms/step\n",
      "1/1 [==============================] - 0s 260ms/step\n",
      "1/1 [==============================] - 0s 267ms/step\n",
      "1/1 [==============================] - 0s 264ms/step\n",
      "1/1 [==============================] - 0s 264ms/step\n",
      "1/1 [==============================] - 0s 263ms/step\n",
      "1/1 [==============================] - 0s 263ms/step\n",
      "1/1 [==============================] - 0s 264ms/step\n",
      "1/1 [==============================] - 0s 270ms/step\n",
      "1/1 [==============================] - 0s 266ms/step\n",
      "1/1 [==============================] - 0s 262ms/step\n",
      "1/1 [==============================] - 0s 266ms/step\n",
      "1/1 [==============================] - 0s 268ms/step\n",
      "1/1 [==============================] - 0s 266ms/step\n",
      "1/1 [==============================] - 0s 265ms/step\n",
      "1/1 [==============================] - 0s 269ms/step\n",
      "1/1 [==============================] - 0s 267ms/step\n",
      "1/1 [==============================] - 0s 266ms/step\n",
      "1/1 [==============================] - 0s 268ms/step\n",
      "1/1 [==============================] - 0s 264ms/step\n",
      "1/1 [==============================] - 0s 266ms/step\n",
      "1/1 [==============================] - 0s 279ms/step\n",
      "1/1 [==============================] - 0s 264ms/step\n",
      "1/1 [==============================] - 0s 266ms/step\n",
      "1/1 [==============================] - 0s 270ms/step\n",
      "1/1 [==============================] - 0s 268ms/step\n",
      "1/1 [==============================] - 0s 272ms/step\n",
      "1/1 [==============================] - 0s 260ms/step\n",
      "1/1 [==============================] - 0s 267ms/step\n",
      "1/1 [==============================] - 0s 265ms/step\n",
      "1/1 [==============================] - 0s 264ms/step\n",
      "1/1 [==============================] - 0s 263ms/step\n",
      "1/1 [==============================] - 0s 265ms/step\n",
      "1/1 [==============================] - 0s 261ms/step\n",
      "1/1 [==============================] - 0s 268ms/step\n",
      "1/1 [==============================] - 0s 263ms/step\n",
      "1/1 [==============================] - 0s 263ms/step\n",
      "1/1 [==============================] - 0s 263ms/step\n",
      "1/1 [==============================] - 0s 263ms/step\n",
      "1/1 [==============================] - 0s 266ms/step\n",
      "1/1 [==============================] - 0s 264ms/step\n",
      "1/1 [==============================] - 0s 265ms/step\n",
      "1/1 [==============================] - 0s 264ms/step\n",
      "1/1 [==============================] - 0s 264ms/step\n",
      "1/1 [==============================] - 0s 269ms/step\n",
      "1/1 [==============================] - 0s 267ms/step\n",
      "1/1 [==============================] - 0s 264ms/step\n",
      "1/1 [==============================] - 0s 265ms/step\n",
      "1/1 [==============================] - 0s 264ms/step\n",
      "1/1 [==============================] - 0s 265ms/step\n",
      "1/1 [==============================] - 0s 265ms/step\n",
      "1/1 [==============================] - 0s 266ms/step\n",
      "1/1 [==============================] - 0s 267ms/step\n",
      "1/1 [==============================] - 0s 280ms/step\n",
      "1/1 [==============================] - 0s 270ms/step\n",
      "1/1 [==============================] - 0s 264ms/step\n",
      "1/1 [==============================] - 0s 270ms/step\n",
      "1/1 [==============================] - 0s 266ms/step\n",
      "1/1 [==============================] - 0s 264ms/step\n",
      "1/1 [==============================] - 0s 262ms/step\n",
      "1/1 [==============================] - 0s 269ms/step\n",
      "1/1 [==============================] - 0s 271ms/step\n",
      "1/1 [==============================] - 0s 270ms/step\n",
      "1/1 [==============================] - 0s 268ms/step\n",
      "1/1 [==============================] - 0s 265ms/step\n",
      "1/1 [==============================] - 0s 263ms/step\n",
      "1/1 [==============================] - 0s 267ms/step\n",
      "1/1 [==============================] - 0s 259ms/step\n",
      "1/1 [==============================] - 0s 258ms/step\n",
      "1/1 [==============================] - 0s 261ms/step\n",
      "1/1 [==============================] - 0s 270ms/step\n",
      "1/1 [==============================] - 0s 262ms/step\n",
      "1/1 [==============================] - 0s 266ms/step\n"
     ]
    }
   ],
   "source": [
    "accuracy = 0\n",
    "count = 0\n",
    "for i in range(88):\n",
    "    prediction = model.predict(X_test[i].reshape(1, -1))\n",
    "    if accuracyof1(prediction, y_test[i]):\n",
    "        accuracy += 1\n",
    "    count += 1\n",
    "accuracy = (accuracy/count)*100"
   ]
  },
  {
   "cell_type": "code",
   "execution_count": 18,
   "id": "a803cb9e",
   "metadata": {
    "execution": {
     "iopub.execute_input": "2023-12-11T17:08:51.204964Z",
     "iopub.status.busy": "2023-12-11T17:08:51.203711Z",
     "iopub.status.idle": "2023-12-11T17:08:51.210546Z",
     "shell.execute_reply": "2023-12-11T17:08:51.209402Z"
    },
    "papermill": {
     "duration": 0.046806,
     "end_time": "2023-12-11T17:08:51.212916",
     "exception": false,
     "start_time": "2023-12-11T17:08:51.166110",
     "status": "completed"
    },
    "tags": []
   },
   "outputs": [
    {
     "name": "stdout",
     "output_type": "stream",
     "text": [
      "93.18181818181817\n"
     ]
    }
   ],
   "source": [
    "print(accuracy)"
   ]
  },
  {
   "cell_type": "code",
   "execution_count": 19,
   "id": "5cd8e796",
   "metadata": {
    "execution": {
     "iopub.execute_input": "2023-12-11T17:08:51.284769Z",
     "iopub.status.busy": "2023-12-11T17:08:51.283528Z",
     "iopub.status.idle": "2023-12-11T17:08:51.597938Z",
     "shell.execute_reply": "2023-12-11T17:08:51.597010Z"
    },
    "papermill": {
     "duration": 0.353179,
     "end_time": "2023-12-11T17:08:51.600592",
     "exception": false,
     "start_time": "2023-12-11T17:08:51.247413",
     "status": "completed"
    },
    "tags": []
   },
   "outputs": [
    {
     "data": {
      "image/png": "[encoded data removed]",
      "text/plain": [
       "<Figure size 640x480 with 1 Axes>"
      ]
     },
     "metadata": {},
     "output_type": "display_data"
    }
   ],
   "source": [
    "history_df = pd.DataFrame(history.history)\n",
    "history_df['val_loss'].plot();"
   ]
  },
  {
   "cell_type": "markdown",
   "id": "b8a74d72",
   "metadata": {
    "papermill": {
     "duration": 0.034651,
     "end_time": "2023-12-11T17:08:51.670414",
     "exception": false,
     "start_time": "2023-12-11T17:08:51.635763",
     "status": "completed"
    },
    "tags": []
   },
   "source": [
    "# Evaluation\n",
    "We have achieved 92% accuracy on the test files, which is pretty good!"
   ]
  },
  {
   "cell_type": "code",
   "execution_count": 20,
   "id": "1603e834",
   "metadata": {
    "execution": {
     "iopub.execute_input": "2023-12-11T17:08:51.742217Z",
     "iopub.status.busy": "2023-12-11T17:08:51.741827Z",
     "iopub.status.idle": "2023-12-11T17:08:51.751762Z",
     "shell.execute_reply": "2023-12-11T17:08:51.750618Z"
    },
    "papermill": {
     "duration": 0.048713,
     "end_time": "2023-12-11T17:08:51.754129",
     "exception": false,
     "start_time": "2023-12-11T17:08:51.705416",
     "status": "completed"
    },
    "tags": []
   },
   "outputs": [],
   "source": [
    "#these functions are to handle the user-inputted file\n",
    "def reformPrediction(prediction):\n",
    "    if prediction < 0.5:\n",
    "        return \"Algorithm 1\"\n",
    "    elif prediction < 1.5:\n",
    "        return \"Algorithm 2\"\n",
    "    else:\n",
    "        return \"Unpacked\"\n",
    "def fileDeal(file): #converts a file to just lowercase letters and changes all non-alpha characters to # (spaces are *)\n",
    "    nfile = \"\"\n",
    "    for char in file:\n",
    "        if char.isalpha():\n",
    "            nfile += char.lower()\n",
    "        elif char.isnumeric():\n",
    "            nfile += char\n",
    "        elif char == \" \":\n",
    "            nfile += \"*\"\n",
    "        else:\n",
    "            nfile += \"#\"\n",
    "    return nfile\n",
    "def makeVector(file):\n",
    "    newfile = fileDeal(file)\n",
    "    featureSet = set(())\n",
    "    i = 0\n",
    "    while i < (len(newfile)-2):\n",
    "        featureSet.add(newfile[i:i+3])\n",
    "        i+=1\n",
    "    return featureSet"
   ]
  },
  {
   "cell_type": "markdown",
   "id": "3e092fdc",
   "metadata": {
    "papermill": {
     "duration": 0.034412,
     "end_time": "2023-12-11T17:08:51.823607",
     "exception": false,
     "start_time": "2023-12-11T17:08:51.789195",
     "status": "completed"
    },
    "tags": []
   },
   "source": [
    "## Try it for yourself:"
   ]
  },
  {
   "cell_type": "code",
   "execution_count": 21,
   "id": "abc83516",
   "metadata": {
    "execution": {
     "iopub.execute_input": "2023-12-11T17:08:51.896318Z",
     "iopub.status.busy": "2023-12-11T17:08:51.895906Z",
     "iopub.status.idle": "2023-12-11T17:08:52.215247Z",
     "shell.execute_reply": "2023-12-11T17:08:52.214457Z"
    },
    "papermill": {
     "duration": 0.358032,
     "end_time": "2023-12-11T17:08:52.217492",
     "exception": false,
     "start_time": "2023-12-11T17:08:51.859460",
     "status": "completed"
    },
    "tags": []
   },
   "outputs": [
    {
     "name": "stdout",
     "output_type": "stream",
     "text": [
      "1/1 [==============================] - 0s 265ms/step\n"
     ]
    },
    {
     "data": {
      "text/plain": [
       "'Algorithm 1'"
      ]
     },
     "execution_count": 21,
     "metadata": {},
     "output_type": "execute_result"
    }
   ],
   "source": [
    "file = 'for i in j: do something' #this is here so that kaggle can save the notebook without getting an error\n",
    "#predict the state of a file\n",
    "#fill out the next line with the path to your file and uncomment the next line\n",
    "#file = open('path_to_file', r)\n",
    "file = fileDeal(file)\n",
    "v = str(makeVector(file))\n",
    "v = np.array(transformVector(v))\n",
    "v = v.reshape(1, -1)\n",
    "reformPrediction(model.predict(v)) #this outputs Unpacked, Algorithm 1, or Algorithm 2, depending on what the model predicts"
   ]
  }
 ],
 "metadata": {
  "kaggle": {
   "accelerator": "none",
   "dataSources": [
    {
     "datasetId": 3964709,
     "sourceId": 6967199,
     "sourceType": "datasetVersion"
    },
    {
     "datasetId": 4002922,
     "sourceId": 6975064,
     "sourceType": "datasetVersion"
    }
   ],
   "dockerImageVersionId": 30558,
   "isGpuEnabled": false,
   "isInternetEnabled": true,
   "language": "python",
   "sourceType": "notebook"
  },
  "kernelspec": {
   "display_name": "Python 3",
   "language": "python",
   "name": "python3"
  },
  "language_info": {
   "codemirror_mode": {
    "name": "ipython",
    "version": 3
   },
   "file_extension": ".py",
   "mimetype": "text/x-python",
   "name": "python",
   "nbconvert_exporter": "python",
   "pygments_lexer": "ipython3",
   "version": "3.10.12"
  },
  "papermill": {
   "default_parameters": {},
   "duration": 586.485497,
   "end_time": "2023-12-11T17:08:54.838037",
   "environment_variables": {},
   "exception": null,
   "input_path": "__notebook__.ipynb",
   "output_path": "__notebook__.ipynb",
   "parameters": {},
   "start_time": "2023-12-11T16:59:08.352540",
   "version": "2.4.0"
  }
 },
 "nbformat": 4,
 "nbformat_minor": 5
}
