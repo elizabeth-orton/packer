{
 "cells": [
  {
   "cell_type": "markdown",
   "id": "039eee31",
   "metadata": {
    "papermill": {
     "duration": 0.019166,
     "end_time": "2024-04-15T15:47:39.693557",
     "exception": false,
     "start_time": "2024-04-15T15:47:39.674391",
     "status": "completed"
    },
    "tags": []
   },
   "source": [
    "# Stage 1"
   ]
  },
  {
   "cell_type": "code",
   "execution_count": 1,
   "id": "3c3955cc",
   "metadata": {
    "_cell_guid": "b1076dfc-b9ad-4769-8c92-a6c4dae69d19",
    "_uuid": "8f2839f25d086af736a60e9eeb907d3b93b6e0e5",
    "execution": {
     "iopub.execute_input": "2024-04-15T15:47:39.734116Z",
     "iopub.status.busy": "2024-04-15T15:47:39.733171Z",
     "iopub.status.idle": "2024-04-15T15:47:41.972321Z",
     "shell.execute_reply": "2024-04-15T15:47:41.971049Z"
    },
    "papermill": {
     "duration": 2.26238,
     "end_time": "2024-04-15T15:47:41.975048",
     "exception": false,
     "start_time": "2024-04-15T15:47:39.712668",
     "status": "completed"
    },
    "tags": []
   },
   "outputs": [],
   "source": [
    "#import block\n",
    "import numpy as np\n",
    "import pandas as pd\n",
    "import sys\n",
    "from sklearn.model_selection import train_test_split\n",
    "import colorama as cr\n",
    "import matplotlib.pyplot as plt"
   ]
  },
  {
   "cell_type": "code",
   "execution_count": 2,
   "id": "0a15085f",
   "metadata": {
    "execution": {
     "iopub.execute_input": "2024-04-15T15:47:42.021216Z",
     "iopub.status.busy": "2024-04-15T15:47:42.018073Z",
     "iopub.status.idle": "2024-04-15T15:47:42.029398Z",
     "shell.execute_reply": "2024-04-15T15:47:42.028047Z"
    },
    "papermill": {
     "duration": 0.036672,
     "end_time": "2024-04-15T15:47:42.031963",
     "exception": false,
     "start_time": "2024-04-15T15:47:41.995291",
     "status": "completed"
    },
    "tags": []
   },
   "outputs": [],
   "source": [
    "#this turns a set of 3-character strings into a single one-hot encoded array\n",
    "def transformVector(d):\n",
    "    l = len(charlist)\n",
    "    d = eval(d)\n",
    "    v = np.zeros(l**3).astype('uint64') #makes a numpy array the length of the charlist cubed populated with zeros\n",
    "    for string in d:\n",
    "        num = charlist.index(string[0])*l*l + charlist.index(string[1])*l + charlist.index(string[2])\n",
    "        v[num] = 1\n",
    "    return v"
   ]
  },
  {
   "cell_type": "code",
   "execution_count": 3,
   "id": "e7734d94",
   "metadata": {
    "execution": {
     "iopub.execute_input": "2024-04-15T15:47:42.084633Z",
     "iopub.status.busy": "2024-04-15T15:47:42.083542Z",
     "iopub.status.idle": "2024-04-15T15:47:42.120588Z",
     "shell.execute_reply": "2024-04-15T15:47:42.118869Z"
    },
    "papermill": {
     "duration": 0.065689,
     "end_time": "2024-04-15T15:47:42.124725",
     "exception": false,
     "start_time": "2024-04-15T15:47:42.059036",
     "status": "completed"
    },
    "tags": []
   },
   "outputs": [],
   "source": [
    "df = pd.read_csv(\"/kaggle/input/vectorfile-version-2/vectorfilev3.csv\") #read the training data into a pandas dataframe"
   ]
  },
  {
   "cell_type": "code",
   "execution_count": 4,
   "id": "3817a9f2",
   "metadata": {
    "execution": {
     "iopub.execute_input": "2024-04-15T15:47:42.166048Z",
     "iopub.status.busy": "2024-04-15T15:47:42.165336Z",
     "iopub.status.idle": "2024-04-15T15:47:42.232090Z",
     "shell.execute_reply": "2024-04-15T15:47:42.231017Z"
    },
    "papermill": {
     "duration": 0.090289,
     "end_time": "2024-04-15T15:47:42.234842",
     "exception": false,
     "start_time": "2024-04-15T15:47:42.144553",
     "status": "completed"
    },
    "tags": []
   },
   "outputs": [
    {
     "data": {
      "text/html": [
       "<div>\n",
       "<style scoped>\n",
       "    .dataframe tbody tr th:only-of-type {\n",
       "        vertical-align: middle;\n",
       "    }\n",
       "\n",
       "    .dataframe tbody tr th {\n",
       "        vertical-align: top;\n",
       "    }\n",
       "\n",
       "    .dataframe thead th {\n",
       "        text-align: right;\n",
       "    }\n",
       "</style>\n",
       "<table border=\"1\" class=\"dataframe\">\n",
       "  <thead>\n",
       "    <tr style=\"text-align: right;\">\n",
       "      <th></th>\n",
       "      <th>name</th>\n",
       "      <th>vector</th>\n",
       "      <th>algo1</th>\n",
       "      <th>algo2</th>\n",
       "      <th>unpacked</th>\n",
       "    </tr>\n",
       "  </thead>\n",
       "  <tbody>\n",
       "    <tr>\n",
       "      <th>0</th>\n",
       "      <td>initdirectory/script1.py</td>\n",
       "      <td>{'ave', 'in*', '#s*', 'lik', 'at#', '*an', 'at...</td>\n",
       "      <td>0</td>\n",
       "      <td>0</td>\n",
       "      <td>1</td>\n",
       "    </tr>\n",
       "    <tr>\n",
       "      <th>1</th>\n",
       "      <td>initdirectory/script2.py</td>\n",
       "      <td>{'#pl', 'es#', 'rre', 'f*w', 'ef*', 's#5', 's#...</td>\n",
       "      <td>0</td>\n",
       "      <td>0</td>\n",
       "      <td>1</td>\n",
       "    </tr>\n",
       "    <tr>\n",
       "      <th>2</th>\n",
       "      <td>initdirectory/script3.py</td>\n",
       "      <td>{'ame', 'r*n', 'nre', 'lik', 'our', 'at*', 'im...</td>\n",
       "      <td>0</td>\n",
       "      <td>0</td>\n",
       "      <td>1</td>\n",
       "    </tr>\n",
       "    <tr>\n",
       "      <th>3</th>\n",
       "      <td>initdirectory/script4.py</td>\n",
       "      <td>{'d#*', 'oti', 'snu', '#pl', 'our', 'at*', '*a...</td>\n",
       "      <td>0</td>\n",
       "      <td>0</td>\n",
       "      <td>1</td>\n",
       "    </tr>\n",
       "    <tr>\n",
       "      <th>4</th>\n",
       "      <td>initdirectory/script5.py</td>\n",
       "      <td>{'usl', 'y#4', '*ga', '*qu', 'p#2', 'fre', 'oi...</td>\n",
       "      <td>0</td>\n",
       "      <td>0</td>\n",
       "      <td>1</td>\n",
       "    </tr>\n",
       "  </tbody>\n",
       "</table>\n",
       "</div>"
      ],
      "text/plain": [
       "                       name  \\\n",
       "0  initdirectory/script1.py   \n",
       "1  initdirectory/script2.py   \n",
       "2  initdirectory/script3.py   \n",
       "3  initdirectory/script4.py   \n",
       "4  initdirectory/script5.py   \n",
       "\n",
       "                                              vector  algo1  algo2  unpacked  \n",
       "0  {'ave', 'in*', '#s*', 'lik', 'at#', '*an', 'at...      0      0         1  \n",
       "1  {'#pl', 'es#', 'rre', 'f*w', 'ef*', 's#5', 's#...      0      0         1  \n",
       "2  {'ame', 'r*n', 'nre', 'lik', 'our', 'at*', 'im...      0      0         1  \n",
       "3  {'d#*', 'oti', 'snu', '#pl', 'our', 'at*', '*a...      0      0         1  \n",
       "4  {'usl', 'y#4', '*ga', '*qu', 'p#2', 'fre', 'oi...      0      0         1  "
      ]
     },
     "execution_count": 4,
     "metadata": {},
     "output_type": "execute_result"
    }
   ],
   "source": [
    "#this creates three columns: one for algorithm 1, one for algorithm 2, and one for unpacked. For each row, the respective algorithm will have a 1 and the other two will have a 0\n",
    "df['algo1'] = 0\n",
    "df['algo2'] = 0\n",
    "df['unpacked'] = 0\n",
    "for row in df.index:\n",
    "    try:\n",
    "        if str(df['name'][row]).split('/')[3] == 'algo1':\n",
    "            df.loc[row, 'algo1']= 1\n",
    "        elif str(df['name'][row]).split('/')[3] == 'algo2':\n",
    "            df.loc[row, 'algo2' ] =1\n",
    "    except:\n",
    "        df.loc[row, 'unpacked']=  1 \n",
    "df.head()"
   ]
  },
  {
   "cell_type": "code",
   "execution_count": 5,
   "id": "7161aa40",
   "metadata": {
    "execution": {
     "iopub.execute_input": "2024-04-15T15:47:42.274368Z",
     "iopub.status.busy": "2024-04-15T15:47:42.273934Z",
     "iopub.status.idle": "2024-04-15T15:47:42.671592Z",
     "shell.execute_reply": "2024-04-15T15:47:42.670694Z"
    },
    "papermill": {
     "duration": 0.420734,
     "end_time": "2024-04-15T15:47:42.674353",
     "exception": false,
     "start_time": "2024-04-15T15:47:42.253619",
     "status": "completed"
    },
    "tags": []
   },
   "outputs": [],
   "source": [
    "#the charlist contains every possible character that is included in this classification system\n",
    "charlist = ['0','1', '2', '3', '4', '5', '6', '7', '8', '9', 'a', 'b', 'c', 'd', 'e', 'f', 'g', 'h', 'i', 'j', 'k', 'l', 'm', 'n', 'o', 'p', 'q', 'r', 's', 't', 'u', 'v', 'w', 'x', 'y', 'z', '#', '*']\n",
    "df['enumerated'] = df['vector'].apply(transformVector)"
   ]
  },
  {
   "cell_type": "markdown",
   "id": "ea7126dc",
   "metadata": {
    "papermill": {
     "duration": 0.018871,
     "end_time": "2024-04-15T15:47:42.712158",
     "exception": false,
     "start_time": "2024-04-15T15:47:42.693287",
     "status": "completed"
    },
    "tags": []
   },
   "source": [
    "# Stage 2"
   ]
  },
  {
   "cell_type": "code",
   "execution_count": 6,
   "id": "899f0071",
   "metadata": {
    "execution": {
     "iopub.execute_input": "2024-04-15T15:47:42.752402Z",
     "iopub.status.busy": "2024-04-15T15:47:42.752013Z",
     "iopub.status.idle": "2024-04-15T15:47:51.969162Z",
     "shell.execute_reply": "2024-04-15T15:47:51.967863Z"
    },
    "papermill": {
     "duration": 9.240947,
     "end_time": "2024-04-15T15:47:51.971965",
     "exception": false,
     "start_time": "2024-04-15T15:47:42.731018",
     "status": "completed"
    },
    "tags": []
   },
   "outputs": [
    {
     "name": "stdout",
     "output_type": "stream",
     "text": [
      "Index(['name', 'vector', 'algo1', 'algo2', 'unpacked', 'enumerated'], dtype='object')\n"
     ]
    }
   ],
   "source": [
    "#more importing\n",
    "from tensorflow import keras\n",
    "from tensorflow.keras import layers\n",
    "print(df.columns)\n",
    "import tensorflow as tf"
   ]
  },
  {
   "cell_type": "code",
   "execution_count": 7,
   "id": "90282a4d",
   "metadata": {
    "execution": {
     "iopub.execute_input": "2024-04-15T15:47:52.014140Z",
     "iopub.status.busy": "2024-04-15T15:47:52.012774Z",
     "iopub.status.idle": "2024-04-15T15:47:52.055661Z",
     "shell.execute_reply": "2024-04-15T15:47:52.054356Z"
    },
    "papermill": {
     "duration": 0.069074,
     "end_time": "2024-04-15T15:47:52.060641",
     "exception": false,
     "start_time": "2024-04-15T15:47:51.991567",
     "status": "completed"
    },
    "tags": []
   },
   "outputs": [
    {
     "data": {
      "text/html": [
       "<div>\n",
       "<style scoped>\n",
       "    .dataframe tbody tr th:only-of-type {\n",
       "        vertical-align: middle;\n",
       "    }\n",
       "\n",
       "    .dataframe tbody tr th {\n",
       "        vertical-align: top;\n",
       "    }\n",
       "\n",
       "    .dataframe thead th {\n",
       "        text-align: right;\n",
       "    }\n",
       "</style>\n",
       "<table border=\"1\" class=\"dataframe\">\n",
       "  <thead>\n",
       "    <tr style=\"text-align: right;\">\n",
       "      <th></th>\n",
       "      <th>name</th>\n",
       "      <th>vector</th>\n",
       "      <th>algo1</th>\n",
       "      <th>algo2</th>\n",
       "      <th>unpacked</th>\n",
       "      <th>enumerated</th>\n",
       "      <th>Y</th>\n",
       "    </tr>\n",
       "  </thead>\n",
       "  <tbody>\n",
       "    <tr>\n",
       "      <th>0</th>\n",
       "      <td>initdirectory/script1.py</td>\n",
       "      <td>{'ave', 'in*', '#s*', 'lik', 'at#', '*an', 'at...</td>\n",
       "      <td>0</td>\n",
       "      <td>0</td>\n",
       "      <td>1</td>\n",
       "      <td>[0, 0, 0, 0, 0, 0, 0, 0, 0, 0, 0, 0, 0, 0, 0, ...</td>\n",
       "      <td>[0, 0, 1]</td>\n",
       "    </tr>\n",
       "    <tr>\n",
       "      <th>1</th>\n",
       "      <td>initdirectory/script2.py</td>\n",
       "      <td>{'#pl', 'es#', 'rre', 'f*w', 'ef*', 's#5', 's#...</td>\n",
       "      <td>0</td>\n",
       "      <td>0</td>\n",
       "      <td>1</td>\n",
       "      <td>[0, 0, 0, 0, 0, 0, 0, 0, 0, 0, 0, 0, 0, 0, 0, ...</td>\n",
       "      <td>[0, 0, 1]</td>\n",
       "    </tr>\n",
       "    <tr>\n",
       "      <th>2</th>\n",
       "      <td>initdirectory/script3.py</td>\n",
       "      <td>{'ame', 'r*n', 'nre', 'lik', 'our', 'at*', 'im...</td>\n",
       "      <td>0</td>\n",
       "      <td>0</td>\n",
       "      <td>1</td>\n",
       "      <td>[0, 0, 0, 0, 0, 0, 0, 0, 0, 0, 0, 0, 0, 0, 0, ...</td>\n",
       "      <td>[0, 0, 1]</td>\n",
       "    </tr>\n",
       "    <tr>\n",
       "      <th>3</th>\n",
       "      <td>initdirectory/script4.py</td>\n",
       "      <td>{'d#*', 'oti', 'snu', '#pl', 'our', 'at*', '*a...</td>\n",
       "      <td>0</td>\n",
       "      <td>0</td>\n",
       "      <td>1</td>\n",
       "      <td>[0, 0, 0, 0, 0, 0, 0, 0, 0, 0, 0, 0, 0, 0, 0, ...</td>\n",
       "      <td>[0, 0, 1]</td>\n",
       "    </tr>\n",
       "    <tr>\n",
       "      <th>4</th>\n",
       "      <td>initdirectory/script5.py</td>\n",
       "      <td>{'usl', 'y#4', '*ga', '*qu', 'p#2', 'fre', 'oi...</td>\n",
       "      <td>0</td>\n",
       "      <td>0</td>\n",
       "      <td>1</td>\n",
       "      <td>[0, 0, 0, 0, 0, 0, 0, 0, 0, 0, 0, 0, 0, 0, 0, ...</td>\n",
       "      <td>[0, 0, 1]</td>\n",
       "    </tr>\n",
       "  </tbody>\n",
       "</table>\n",
       "</div>"
      ],
      "text/plain": [
       "                       name  \\\n",
       "0  initdirectory/script1.py   \n",
       "1  initdirectory/script2.py   \n",
       "2  initdirectory/script3.py   \n",
       "3  initdirectory/script4.py   \n",
       "4  initdirectory/script5.py   \n",
       "\n",
       "                                              vector  algo1  algo2  unpacked  \\\n",
       "0  {'ave', 'in*', '#s*', 'lik', 'at#', '*an', 'at...      0      0         1   \n",
       "1  {'#pl', 'es#', 'rre', 'f*w', 'ef*', 's#5', 's#...      0      0         1   \n",
       "2  {'ame', 'r*n', 'nre', 'lik', 'our', 'at*', 'im...      0      0         1   \n",
       "3  {'d#*', 'oti', 'snu', '#pl', 'our', 'at*', '*a...      0      0         1   \n",
       "4  {'usl', 'y#4', '*ga', '*qu', 'p#2', 'fre', 'oi...      0      0         1   \n",
       "\n",
       "                                          enumerated          Y  \n",
       "0  [0, 0, 0, 0, 0, 0, 0, 0, 0, 0, 0, 0, 0, 0, 0, ...  [0, 0, 1]  \n",
       "1  [0, 0, 0, 0, 0, 0, 0, 0, 0, 0, 0, 0, 0, 0, 0, ...  [0, 0, 1]  \n",
       "2  [0, 0, 0, 0, 0, 0, 0, 0, 0, 0, 0, 0, 0, 0, 0, ...  [0, 0, 1]  \n",
       "3  [0, 0, 0, 0, 0, 0, 0, 0, 0, 0, 0, 0, 0, 0, 0, ...  [0, 0, 1]  \n",
       "4  [0, 0, 0, 0, 0, 0, 0, 0, 0, 0, 0, 0, 0, 0, 0, ...  [0, 0, 1]  "
      ]
     },
     "execution_count": 7,
     "metadata": {},
     "output_type": "execute_result"
    }
   ],
   "source": [
    "#this creates a \"Y\" column containing the information in algo1, algo2, and unpacked.\n",
    "def create_y(row):\n",
    "    return [row['algo1'], row['algo2'], row['unpacked']]\n",
    "df['Y'] = df.apply(create_y, axis=1)\n",
    "df.head()"
   ]
  },
  {
   "cell_type": "code",
   "execution_count": 8,
   "id": "30cb9dbe",
   "metadata": {
    "execution": {
     "iopub.execute_input": "2024-04-15T15:47:52.110287Z",
     "iopub.status.busy": "2024-04-15T15:47:52.109870Z",
     "iopub.status.idle": "2024-04-15T15:47:52.209116Z",
     "shell.execute_reply": "2024-04-15T15:47:52.208200Z"
    },
    "papermill": {
     "duration": 0.124017,
     "end_time": "2024-04-15T15:47:52.211763",
     "exception": false,
     "start_time": "2024-04-15T15:47:52.087746",
     "status": "completed"
    },
    "tags": []
   },
   "outputs": [],
   "source": [
    "#this converts the data into numpy arrays\n",
    "X = np.array(df['enumerated'].to_numpy().tolist())\n",
    "y = np.array(df['Y'].to_numpy().tolist())\n",
    "#defining the testing and training split\n",
    "X_train, X_test, y_train, y_test = train_test_split(X, y, test_size=0.4, random_state=0)"
   ]
  },
  {
   "cell_type": "code",
   "execution_count": 9,
   "id": "2e0608db",
   "metadata": {
    "execution": {
     "iopub.execute_input": "2024-04-15T15:47:52.252672Z",
     "iopub.status.busy": "2024-04-15T15:47:52.251832Z",
     "iopub.status.idle": "2024-04-15T15:47:52.520532Z",
     "shell.execute_reply": "2024-04-15T15:47:52.519598Z"
    },
    "papermill": {
     "duration": 0.29189,
     "end_time": "2024-04-15T15:47:52.523287",
     "exception": false,
     "start_time": "2024-04-15T15:47:52.231397",
     "status": "completed"
    },
    "tags": []
   },
   "outputs": [],
   "source": [
    "#this is so that we do not have to keep re-training the model since the data has not changed\n",
    "model = keras.models.load_model('/kaggle/input/code-classifier/keras/simplified/1/model.keras') "
   ]
  },
  {
   "cell_type": "code",
   "execution_count": 10,
   "id": "9271a2e0",
   "metadata": {
    "execution": {
     "iopub.execute_input": "2024-04-15T15:47:52.622715Z",
     "iopub.status.busy": "2024-04-15T15:47:52.621706Z",
     "iopub.status.idle": "2024-04-15T15:47:52.627053Z",
     "shell.execute_reply": "2024-04-15T15:47:52.626246Z"
    },
    "papermill": {
     "duration": 0.028218,
     "end_time": "2024-04-15T15:47:52.629360",
     "exception": false,
     "start_time": "2024-04-15T15:47:52.601142",
     "status": "completed"
    },
    "tags": []
   },
   "outputs": [],
   "source": [
    "def accuracyof1(prediction, actual):\n",
    "    prediction = np.argmax(prediction)\n",
    "    actual = np.argmax(actual)\n",
    "    return (prediction == actual)"
   ]
  },
  {
   "cell_type": "code",
   "execution_count": 11,
   "id": "bfad4a23",
   "metadata": {
    "execution": {
     "iopub.execute_input": "2024-04-15T15:47:52.669750Z",
     "iopub.status.busy": "2024-04-15T15:47:52.669384Z",
     "iopub.status.idle": "2024-04-15T15:48:01.123810Z",
     "shell.execute_reply": "2024-04-15T15:48:01.122300Z"
    },
    "papermill": {
     "duration": 8.477807,
     "end_time": "2024-04-15T15:48:01.126517",
     "exception": false,
     "start_time": "2024-04-15T15:47:52.648710",
     "status": "completed"
    },
    "scrolled": true,
    "tags": []
   },
   "outputs": [
    {
     "name": "stdout",
     "output_type": "stream",
     "text": [
      "Prediction:  [[0.983166   0.01406681 0.00276729]]\n",
      "Actual:  [1 0 0]\n",
      "Prediction:  [[0.0098802  0.98854315 0.0015766 ]]\n",
      "Actual:  [0 1 0]\n",
      "Prediction:  [[9.9479359e-01 4.3081031e-03 8.9827244e-04]]\n",
      "Actual:  [1 0 0]\n",
      "Prediction:  [[0.98762274 0.01019828 0.00217906]]\n",
      "Actual:  [1 0 0]\n",
      "Prediction:  [[3.4131514e-05 2.8563725e-05 9.9993730e-01]]\n",
      "Actual:  [0 0 1]\n",
      "Prediction:  [[0.9856317  0.0121148  0.00225344]]\n",
      "Actual:  [1 0 0]\n",
      "Prediction:  [[0.98430693 0.01311856 0.00257452]]\n",
      "Actual:  [1 0 0]\n",
      "Prediction:  [[0.01443423 0.98321146 0.00235429]]\n",
      "Actual:  [0 1 0]\n",
      "Prediction:  [[0.9728485  0.02284291 0.00430858]]\n",
      "Actual:  [1 0 0]\n",
      "Prediction:  [[0.99090004 0.00753021 0.00156971]]\n",
      "Actual:  [1 0 0]\n",
      "Prediction:  [[0.01433358 0.98339427 0.00227211]]\n",
      "Actual:  [0 1 0]\n",
      "Prediction:  [[1.7407979e-03 9.9798214e-01 2.7706235e-04]]\n",
      "Actual:  [0 1 0]\n",
      "Prediction:  [[0.98717296 0.01078619 0.00204076]]\n",
      "Actual:  [1 0 0]\n",
      "Prediction:  [[0.00717771 0.9916583  0.0011641 ]]\n",
      "Actual:  [0 1 0]\n",
      "Prediction:  [[0.9766827  0.01956783 0.00374939]]\n",
      "Actual:  [1 0 0]\n",
      "Prediction:  [[0.9841616  0.01310037 0.00273803]]\n",
      "Actual:  [1 0 0]\n",
      "Prediction:  [[0.02041041 0.01836097 0.96122867]]\n",
      "Actual:  [0 0 1]\n",
      "Prediction:  [[2.8913177e-03 9.9657804e-01 5.3069810e-04]]\n",
      "Actual:  [0 1 0]\n",
      "Prediction:  [[0.0117016  0.98651206 0.00178634]]\n",
      "Actual:  [0 1 0]\n",
      "Prediction:  [[0.9919391  0.00668922 0.00137162]]\n",
      "Actual:  [1 0 0]\n",
      "Prediction:  [[0.98832035 0.00961608 0.00206361]]\n",
      "Actual:  [1 0 0]\n",
      "Prediction:  [[0.00122654 0.00104276 0.9977307 ]]\n",
      "Actual:  [0 0 1]\n",
      "Prediction:  [[0.98522097 0.01234028 0.00243869]]\n",
      "Actual:  [1 0 0]\n",
      "Prediction:  [[0.03162814 0.96402675 0.00434513]]\n",
      "Actual:  [0 1 0]\n",
      "Prediction:  [[0.00775362 0.9908338  0.00141258]]\n",
      "Actual:  [0 1 0]\n",
      "Prediction:  [[0.00883424 0.98968863 0.00147708]]\n",
      "Actual:  [0 1 0]\n",
      "Prediction:  [[0.00596646 0.99292266 0.00111087]]\n",
      "Actual:  [0 1 0]\n",
      "Prediction:  [[3.5622991e-03 9.9576700e-01 6.7063735e-04]]\n",
      "Actual:  [0 1 0]\n",
      "Prediction:  [[0.9760292  0.02019918 0.00377162]]\n",
      "Actual:  [1 0 0]\n",
      "Prediction:  [[0.01956492 0.97711724 0.0033179 ]]\n",
      "Actual:  [0 1 0]\n",
      "Prediction:  [[0.0225912  0.01851186 0.95889693]]\n",
      "Actual:  [0 0 1]\n",
      "Prediction:  [[0.0227672  0.97406954 0.00316329]]\n",
      "Actual:  [0 1 0]\n",
      "Prediction:  [[0.00580322 0.9931375  0.0010594 ]]\n",
      "Actual:  [0 1 0]\n",
      "Prediction:  [[0.01871775 0.9784308  0.0028515 ]]\n",
      "Actual:  [0 1 0]\n",
      "Prediction:  [[0.9919666  0.00690241 0.00113098]]\n",
      "Actual:  [1 0 0]\n",
      "Prediction:  [[0.01175346 0.9860946  0.00215185]]\n",
      "Actual:  [0 1 0]\n",
      "Prediction:  [[0.00568789 0.9932833  0.00102889]]\n",
      "Actual:  [0 1 0]\n",
      "Prediction:  [[0.01401539 0.01077959 0.975205  ]]\n",
      "Actual:  [0 0 1]\n",
      "Prediction:  [[0.01382068 0.9838884  0.0022909 ]]\n",
      "Actual:  [0 1 0]\n",
      "Prediction:  [[0.98315626 0.01455035 0.00229339]]\n",
      "Actual:  [1 0 0]\n",
      "Prediction:  [[0.00972765 0.98886734 0.00140502]]\n",
      "Actual:  [0 1 0]\n",
      "Prediction:  [[0.9874111  0.01066085 0.0019281 ]]\n",
      "Actual:  [1 0 0]\n",
      "Prediction:  [[0.9895381  0.00887567 0.00158628]]\n",
      "Actual:  [1 0 0]\n",
      "Prediction:  [[0.98887944 0.00930113 0.00181942]]\n",
      "Actual:  [1 0 0]\n",
      "Prediction:  [[0.9833831  0.01383018 0.00278672]]\n",
      "Actual:  [1 0 0]\n",
      "Prediction:  [[1.0908020e-03 9.9869686e-01 2.1241866e-04]]\n",
      "Actual:  [0 1 0]\n",
      "Prediction:  [[0.9812454  0.01572937 0.00302527]]\n",
      "Actual:  [1 0 0]\n",
      "Prediction:  [[0.02557218 0.9704579  0.00396994]]\n",
      "Actual:  [0 1 0]\n",
      "Prediction:  [[0.9905888  0.00777079 0.00164043]]\n",
      "Actual:  [1 0 0]\n",
      "Prediction:  [[0.0131559  0.98462707 0.00221699]]\n",
      "Actual:  [0 1 0]\n",
      "Prediction:  [[0.02376959 0.97245127 0.00377917]]\n",
      "Actual:  [0 1 0]\n",
      "Prediction:  [[5.0877212e-03 9.9394304e-01 9.6922112e-04]]\n",
      "Actual:  [0 1 0]\n",
      "Prediction:  [[0.00482536 0.00362402 0.99155056]]\n",
      "Actual:  [0 0 1]\n",
      "Prediction:  [[0.98517793 0.01257737 0.00224465]]\n",
      "Actual:  [1 0 0]\n",
      "Prediction:  [[0.98191994 0.01505411 0.003026  ]]\n",
      "Actual:  [1 0 0]\n",
      "Prediction:  [[0.9814404  0.01540112 0.00315846]]\n",
      "Actual:  [1 0 0]\n",
      "Prediction:  [[0.9916985  0.00687898 0.00142253]]\n",
      "Actual:  [1 0 0]\n",
      "Prediction:  [[0.988388   0.00958055 0.00203142]]\n",
      "Actual:  [1 0 0]\n",
      "Prediction:  [[0.98997927 0.0083467  0.00167399]]\n",
      "Actual:  [1 0 0]\n",
      "Prediction:  [[0.98892236 0.00921816 0.00185942]]\n",
      "Actual:  [1 0 0]\n",
      "Prediction:  [[0.98389995 0.01365762 0.00244247]]\n",
      "Actual:  [1 0 0]\n",
      "Prediction:  [[0.01351793 0.9843435  0.0021386 ]]\n",
      "Actual:  [0 1 0]\n",
      "Prediction:  [[0.9878777  0.01019316 0.00192908]]\n",
      "Actual:  [1 0 0]\n",
      "Prediction:  [[0.04438094 0.03015913 0.92546   ]]\n",
      "Actual:  [0 0 1]\n",
      "Prediction:  [[5.8854907e-04 9.9930334e-01 1.0807095e-04]]\n",
      "Actual:  [0 1 0]\n",
      "Prediction:  [[0.9915236  0.00700689 0.00146948]]\n",
      "Actual:  [1 0 0]\n",
      "Prediction:  [[0.00663155 0.9922949  0.00107363]]\n",
      "Actual:  [0 1 0]\n",
      "Prediction:  [[3.048291e-03 9.964373e-01 5.145115e-04]]\n",
      "Actual:  [0 1 0]\n",
      "Prediction:  [[0.9823903  0.01465658 0.00295311]]\n",
      "Actual:  [1 0 0]\n",
      "Prediction:  [[0.00174214 0.00149762 0.9967603 ]]\n",
      "Actual:  [0 0 1]\n",
      "Prediction:  [[0.9808514  0.01607297 0.00307565]]\n",
      "Actual:  [1 0 0]\n",
      "Prediction:  [[0.02125238 0.97562873 0.00311896]]\n",
      "Actual:  [0 1 0]\n",
      "Prediction:  [[0.9871509  0.01074558 0.00210349]]\n",
      "Actual:  [1 0 0]\n",
      "Prediction:  [[0.99377984 0.00512745 0.00109272]]\n",
      "Actual:  [1 0 0]\n",
      "Prediction:  [[0.02026984 0.9766308  0.00309948]]\n",
      "Actual:  [0 1 0]\n",
      "Prediction:  [[0.01877568 0.97834694 0.00287732]]\n",
      "Actual:  [0 1 0]\n",
      "Prediction:  [[0.00317405 0.00237497 0.994451  ]]\n",
      "Actual:  [0 0 1]\n",
      "Prediction:  [[0.0151527  0.9822527  0.00259452]]\n",
      "Actual:  [0 1 0]\n",
      "Prediction:  [[0.02291922 0.97388965 0.00319111]]\n",
      "Actual:  [0 1 0]\n",
      "Prediction:  [[0.01353564 0.9844007  0.00206373]]\n",
      "Actual:  [0 1 0]\n",
      "Prediction:  [[0.9817401 0.0152582 0.0030017]]\n",
      "Actual:  [1 0 0]\n",
      "Prediction:  [[0.02805392 0.968002   0.00394405]]\n",
      "Actual:  [0 1 0]\n",
      "Prediction:  [[0.9841188  0.01341774 0.00246338]]\n",
      "Actual:  [1 0 0]\n",
      "Prediction:  [[0.00988456 0.9884206  0.00169489]]\n",
      "Actual:  [0 1 0]\n",
      "Prediction:  [[0.98689216 0.01109767 0.00201021]]\n",
      "Actual:  [1 0 0]\n",
      "Prediction:  [[2.1754615e-03 9.9737346e-01 4.5107014e-04]]\n",
      "Actual:  [0 1 0]\n",
      "Prediction:  [[0.9834609  0.01384746 0.00269161]]\n",
      "Actual:  [1 0 0]\n",
      "Prediction:  [[0.00762341 0.9910602  0.00131635]]\n",
      "Actual:  [0 1 0]\n",
      "Prediction:  [[0.01042409 0.98781383 0.00176212]]\n",
      "Actual:  [0 1 0]\n",
      "Prediction:  [[0.9876177  0.0102545  0.00212787]]\n",
      "Actual:  [1 0 0]\n",
      "Prediction:  [[0.98371893 0.01378245 0.00249869]]\n",
      "Actual:  [1 0 0]\n",
      "Prediction:  [[0.9916305  0.00692686 0.00144262]]\n",
      "Actual:  [1 0 0]\n",
      "Prediction:  [[0.0205701  0.9764544  0.00297564]]\n",
      "Actual:  [0 1 0]\n",
      "Prediction:  [[0.9825133  0.01470671 0.0027799 ]]\n",
      "Actual:  [1 0 0]\n",
      "Prediction:  [[0.99218893 0.00645998 0.00135106]]\n",
      "Actual:  [1 0 0]\n",
      "Prediction:  [[0.98950887 0.008683   0.00180805]]\n",
      "Actual:  [1 0 0]\n",
      "Prediction:  [[0.99198043 0.00659192 0.00142772]]\n",
      "Actual:  [1 0 0]\n",
      "Prediction:  [[0.98812497 0.01014416 0.00173089]]\n",
      "Actual:  [1 0 0]\n",
      "Prediction:  [[0.00988904 0.9886622  0.00144872]]\n",
      "Actual:  [0 1 0]\n",
      "Prediction:  [[0.00783684 0.9909785  0.00118466]]\n",
      "Actual:  [0 1 0]\n",
      "Prediction:  [[0.9835059  0.01376914 0.00272499]]\n",
      "Actual:  [1 0 0]\n",
      "Prediction:  [[0.0137187  0.9845353  0.00174609]]\n",
      "Actual:  [0 1 0]\n",
      "Prediction:  [[0.0111417  0.98733705 0.00152122]]\n",
      "Actual:  [0 1 0]\n",
      "Prediction:  [[8.0177357e-04 9.9906176e-01 1.3650059e-04]]\n",
      "Actual:  [0 1 0]\n",
      "Prediction:  [[0.99037385 0.0081176  0.00150854]]\n",
      "Actual:  [1 0 0]\n",
      "Prediction:  [[0.00777013 0.9908942  0.00133566]]\n",
      "Actual:  [0 1 0]\n",
      "Prediction:  [[0.02931865 0.9667108  0.00397057]]\n",
      "Actual:  [0 1 0]\n",
      "Prediction:  [[0.01035626 0.987961   0.00168274]]\n",
      "Actual:  [0 1 0]\n",
      "Prediction:  [[0.9824409  0.01475169 0.00280743]]\n",
      "Actual:  [1 0 0]\n",
      "Prediction:  [[0.98484325 0.01256663 0.00259014]]\n",
      "Actual:  [1 0 0]\n",
      "Prediction:  [[0.9787846  0.01756936 0.00364601]]\n",
      "Actual:  [1 0 0]\n",
      "Prediction:  [[0.991092   0.00749324 0.00141472]]\n",
      "Actual:  [1 0 0]\n",
      "Prediction:  [[0.01610334 0.9813433  0.00255327]]\n",
      "Actual:  [0 1 0]\n",
      "Prediction:  [[0.99020505 0.00836739 0.0014276 ]]\n",
      "Actual:  [1 0 0]\n",
      "Prediction:  [[5.7989899e-03 9.9330783e-01 8.9323637e-04]]\n",
      "Actual:  [0 1 0]\n",
      "Prediction:  [[0.01908914 0.9780644  0.00284645]]\n",
      "Actual:  [0 1 0]\n",
      "Prediction:  [[0.00995973 0.9882366  0.00180361]]\n",
      "Actual:  [0 1 0]\n",
      "Prediction:  [[0.99086773 0.00751472 0.00161757]]\n",
      "Actual:  [1 0 0]\n",
      "Prediction:  [[0.98213595 0.01508417 0.00277982]]\n",
      "Actual:  [1 0 0]\n",
      "Prediction:  [[0.02678771 0.9689483  0.00426391]]\n",
      "Actual:  [0 1 0]\n",
      "Prediction:  [[0.9843178  0.01315131 0.00253096]]\n",
      "Actual:  [1 0 0]\n",
      "Prediction:  [[0.01471964 0.98316133 0.00211896]]\n",
      "Actual:  [0 1 0]\n",
      "Prediction:  [[0.9813045  0.01548238 0.00321316]]\n",
      "Actual:  [1 0 0]\n",
      "Prediction:  [[3.7393479e-03 9.9558073e-01 6.7995110e-04]]\n",
      "Actual:  [0 1 0]\n",
      "Prediction:  [[2.2399372e-04 1.8227867e-04 9.9959379e-01]]\n",
      "Actual:  [0 0 1]\n",
      "Prediction:  [[0.9927779  0.00590511 0.00131703]]\n",
      "Actual:  [1 0 0]\n",
      "Prediction:  [[6.0945456e-03 9.9297214e-01 9.3326962e-04]]\n",
      "Actual:  [0 1 0]\n",
      "Prediction:  [[0.9837594  0.01363351 0.00260709]]\n",
      "Actual:  [1 0 0]\n",
      "Prediction:  [[0.01943425 0.9775889  0.00297684]]\n",
      "Actual:  [0 1 0]\n",
      "Prediction:  [[5.8709423e-04 9.9929547e-01 1.1750234e-04]]\n",
      "Actual:  [0 1 0]\n",
      "Prediction:  [[0.9880773  0.00997588 0.0019468 ]]\n",
      "Actual:  [1 0 0]\n",
      "Prediction:  [[0.028301   0.9674278  0.00427117]]\n",
      "Actual:  [0 1 0]\n"
     ]
    }
   ],
   "source": [
    "accuracy = 0\n",
    "count = 0\n",
    "for i in range(132):\n",
    "    prediction = model.predict(X_train[i].reshape(1, -1), verbose = 'False')\n",
    "    print(\"Prediction: \", prediction)\n",
    "    print(\"Actual: \", y_train[i])\n",
    "    if accuracyof1(prediction, y_train[i]):\n",
    "        accuracy += 1\n",
    "    count += 1\n",
    "accuracy = (accuracy/count)*100"
   ]
  },
  {
   "cell_type": "code",
   "execution_count": 12,
   "id": "a8fb69cf",
   "metadata": {
    "execution": {
     "iopub.execute_input": "2024-04-15T15:48:01.173733Z",
     "iopub.status.busy": "2024-04-15T15:48:01.173356Z",
     "iopub.status.idle": "2024-04-15T15:48:01.178909Z",
     "shell.execute_reply": "2024-04-15T15:48:01.177786Z"
    },
    "papermill": {
     "duration": 0.032126,
     "end_time": "2024-04-15T15:48:01.181425",
     "exception": false,
     "start_time": "2024-04-15T15:48:01.149299",
     "status": "completed"
    },
    "tags": []
   },
   "outputs": [
    {
     "name": "stdout",
     "output_type": "stream",
     "text": [
      "We have achieved 100.0 % accuracy.\n"
     ]
    }
   ],
   "source": [
    "print(\"We have achieved\", accuracy, \"% accuracy.\")"
   ]
  },
  {
   "cell_type": "code",
   "execution_count": 13,
   "id": "225c50a3",
   "metadata": {
    "execution": {
     "iopub.execute_input": "2024-04-15T15:48:01.228887Z",
     "iopub.status.busy": "2024-04-15T15:48:01.228350Z",
     "iopub.status.idle": "2024-04-15T15:48:01.234460Z",
     "shell.execute_reply": "2024-04-15T15:48:01.233320Z"
    },
    "papermill": {
     "duration": 0.032554,
     "end_time": "2024-04-15T15:48:01.236637",
     "exception": false,
     "start_time": "2024-04-15T15:48:01.204083",
     "status": "completed"
    },
    "tags": []
   },
   "outputs": [],
   "source": [
    "#this converts the numerical prediction to an easily understandable output\n",
    "def reformPrediction(prediction):\n",
    "    max_index = np.argmax(prediction)\n",
    "    if max_index == 0:\n",
    "        return \"Algorithm 1\"\n",
    "    elif max_index == 1:\n",
    "        return \"Algorithm 2\"\n",
    "    elif max_index == 2:\n",
    "        return \"Unpacked\"\n",
    "    else:\n",
    "        return \"Error\""
   ]
  },
  {
   "cell_type": "markdown",
   "id": "b2cb4fbe",
   "metadata": {
    "papermill": {
     "duration": 0.022368,
     "end_time": "2024-04-15T15:48:01.281805",
     "exception": false,
     "start_time": "2024-04-15T15:48:01.259437",
     "status": "completed"
    },
    "tags": []
   },
   "source": [
    "# Stage 3: Explainability"
   ]
  },
  {
   "cell_type": "markdown",
   "id": "c19e2215",
   "metadata": {
    "papermill": {
     "duration": 0.022399,
     "end_time": "2024-04-15T15:48:01.326961",
     "exception": false,
     "start_time": "2024-04-15T15:48:01.304562",
     "status": "completed"
    },
    "tags": []
   },
   "source": [
    "First we will examine the model using maximum weights for inputs."
   ]
  },
  {
   "cell_type": "code",
   "execution_count": 14,
   "id": "c14a7e23",
   "metadata": {
    "execution": {
     "iopub.execute_input": "2024-04-15T15:48:01.375142Z",
     "iopub.status.busy": "2024-04-15T15:48:01.373861Z",
     "iopub.status.idle": "2024-04-15T15:48:01.386629Z",
     "shell.execute_reply": "2024-04-15T15:48:01.385555Z"
    },
    "papermill": {
     "duration": 0.039402,
     "end_time": "2024-04-15T15:48:01.389054",
     "exception": false,
     "start_time": "2024-04-15T15:48:01.349652",
     "status": "completed"
    },
    "tags": []
   },
   "outputs": [
    {
     "data": {
      "text/plain": [
       "(54872, 3)"
      ]
     },
     "execution_count": 14,
     "metadata": {},
     "output_type": "execute_result"
    }
   ],
   "source": [
    "first_layer_weights = model.layers[0].get_weights()[0] #we only need first layer weights\n",
    "first_layer_weights.shape"
   ]
  },
  {
   "cell_type": "code",
   "execution_count": 15,
   "id": "59321d73",
   "metadata": {
    "execution": {
     "iopub.execute_input": "2024-04-15T15:48:01.437016Z",
     "iopub.status.busy": "2024-04-15T15:48:01.436613Z",
     "iopub.status.idle": "2024-04-15T15:48:01.443721Z",
     "shell.execute_reply": "2024-04-15T15:48:01.442691Z"
    },
    "papermill": {
     "duration": 0.033586,
     "end_time": "2024-04-15T15:48:01.446176",
     "exception": false,
     "start_time": "2024-04-15T15:48:01.412590",
     "status": "completed"
    },
    "tags": []
   },
   "outputs": [],
   "source": [
    "def get_max(idx): #gets max absolute value weight\n",
    "    return abs(max(first_layer_weights[idx], key = abs)) #pandas really likes applying functions\n",
    "l = len(charlist)\n",
    "def get_string_back(value): #this gets the original string from the index\n",
    "    index_0 = value // (l*l)\n",
    "    index_1 = (value // l) % l\n",
    "    index_2 = value % l\n",
    "    original_string = charlist[index_0] + charlist[index_1] + charlist[index_2]\n",
    "    return original_string "
   ]
  },
  {
   "cell_type": "code",
   "execution_count": 16,
   "id": "14570c06",
   "metadata": {
    "execution": {
     "iopub.execute_input": "2024-04-15T15:48:01.493867Z",
     "iopub.status.busy": "2024-04-15T15:48:01.493459Z",
     "iopub.status.idle": "2024-04-15T15:48:01.519121Z",
     "shell.execute_reply": "2024-04-15T15:48:01.518150Z"
    },
    "papermill": {
     "duration": 0.052412,
     "end_time": "2024-04-15T15:48:01.521605",
     "exception": false,
     "start_time": "2024-04-15T15:48:01.469193",
     "status": "completed"
    },
    "tags": []
   },
   "outputs": [
    {
     "data": {
      "text/html": [
       "<div>\n",
       "<style scoped>\n",
       "    .dataframe tbody tr th:only-of-type {\n",
       "        vertical-align: middle;\n",
       "    }\n",
       "\n",
       "    .dataframe tbody tr th {\n",
       "        vertical-align: top;\n",
       "    }\n",
       "\n",
       "    .dataframe thead th {\n",
       "        text-align: right;\n",
       "    }\n",
       "</style>\n",
       "<table border=\"1\" class=\"dataframe\">\n",
       "  <thead>\n",
       "    <tr style=\"text-align: right;\">\n",
       "      <th></th>\n",
       "      <th>name</th>\n",
       "      <th>vector</th>\n",
       "      <th>algo1</th>\n",
       "      <th>algo2</th>\n",
       "      <th>unpacked</th>\n",
       "      <th>enumerated</th>\n",
       "      <th>Y</th>\n",
       "    </tr>\n",
       "  </thead>\n",
       "  <tbody>\n",
       "    <tr>\n",
       "      <th>0</th>\n",
       "      <td>initdirectory/script1.py</td>\n",
       "      <td>{'ave', 'in*', '#s*', 'lik', 'at#', '*an', 'at...</td>\n",
       "      <td>0</td>\n",
       "      <td>0</td>\n",
       "      <td>1</td>\n",
       "      <td>[0, 0, 0, 0, 0, 0, 0, 0, 0, 0, 0, 0, 0, 0, 0, ...</td>\n",
       "      <td>[0, 0, 1]</td>\n",
       "    </tr>\n",
       "    <tr>\n",
       "      <th>1</th>\n",
       "      <td>initdirectory/script2.py</td>\n",
       "      <td>{'#pl', 'es#', 'rre', 'f*w', 'ef*', 's#5', 's#...</td>\n",
       "      <td>0</td>\n",
       "      <td>0</td>\n",
       "      <td>1</td>\n",
       "      <td>[0, 0, 0, 0, 0, 0, 0, 0, 0, 0, 0, 0, 0, 0, 0, ...</td>\n",
       "      <td>[0, 0, 1]</td>\n",
       "    </tr>\n",
       "    <tr>\n",
       "      <th>2</th>\n",
       "      <td>initdirectory/script3.py</td>\n",
       "      <td>{'ame', 'r*n', 'nre', 'lik', 'our', 'at*', 'im...</td>\n",
       "      <td>0</td>\n",
       "      <td>0</td>\n",
       "      <td>1</td>\n",
       "      <td>[0, 0, 0, 0, 0, 0, 0, 0, 0, 0, 0, 0, 0, 0, 0, ...</td>\n",
       "      <td>[0, 0, 1]</td>\n",
       "    </tr>\n",
       "    <tr>\n",
       "      <th>3</th>\n",
       "      <td>initdirectory/script4.py</td>\n",
       "      <td>{'d#*', 'oti', 'snu', '#pl', 'our', 'at*', '*a...</td>\n",
       "      <td>0</td>\n",
       "      <td>0</td>\n",
       "      <td>1</td>\n",
       "      <td>[0, 0, 0, 0, 0, 0, 0, 0, 0, 0, 0, 0, 0, 0, 0, ...</td>\n",
       "      <td>[0, 0, 1]</td>\n",
       "    </tr>\n",
       "    <tr>\n",
       "      <th>4</th>\n",
       "      <td>initdirectory/script5.py</td>\n",
       "      <td>{'usl', 'y#4', '*ga', '*qu', 'p#2', 'fre', 'oi...</td>\n",
       "      <td>0</td>\n",
       "      <td>0</td>\n",
       "      <td>1</td>\n",
       "      <td>[0, 0, 0, 0, 0, 0, 0, 0, 0, 0, 0, 0, 0, 0, 0, ...</td>\n",
       "      <td>[0, 0, 1]</td>\n",
       "    </tr>\n",
       "  </tbody>\n",
       "</table>\n",
       "</div>"
      ],
      "text/plain": [
       "                       name  \\\n",
       "0  initdirectory/script1.py   \n",
       "1  initdirectory/script2.py   \n",
       "2  initdirectory/script3.py   \n",
       "3  initdirectory/script4.py   \n",
       "4  initdirectory/script5.py   \n",
       "\n",
       "                                              vector  algo1  algo2  unpacked  \\\n",
       "0  {'ave', 'in*', '#s*', 'lik', 'at#', '*an', 'at...      0      0         1   \n",
       "1  {'#pl', 'es#', 'rre', 'f*w', 'ef*', 's#5', 's#...      0      0         1   \n",
       "2  {'ame', 'r*n', 'nre', 'lik', 'our', 'at*', 'im...      0      0         1   \n",
       "3  {'d#*', 'oti', 'snu', '#pl', 'our', 'at*', '*a...      0      0         1   \n",
       "4  {'usl', 'y#4', '*ga', '*qu', 'p#2', 'fre', 'oi...      0      0         1   \n",
       "\n",
       "                                          enumerated          Y  \n",
       "0  [0, 0, 0, 0, 0, 0, 0, 0, 0, 0, 0, 0, 0, 0, 0, ...  [0, 0, 1]  \n",
       "1  [0, 0, 0, 0, 0, 0, 0, 0, 0, 0, 0, 0, 0, 0, 0, ...  [0, 0, 1]  \n",
       "2  [0, 0, 0, 0, 0, 0, 0, 0, 0, 0, 0, 0, 0, 0, 0, ...  [0, 0, 1]  \n",
       "3  [0, 0, 0, 0, 0, 0, 0, 0, 0, 0, 0, 0, 0, 0, 0, ...  [0, 0, 1]  \n",
       "4  [0, 0, 0, 0, 0, 0, 0, 0, 0, 0, 0, 0, 0, 0, 0, ...  [0, 0, 1]  "
      ]
     },
     "execution_count": 16,
     "metadata": {},
     "output_type": "execute_result"
    }
   ],
   "source": [
    "df.head()"
   ]
  },
  {
   "cell_type": "code",
   "execution_count": 17,
   "id": "307ec2a9",
   "metadata": {
    "execution": {
     "iopub.execute_input": "2024-04-15T15:48:01.570713Z",
     "iopub.status.busy": "2024-04-15T15:48:01.570338Z",
     "iopub.status.idle": "2024-04-15T15:48:01.584858Z",
     "shell.execute_reply": "2024-04-15T15:48:01.583963Z"
    },
    "papermill": {
     "duration": 0.041975,
     "end_time": "2024-04-15T15:48:01.587284",
     "exception": false,
     "start_time": "2024-04-15T15:48:01.545309",
     "status": "completed"
    },
    "tags": []
   },
   "outputs": [],
   "source": [
    "df2 = pd.DataFrame(df['vector'])\n",
    "df2['nonzero indices'] = df2['vector'].apply(np.nonzero).map(lambda x: x[0]) #gets the indices of values that are 1 / nonzero\n",
    "df2['max weight'] = df2['nonzero indices'].apply(lambda x: np.max(np.abs(first_layer_weights[x]),axis=1)) #finds the max weight of each of these nonzero indices"
   ]
  },
  {
   "cell_type": "markdown",
   "id": "86285cac",
   "metadata": {
    "papermill": {
     "duration": 0.022893,
     "end_time": "2024-04-15T15:48:01.633165",
     "exception": false,
     "start_time": "2024-04-15T15:48:01.610272",
     "status": "completed"
    },
    "tags": []
   },
   "source": [
    "### Algorithm 1 Files"
   ]
  },
  {
   "cell_type": "code",
   "execution_count": 18,
   "id": "a3e90733",
   "metadata": {
    "execution": {
     "iopub.execute_input": "2024-04-15T15:48:01.681722Z",
     "iopub.status.busy": "2024-04-15T15:48:01.680844Z",
     "iopub.status.idle": "2024-04-15T15:48:01.763039Z",
     "shell.execute_reply": "2024-04-15T15:48:01.762043Z"
    },
    "papermill": {
     "duration": 0.108956,
     "end_time": "2024-04-15T15:48:01.765550",
     "exception": false,
     "start_time": "2024-04-15T15:48:01.656594",
     "status": "completed"
    },
    "scrolled": true,
    "tags": []
   },
   "outputs": [
    {
     "data": {
      "text/html": [
       "<div>\n",
       "<style scoped>\n",
       "    .dataframe tbody tr th:only-of-type {\n",
       "        vertical-align: middle;\n",
       "    }\n",
       "\n",
       "    .dataframe tbody tr th {\n",
       "        vertical-align: top;\n",
       "    }\n",
       "\n",
       "    .dataframe thead th {\n",
       "        text-align: right;\n",
       "    }\n",
       "</style>\n",
       "<table border=\"1\" class=\"dataframe\">\n",
       "  <thead>\n",
       "    <tr style=\"text-align: right;\">\n",
       "      <th></th>\n",
       "      <th>enumerated</th>\n",
       "      <th>nonzero indices</th>\n",
       "    </tr>\n",
       "  </thead>\n",
       "  <tbody>\n",
       "    <tr>\n",
       "      <th>20</th>\n",
       "      <td>[0, 0, 0, 0, 0, 0, 0, 0, 0, 0, 0, 0, 0, 0, 0, ...</td>\n",
       "      <td>([492, 1404, 1528, 2848, 3228, 4308, 12956, 14...</td>\n",
       "    </tr>\n",
       "    <tr>\n",
       "      <th>21</th>\n",
       "      <td>[0, 0, 0, 0, 0, 0, 0, 0, 0, 0, 0, 0, 0, 0, 0, ...</td>\n",
       "      <td>([1404, 1528, 2848, 3228, 4292, 5752, 10714, 1...</td>\n",
       "    </tr>\n",
       "    <tr>\n",
       "      <th>22</th>\n",
       "      <td>[0, 0, 0, 0, 0, 0, 0, 0, 0, 0, 0, 0, 0, 0, 0, ...</td>\n",
       "      <td>([36, 568, 1404, 1528, 2848, 3228, 4292, 5736,...</td>\n",
       "    </tr>\n",
       "    <tr>\n",
       "      <th>23</th>\n",
       "      <td>[0, 0, 0, 0, 0, 0, 0, 0, 0, 0, 0, 0, 0, 0, 0, ...</td>\n",
       "      <td>([74, 606, 1528, 2848, 3228, 4292, 5736, 7180,...</td>\n",
       "    </tr>\n",
       "    <tr>\n",
       "      <th>24</th>\n",
       "      <td>[0, 0, 0, 0, 0, 0, 0, 0, 0, 0, 0, 0, 0, 0, 0, ...</td>\n",
       "      <td>([112, 1404, 1480, 1528, 3228, 4292, 5736, 718...</td>\n",
       "    </tr>\n",
       "    <tr>\n",
       "      <th>...</th>\n",
       "      <td>...</td>\n",
       "      <td>...</td>\n",
       "    </tr>\n",
       "    <tr>\n",
       "      <th>205</th>\n",
       "      <td>[0, 0, 0, 0, 0, 0, 0, 0, 0, 0, 0, 0, 0, 0, 0, ...</td>\n",
       "      <td>([36, 74, 112, 188, 1404, 1518, 1528, 2848, 32...</td>\n",
       "    </tr>\n",
       "    <tr>\n",
       "      <th>206</th>\n",
       "      <td>[0, 0, 0, 0, 0, 0, 0, 0, 0, 0, 0, 0, 0, 0, 0, ...</td>\n",
       "      <td>([36, 74, 112, 150, 226, 1404, 1528, 1556, 284...</td>\n",
       "    </tr>\n",
       "    <tr>\n",
       "      <th>207</th>\n",
       "      <td>[0, 0, 0, 0, 0, 0, 0, 0, 0, 0, 0, 0, 0, 0, 0, ...</td>\n",
       "      <td>([36, 74, 112, 150, 188, 264, 1404, 1528, 1594...</td>\n",
       "    </tr>\n",
       "    <tr>\n",
       "      <th>208</th>\n",
       "      <td>[0, 0, 0, 0, 0, 0, 0, 0, 0, 0, 0, 0, 0, 0, 0, ...</td>\n",
       "      <td>([36, 74, 112, 150, 188, 226, 302, 1404, 1420,...</td>\n",
       "    </tr>\n",
       "    <tr>\n",
       "      <th>209</th>\n",
       "      <td>[0, 0, 0, 0, 0, 0, 0, 0, 0, 0, 0, 0, 0, 0, 0, ...</td>\n",
       "      <td>([36, 74, 112, 150, 188, 226, 264, 340, 1404, ...</td>\n",
       "    </tr>\n",
       "  </tbody>\n",
       "</table>\n",
       "<p>100 rows × 2 columns</p>\n",
       "</div>"
      ],
      "text/plain": [
       "                                            enumerated  \\\n",
       "20   [0, 0, 0, 0, 0, 0, 0, 0, 0, 0, 0, 0, 0, 0, 0, ...   \n",
       "21   [0, 0, 0, 0, 0, 0, 0, 0, 0, 0, 0, 0, 0, 0, 0, ...   \n",
       "22   [0, 0, 0, 0, 0, 0, 0, 0, 0, 0, 0, 0, 0, 0, 0, ...   \n",
       "23   [0, 0, 0, 0, 0, 0, 0, 0, 0, 0, 0, 0, 0, 0, 0, ...   \n",
       "24   [0, 0, 0, 0, 0, 0, 0, 0, 0, 0, 0, 0, 0, 0, 0, ...   \n",
       "..                                                 ...   \n",
       "205  [0, 0, 0, 0, 0, 0, 0, 0, 0, 0, 0, 0, 0, 0, 0, ...   \n",
       "206  [0, 0, 0, 0, 0, 0, 0, 0, 0, 0, 0, 0, 0, 0, 0, ...   \n",
       "207  [0, 0, 0, 0, 0, 0, 0, 0, 0, 0, 0, 0, 0, 0, 0, ...   \n",
       "208  [0, 0, 0, 0, 0, 0, 0, 0, 0, 0, 0, 0, 0, 0, 0, ...   \n",
       "209  [0, 0, 0, 0, 0, 0, 0, 0, 0, 0, 0, 0, 0, 0, 0, ...   \n",
       "\n",
       "                                       nonzero indices  \n",
       "20   ([492, 1404, 1528, 2848, 3228, 4308, 12956, 14...  \n",
       "21   ([1404, 1528, 2848, 3228, 4292, 5752, 10714, 1...  \n",
       "22   ([36, 568, 1404, 1528, 2848, 3228, 4292, 5736,...  \n",
       "23   ([74, 606, 1528, 2848, 3228, 4292, 5736, 7180,...  \n",
       "24   ([112, 1404, 1480, 1528, 3228, 4292, 5736, 718...  \n",
       "..                                                 ...  \n",
       "205  ([36, 74, 112, 188, 1404, 1518, 1528, 2848, 32...  \n",
       "206  ([36, 74, 112, 150, 226, 1404, 1528, 1556, 284...  \n",
       "207  ([36, 74, 112, 150, 188, 264, 1404, 1528, 1594...  \n",
       "208  ([36, 74, 112, 150, 188, 226, 302, 1404, 1420,...  \n",
       "209  ([36, 74, 112, 150, 188, 226, 264, 340, 1404, ...  \n",
       "\n",
       "[100 rows x 2 columns]"
      ]
     },
     "execution_count": 18,
     "metadata": {},
     "output_type": "execute_result"
    }
   ],
   "source": [
    "df4 = pd.DataFrame(df.loc[df['algo1'] == 1]['enumerated'])#this is a selection of the algorithm 1 files\n",
    "df4 = df4.rename(columns = {0: 'enumerated'}) \n",
    "def nonzero(row):\n",
    "    return np.nonzero(np.array(row))\n",
    "df4['nonzero indices'] = df4['enumerated'].apply(nonzero) \n",
    "df4"
   ]
  },
  {
   "cell_type": "code",
   "execution_count": 19,
   "id": "786457f4",
   "metadata": {
    "execution": {
     "iopub.execute_input": "2024-04-15T15:48:01.814784Z",
     "iopub.status.busy": "2024-04-15T15:48:01.814375Z",
     "iopub.status.idle": "2024-04-15T15:48:01.839647Z",
     "shell.execute_reply": "2024-04-15T15:48:01.838189Z"
    },
    "papermill": {
     "duration": 0.05319,
     "end_time": "2024-04-15T15:48:01.842375",
     "exception": false,
     "start_time": "2024-04-15T15:48:01.789185",
     "status": "completed"
    },
    "scrolled": true,
    "tags": []
   },
   "outputs": [
    {
     "data": {
      "text/html": [
       "<div>\n",
       "<style scoped>\n",
       "    .dataframe tbody tr th:only-of-type {\n",
       "        vertical-align: middle;\n",
       "    }\n",
       "\n",
       "    .dataframe tbody tr th {\n",
       "        vertical-align: top;\n",
       "    }\n",
       "\n",
       "    .dataframe thead th {\n",
       "        text-align: right;\n",
       "    }\n",
       "</style>\n",
       "<table border=\"1\" class=\"dataframe\">\n",
       "  <thead>\n",
       "    <tr style=\"text-align: right;\">\n",
       "      <th></th>\n",
       "      <th>idx</th>\n",
       "      <th>max weight</th>\n",
       "    </tr>\n",
       "  </thead>\n",
       "  <tbody>\n",
       "    <tr>\n",
       "      <th>3</th>\n",
       "      <td>54797</td>\n",
       "      <td>0.030222</td>\n",
       "    </tr>\n",
       "    <tr>\n",
       "      <th>106</th>\n",
       "      <td>53388</td>\n",
       "      <td>0.030203</td>\n",
       "    </tr>\n",
       "    <tr>\n",
       "      <th>21</th>\n",
       "      <td>54812</td>\n",
       "      <td>0.029829</td>\n",
       "    </tr>\n",
       "    <tr>\n",
       "      <th>90</th>\n",
       "      <td>53372</td>\n",
       "      <td>0.029575</td>\n",
       "    </tr>\n",
       "    <tr>\n",
       "      <th>4</th>\n",
       "      <td>54798</td>\n",
       "      <td>0.029358</td>\n",
       "    </tr>\n",
       "    <tr>\n",
       "      <th>...</th>\n",
       "      <td>...</td>\n",
       "      <td>...</td>\n",
       "    </tr>\n",
       "    <tr>\n",
       "      <th>218</th>\n",
       "      <td>19316</td>\n",
       "      <td>0.011349</td>\n",
       "    </tr>\n",
       "    <tr>\n",
       "      <th>68</th>\n",
       "      <td>52818</td>\n",
       "      <td>0.010922</td>\n",
       "    </tr>\n",
       "    <tr>\n",
       "      <th>89</th>\n",
       "      <td>5752</td>\n",
       "      <td>0.010573</td>\n",
       "    </tr>\n",
       "    <tr>\n",
       "      <th>140</th>\n",
       "      <td>54468</td>\n",
       "      <td>0.008532</td>\n",
       "    </tr>\n",
       "    <tr>\n",
       "      <th>184</th>\n",
       "      <td>53383</td>\n",
       "      <td>0.005012</td>\n",
       "    </tr>\n",
       "  </tbody>\n",
       "</table>\n",
       "<p>275 rows × 2 columns</p>\n",
       "</div>"
      ],
      "text/plain": [
       "       idx  max weight\n",
       "3    54797    0.030222\n",
       "106  53388    0.030203\n",
       "21   54812    0.029829\n",
       "90   53372    0.029575\n",
       "4    54798    0.029358\n",
       "..     ...         ...\n",
       "218  19316    0.011349\n",
       "68   52818    0.010922\n",
       "89    5752    0.010573\n",
       "140  54468    0.008532\n",
       "184  53383    0.005012\n",
       "\n",
       "[275 rows x 2 columns]"
      ]
     },
     "execution_count": 19,
     "metadata": {},
     "output_type": "execute_result"
    }
   ],
   "source": [
    "possible_nonzeros = set()\n",
    "for row in df4['nonzero indices']:\n",
    "    for item in row:\n",
    "        possible_nonzeros.update(item)\n",
    "df4 = pd.DataFrame(possible_nonzeros)\n",
    "df4 = df4.rename(columns ={0: 'idx'})\n",
    "df4['max weight'] = df4['idx'].apply(get_max)\n",
    "df4.sort_values(by='max weight', ascending=False)"
   ]
  },
  {
   "cell_type": "code",
   "execution_count": 20,
   "id": "1d7f5bbe",
   "metadata": {
    "execution": {
     "iopub.execute_input": "2024-04-15T15:48:01.893108Z",
     "iopub.status.busy": "2024-04-15T15:48:01.892719Z",
     "iopub.status.idle": "2024-04-15T15:48:02.273846Z",
     "shell.execute_reply": "2024-04-15T15:48:02.272264Z"
    },
    "papermill": {
     "duration": 0.409146,
     "end_time": "2024-04-15T15:48:02.276308",
     "exception": false,
     "start_time": "2024-04-15T15:48:01.867162",
     "status": "completed"
    },
    "scrolled": true,
    "tags": []
   },
   "outputs": [
    {
     "data": {
      "text/plain": [
       "Text(0.5, 1.0, 'Top 100 weights (Algorithm 1 files)')"
      ]
     },
     "execution_count": 20,
     "metadata": {},
     "output_type": "execute_result"
    },
    {
     "data": {
      "image/png": "[encoded data removed]",
      "text/plain": [
       "<Figure size 640x480 with 1 Axes>"
      ]
     },
     "metadata": {},
     "output_type": "display_data"
    }
   ],
   "source": [
    "df4['original string'] = df4['idx'].apply(get_string_back)\n",
    "df4.sort_values(by = 'max weight', ascending = False)\n",
    "M = df4.sort_values(by = 'max weight', ascending = False)\n",
    "plt.scatter(M['idx'][:100], M['max weight'][:100])\n",
    "plt.title(\"Top 100 weights (Algorithm 1 files)\")"
   ]
  },
  {
   "cell_type": "markdown",
   "id": "0a681cdf",
   "metadata": {
    "papermill": {
     "duration": 0.024567,
     "end_time": "2024-04-15T15:48:02.326181",
     "exception": false,
     "start_time": "2024-04-15T15:48:02.301614",
     "status": "completed"
    },
    "tags": []
   },
   "source": [
    "### Algorithm 2 Files"
   ]
  },
  {
   "cell_type": "code",
   "execution_count": 21,
   "id": "8dcecdbe",
   "metadata": {
    "execution": {
     "iopub.execute_input": "2024-04-15T15:48:02.377888Z",
     "iopub.status.busy": "2024-04-15T15:48:02.376752Z",
     "iopub.status.idle": "2024-04-15T15:48:02.748685Z",
     "shell.execute_reply": "2024-04-15T15:48:02.747874Z"
    },
    "papermill": {
     "duration": 0.400139,
     "end_time": "2024-04-15T15:48:02.750785",
     "exception": false,
     "start_time": "2024-04-15T15:48:02.350646",
     "status": "completed"
    },
    "scrolled": true,
    "tags": []
   },
   "outputs": [
    {
     "data": {
      "text/plain": [
       "Text(0.5, 1.0, 'Top 100 weights (Algorithm 2 files)')"
      ]
     },
     "execution_count": 21,
     "metadata": {},
     "output_type": "execute_result"
    },
    {
     "data": {
      "image/png": "[encoded data removed]",
      "text/plain": [
       "<Figure size 640x480 with 1 Axes>"
      ]
     },
     "metadata": {},
     "output_type": "display_data"
    }
   ],
   "source": [
    "df5 = pd.DataFrame(df.loc[df['algo2'] == 1]['enumerated'])#this is a selection of the algorithm 2 files\n",
    "df5 = df5.rename(columns = {0: 'enumerated'}) \n",
    "def nonzero(row):\n",
    "    return np.nonzero(np.array(row))\n",
    "df5['nonzero indices'] = df5['enumerated'].apply(nonzero) \n",
    "possible_nonzeros = set()\n",
    "for row in df5['nonzero indices']:\n",
    "    for item in row:\n",
    "        possible_nonzeros.update(item)\n",
    "df5 = pd.DataFrame(possible_nonzeros)\n",
    "df5 = df5.rename(columns ={0: 'idx'})\n",
    "df5['max weight'] = df5['idx'].apply(get_max)\n",
    "df5['original string'] = df5['idx'].apply(get_string_back)\n",
    "N = df5.sort_values(by = 'max weight', ascending = False)\n",
    "plt.scatter(N['idx'][:100], N['max weight'][:100])\n",
    "plt.title(\"Top 100 weights (Algorithm 2 files)\")"
   ]
  },
  {
   "cell_type": "code",
   "execution_count": 22,
   "id": "33f7f579",
   "metadata": {
    "execution": {
     "iopub.execute_input": "2024-04-15T15:48:02.803524Z",
     "iopub.status.busy": "2024-04-15T15:48:02.802488Z",
     "iopub.status.idle": "2024-04-15T15:48:03.136251Z",
     "shell.execute_reply": "2024-04-15T15:48:03.135085Z"
    },
    "papermill": {
     "duration": 0.362813,
     "end_time": "2024-04-15T15:48:03.138718",
     "exception": false,
     "start_time": "2024-04-15T15:48:02.775905",
     "status": "completed"
    },
    "scrolled": true,
    "tags": []
   },
   "outputs": [
    {
     "data": {
      "image/png": "[encoded data removed]",
      "text/plain": [
       "<Figure size 640x480 with 1 Axes>"
      ]
     },
     "metadata": {},
     "output_type": "display_data"
    }
   ],
   "source": [
    "plt.scatter(M['idx'][:100], M['max weight'][:100], c='red', marker = '^')\n",
    "plt.scatter(N['idx'][:100], N['max weight'][:100], c = 'green', marker = '*')\n",
    "plt.title('Max Weights by Type')\n",
    "plt.xlabel('Index')\n",
    "plt.ylabel('Max Weight')\n",
    "plt.legend([\"Algorithm 1\", 'Algorithm 2'], bbox_to_anchor = (1 , 1))\n",
    "plt.show() #it's a chart"
   ]
  },
  {
   "cell_type": "code",
   "execution_count": 23,
   "id": "59fa82f6",
   "metadata": {
    "execution": {
     "iopub.execute_input": "2024-04-15T15:48:03.192730Z",
     "iopub.status.busy": "2024-04-15T15:48:03.192118Z",
     "iopub.status.idle": "2024-04-15T15:48:03.203627Z",
     "shell.execute_reply": "2024-04-15T15:48:03.201673Z"
    },
    "papermill": {
     "duration": 0.041157,
     "end_time": "2024-04-15T15:48:03.205864",
     "exception": false,
     "start_time": "2024-04-15T15:48:03.164707",
     "status": "completed"
    },
    "scrolled": true,
    "tags": []
   },
   "outputs": [
    {
     "name": "stdout",
     "output_type": "stream",
     "text": [
      "       idx  max weight original string\n",
      "3    54797    0.030222             *#1\n",
      "106  53388    0.030203             ###\n",
      "21   54812    0.029829             *#g\n",
      "90   53372    0.029575             ##k\n",
      "4    54798    0.029358             *#2\n",
      "36   54822    0.029153             *#q\n",
      "147  36060    0.029092             o##\n",
      "116  52377    0.029069             #ad\n",
      "159  11512    0.029010             7##\n",
      "2    54796    0.028947             *#0\n",
      "235  54831    0.028554             *#z\n",
      "182  52514    0.028484             #d#\n",
      "197  52552    0.028427             #e#\n",
      "6    54800    0.028259             *#4\n",
      "41   54827    0.028072             *#v\n",
      "216  35695    0.028006             ord\n",
      "26   38948    0.027974             q##\n",
      "28   54818    0.027574             *#m\n",
      "18   54809    0.027530             *#d\n",
      "204  54817    0.027505             *#l\n",
      "240   8624    0.027463             5##\n",
      "110  47654    0.027417             x02\n",
      "253  53198    0.027310             #v#\n",
      "141   4292    0.027292             2##\n",
      "242  52666    0.027265             #h#\n",
      "20   54811    0.027230             *#f\n",
      "105  47653    0.027126             x01\n",
      "49   47667    0.027086             x0f\n",
      "43   54829    0.027072             *#x\n",
      "33   54820    0.027056             *#o\n",
      "217  40305    0.026925             ryp\n",
      "29   23079    0.026837             f*d\n",
      "201  10068    0.026707             6##\n",
      "149    226    0.026699             05#\n",
      "211  19302    0.026636             dd#\n",
      "11   54803    0.026425             *#7\n",
      "81    5736    0.026408             3##\n",
      "64   47691    0.026328             x11\n",
      "269  53236    0.026089             #w#\n",
      "37   54823    0.026020             *#r\n",
      "8    54801    0.025764             *#5\n",
      "173  18709    0.025725             c#d\n",
      "111  53384    0.025637             ##w\n",
      "207  25952    0.025630             h##\n",
      "104  52362    0.025593             #9#\n",
      "57   48196    0.025569             xec\n",
      "35   54821    0.025541             *#p\n",
      "76    1632    0.025523             14#\n",
      "72   54871    0.025415             ***\n",
      "118  53403    0.025397             #*d\n",
      "166    264    0.025327             06#\n",
      "103  53385    0.025265             ##x\n",
      "161  52476    0.025191             #c#\n",
      "248  40393    0.025116             r#*\n",
      "96   53375    0.025095             ##n\n",
      "261    492    0.025076             0c#\n",
      "44   54830    0.025055             *#y\n",
      "60      74    0.025031             01#\n",
      "222  54824    0.025016             *#s\n",
      "151  51944    0.024990             z##\n",
      "40   54826    0.024978             *#u\n",
      "174  54804    0.024968             *#8\n",
      "5    54799    0.024921             *#3\n",
      "223   1404    0.024921             0##\n",
      "146  20699    0.024919             ecr\n",
      "78   52324    0.024917             #8#\n",
      "213  41836    0.024893             s##\n",
      "144  52438    0.024853             #b#\n",
      "125  28840    0.024836             j##\n",
      "10   54802    0.024768             *#6\n",
      "7     7180    0.024700             4##\n",
      "74   39518    0.024676             rd#\n",
      "142  20176    0.024582             d##\n",
      "265  31728    0.024543             l##\n",
      "117  47656    0.024522             x04\n",
      "176  27416    0.024502             i*i\n",
      "134     36    0.024501             00#\n",
      "263  40430    0.024492             r*#\n",
      "80   53350    0.024444             #z#\n",
      "52   54847    0.024432             **d\n",
      "158  43256    0.024418             t#c\n",
      "170  43280    0.024416             t##\n",
      "205  52058    0.024368             #1#\n",
      "247  40392    0.024340             r##\n",
      "237  52134    0.024330             #3#\n",
      "266   1519    0.024299             11*\n",
      "12   54806    0.024297             *#a\n",
      "112  53386    0.024224             ##y\n",
      "150  20708    0.024201             ec#\n",
      "257  39899    0.024197             rn*\n",
      "152  52457    0.024157             #ch\n",
      "232  52628    0.024140             #g#\n",
      "183  53382    0.024100             ##u\n",
      "62   30284    0.024050             k##\n",
      "42   54828    0.024008             *#w\n",
      "84   53362    0.023941             ##a\n",
      "255  18388    0.023857             cry\n",
      "98   53377    0.023838             ##p\n",
      "271  53239    0.023768             #x1\n",
      "251  52172    0.023727             #4#\n"
     ]
    }
   ],
   "source": [
    "print(M[:100].to_string())"
   ]
  },
  {
   "cell_type": "code",
   "execution_count": 24,
   "id": "5e15cc66",
   "metadata": {
    "execution": {
     "iopub.execute_input": "2024-04-15T15:48:03.260747Z",
     "iopub.status.busy": "2024-04-15T15:48:03.259733Z",
     "iopub.status.idle": "2024-04-15T15:48:03.271457Z",
     "shell.execute_reply": "2024-04-15T15:48:03.269633Z"
    },
    "papermill": {
     "duration": 0.041197,
     "end_time": "2024-04-15T15:48:03.273685",
     "exception": false,
     "start_time": "2024-04-15T15:48:03.232488",
     "status": "completed"
    },
    "scrolled": true,
    "tags": []
   },
   "outputs": [
    {
     "name": "stdout",
     "output_type": "stream",
     "text": [
      "       idx  max weight original string\n",
      "813   5936    0.031056             448\n",
      "767   5816    0.030256             412\n",
      "678  54797    0.030222             *#1\n",
      "379   2896    0.029911             208\n",
      "749   5776    0.029876             400\n",
      "869  10220    0.029708             72#\n",
      "417   2966    0.029656             222\n",
      "162   4444    0.029615             32#\n",
      "12      38    0.029562             010\n",
      "679  54798    0.029358             *#2\n",
      "340  27380    0.029326             i#k\n",
      "48   53399    0.029219             #*9\n",
      "111  53512    0.029058             *28\n",
      "68   28878    0.029034             j*#\n",
      "838   6042    0.029000             470\n",
      "148  53580    0.028912             *40\n",
      "179  53624    0.028751             *56\n",
      "644   1484    0.028679             112\n",
      "622   1445    0.028625             101\n",
      "160  53589    0.028566             *49\n",
      "43   53394    0.028542             #*4\n",
      "825   6002    0.028530             45#\n",
      "751   5780    0.028506             404\n",
      "865   6116    0.028480             48#\n",
      "209   4529    0.028412             357\n",
      "104  53506    0.028392             *22\n",
      "245  53741    0.028372             *89\n",
      "77   53468    0.028270             *12\n",
      "681  54800    0.028259             *#4\n",
      "843  10144    0.028231             70#\n",
      "50     152    0.028127             040\n",
      "134  53550    0.028065             *38\n",
      "261  53771    0.027974             *91\n",
      "842   6047    0.027884             475\n",
      "262  53772    0.027882             *92\n",
      "695   1566    0.027881             138\n",
      "539   7332    0.027832             52#\n",
      "453   3042    0.027832             242\n",
      "154  53585    0.027806             *45\n",
      "398   2934    0.027768             218\n",
      "855   6084    0.027760             484\n",
      "481  13338    0.027738             990\n",
      "447  52179    0.027691             #55\n",
      "643   1482    0.027580             110\n",
      "516   7263    0.027552             515\n",
      "282   8744    0.027546             624\n",
      "707   1597    0.027508             141\n",
      "226   4565    0.027487             365\n",
      "346   8972    0.027368             684\n",
      "668   1526    0.027361             126\n",
      "782   5852    0.027300             420\n",
      "169   4452    0.027127             336\n",
      "805   5896    0.027105             436\n",
      "830   6012    0.027086             468\n",
      "332  13032    0.027061             90#\n",
      "40   53391    0.027057             #*1\n",
      "167   4448    0.027055             332\n",
      "138   4406    0.027053             31#\n",
      "765   5814    0.027050             410\n",
      "669   1525    0.026993             125\n",
      "189   4489    0.026988             345\n",
      "35   10372    0.026986             76#\n",
      "727   1634    0.026940             150\n",
      "440   3010    0.026940             238\n",
      "562   7415    0.026931             555\n",
      "604  40305    0.026925             ryp\n",
      "391   2926    0.026889             210\n",
      "101  43262    0.026854             t#i\n",
      "281  23079    0.026837             f*d\n",
      "490   3116    0.026825             260\n",
      "172  53618    0.026809             *50\n",
      "594   7526    0.026748             582\n",
      "163   4446    0.026728             330\n",
      "174  53620    0.026701             *52\n",
      "86     226    0.026699             05#\n",
      "732   1640    0.026699             156\n",
      "149  53581    0.026698             *41\n",
      "836   6040    0.026694             46#\n",
      "818   5967    0.026694             451\n",
      "537   3232    0.026592             292\n",
      "361   9009    0.026550             693\n",
      "173  53619    0.026511             *51\n",
      "186   4486    0.026451             342\n",
      "649   1490    0.026443             118\n",
      "222   4558    0.026433             35#\n",
      "684  54803    0.026425             *#7\n",
      "260  53770    0.026391             *90\n",
      "715  54853    0.026338             **j\n",
      "480  52250    0.026305             #70\n",
      "240  53736    0.026250             *84\n",
      "299   4710    0.026230             39#\n",
      "191  53656    0.026229             *60\n",
      "215  53698    0.026204             *74\n",
      "372   2888    0.026203             200\n",
      "755   5784    0.026167             408\n",
      "85   53475    0.026155             *19\n",
      "529   3200    0.026153             288\n",
      "584  11588    0.026142             80#\n",
      "76   53467    0.026110             *11\n",
      "776   1752    0.026101             184\n"
     ]
    }
   ],
   "source": [
    "print(N[:100].to_string())"
   ]
  },
  {
   "cell_type": "markdown",
   "id": "e92d4743",
   "metadata": {
    "papermill": {
     "duration": 0.037778,
     "end_time": "2024-04-15T15:48:03.337885",
     "exception": false,
     "start_time": "2024-04-15T15:48:03.300107",
     "status": "completed"
    },
    "tags": []
   },
   "source": [
    "## Coloring Top Ten Values"
   ]
  },
  {
   "cell_type": "code",
   "execution_count": 25,
   "id": "629ab97e",
   "metadata": {
    "execution": {
     "iopub.execute_input": "2024-04-15T15:48:03.392879Z",
     "iopub.status.busy": "2024-04-15T15:48:03.392499Z",
     "iopub.status.idle": "2024-04-15T15:48:03.401865Z",
     "shell.execute_reply": "2024-04-15T15:48:03.400752Z"
    },
    "papermill": {
     "duration": 0.039775,
     "end_time": "2024-04-15T15:48:03.404239",
     "exception": false,
     "start_time": "2024-04-15T15:48:03.364464",
     "status": "completed"
    },
    "tags": []
   },
   "outputs": [],
   "source": [
    "def fileDeal(file): #converts a file to just lowercase letters and changes all non-alpha characters to # (spaces are *)\n",
    "    nfile = \"\"\n",
    "    for char in file:\n",
    "        if char.isalpha():\n",
    "            nfile += char.lower()\n",
    "        elif char.isnumeric():\n",
    "            nfile += char\n",
    "        elif char.isspace():\n",
    "            nfile += \"*\"\n",
    "        else:\n",
    "            nfile += \"#\"\n",
    "    return nfile\n",
    "\n",
    "def makeVector(file): #this converts the character string to a set of all of the three-character combinations that are in the character string\n",
    "    newfile = fileDeal(file)\n",
    "    featureSet = set(())\n",
    "    i = 0\n",
    "    while i < (len(newfile)-2):\n",
    "        featureSet.add(newfile[i:i+3])\n",
    "        i+=1\n",
    "    return featureSet\n",
    "\n",
    "import re\n",
    "from colorama import Fore, init, Back, Style\n",
    "\n",
    "def regexpressionmaker(sequence):\n",
    "    newregex = '' \n",
    "    for char in sequence:\n",
    "        if char == '#' or char == '*': #sometimes things are weird\n",
    "            newregex += r'\\W' #this should keep the backslash where it is\n",
    "        else:\n",
    "            newregex += char #numbers and letters\n",
    "    return newregex"
   ]
  },
  {
   "cell_type": "code",
   "execution_count": 26,
   "id": "b8e5f032",
   "metadata": {
    "execution": {
     "iopub.execute_input": "2024-04-15T15:48:03.458692Z",
     "iopub.status.busy": "2024-04-15T15:48:03.458331Z",
     "iopub.status.idle": "2024-04-15T15:48:03.468784Z",
     "shell.execute_reply": "2024-04-15T15:48:03.467926Z"
    },
    "papermill": {
     "duration": 0.040233,
     "end_time": "2024-04-15T15:48:03.470964",
     "exception": false,
     "start_time": "2024-04-15T15:48:03.430731",
     "status": "completed"
    },
    "tags": []
   },
   "outputs": [],
   "source": [
    "def HighlightTopWeights(f, num, verbose):\n",
    "    if num <= 0:\n",
    "        print(\"Error\")\n",
    "        return\n",
    "    with open(f) as file:\n",
    "        fil = file.read()\n",
    "    file = fileDeal(fil)\n",
    "    v = str(makeVector(file))\n",
    "    v = np.array(transformVector(v))\n",
    "    v = v.reshape(1, -1)\n",
    "    nonz = nonzero(v) #gets the nonzero indices of the vector\n",
    "    nonzdf = pd.DataFrame(nonz)\n",
    "    nonzdf = nonzdf.transpose() #switches x and y axes\n",
    "    #this is not absolute value because there are very few negative weights\n",
    "    nonzdf['max weight'] = nonzdf[1].apply(get_max)\n",
    "    #same thing here no absolute value\n",
    "    ranked = nonzdf.sort_values(by = 'max weight', ascending = False)[:num] #get the top # of the max weights\n",
    "    ranked['original str'] = ranked[1].apply(get_string_back)\n",
    "    \n",
    "    #this segment makes the regular expressions from the strings\n",
    "    sequences = list(ranked['original str'])\n",
    "    regexes = []\n",
    "    for seq in sequences:\n",
    "        regexes.append(regexpressionmaker(seq))\n",
    "    sep = '|'\n",
    "    regexes = sep.join(regexes)\n",
    "    regexes = '(' + regexes + ')'\n",
    "    regex = re.compile(regexes)\n",
    "    \n",
    "    if verbose:\n",
    "        print(re.sub(regex, Fore.RED+ r'\\1' + Fore.RESET, fil))\n",
    "    return regex"
   ]
  },
  {
   "cell_type": "code",
   "execution_count": 27,
   "id": "26aa2c24",
   "metadata": {
    "execution": {
     "iopub.execute_input": "2024-04-15T15:48:03.526321Z",
     "iopub.status.busy": "2024-04-15T15:48:03.525913Z",
     "iopub.status.idle": "2024-04-15T15:48:03.570963Z",
     "shell.execute_reply": "2024-04-15T15:48:03.569893Z"
    },
    "papermill": {
     "duration": 0.078088,
     "end_time": "2024-04-15T15:48:03.575480",
     "exception": false,
     "start_time": "2024-04-15T15:48:03.497392",
     "status": "completed"
    },
    "scrolled": true,
    "tags": []
   },
   "outputs": [
    {
     "name": "stdout",
     "output_type": "stream",
     "text": [
      "\n",
      "def d\u001b[31mecr\u001b[39mypt(f\u001b[31m, k\u001b[39m\u001b[31m):\n",
      "\u001b[39m\u001b[31m   \u001b[39m\u001b[31m   \u001b[39m  d\u001b[31mecr\u001b[39mypted\u001b[31m = \u001b[39m\u001b[31m\"\"\n",
      "\u001b[39m\u001b[31m   \u001b[39m\u001b[31m   \u001b[39m  f\u001b[31mor \u001b[39mi in f\u001b[31m:\n",
      " \u001b[39m\u001b[31m   \u001b[39m\u001b[31m   \u001b[39m\u001b[31m   \u001b[39m  d\u001b[31mecr\u001b[39mypted\u001b[31m = \u001b[39md\u001b[31mecr\u001b[39mypted.__add__(chr((\u001b[31mord\u001b[39m(i\u001b[31m)-k\u001b[39m)%128\u001b[31m))\n",
      "\u001b[39m\u001b[31m   \u001b[39m\u001b[31m   \u001b[39m  return d\u001b[31mecr\u001b[39mypted\u001b[31m\n",
      "  \u001b[39m\u001b[31m   \u001b[39m\u001b[31m   \u001b[39m\n",
      "cipher\u001b[31m = \u001b[39m\u001b[31m['k\u001b[39m\u001b[31m', \u001b[39m'\u001b[31mo',\u001b[39m 'r\u001b[31m', \u001b[39m'\u001b[31mq',\u001b[39m 't\u001b[31m', \u001b[39m\u001b[31m'v'\u001b[39m\u001b[31m, '\u001b[39m\u001b[31m\"',\u001b[39m '\u001b[31mq',\u001b[39m 'u\u001b[31m', \u001b[39m\u001b[31m'\\x\u001b[39m\u001b[31m0c'\u001b[39m\u001b[31m, '\u001b[39mk\u001b[31m', \u001b[39m'\u001b[31mo',\u001b[39m 'r\u001b[31m', \u001b[39m'\u001b[31mq',\u001b[39m 't\u001b[31m', \u001b[39m\u001b[31m'v'\u001b[39m\u001b[31m, '\u001b[39m\u001b[31m\"',\u001b[39m 't\u001b[31m', \u001b[39m\u001b[31m'c'\u001b[39m\u001b[31m, '\u001b[39mp\u001b[31m', \u001b[39m'f\u001b[31m', \u001b[39m'\u001b[31mq',\u001b[39m '\u001b[31mo',\u001b[39m\u001b[31m '\\\u001b[39mx\u001b[31m0c'\u001b[39m\u001b[31m, '\u001b[39mf\u001b[31m', \u001b[39m'g\u001b[31m', \u001b[39m\u001b[31m'h'\u001b[39m\u001b[31m, '\u001b[39m\u001b[31m\"',\u001b[39m 'j\u001b[31m', \u001b[39m\u001b[31m'c'\u001b[39m\u001b[31m, '\u001b[39mp\u001b[31m', \u001b[39m'i\u001b[31m', \u001b[39m'\u001b[31mo',\u001b[39m \u001b[31m'c'\u001b[39m\u001b[31m, '\u001b[39mp\u001b[31m', \u001b[39m\u001b[31m'*'\u001b[39m\u001b[31m, '\u001b[39my\u001b[31m', \u001b[39m'\u001b[31mq',\u001b[39m 't\u001b[31m', \u001b[39m'f\u001b[31m', \u001b[39m\u001b[31m'.'\u001b[39m\u001b[31m, '\u001b[39m\u001b[31m\"',\u001b[39m 'y\u001b[31m', \u001b[39m't\u001b[31m', \u001b[39m'\u001b[31mq',\u001b[39m 'p\u001b[31m', \u001b[39m'i\u001b[31m', \u001b[39m'u\u001b[31m', \u001b[39m\u001b[31m'.'\u001b[39m\u001b[31m, '\u001b[39m\u001b[31m\"',\u001b[39m 't\u001b[31m', \u001b[39m'k\u001b[31m', \u001b[39m'i\u001b[31m', \u001b[39m'j\u001b[31m', \u001b[39m\u001b[31m'v'\u001b[39m\u001b[31m, '\u001b[39mu\u001b[31m', \u001b[39m\u001b[31m'.'\u001b[39m\u001b[31m, '\u001b[39m\u001b[31m\"',\u001b[39m\u001b[31m 'n\u001b[39m\u001b[31m', \u001b[39m'g\u001b[31m', \u001b[39m\u001b[31m'v'\u001b[39m\u001b[31m, '\u001b[39mv\u001b[31m', \u001b[39m'g\u001b[31m', \u001b[39m't\u001b[31m', \u001b[39m'u\u001b[31m', \u001b[39m\u001b[31m'+'\u001b[39m\u001b[31m, '\u001b[39m\u001b[31m<',\u001b[39m\u001b[31m '\\\u001b[39mx\u001b[31m0c'\u001b[39m\u001b[31m, '\u001b[39m\u001b[31m\"',\u001b[39m\u001b[31m '\"\u001b[39m\u001b[31m', \u001b[39m\u001b[31m'\"'\u001b[39m\u001b[31m, '\u001b[39m\u001b[31m\"',\u001b[39m\u001b[31m 'k\u001b[39m\u001b[31m', \u001b[39m\u001b[31m'h'\u001b[39m\u001b[31m, '\u001b[39m\u001b[31m\"',\u001b[39m 'y\u001b[31m', \u001b[39m't\u001b[31m', \u001b[39m'\u001b[31mq',\u001b[39m 'p\u001b[31m', \u001b[39m'i\u001b[31m', \u001b[39m'u\u001b[31m', \u001b[39m\u001b[31m'@'\u001b[39m\u001b[31m, '\u001b[39m\u001b[31m2',\u001b[39m\u001b[31m '<\u001b[39m\u001b[31m', \u001b[39m\u001b[31m'\\x\u001b[39m\u001b[31m0c'\u001b[39m\u001b[31m, '\u001b[39m\u001b[31m\"',\u001b[39m\u001b[31m '\"\u001b[39m\u001b[31m', \u001b[39m\u001b[31m'\"'\u001b[39m\u001b[31m, '\u001b[39m\u001b[31m\"',\u001b[39m\u001b[31m '\"\u001b[39m\u001b[31m', \u001b[39m\u001b[31m'\"'\u001b[39m\u001b[31m, '\u001b[39m\u001b[31m\"',\u001b[39m\u001b[31m '\"\u001b[39m\u001b[31m', \u001b[39m'r\u001b[31m', \u001b[39m't\u001b[31m', \u001b[39m'k\u001b[31m', \u001b[39m'p\u001b[31m', \u001b[39m\u001b[31m'v'\u001b[39m\u001b[31m, '\u001b[39m\u001b[31m*',\u001b[39m\u001b[31m '$\u001b[39m\u001b[31m', \u001b[39m'K\u001b[31m', \u001b[39m'p\u001b[31m', \u001b[39m\u001b[31m'e'\u001b[39m\u001b[31m, '\u001b[39m\u001b[31mq',\u001b[39m 't\u001b[31m', \u001b[39m't\u001b[31m', \u001b[39m'g\u001b[31m', \u001b[39m\u001b[31m'e'\u001b[39m\u001b[31m, '\u001b[39mv\u001b[31m', \u001b[39m\u001b[31m'\"'\u001b[39m\u001b[31m, '\u001b[39mi\u001b[31m', \u001b[39m\u001b[31m'w'\u001b[39m\u001b[31m, '\u001b[39mg\u001b[31m', \u001b[39m'u\u001b[31m', \u001b[39m'u\u001b[31m', \u001b[39m'g\u001b[31m', \u001b[39m'u\u001b[31m', \u001b[39m\u001b[31m'<'\u001b[39m\u001b[31m, '\u001b[39m\u001b[31m\"',\u001b[39m\u001b[31m '$\u001b[39m\u001b[31m', \u001b[39m\u001b[31m'.'\u001b[39m\u001b[31m, '\u001b[39m\u001b[31m\"',\u001b[39m\u001b[31m 'n\u001b[39m\u001b[31m', \u001b[39m'g\u001b[31m', \u001b[39m\u001b[31m'v'\u001b[39m\u001b[31m, '\u001b[39mv\u001b[31m', \u001b[39m'g\u001b[31m', \u001b[39m't\u001b[31m', \u001b[39m'u\u001b[31m', \u001b[39m\u001b[31m'+'\u001b[39m\u001b[31m, '\u001b[39m\\x\u001b[31m0c'\u001b[39m\u001b[31m, '\u001b[39m\u001b[31m\"',\u001b[39m\u001b[31m '\"\u001b[39m\u001b[31m', \u001b[39m\u001b[31m'\"'\u001b[39m\u001b[31m, '\u001b[39m\u001b[31m\"',\u001b[39m\u001b[31m '%\u001b[39m\u001b[31m', \u001b[39m\u001b[31m'%'\u001b[39m\u001b[31m, '\u001b[39m\u001b[31mo',\u001b[39m \u001b[31m'c'\u001b[39m\u001b[31m, '\u001b[39mm\u001b[31m', \u001b[39m'g\u001b[31m', \u001b[39m\u001b[31m'\"'\u001b[39m\u001b[31m, '\u001b[39mv\u001b[31m', \u001b[39m'j\u001b[31m', \u001b[39m'g\u001b[31m', \u001b[39m\u001b[31m'\"'\u001b[39m\u001b[31m, '\u001b[39mp\u001b[31m', \u001b[39m'\u001b[31mq',\u001b[39m '\u001b[31mq',\u001b[39m 'u\u001b[31m', \u001b[39m'g\u001b[31m', \u001b[39m'1\u001b[31m', \u001b[39m'j\u001b[31m', \u001b[39m\u001b[31m'c'\u001b[39m\u001b[31m, '\u001b[39mp\u001b[31m', \u001b[39m'i\u001b[31m', \u001b[39m'\u001b[31mo',\u001b[39m \u001b[31m'c'\u001b[39m\u001b[31m, '\u001b[39mp\u001b[31m', \u001b[39m\u001b[31m'\\x\u001b[39m\u001b[31m0c'\u001b[39m\u001b[31m, '\u001b[39m\u001b[31m\"',\u001b[39m\u001b[31m '\"\u001b[39m\u001b[31m', \u001b[39m\u001b[31m'\"'\u001b[39m\u001b[31m, '\u001b[39m\u001b[31m\"',\u001b[39m 'r\u001b[31m', \u001b[39m't\u001b[31m', \u001b[39m'k\u001b[31m', \u001b[39m'p\u001b[31m', \u001b[39m\u001b[31m'v'\u001b[39m\u001b[31m, '\u001b[39m\u001b[31m*',\u001b[39m\u001b[31m '$\u001b[39m\u001b[31m', \u001b[39m\u001b[31m'\"'\u001b[39m\u001b[31m, '\u001b[39m\u001b[31m\"',\u001b[39m 'a\u001b[31m', \u001b[39m'a\u001b[31m', \u001b[39m'a\u001b[31m', \u001b[39m'a\u001b[31m', \u001b[39m'a\u001b[31m', \u001b[39m'a\u001b[31m', \u001b[39m'a\u001b[31m', \u001b[39m'a\u001b[31m', \u001b[39m'a\u001b[31m', \u001b[39m'a\u001b[31m', \u001b[39m'a\u001b[31m', \u001b[39m'a\u001b[31m', \u001b[39m'a\u001b[31m', \u001b[39m'a\u001b[31m', \u001b[39m'a\u001b[31m', \u001b[39m'a\u001b[31m', \u001b[39m'a\u001b[31m', \u001b[39m'a\u001b[31m', \u001b[39m\u001b[31m'^'\u001b[39m\u001b[31m, '\u001b[39mp\u001b[31m', \u001b[39m\u001b[31m'\"'\u001b[39m\u001b[31m, '\u001b[39m\u001b[31m~',\u001b[39m\u001b[31m '\"\u001b[39m\u001b[31m', \u001b[39m\u001b[31m'\"'\u001b[39m\u001b[31m, '\u001b[39m\u001b[31m\"',\u001b[39m\u001b[31m '\"\u001b[39m\u001b[31m', \u001b[39m\u001b[31m'\"'\u001b[39m\u001b[31m, '\u001b[39m\u001b[31m\"',\u001b[39m\u001b[31m '\"\u001b[39m\u001b[31m', \u001b[39m\u001b[31m'\"'\u001b[39m\u001b[31m, '\u001b[39m\u001b[31m\"',\u001b[39m\u001b[31m '\"\u001b[39m\u001b[31m', \u001b[39m\u001b[31m'\"'\u001b[39m\u001b[31m, '\u001b[39m\u001b[31m\"',\u001b[39m\u001b[31m '\"\u001b[39m\u001b[31m', \u001b[39m\u001b[31m'\"'\u001b[39m\u001b[31m, '\u001b[39m\u001b[31m\"',\u001b[39m\u001b[31m '\"\u001b[39m\u001b[31m', \u001b[39m\u001b[31m'\"'\u001b[39m\u001b[31m, '\u001b[39m\u001b[31m\"',\u001b[39m\u001b[31m '~\u001b[39m\u001b[31m', \u001b[39m\u001b[31m'^'\u001b[39m\u001b[31m, '\u001b[39mp\u001b[31m', \u001b[39m\u001b[31m'\"'\u001b[39m\u001b[31m, '\u001b[39m\u001b[31m~',\u001b[39m\u001b[31m '\"\u001b[39m\u001b[31m', \u001b[39m\u001b[31m'\"'\u001b[39m\u001b[31m, '\u001b[39m\u001b[31m\"',\u001b[39m\u001b[31m '\"\u001b[39m\u001b[31m', \u001b[39m\u001b[31m'\"'\u001b[39m\u001b[31m, '\u001b[39m\u001b[31m\"',\u001b[39m\u001b[31m '\"\u001b[39m\u001b[31m', \u001b[39m\u001b[31m'\"'\u001b[39m\u001b[31m, '\u001b[39m\u001b[31m\"',\u001b[39m\u001b[31m '\"\u001b[39m\u001b[31m', \u001b[39m\u001b[31m'\"'\u001b[39m\u001b[31m, '\u001b[39m\u001b[31m\"',\u001b[39m\u001b[31m '\"\u001b[39m\u001b[31m', \u001b[39m\u001b[31m'\"'\u001b[39m\u001b[31m, '\u001b[39m\u001b[31m\"',\u001b[39m\u001b[31m '\"\u001b[39m\u001b[31m', \u001b[39m\u001b[31m'\"'\u001b[39m\u001b[31m, '\u001b[39m\u001b[31m\"',\u001b[39m\u001b[31m '~\u001b[39m\u001b[31m', \u001b[39m\u001b[31m'$'\u001b[39m\u001b[31m, '\u001b[39m\u001b[31m+',\u001b[39m\u001b[31m '\\\u001b[39mx\u001b[31m0c'\u001b[39m\u001b[31m, '\u001b[39m\u001b[31m\"',\u001b[39m\u001b[31m '\"\u001b[39m\u001b[31m', \u001b[39m\u001b[31m'\"'\u001b[39m\u001b[31m, '\u001b[39m\u001b[31m\"',\u001b[39m\u001b[31m 'k\u001b[39m\u001b[31m', \u001b[39m\u001b[31m'h'\u001b[39m\u001b[31m, '\u001b[39m\u001b[31m\"',\u001b[39m 'y\u001b[31m', \u001b[39m't\u001b[31m', \u001b[39m'\u001b[31mq',\u001b[39m 'p\u001b[31m', \u001b[39m'i\u001b[31m', \u001b[39m'u\u001b[31m', \u001b[39m\u001b[31m'@'\u001b[39m\u001b[31m, '\u001b[39m\u001b[31m2',\u001b[39m\u001b[31m '<\u001b[39m\u001b[31m', \u001b[39m\u001b[31m'\\x\u001b[39m\u001b[31m0c'\u001b[39m\u001b[31m, '\u001b[39m\u001b[31m\"',\u001b[39m\u001b[31m '\"\u001b[39m\u001b[31m', \u001b[39m\u001b[31m'\"'\u001b[39m\u001b[31m, '\u001b[39m\u001b[31m\"',\u001b[39m\u001b[31m '\"\u001b[39m\u001b[31m', \u001b[39m\u001b[31m'\"'\u001b[39m\u001b[31m, '\u001b[39m\u001b[31m\"',\u001b[39m\u001b[31m '\"\u001b[39m\u001b[31m', \u001b[39m'r\u001b[31m', \u001b[39m't\u001b[31m', \u001b[39m'k\u001b[31m', \u001b[39m'p\u001b[31m', \u001b[39m\u001b[31m'v'\u001b[39m\u001b[31m, '\u001b[39m\u001b[31m*',\u001b[39m\u001b[31m '$\u001b[39m\u001b[31m', \u001b[39m\u001b[31m'\"'\u001b[39m\u001b[31m, '\u001b[39m\u001b[31m~',\u001b[39m\u001b[31m '\"\u001b[39m\u001b[31m', \u001b[39m\u001b[31m'\"'\u001b[39m\u001b[31m, '\u001b[39m\u001b[31m\"',\u001b[39m\u001b[31m '\"\u001b[39m\u001b[31m', \u001b[39m\u001b[31m'\"'\u001b[39m\u001b[31m, '\u001b[39m\u001b[31m\"',\u001b[39m\u001b[31m '\"\u001b[39m\u001b[31m', \u001b[39m\u001b[31m'\"'\u001b[39m\u001b[31m, '\u001b[39m\u001b[31m\"',\u001b[39m\u001b[31m '\"\u001b[39m\u001b[31m', \u001b[39m\u001b[31m'\"'\u001b[39m\u001b[31m, '\u001b[39m\u001b[31m\"',\u001b[39m\u001b[31m '\"\u001b[39m\u001b[31m', \u001b[39m\u001b[31m'\"'\u001b[39m\u001b[31m, '\u001b[39m\u001b[31m\"',\u001b[39m\u001b[31m '\"\u001b[39m\u001b[31m', \u001b[39m\u001b[31m'\"'\u001b[39m\u001b[31m, '\u001b[39m\u001b[31m\"',\u001b[39m 'Q\u001b[31m', \u001b[39m\u001b[31m'$'\u001b[39m\u001b[31m, '\u001b[39m\u001b[31m+',\u001b[39m\u001b[31m '\\\u001b[39mx\u001b[31m0c'\u001b[39m\u001b[31m, '\u001b[39m\u001b[31m\"',\u001b[39m\u001b[31m '\"\u001b[39m\u001b[31m', \u001b[39m\u001b[31m'\"'\u001b[39m\u001b[31m, '\u001b[39m\u001b[31m\"',\u001b[39m\u001b[31m 'k\u001b[39m\u001b[31m', \u001b[39m\u001b[31m'h'\u001b[39m\u001b[31m, '\u001b[39m\u001b[31m\"',\u001b[39m 'y\u001b[31m', \u001b[39m't\u001b[31m', \u001b[39m'\u001b[31mq',\u001b[39m 'p\u001b[31m', \u001b[39m'i\u001b[31m', \u001b[39m'u\u001b[31m', \u001b[39m\u001b[31m'@'\u001b[39m\u001b[31m, '\u001b[39m\u001b[31m3',\u001b[39m\u001b[31m '\"\u001b[39m\u001b[31m', \u001b[39m\u001b[31m'c'\u001b[39m\u001b[31m, '\u001b[39mp\u001b[31m', \u001b[39m'f\u001b[31m', \u001b[39m\u001b[31m'\"'\u001b[39m\u001b[31m, '\u001b[39my\u001b[31m', \u001b[39m't\u001b[31m', \u001b[39m'\u001b[31mq',\u001b[39m 'p\u001b[31m', \u001b[39m'i\u001b[31m', \u001b[39m'u\u001b[31m', \u001b[39m\u001b[31m'>'\u001b[39m\u001b[31m, '\u001b[39m\u001b[31m7',\u001b[39m\u001b[31m '<\u001b[39m\u001b[31m', \u001b[39m\u001b[31m'\\x\u001b[39m\u001b[31m0c'\u001b[39m\u001b[31m, '\u001b[39m\u001b[31m\"',\u001b[39m\u001b[31m '\"\u001b[39m\u001b[31m', \u001b[39m\u001b[31m'\"'\u001b[39m\u001b[31m, '\u001b[39m\u001b[31m\"',\u001b[39m\u001b[31m '\"\u001b[39m\u001b[31m', \u001b[39m\u001b[31m'\"'\u001b[39m\u001b[31m, '\u001b[39m\u001b[31m\"',\u001b[39m\u001b[31m '\"\u001b[39m\u001b[31m', \u001b[39m'r\u001b[31m', \u001b[39m't\u001b[31m', \u001b[39m'k\u001b[31m', \u001b[39m'p\u001b[31m', \u001b[39m\u001b[31m'v'\u001b[39m\u001b[31m, '\u001b[39m\u001b[31m*',\u001b[39m\u001b[31m '$\u001b[39m\u001b[31m', \u001b[39m\u001b[31m'\"'\u001b[39m\u001b[31m, '\u001b[39m\u001b[31m~',\u001b[39m\u001b[31m '\"\u001b[39m\u001b[31m', \u001b[39m\u001b[31m'\"'\u001b[39m\u001b[31m, '\u001b[39m\u001b[31m\"',\u001b[39m\u001b[31m '\"\u001b[39m\u001b[31m', \u001b[39m\u001b[31m'\"'\u001b[39m\u001b[31m, '\u001b[39m\u001b[31m\"',\u001b[39m\u001b[31m '\"\u001b[39m\u001b[31m', \u001b[39m\u001b[31m'\"'\u001b[39m\u001b[31m, '\u001b[39m\u001b[31m\"',\u001b[39m\u001b[31m '\"\u001b[39m\u001b[31m', \u001b[39m\u001b[31m'\"'\u001b[39m\u001b[31m, '\u001b[39m\u001b[31m\"',\u001b[39m\u001b[31m '\"\u001b[39m\u001b[31m', \u001b[39m\u001b[31m'\"'\u001b[39m\u001b[31m, '\u001b[39m\u001b[31m\"',\u001b[39m\u001b[31m '\"\u001b[39m\u001b[31m', \u001b[39m\u001b[31m'\"'\u001b[39m\u001b[31m, '\u001b[39m\u001b[31m\"',\u001b[39m\u001b[31m '~\u001b[39m\u001b[31m', \u001b[39m\u001b[31m'$'\u001b[39m\u001b[31m, '\u001b[39m\u001b[31m+',\u001b[39m\u001b[31m '\\\u001b[39mx\u001b[31m0c'\u001b[39m\u001b[31m, '\u001b[39m\u001b[31m\"',\u001b[39m\u001b[31m '\"\u001b[39m\u001b[31m', \u001b[39m\u001b[31m'\"'\u001b[39m\u001b[31m, '\u001b[39m\u001b[31m\"',\u001b[39m\u001b[31m 'k\u001b[39m\u001b[31m', \u001b[39m\u001b[31m'h'\u001b[39m\u001b[31m, '\u001b[39m\u001b[31m\"',\u001b[39m 'y\u001b[31m', \u001b[39m't\u001b[31m', \u001b[39m'\u001b[31mq',\u001b[39m 'p\u001b[31m', \u001b[39m'i\u001b[31m', \u001b[39m'u\u001b[31m', \u001b[39m\u001b[31m'?'\u001b[39m\u001b[31m, '\u001b[39m\u001b[31m?',\u001b[39m '\u001b[31m7',\u001b[39m\u001b[31m '<\u001b[39m\u001b[31m', \u001b[39m\u001b[31m'\\x\u001b[39m\u001b[31m0c'\u001b[39m\u001b[31m, '\u001b[39m\u001b[31m\"',\u001b[39m\u001b[31m '\"\u001b[39m\u001b[31m', \u001b[39m\u001b[31m'\"'\u001b[39m\u001b[31m, '\u001b[39m\u001b[31m\"',\u001b[39m\u001b[31m '\"\u001b[39m\u001b[31m', \u001b[39m\u001b[31m'\"'\u001b[39m\u001b[31m, '\u001b[39m\u001b[31m\"',\u001b[39m\u001b[31m '\"\u001b[39m\u001b[31m', \u001b[39m'r\u001b[31m', \u001b[39m't\u001b[31m', \u001b[39m'k\u001b[31m', \u001b[39m'p\u001b[31m', \u001b[39m\u001b[31m'v'\u001b[39m\u001b[31m, '\u001b[39m\u001b[31m*',\u001b[39m\u001b[31m '$\u001b[39m\u001b[31m', \u001b[39m\u001b[31m'\"'\u001b[39m\u001b[31m, '\u001b[39m\u001b[31m~',\u001b[39m\u001b[31m '\"\u001b[39m\u001b[31m', \u001b[39m\u001b[31m'\"'\u001b[39m\u001b[31m, '\u001b[39m\u001b[31m\"',\u001b[39m\u001b[31m '\"\u001b[39m\u001b[31m', \u001b[39m\u001b[31m'\"'\u001b[39m\u001b[31m, '\u001b[39m\u001b[31m\"',\u001b[39m\u001b[31m '\"\u001b[39m\u001b[31m', \u001b[39m\u001b[31m'\"'\u001b[39m\u001b[31m, '\u001b[39m\u001b[31m\"',\u001b[39m\u001b[31m '\"\u001b[39m\u001b[31m', \u001b[39m\u001b[31m'\"'\u001b[39m\u001b[31m, '\u001b[39m\u001b[31m\"',\u001b[39m\u001b[31m '\"\u001b[39m\u001b[31m', \u001b[39m\u001b[31m'\"'\u001b[39m\u001b[31m, '\u001b[39m\u001b[31m\"',\u001b[39m\u001b[31m '\"\u001b[39m\u001b[31m', \u001b[39m\u001b[31m'\"'\u001b[39m\u001b[31m, '\u001b[39m1\u001b[31m', \u001b[39m\u001b[31m'~'\u001b[39m\u001b[31m, '\u001b[39m\u001b[31m$',\u001b[39m\u001b[31m '+\u001b[39m\u001b[31m', \u001b[39m\u001b[31m'\\x\u001b[39m\u001b[31m0c'\u001b[39m\u001b[31m, '\u001b[39m\u001b[31m\"',\u001b[39m\u001b[31m '\"\u001b[39m\u001b[31m', \u001b[39m\u001b[31m'\"'\u001b[39m\u001b[31m, '\u001b[39m\u001b[31m\"',\u001b[39m\u001b[31m 'k\u001b[39m\u001b[31m', \u001b[39m\u001b[31m'h'\u001b[39m\u001b[31m, '\u001b[39m\u001b[31m\"',\u001b[39m 'y\u001b[31m', \u001b[39m't\u001b[31m', \u001b[39m'\u001b[31mq',\u001b[39m 'p\u001b[31m', \u001b[39m'i\u001b[31m', \u001b[39m'u\u001b[31m', \u001b[39m\u001b[31m'?'\u001b[39m\u001b[31m, '\u001b[39m\u001b[31m?',\u001b[39m \u001b[31m'8'\u001b[39m\u001b[31m, '\u001b[39m\u001b[31m<',\u001b[39m\u001b[31m '\\\u001b[39mx\u001b[31m0c'\u001b[39m\u001b[31m, '\u001b[39m\u001b[31m\"',\u001b[39m\u001b[31m '\"\u001b[39m\u001b[31m', \u001b[39m\u001b[31m'\"'\u001b[39m\u001b[31m, '\u001b[39m\u001b[31m\"',\u001b[39m\u001b[31m '\"\u001b[39m\u001b[31m', \u001b[39m\u001b[31m'\"'\u001b[39m\u001b[31m, '\u001b[39m\u001b[31m\"',\u001b[39m\u001b[31m '\"\u001b[39m\u001b[31m', \u001b[39m'r\u001b[31m', \u001b[39m't\u001b[31m', \u001b[39m'k\u001b[31m', \u001b[39m'p\u001b[31m', \u001b[39m\u001b[31m'v'\u001b[39m\u001b[31m, '\u001b[39m\u001b[31m*',\u001b[39m\u001b[31m '$\u001b[39m\u001b[31m', \u001b[39m\u001b[31m'\"'\u001b[39m\u001b[31m, '\u001b[39m\u001b[31m~',\u001b[39m\u001b[31m '\"\u001b[39m\u001b[31m', \u001b[39m\u001b[31m'\"'\u001b[39m\u001b[31m, '\u001b[39m\u001b[31m\"',\u001b[39m\u001b[31m '\"\u001b[39m\u001b[31m', \u001b[39m\u001b[31m'\"'\u001b[39m\u001b[31m, '\u001b[39m\u001b[31m\"',\u001b[39m\u001b[31m '\"\u001b[39m\u001b[31m', \u001b[39m\u001b[31m'\"'\u001b[39m\u001b[31m, '\u001b[39m\u001b[31m\"',\u001b[39m\u001b[31m '\"\u001b[39m\u001b[31m', \u001b[39m\u001b[31m'\"'\u001b[39m\u001b[31m, '\u001b[39m\u001b[31m\"',\u001b[39m\u001b[31m '\"\u001b[39m\u001b[31m', \u001b[39m\u001b[31m'\"'\u001b[39m\u001b[31m, '\u001b[39m\u001b[31m\"',\u001b[39m\u001b[31m '\"\u001b[39m\u001b[31m', \u001b[39m\u001b[31m'\"'\u001b[39m\u001b[31m, '\u001b[39m1\u001b[31m', \u001b[39m\u001b[31m'~'\u001b[39m\u001b[31m, '\u001b[39m\u001b[31m^',\u001b[39m\u001b[31m '\"\u001b[39m\u001b[31m', \u001b[39m\u001b[31m'$'\u001b[39m\u001b[31m, '\u001b[39m\u001b[31m+',\u001b[39m\u001b[31m '\\\u001b[39mx\u001b[31m0c'\u001b[39m\u001b[31m, '\u001b[39m\u001b[31m\"',\u001b[39m\u001b[31m '\"\u001b[39m\u001b[31m', \u001b[39m\u001b[31m'\"'\u001b[39m\u001b[31m, '\u001b[39m\u001b[31m\"',\u001b[39m\u001b[31m 'k\u001b[39m\u001b[31m', \u001b[39m\u001b[31m'h'\u001b[39m\u001b[31m, '\u001b[39m\u001b[31m\"',\u001b[39m 'y\u001b[31m', \u001b[39m't\u001b[31m', \u001b[39m'\u001b[31mq',\u001b[39m 'p\u001b[31m', \u001b[39m'i\u001b[31m', \u001b[39m'u\u001b[31m', \u001b[39m\u001b[31m'?'\u001b[39m\u001b[31m, '\u001b[39m\u001b[31m?',\u001b[39m '\u001b[31m5',\u001b[39m\u001b[31m '<\u001b[39m\u001b[31m', \u001b[39m\u001b[31m'\\x\u001b[39m\u001b[31m0c'\u001b[39m\u001b[31m, '\u001b[39m\u001b[31m\"',\u001b[39m\u001b[31m '\"\u001b[39m\u001b[31m', \u001b[39m\u001b[31m'\"'\u001b[39m\u001b[31m, '\u001b[39m\u001b[31m\"',\u001b[39m\u001b[31m '\"\u001b[39m\u001b[31m', \u001b[39m\u001b[31m'\"'\u001b[39m\u001b[31m, '\u001b[39m\u001b[31m\"',\u001b[39m\u001b[31m '\"\u001b[39m\u001b[31m', \u001b[39m'r\u001b[31m', \u001b[39m't\u001b[31m', \u001b[39m'k\u001b[31m', \u001b[39m'p\u001b[31m', \u001b[39m\u001b[31m'v'\u001b[39m\u001b[31m, '\u001b[39m\u001b[31m*',\u001b[39m\u001b[31m '$\u001b[39m\u001b[31m', \u001b[39m\u001b[31m'\"'\u001b[39m\u001b[31m, '\u001b[39m\u001b[31m~',\u001b[39m\u001b[31m '\"\u001b[39m\u001b[31m', \u001b[39m\u001b[31m'\"'\u001b[39m\u001b[31m, '\u001b[39m\u001b[31m\"',\u001b[39m\u001b[31m '\"\u001b[39m\u001b[31m', \u001b[39m\u001b[31m'\"'\u001b[39m\u001b[31m, '\u001b[39m\u001b[31m\"',\u001b[39m\u001b[31m '\"\u001b[39m\u001b[31m', \u001b[39m\u001b[31m'\"'\u001b[39m\u001b[31m, '\u001b[39m\u001b[31m\"',\u001b[39m\u001b[31m '\"\u001b[39m\u001b[31m', \u001b[39m\u001b[31m'\"'\u001b[39m\u001b[31m, '\u001b[39m\u001b[31m\"',\u001b[39m\u001b[31m '\"\u001b[39m\u001b[31m', \u001b[39m\u001b[31m'\"'\u001b[39m\u001b[31m, '\u001b[39m\u001b[31m\"',\u001b[39m\u001b[31m '\"\u001b[39m\u001b[31m', \u001b[39m\u001b[31m'\"'\u001b[39m\u001b[31m, '\u001b[39m1\u001b[31m', \u001b[39m\u001b[31m'$'\u001b[39m\u001b[31m, '\u001b[39m\u001b[31m+',\u001b[39m\u001b[31m '\\\u001b[39mx\u001b[31m0c'\u001b[39m\u001b[31m, '\u001b[39m\u001b[31m\"',\u001b[39m\u001b[31m '\"\u001b[39m\u001b[31m', \u001b[39m\u001b[31m'\"'\u001b[39m\u001b[31m, '\u001b[39m\u001b[31m\"',\u001b[39m\u001b[31m 'k\u001b[39m\u001b[31m', \u001b[39m\u001b[31m'h'\u001b[39m\u001b[31m, '\u001b[39m\u001b[31m\"',\u001b[39m 'y\u001b[31m', \u001b[39m't\u001b[31m', \u001b[39m'\u001b[31mq',\u001b[39m 'p\u001b[31m', \u001b[39m'i\u001b[31m', \u001b[39m'u\u001b[31m', \u001b[39m\u001b[31m'@'\u001b[39m\u001b[31m, '\u001b[39m\u001b[31m5',\u001b[39m\u001b[31m '<\u001b[39m\u001b[31m', \u001b[39m\u001b[31m'\\x\u001b[39m\u001b[31m0c'\u001b[39m\u001b[31m, '\u001b[39m\u001b[31m\"',\u001b[39m\u001b[31m '\"\u001b[39m\u001b[31m', \u001b[39m\u001b[31m'\"'\u001b[39m\u001b[31m, '\u001b[39m\u001b[31m\"',\u001b[39m\u001b[31m '\"\u001b[39m\u001b[31m', \u001b[39m\u001b[31m'\"'\u001b[39m\u001b[31m, '\u001b[39m\u001b[31m\"',\u001b[39m\u001b[31m '\"\u001b[39m\u001b[31m', \u001b[39m'r\u001b[31m', \u001b[39m't\u001b[31m', \u001b[39m'k\u001b[31m', \u001b[39m'p\u001b[31m', \u001b[39m\u001b[31m'v'\u001b[39m\u001b[31m, '\u001b[39m\u001b[31m*',\u001b[39m\u001b[31m '$\u001b[39m\u001b[31m', \u001b[39m\u001b[31m'\"'\u001b[39m\u001b[31m, '\u001b[39m\u001b[31m~',\u001b[39m\u001b[31m '\"\u001b[39m\u001b[31m', \u001b[39m\u001b[31m'\"'\u001b[39m\u001b[31m, '\u001b[39m\u001b[31m\"',\u001b[39m\u001b[31m '\"\u001b[39m\u001b[31m', \u001b[39m\u001b[31m'\"'\u001b[39m\u001b[31m, '\u001b[39m\u001b[31m\"',\u001b[39m\u001b[31m '\"\u001b[39m\u001b[31m', \u001b[39m\u001b[31m'\"'\u001b[39m\u001b[31m, '\u001b[39m\u001b[31m\"',\u001b[39m\u001b[31m '\"\u001b[39m\u001b[31m', \u001b[39m\u001b[31m'\"'\u001b[39m\u001b[31m, '\u001b[39m\u001b[31m\"',\u001b[39m\u001b[31m '\"\u001b[39m\u001b[31m', \u001b[39m\u001b[31m'\"'\u001b[39m\u001b[31m, '\u001b[39m\u001b[31m\"',\u001b[39m\u001b[31m '\"\u001b[39m\u001b[31m', \u001b[39m\u001b[31m'\"'\u001b[39m\u001b[31m, '\u001b[39m1\u001b[31m', \u001b[39m\u001b[31m'\"'\u001b[39m\u001b[31m, '\u001b[39m\u001b[31m^',\u001b[39m\u001b[31m '\"\u001b[39m\u001b[31m', \u001b[39m\u001b[31m'$'\u001b[39m\u001b[31m, '\u001b[39m\u001b[31m+',\u001b[39m\u001b[31m '\\\u001b[39mx\u001b[31m0c'\u001b[39m\u001b[31m, '\u001b[39m\u001b[31m\"',\u001b[39m\u001b[31m '\"\u001b[39m\u001b[31m', \u001b[39m\u001b[31m'\"'\u001b[39m\u001b[31m, '\u001b[39m\u001b[31m\"',\u001b[39m\u001b[31m 'k\u001b[39m\u001b[31m', \u001b[39m\u001b[31m'h'\u001b[39m\u001b[31m, '\u001b[39m\u001b[31m\"',\u001b[39m 'y\u001b[31m', \u001b[39m't\u001b[31m', \u001b[39m'\u001b[31mq',\u001b[39m 'p\u001b[31m', \u001b[39m'i\u001b[31m', \u001b[39m'u\u001b[31m', \u001b[39m\u001b[31m'@'\u001b[39m\u001b[31m, '\u001b[39m\u001b[31m?',\u001b[39m '\u001b[31m5',\u001b[39m\u001b[31m '<\u001b[39m\u001b[31m', \u001b[39m\u001b[31m'\\x\u001b[39m\u001b[31m0c'\u001b[39m\u001b[31m, '\u001b[39m\u001b[31m\"',\u001b[39m\u001b[31m '\"\u001b[39m\u001b[31m', \u001b[39m\u001b[31m'\"'\u001b[39m\u001b[31m, '\u001b[39m\u001b[31m\"',\u001b[39m\u001b[31m '\"\u001b[39m\u001b[31m', \u001b[39m\u001b[31m'\"'\u001b[39m\u001b[31m, '\u001b[39m\u001b[31m\"',\u001b[39m\u001b[31m '\"\u001b[39m\u001b[31m', \u001b[39m'r\u001b[31m', \u001b[39m't\u001b[31m', \u001b[39m'k\u001b[31m', \u001b[39m'p\u001b[31m', \u001b[39m\u001b[31m'v'\u001b[39m\u001b[31m, '\u001b[39m\u001b[31m*',\u001b[39m\u001b[31m '$\u001b[39m\u001b[31m', \u001b[39m\u001b[31m'\"'\u001b[39m\u001b[31m, '\u001b[39m\u001b[31m~',\u001b[39m\u001b[31m '^\u001b[39m\u001b[31m', \u001b[39m'p\u001b[31m', \u001b[39m\u001b[31m'\"'\u001b[39m\u001b[31m, '\u001b[39m\u001b[31m~',\u001b[39m\u001b[31m '^\u001b[39m\u001b[31m', \u001b[39m'p\u001b[31m', \u001b[39m\u001b[31m'\"'\u001b[39m\u001b[31m, '\u001b[39m\u001b[31m~',\u001b[39m\u001b[31m '$\u001b[39m\u001b[31m', \u001b[39m\u001b[31m'+'\u001b[39m\u001b[31m, '\u001b[39m\\x\u001b[31m0c'\u001b[39m\u001b[31m, '\u001b[39m\u001b[31m\"',\u001b[39m\u001b[31m '\"\u001b[39m\u001b[31m', \u001b[39m\u001b[31m'\"'\u001b[39m\u001b[31m, '\u001b[39m\u001b[31m\"',\u001b[39m\u001b[31m 'k\u001b[39m\u001b[31m', \u001b[39m\u001b[31m'h'\u001b[39m\u001b[31m, '\u001b[39m\u001b[31m\"',\u001b[39m 'y\u001b[31m', \u001b[39m't\u001b[31m', \u001b[39m'\u001b[31mq',\u001b[39m 'p\u001b[31m', \u001b[39m'i\u001b[31m', \u001b[39m'u\u001b[31m', \u001b[39m\u001b[31m'?'\u001b[39m\u001b[31m, '\u001b[39m\u001b[31m?',\u001b[39m '4\u001b[31m', \u001b[39m\u001b[31m'<'\u001b[39m\u001b[31m, '\u001b[39m\\x\u001b[31m0c'\u001b[39m\u001b[31m, '\u001b[39m\u001b[31m\"',\u001b[39m\u001b[31m '\"\u001b[39m\u001b[31m', \u001b[39m\u001b[31m'\"'\u001b[39m\u001b[31m, '\u001b[39m\u001b[31m\"',\u001b[39m\u001b[31m '\"\u001b[39m\u001b[31m', \u001b[39m\u001b[31m'\"'\u001b[39m\u001b[31m, '\u001b[39m\u001b[31m\"',\u001b[39m\u001b[31m '\"\u001b[39m\u001b[31m', \u001b[39m'r\u001b[31m', \u001b[39m't\u001b[31m', \u001b[39m'k\u001b[31m', \u001b[39m'p\u001b[31m', \u001b[39m\u001b[31m'v'\u001b[39m\u001b[31m, '\u001b[39m\u001b[31m*',\u001b[39m\u001b[31m '$\u001b[39m\u001b[31m', \u001b[39m\u001b[31m'\"'\u001b[39m\u001b[31m, '\u001b[39m\u001b[31m~',\u001b[39m\u001b[31m '^\u001b[39m\u001b[31m', \u001b[39m'p\u001b[31m', \u001b[39m\u001b[31m'\"'\u001b[39m\u001b[31m, '\u001b[39m\u001b[31m~',\u001b[39m\u001b[31m '^\u001b[39m\u001b[31m', \u001b[39m'p\u001b[31m', \u001b[39m\u001b[31m'\"'\u001b[39m\u001b[31m, '\u001b[39m\u001b[31m~',\u001b[39m\u001b[31m '^\u001b[39m\u001b[31m', \u001b[39m'p\u001b[31m', \u001b[39m\u001b[31m'\"'\u001b[39m\u001b[31m, '\u001b[39m\u001b[31m~',\u001b[39m\u001b[31m '$\u001b[39m\u001b[31m', \u001b[39m\u001b[31m'+'\u001b[39m\u001b[31m, '\u001b[39m\\x\u001b[31m0c'\u001b[39m\u001b[31m, '\u001b[39m\u001b[31m\"',\u001b[39m\u001b[31m '\"\u001b[39m\u001b[31m', \u001b[39m\u001b[31m'\"'\u001b[39m\u001b[31m, '\u001b[39m\u001b[31m\"',\u001b[39m\u001b[31m 'k\u001b[39m\u001b[31m', \u001b[39m\u001b[31m'h'\u001b[39m\u001b[31m, '\u001b[39m\u001b[31m\"',\u001b[39m 'y\u001b[31m', \u001b[39m't\u001b[31m', \u001b[39m'\u001b[31mq',\u001b[39m 'p\u001b[31m', \u001b[39m'i\u001b[31m', \u001b[39m'u\u001b[31m', \u001b[39m\u001b[31m'\"'\u001b[39m\u001b[31m, '\u001b[39m\u001b[31m?',\u001b[39m\u001b[31m '?\u001b[39m\u001b[31m', \u001b[39m\u001b[31m'\"'\u001b[39m\u001b[31m, '\u001b[39m\u001b[31m3',\u001b[39m\u001b[31m '<\u001b[39m\u001b[31m', \u001b[39m\u001b[31m'\\x\u001b[39m\u001b[31m0c'\u001b[39m\u001b[31m, '\u001b[39m\u001b[31m\"',\u001b[39m\u001b[31m '\"\u001b[39m\u001b[31m', \u001b[39m\u001b[31m'\"'\u001b[39m\u001b[31m, '\u001b[39m\u001b[31m\"',\u001b[39m\u001b[31m '\"\u001b[39m\u001b[31m', \u001b[39m\u001b[31m'\"'\u001b[39m\u001b[31m, '\u001b[39m\u001b[31m\"',\u001b[39m\u001b[31m '\"\u001b[39m\u001b[31m', \u001b[39m'r\u001b[31m', \u001b[39m't\u001b[31m', \u001b[39m'k\u001b[31m', \u001b[39m'p\u001b[31m', \u001b[39m\u001b[31m'v'\u001b[39m\u001b[31m, '\u001b[39m\u001b[31m*',\u001b[39m\u001b[31m '$\u001b[39m\u001b[31m', \u001b[39m\u001b[31m'\"'\u001b[39m\u001b[31m, '\u001b[39m\u001b[31m~',\u001b[39m\u001b[31m '^\u001b[39m\u001b[31m', \u001b[39m'p\u001b[31m', \u001b[39m\u001b[31m'\"'\u001b[39m\u001b[31m, '\u001b[39m\u001b[31m~',\u001b[39m\u001b[31m '^\u001b[39m\u001b[31m', \u001b[39m'p\u001b[31m', \u001b[39m\u001b[31m'\"'\u001b[39m\u001b[31m, '\u001b[39m\u001b[31m~',\u001b[39m\u001b[31m '^\u001b[39m\u001b[31m', \u001b[39m'p\u001b[31m', \u001b[39m\u001b[31m'\"'\u001b[39m\u001b[31m, '\u001b[39m\u001b[31m~',\u001b[39m\u001b[31m '^\u001b[39m\u001b[31m', \u001b[39m'p\u001b[31m', \u001b[39m\u001b[31m'\"'\u001b[39m\u001b[31m, '\u001b[39m\u001b[31m~',\u001b[39m\u001b[31m '$\u001b[39m\u001b[31m', \u001b[39m\u001b[31m'+'\u001b[39m\u001b[31m, '\u001b[39m\\x\u001b[31m0c'\u001b[39m\u001b[31m, '\u001b[39m\u001b[31m\"',\u001b[39m\u001b[31m '\"\u001b[39m\u001b[31m', \u001b[39m\u001b[31m'\"'\u001b[39m\u001b[31m, '\u001b[39m\u001b[31m\"',\u001b[39m\u001b[31m 'k\u001b[39m\u001b[31m', \u001b[39m\u001b[31m'h'\u001b[39m\u001b[31m, '\u001b[39m\u001b[31m\"',\u001b[39m 'y\u001b[31m', \u001b[39m't\u001b[31m', \u001b[39m'\u001b[31mq',\u001b[39m 'p\u001b[31m', \u001b[39m'i\u001b[31m', \u001b[39m'u\u001b[31m', \u001b[39m\u001b[31m'\"'\u001b[39m\u001b[31m, '\u001b[39m\u001b[31m?',\u001b[39m\u001b[31m '?\u001b[39m\u001b[31m', \u001b[39m'\u001b[31m2',\u001b[39m\u001b[31m '<\u001b[39m\u001b[31m', \u001b[39m\u001b[31m'\\x\u001b[39m\u001b[31m0c'\u001b[39m\u001b[31m, '\u001b[39m\u001b[31m\"',\u001b[39m\u001b[31m '\"\u001b[39m\u001b[31m', \u001b[39m\u001b[31m'\"'\u001b[39m\u001b[31m, '\u001b[39m\u001b[31m\"',\u001b[39m\u001b[31m '\"\u001b[39m\u001b[31m', \u001b[39m\u001b[31m'\"'\u001b[39m\u001b[31m, '\u001b[39m\u001b[31m\"',\u001b[39m\u001b[31m '\"\u001b[39m\u001b[31m', \u001b[39m'r\u001b[31m', \u001b[39m't\u001b[31m', \u001b[39m'k\u001b[31m', \u001b[39m'p\u001b[31m', \u001b[39m\u001b[31m'v'\u001b[39m\u001b[31m, '\u001b[39m\u001b[31m*',\u001b[39m\u001b[31m '$\u001b[39m\u001b[31m', \u001b[39m\u001b[31m'\"'\u001b[39m\u001b[31m, '\u001b[39m\u001b[31m~',\u001b[39m\u001b[31m '^\u001b[39m\u001b[31m', \u001b[39m'p\u001b[31m', \u001b[39m\u001b[31m'\"'\u001b[39m\u001b[31m, '\u001b[39m\u001b[31m~',\u001b[39m\u001b[31m '^\u001b[39m\u001b[31m', \u001b[39m'p\u001b[31m', \u001b[39m\u001b[31m'\"'\u001b[39m\u001b[31m, '\u001b[39m\u001b[31m~',\u001b[39m\u001b[31m '^\u001b[39m\u001b[31m', \u001b[39m'p\u001b[31m', \u001b[39m\u001b[31m'\"'\u001b[39m\u001b[31m, '\u001b[39m\u001b[31m~',\u001b[39m\u001b[31m '^\u001b[39m\u001b[31m', \u001b[39m'p\u001b[31m', \u001b[39m\u001b[31m'\"'\u001b[39m\u001b[31m, '\u001b[39m\u001b[31m~',\u001b[39m\u001b[31m '^\u001b[39m\u001b[31m', \u001b[39m'p\u001b[31m', \u001b[39m\u001b[31m'\"'\u001b[39m\u001b[31m, '\u001b[39m\u001b[31m~',\u001b[39m\u001b[31m '$\u001b[39m\u001b[31m', \u001b[39m\u001b[31m'+'\u001b[39m\u001b[31m, '\u001b[39m\\x\u001b[31m0c'\u001b[39m\u001b[31m, '\u001b[39m\u001b[31m\"',\u001b[39m\u001b[31m '\"\u001b[39m\u001b[31m', \u001b[39m\u001b[31m'\"'\u001b[39m\u001b[31m, '\u001b[39m\u001b[31m\"',\u001b[39m 'r\u001b[31m', \u001b[39m't\u001b[31m', \u001b[39m'k\u001b[31m', \u001b[39m'p\u001b[31m', \u001b[39m\u001b[31m'v'\u001b[39m\u001b[31m, '\u001b[39m\u001b[31m*',\u001b[39m\u001b[31m '$\u001b[39m\u001b[31m', \u001b[39m'a\u001b[31m', \u001b[39m'a\u001b[31m', \u001b[39m'a\u001b[31m', \u001b[39m\u001b[31m'$'\u001b[39m\u001b[31m, '\u001b[39m\u001b[31m+',\u001b[39m\u001b[31m '\\\u001b[39mx\u001b[31m0c'\u001b[39m\u001b[31m, '\u001b[39m\u001b[31m\"',\u001b[39m\u001b[31m '\"\u001b[39m\u001b[31m', \u001b[39m\u001b[31m'\"'\u001b[39m\u001b[31m, '\u001b[39m\u001b[31m\"',\u001b[39m\u001b[31m '%\u001b[39m\u001b[31m', \u001b[39m\u001b[31m'%'\u001b[39m\u001b[31m, '\u001b[39m\u001b[31mo',\u001b[39m \u001b[31m'c'\u001b[39m\u001b[31m, '\u001b[39mm\u001b[31m', \u001b[39m'g\u001b[31m', \u001b[39m\u001b[31m'\"'\u001b[39m\u001b[31m, '\u001b[39mv\u001b[31m', \u001b[39m'j\u001b[31m', \u001b[39m'g\u001b[31m', \u001b[39m\u001b[31m'\"'\u001b[39m\u001b[31m, '\u001b[39md\u001b[31m', \u001b[39m'n\u001b[31m', \u001b[39m\u001b[31m'c'\u001b[39m\u001b[31m, '\u001b[39mp\u001b[31m', \u001b[39m'm\u001b[31m', \u001b[39m'u\u001b[31m', \u001b[39m'1\u001b[31m', \u001b[39m\u001b[31m'h'\u001b[39m\u001b[31m, '\u001b[39mk\u001b[31m', \u001b[39m'n\u001b[31m', \u001b[39m'n\u001b[31m', \u001b[39m\u001b[31m'\"'\u001b[39m\u001b[31m, '\u001b[39mk\u001b[31m', \u001b[39m'p\u001b[31m', \u001b[39m\u001b[31m'\"'\u001b[39m\u001b[31m, '\u001b[39my\u001b[31m', \u001b[39m'j\u001b[31m', \u001b[39m'g\u001b[31m', \u001b[39m't\u001b[31m', \u001b[39m'g\u001b[31m', \u001b[39m\u001b[31m'\"'\u001b[39m\u001b[31m, '\u001b[39mp\u001b[31m', \u001b[39m'g\u001b[31m', \u001b[39m'g\u001b[31m', \u001b[39m'f\u001b[31m', \u001b[39m'g\u001b[31m', \u001b[39m'f\u001b[31m', \u001b[39m\u001b[31m'\\x\u001b[39m\u001b[31m0c'\u001b[39m\u001b[31m, '\u001b[39m\u001b[31m\"',\u001b[39m\u001b[31m '\"\u001b[39m\u001b[31m', \u001b[39m\u001b[31m'\"'\u001b[39m\u001b[31m, '\u001b[39m\u001b[31m\"',\u001b[39m \u001b[31m'v'\u001b[39m\u001b[31m, '\u001b[39m\u001b[31mq',\u001b[39m 'r\u001b[31m', \u001b[39m't\u001b[31m', \u001b[39m'k\u001b[31m', \u001b[39m'p\u001b[31m', \u001b[39m\u001b[31m'v'\u001b[39m\u001b[31m, '\u001b[39m\u001b[31m\"',\u001b[39m\u001b[31m '?\u001b[39m\u001b[31m', \u001b[39m\u001b[31m'\"'\u001b[39m\u001b[31m, '\u001b[39m\u001b[31m$',\u001b[39m\u001b[31m '\"\u001b[39m\u001b[31m', \u001b[39m\u001b[31m'\"'\u001b[39m\u001b[31m, '\u001b[39m\u001b[31m\"',\u001b[39m\u001b[31m '\"\u001b[39m\u001b[31m', \u001b[39m\u001b[31m'\"'\u001b[39m\u001b[31m, '\u001b[39m\u001b[31m\"',\u001b[39m\u001b[31m '\"\u001b[39m\u001b[31m', \u001b[39m\u001b[31m'$'\u001b[39m\u001b[31m, '\u001b[39m\\x\u001b[31m0c'\u001b[39m\u001b[31m, '\u001b[39m\u001b[31m\"',\u001b[39m\u001b[31m '\"\u001b[39m\u001b[31m', \u001b[39m\u001b[31m'\"'\u001b[39m\u001b[31m, '\u001b[39m\u001b[31m\"',\u001b[39m \u001b[31m'h'\u001b[39m\u001b[31m, '\u001b[39m\u001b[31mq',\u001b[39m 't\u001b[31m', \u001b[39m\u001b[31m'\"'\u001b[39m\u001b[31m, '\u001b[39mk\u001b[31m', \u001b[39m\u001b[31m'\"'\u001b[39m\u001b[31m, '\u001b[39mk\u001b[31m', \u001b[39m'p\u001b[31m', \u001b[39m\u001b[31m'\"'\u001b[39m\u001b[31m, '\u001b[39my\u001b[31m', \u001b[39m'\u001b[31mq',\u001b[39m 't\u001b[31m', \u001b[39m'f\u001b[31m', \u001b[39m\u001b[31m'<'\u001b[39m\u001b[31m, '\u001b[39m\\x\u001b[31m0c'\u001b[39m\u001b[31m, '\u001b[39m\u001b[31m\"',\u001b[39m\u001b[31m '\"\u001b[39m\u001b[31m', \u001b[39m\u001b[31m'\"'\u001b[39m\u001b[31m, '\u001b[39m\u001b[31m\"',\u001b[39m\u001b[31m '\"\u001b[39m\u001b[31m', \u001b[39m\u001b[31m'\"'\u001b[39m\u001b[31m, '\u001b[39m\u001b[31m\"',\u001b[39m\u001b[31m '\"\u001b[39m\u001b[31m', \u001b[39m'k\u001b[31m', \u001b[39m\u001b[31m'h'\u001b[39m\u001b[31m, '\u001b[39m\u001b[31m\"',\u001b[39m\u001b[31m 'k\u001b[39m\u001b[31m', \u001b[39m\u001b[31m'\"'\u001b[39m\u001b[31m, '\u001b[39mk\u001b[31m', \u001b[39m'p\u001b[31m', \u001b[39m\u001b[31m'\"'\u001b[39m\u001b[31m, '\u001b[39mt\u001b[31m', \u001b[39m'k\u001b[31m', \u001b[39m'i\u001b[31m', \u001b[39m'j\u001b[31m', \u001b[39m\u001b[31m'v'\u001b[39m\u001b[31m, '\u001b[39mu\u001b[31m', \u001b[39m\u001b[31m'<'\u001b[39m\u001b[31m, '\u001b[39m\\x\u001b[31m0c'\u001b[39m\u001b[31m, '\u001b[39m\u001b[31m\"',\u001b[39m\u001b[31m '\"\u001b[39m\u001b[31m', \u001b[39m\u001b[31m'\"'\u001b[39m\u001b[31m, '\u001b[39m\u001b[31m\"',\u001b[39m\u001b[31m '\"\u001b[39m\u001b[31m', \u001b[39m\u001b[31m'\"'\u001b[39m\u001b[31m, '\u001b[39m\u001b[31m\"',\u001b[39m\u001b[31m '\"\u001b[39m\u001b[31m', \u001b[39m\u001b[31m'\"'\u001b[39m\u001b[31m, '\u001b[39m\u001b[31m\"',\u001b[39m\u001b[31m '\"\u001b[39m\u001b[31m', \u001b[39m\u001b[31m'\"'\u001b[39m\u001b[31m, '\u001b[39mv\u001b[31m', \u001b[39m'\u001b[31mq',\u001b[39m 'r\u001b[31m', \u001b[39m't\u001b[31m', \u001b[39m'k\u001b[31m', \u001b[39m'p\u001b[31m', \u001b[39m\u001b[31m'v'\u001b[39m\u001b[31m, '\u001b[39m\u001b[31m-',\u001b[39m\u001b[31m '?\u001b[39m\u001b[31m', \u001b[39m\u001b[31m'\"'\u001b[39m\u001b[31m, '\u001b[39mk\u001b[31m', \u001b[39m\u001b[31m'\\x\u001b[39m\u001b[31m0c'\u001b[39m\u001b[31m, '\u001b[39m\u001b[31m\"',\u001b[39m\u001b[31m '\"\u001b[39m\u001b[31m', \u001b[39m\u001b[31m'\"'\u001b[39m\u001b[31m, '\u001b[39m\u001b[31m\"',\u001b[39m\u001b[31m '\"\u001b[39m\u001b[31m', \u001b[39m\u001b[31m'\"'\u001b[39m\u001b[31m, '\u001b[39m\u001b[31m\"',\u001b[39m\u001b[31m '\"\u001b[39m\u001b[31m', \u001b[39m'g\u001b[31m', \u001b[39m'n\u001b[31m', \u001b[39m'u\u001b[31m', \u001b[39m'g\u001b[31m', \u001b[39m\u001b[31m'<'\u001b[39m\u001b[31m, '\u001b[39m\\x\u001b[31m0c'\u001b[39m\u001b[31m, '\u001b[39m\u001b[31m\"',\u001b[39m\u001b[31m '\"\u001b[39m\u001b[31m', \u001b[39m\u001b[31m'\"'\u001b[39m\u001b[31m, '\u001b[39m\u001b[31m\"',\u001b[39m\u001b[31m '\"\u001b[39m\u001b[31m', \u001b[39m\u001b[31m'\"'\u001b[39m\u001b[31m, '\u001b[39m\u001b[31m\"',\u001b[39m\u001b[31m '\"\u001b[39m\u001b[31m', \u001b[39m\u001b[31m'\"'\u001b[39m\u001b[31m, '\u001b[39m\u001b[31m\"',\u001b[39m\u001b[31m '\"\u001b[39m\u001b[31m', \u001b[39m\u001b[31m'\"'\u001b[39m\u001b[31m, '\u001b[39mv\u001b[31m', \u001b[39m'\u001b[31mq',\u001b[39m 'r\u001b[31m', \u001b[39m't\u001b[31m', \u001b[39m'k\u001b[31m', \u001b[39m'p\u001b[31m', \u001b[39m\u001b[31m'v'\u001b[39m\u001b[31m, '\u001b[39m\u001b[31m-',\u001b[39m\u001b[31m '?\u001b[39m\u001b[31m', \u001b[39m\u001b[31m'$'\u001b[39m\u001b[31m, '\u001b[39ma\u001b[31m', \u001b[39m\u001b[31m'$'\u001b[39m\u001b[31m, '\u001b[39m\\x\u001b[31m0c'\u001b[39m\u001b[31m, '\u001b[39m\u001b[31m\"',\u001b[39m\u001b[31m '\"\u001b[39m\u001b[31m', \u001b[39m\u001b[31m'\"'\u001b[39m\u001b[31m, '\u001b[39m\u001b[31m\"',\u001b[39m\u001b[31m '\"\u001b[39m\u001b[31m', \u001b[39m\u001b[31m'\"'\u001b[39m\u001b[31m, '\u001b[39m\u001b[31m\"',\u001b[39m\u001b[31m '\"\u001b[39m\u001b[31m', \u001b[39m\u001b[31m'v'\u001b[39m\u001b[31m, '\u001b[39m\u001b[31mq',\u001b[39m 'r\u001b[31m', \u001b[39m't\u001b[31m', \u001b[39m'k\u001b[31m', \u001b[39m'p\u001b[31m', \u001b[39m\u001b[31m'v'\u001b[39m\u001b[31m, '\u001b[39m\u001b[31m-',\u001b[39m\u001b[31m '?\u001b[39m\u001b[31m', \u001b[39m\u001b[31m'$'\u001b[39m\u001b[31m, '\u001b[39m\u001b[31m\"',\u001b[39m\u001b[31m '$\u001b[39m\u001b[31m', \u001b[39m\u001b[31m'\\x\u001b[39m\u001b[31m0c'\u001b[39m\u001b[31m, '\u001b[39m\u001b[31m\"',\u001b[39m\u001b[31m '\"\u001b[39m\u001b[31m', \u001b[39m\u001b[31m'\"'\u001b[39m\u001b[31m, '\u001b[39m\u001b[31m\"',\u001b[39m 'r\u001b[31m', \u001b[39m't\u001b[31m', \u001b[39m'k\u001b[31m', \u001b[39m'p\u001b[31m', \u001b[39m\u001b[31m'v'\u001b[39m\u001b[31m, '\u001b[39m\u001b[31m*',\u001b[39m \u001b[31m'v'\u001b[39m\u001b[31m, '\u001b[39m\u001b[31mq',\u001b[39m 'r\u001b[31m', \u001b[39m't\u001b[31m', \u001b[39m'k\u001b[31m', \u001b[39m'p\u001b[31m', \u001b[39m\u001b[31m'v'\u001b[39m\u001b[31m, '\u001b[39m\u001b[31m+',\u001b[39m\u001b[31m '\\\u001b[39mx\u001b[31m0c'\u001b[39m\u001b[31m, '\u001b[39mn\u001b[31m', \u001b[39m'g\u001b[31m', \u001b[39m\u001b[31m'v'\u001b[39m\u001b[31m, '\u001b[39mv\u001b[31m', \u001b[39m'g\u001b[31m', \u001b[39m't\u001b[31m', \u001b[39m'u\u001b[31m', \u001b[39m\u001b[31m'?'\u001b[39m\u001b[31m, '\u001b[39m\u001b[31m$',\u001b[39m\u001b[31m '$\u001b[39m\u001b[31m', \u001b[39m\u001b[31m'\"'\u001b[39m\u001b[31m, '\u001b[39m\u001b[31m%',\u001b[39m\u001b[31m '%\u001b[39m\u001b[31m', \u001b[39m\u001b[31m'v'\u001b[39m\u001b[31m, '\u001b[39mj\u001b[31m', \u001b[39m'g\u001b[31m', \u001b[39m\u001b[31m'\"'\u001b[39m\u001b[31m, '\u001b[39mk\u001b[31m', \u001b[39m'p\u001b[31m', \u001b[39m\u001b[31m'e'\u001b[39m\u001b[31m, '\u001b[39m\u001b[31mq',\u001b[39m 't\u001b[31m', \u001b[39m't\u001b[31m', \u001b[39m'g\u001b[31m', \u001b[39m\u001b[31m'e'\u001b[39m\u001b[31m, '\u001b[39mv\u001b[31m', \u001b[39m\u001b[31m'\"'\u001b[39m\u001b[31m, '\u001b[39mi\u001b[31m', \u001b[39m\u001b[31m'w'\u001b[39m\u001b[31m, '\u001b[39mg\u001b[31m', \u001b[39m'u\u001b[31m', \u001b[39m'u\u001b[31m', \u001b[39m'g\u001b[31m', \u001b[39m'u\u001b[31m', \u001b[39m\u001b[31m'\\x\u001b[39m\u001b[31m0c'\u001b[39m\u001b[31m, '\u001b[39mt\u001b[31m', \u001b[39m'k\u001b[31m', \u001b[39m'i\u001b[31m', \u001b[39m'j\u001b[31m', \u001b[39m\u001b[31m'v'\u001b[39m\u001b[31m, '\u001b[39mu\u001b[31m', \u001b[39m\u001b[31m'\"'\u001b[39m\u001b[31m, '\u001b[39m\u001b[31m?',\u001b[39m\u001b[31m '\"\u001b[39m\u001b[31m', \u001b[39m\u001b[31m']'\u001b[39m\u001b[31m, '\u001b[39m_\u001b[31m', \u001b[39m\u001b[31m'\"'\u001b[39m\u001b[31m, '\u001b[39m\u001b[31m%',\u001b[39m\u001b[31m '%\u001b[39m\u001b[31m', \u001b[39m\u001b[31m'v'\u001b[39m\u001b[31m, '\u001b[39mj\u001b[31m', \u001b[39m'g\u001b[31m', \u001b[39m\u001b[31m'\"'\u001b[39m\u001b[31m, '\u001b[39me\u001b[31m', \u001b[39m'\u001b[31mq',\u001b[39m 't\u001b[31m', \u001b[39m't\u001b[31m', \u001b[39m'g\u001b[31m', \u001b[39m\u001b[31m'e'\u001b[39m\u001b[31m, '\u001b[39mv\u001b[31m', \u001b[39m\u001b[31m'\"'\u001b[39m\u001b[31m, '\u001b[39mi\u001b[31m', \u001b[39m\u001b[31m'w'\u001b[39m\u001b[31m, '\u001b[39mg\u001b[31m', \u001b[39m'u\u001b[31m', \u001b[39m'u\u001b[31m', \u001b[39m'g\u001b[31m', \u001b[39m'u\u001b[31m', \u001b[39m\u001b[31m'\\x\u001b[39m\u001b[31m0c'\u001b[39m\u001b[31m, '\u001b[39mi\u001b[31m', \u001b[39m\u001b[31m'w'\u001b[39m\u001b[31m, '\u001b[39mg\u001b[31m', \u001b[39m'u\u001b[31m', \u001b[39m'u\u001b[31m', \u001b[39m'g\u001b[31m', \u001b[39m'u\u001b[31m', \u001b[39m\u001b[31m'?'\u001b[39m\u001b[31m, '\u001b[39m\u001b[31m2',\u001b[39m\u001b[31m '\"\u001b[39m\u001b[31m', \u001b[39m\u001b[31m'%'\u001b[39m\u001b[31m, '\u001b[39m\u001b[31m%',\u001b[39m \u001b[31m'v'\u001b[39m\u001b[31m, '\u001b[39mj\u001b[31m', \u001b[39m'g\u001b[31m', \u001b[39m\u001b[31m'\"'\u001b[39m\u001b[31m, '\u001b[39mp\u001b[31m', \u001b[39m\u001b[31m'w'\u001b[39m\u001b[31m, '\u001b[39m\u001b[31mo',\u001b[39m \u001b[31m'd'\u001b[39m\u001b[31m, '\u001b[39mg\u001b[31m', \u001b[39m't\u001b[31m', \u001b[39m\u001b[31m'\"'\u001b[39m\u001b[31m, '\u001b[39m\u001b[31mq',\u001b[39m \u001b[31m'h'\u001b[39m\u001b[31m, '\u001b[39m\u001b[31m\"',\u001b[39m\u001b[31m 'k\u001b[39m\u001b[31m', \u001b[39m'p\u001b[31m', \u001b[39m\u001b[31m'e'\u001b[39m\u001b[31m, '\u001b[39m\u001b[31mq',\u001b[39m 't\u001b[31m', \u001b[39m't\u001b[31m', \u001b[39m'g\u001b[31m', \u001b[39m\u001b[31m'e'\u001b[39m\u001b[31m, '\u001b[39mv\u001b[31m', \u001b[39m\u001b[31m'\"'\u001b[39m\u001b[31m, '\u001b[39mi\u001b[31m', \u001b[39m\u001b[31m'w'\u001b[39m\u001b[31m, '\u001b[39mg\u001b[31m', \u001b[39m'u\u001b[31m', \u001b[39m'u\u001b[31m', \u001b[39m'g\u001b[31m', \u001b[39m'u\u001b[31m', \u001b[39m\u001b[31m'\\x\u001b[39m\u001b[31m0c'\u001b[39m\u001b[31m, '\u001b[39my\u001b[31m', \u001b[39m'\u001b[31mq',\u001b[39m 'p\u001b[31m', \u001b[39m\u001b[31m'?'\u001b[39m\u001b[31m, '\u001b[39mH\u001b[31m', \u001b[39m\u001b[31m'c'\u001b[39m\u001b[31m, '\u001b[39mn\u001b[31m', \u001b[39m'u\u001b[31m', \u001b[39m'g\u001b[31m', \u001b[39m\u001b[31m'\\x\u001b[39m\u001b[31m0c'\u001b[39m\u001b[31m, '\u001b[39mr\u001b[31m', \u001b[39m't\u001b[31m', \u001b[39m'k\u001b[31m', \u001b[39m'p\u001b[31m', \u001b[39m\u001b[31m'v'\u001b[39m\u001b[31m, '\u001b[39m\u001b[31m*',\u001b[39m\u001b[31m '$\u001b[39m\u001b[31m', \u001b[39m'Y\u001b[31m', \u001b[39m'g\u001b[31m', \u001b[39m'n\u001b[31m', \u001b[39m\u001b[31m'e'\u001b[39m\u001b[31m, '\u001b[39m\u001b[31mq',\u001b[39m '\u001b[31mo',\u001b[39m 'g\u001b[31m', \u001b[39m\u001b[31m'\"'\u001b[39m\u001b[31m, '\u001b[39mv\u001b[31m', \u001b[39m'\u001b[31mq',\u001b[39m\u001b[31m '\"\u001b[39m\u001b[31m', \u001b[39m'j\u001b[31m', \u001b[39m\u001b[31m'c'\u001b[39m\u001b[31m, '\u001b[39mp\u001b[31m', \u001b[39m'i\u001b[31m', \u001b[39m'\u001b[31mo',\u001b[39m \u001b[31m'c'\u001b[39m\u001b[31m, '\u001b[39mp\u001b[31m', \u001b[39m\u001b[31m'#'\u001b[39m\u001b[31m, '\u001b[39m\u001b[31m$',\u001b[39m\u001b[31m '+\u001b[39m\u001b[31m', \u001b[39m\u001b[31m'\\x\u001b[39m\u001b[31m0c'\u001b[39m\u001b[31m, '\u001b[39m\\x\u001b[31m0c'\u001b[39m\u001b[31m, '\u001b[39m\\x\u001b[31m0c'\u001b[39m\u001b[31m, '\u001b[39m\\x\u001b[31m0c'\u001b[39m\u001b[31m, '\u001b[39my\u001b[31m', \u001b[39m'\u001b[31mq',\u001b[39m 't\u001b[31m', \u001b[39m'f\u001b[31m', \u001b[39m\u001b[31m'\"'\u001b[39m\u001b[31m, '\u001b[39m\u001b[31m?',\u001b[39m\u001b[31m '\"\u001b[39m\u001b[31m', \u001b[39m'k\u001b[31m', \u001b[39m'p\u001b[31m', \u001b[39m'r\u001b[31m', \u001b[39m\u001b[31m'w'\u001b[39m\u001b[31m, '\u001b[39mv\u001b[31m', \u001b[39m\u001b[31m'*'\u001b[39m\u001b[31m, '\u001b[39m\u001b[31m$',\u001b[39m 'R\u001b[31m', \u001b[39m'n\u001b[31m', \u001b[39m\u001b[31m'c'\u001b[39m\u001b[31m, '\u001b[39m\u001b[31m{',\u001b[39m 'g\u001b[31m', \u001b[39m't\u001b[31m', \u001b[39m\u001b[31m'\"'\u001b[39m\u001b[31m, '\u001b[39m\u001b[31m3',\u001b[39m\u001b[31m '.\u001b[39m\u001b[31m', \u001b[39m\u001b[31m'\"'\u001b[39m\u001b[31m, '\u001b[39mk\u001b[31m', \u001b[39m'p\u001b[31m', \u001b[39m'r\u001b[31m', \u001b[39m\u001b[31m'w'\u001b[39m\u001b[31m, '\u001b[39mv\u001b[31m', \u001b[39m\u001b[31m'\"'\u001b[39m\u001b[31m, '\u001b[39m\u001b[31m{',\u001b[39m '\u001b[31mq',\u001b[39m\u001b[31m 'w\u001b[39m\u001b[31m', \u001b[39m't\u001b[31m', \u001b[39m\u001b[31m'\"'\u001b[39m\u001b[31m, '\u001b[39my\u001b[31m', \u001b[39m'\u001b[31mq',\u001b[39m 't\u001b[31m', \u001b[39m'f\u001b[31m', \u001b[39m\u001b[31m'<'\u001b[39m\u001b[31m, '\u001b[39m\u001b[31m^',\u001b[39m 'p\u001b[31m', \u001b[39m\u001b[31m'$'\u001b[39m\u001b[31m, '\u001b[39m\u001b[31m+',\u001b[39m\u001b[31m '\\\u001b[39mx\u001b[31m0c'\u001b[39m\u001b[31m, '\u001b[39m\u001b[31mq',\u001b[39m 'u\u001b[31m', \u001b[39m'\u001b[31m0',\u001b[39m 'u\u001b[31m', \u001b[39m\u001b[31m'{'\u001b[39m\u001b[31m, '\u001b[39mu\u001b[31m', \u001b[39m\u001b[31m'v'\u001b[39m\u001b[31m, '\u001b[39mg\u001b[31m', \u001b[39m'\u001b[31mo',\u001b[39m\u001b[31m '*\u001b[39m\u001b[31m', \u001b[39m\u001b[31m'$'\u001b[39m\u001b[31m, '\u001b[39me\u001b[31m', \u001b[39m'n\u001b[31m', \u001b[39m'g\u001b[31m', \u001b[39m\u001b[31m'c'\u001b[39m\u001b[31m, '\u001b[39mt\u001b[31m', \u001b[39m\u001b[31m'$'\u001b[39m\u001b[31m, '\u001b[39m\u001b[31m+',\u001b[39m\u001b[31m '\"\u001b[39m\u001b[31m', \u001b[39m\u001b[31m'\\x\u001b[39m\u001b[31m0c'\u001b[39m\u001b[31m, '\u001b[39m\\x\u001b[31m0c'\u001b[39m\u001b[31m, '\u001b[39m\\x\u001b[31m0c'\u001b[39m\u001b[31m, '\u001b[39m\\x\u001b[31m0c'\u001b[39m\u001b[31m, '\u001b[39my\u001b[31m', \u001b[39m'j\u001b[31m', \u001b[39m'k\u001b[31m', \u001b[39m'n\u001b[31m', \u001b[39m'g\u001b[31m', \u001b[39m\u001b[31m'\"'\u001b[39m\u001b[31m, '\u001b[39mp\u001b[31m', \u001b[39m'\u001b[31mq',\u001b[39m \u001b[31m'v'\u001b[39m\u001b[31m, '\u001b[39m\u001b[31m*',\u001b[39m 'y\u001b[31m', \u001b[39m'\u001b[31mq',\u001b[39m 'p\u001b[31m', \u001b[39m\u001b[31m'+'\u001b[39m\u001b[31m, '\u001b[39m\u001b[31m\"',\u001b[39m \u001b[31m'c'\u001b[39m\u001b[31m, '\u001b[39mp\u001b[31m', \u001b[39m'f\u001b[31m', \u001b[39m\u001b[31m'\"'\u001b[39m\u001b[31m, '\u001b[39mi\u001b[31m', \u001b[39m\u001b[31m'w'\u001b[39m\u001b[31m, '\u001b[39mg\u001b[31m', \u001b[39m'u\u001b[31m', \u001b[39m'u\u001b[31m', \u001b[39m'g\u001b[31m', \u001b[39m'u\u001b[31m', \u001b[39m\u001b[31m'>'\u001b[39m\u001b[31m, '\u001b[39m8\u001b[31m', \u001b[39m\u001b[31m'<'\u001b[39m\u001b[31m, '\u001b[39m\\x\u001b[31m0c'\u001b[39m\u001b[31m, '\u001b[39m\u001b[31m\"',\u001b[39m\u001b[31m '\"\u001b[39m\u001b[31m', \u001b[39m\u001b[31m'\"'\u001b[39m\u001b[31m, '\u001b[39m\u001b[31m\"',\u001b[39m 'j\u001b[31m', \u001b[39m\u001b[31m'c'\u001b[39m\u001b[31m, '\u001b[39mp\u001b[31m', \u001b[39m'i\u001b[31m', \u001b[39m'\u001b[31mo',\u001b[39m \u001b[31m'c'\u001b[39m\u001b[31m, '\u001b[39mp\u001b[31m', \u001b[39m\u001b[31m'*'\u001b[39m\u001b[31m, '\u001b[39my\u001b[31m', \u001b[39m'\u001b[31mq',\u001b[39m 't\u001b[31m', \u001b[39m'f\u001b[31m', \u001b[39m\u001b[31m'.'\u001b[39m\u001b[31m, '\u001b[39mi\u001b[31m', \u001b[39m\u001b[31m'w'\u001b[39m\u001b[31m, '\u001b[39mg\u001b[31m', \u001b[39m'u\u001b[31m', \u001b[39m'u\u001b[31m', \u001b[39m'g\u001b[31m', \u001b[39m'u\u001b[31m', \u001b[39m\u001b[31m'.'\u001b[39m\u001b[31m, '\u001b[39mt\u001b[31m', \u001b[39m'k\u001b[31m', \u001b[39m'i\u001b[31m', \u001b[39m'j\u001b[31m', \u001b[39m\u001b[31m'v'\u001b[39m\u001b[31m, '\u001b[39mu\u001b[31m', \u001b[39m\u001b[31m'.'\u001b[39m\u001b[31m, '\u001b[39mn\u001b[31m', \u001b[39m'g\u001b[31m', \u001b[39m\u001b[31m'v'\u001b[39m\u001b[31m, '\u001b[39mv\u001b[31m', \u001b[39m'g\u001b[31m', \u001b[39m't\u001b[31m', \u001b[39m'u\u001b[31m', \u001b[39m\u001b[31m'+'\u001b[39m\u001b[31m, '\u001b[39m\\x\u001b[31m0c'\u001b[39m\u001b[31m, '\u001b[39m\u001b[31m\"',\u001b[39m\u001b[31m '\"\u001b[39m\u001b[31m', \u001b[39m\u001b[31m'\"'\u001b[39m\u001b[31m, '\u001b[39m\u001b[31m\"',\u001b[39m 'i\u001b[31m', \u001b[39m\u001b[31m'w'\u001b[39m\u001b[31m, '\u001b[39mg\u001b[31m', \u001b[39m'u\u001b[31m', \u001b[39m'u\u001b[31m', \u001b[39m\u001b[31m'\"'\u001b[39m\u001b[31m, '\u001b[39m\u001b[31m?',\u001b[39m\u001b[31m '\"\u001b[39m\u001b[31m', \u001b[39m'k\u001b[31m', \u001b[39m'p\u001b[31m', \u001b[39m'r\u001b[31m', \u001b[39m\u001b[31m'w'\u001b[39m\u001b[31m, '\u001b[39mv\u001b[31m', \u001b[39m\u001b[31m'*'\u001b[39m\u001b[31m, '\u001b[39m\u001b[31m$',\u001b[39m 'R\u001b[31m', \u001b[39m'n\u001b[31m', \u001b[39m\u001b[31m'c'\u001b[39m\u001b[31m, '\u001b[39m\u001b[31m{',\u001b[39m 'g\u001b[31m', \u001b[39m't\u001b[31m', \u001b[39m\u001b[31m'\"'\u001b[39m\u001b[31m, '\u001b[39m4\u001b[31m', \u001b[39m\u001b[31m'.'\u001b[39m\u001b[31m, '\u001b[39m\u001b[31m\"',\u001b[39m 'i\u001b[31m', \u001b[39m\u001b[31m'w'\u001b[39m\u001b[31m, '\u001b[39mg\u001b[31m', \u001b[39m'u\u001b[31m', \u001b[39m'u\u001b[31m', \u001b[39m\u001b[31m'\"'\u001b[39m\u001b[31m, '\u001b[39mc\u001b[31m', \u001b[39m\u001b[31m'\"'\u001b[39m\u001b[31m, '\u001b[39mn\u001b[31m', \u001b[39m'g\u001b[31m', \u001b[39m\u001b[31m'v'\u001b[39m\u001b[31m, '\u001b[39mv\u001b[31m', \u001b[39m'g\u001b[31m', \u001b[39m't\u001b[31m', \u001b[39m\u001b[31m'<'\u001b[39m\u001b[31m, '\u001b[39m\u001b[31m^',\u001b[39m 'p\u001b[31m', \u001b[39m\u001b[31m'$'\u001b[39m\u001b[31m, '\u001b[39m\u001b[31m+',\u001b[39m\u001b[31m '\\\u001b[39mx\u001b[31m0c'\u001b[39m\u001b[31m, '\u001b[39m\u001b[31m\"',\u001b[39m\u001b[31m '\"\u001b[39m\u001b[31m', \u001b[39m\u001b[31m'\"'\u001b[39m\u001b[31m, '\u001b[39m\u001b[31m\"',\u001b[39m\u001b[31m 'k\u001b[39m\u001b[31m', \u001b[39m\u001b[31m'h'\u001b[39m\u001b[31m, '\u001b[39m\u001b[31m\"',\u001b[39m 'i\u001b[31m', \u001b[39m\u001b[31m'w'\u001b[39m\u001b[31m, '\u001b[39mg\u001b[31m', \u001b[39m'u\u001b[31m', \u001b[39m'u\u001b[31m', \u001b[39m\u001b[31m'\"'\u001b[39m\u001b[31m, '\u001b[39mk\u001b[31m', \u001b[39m'p\u001b[31m', \u001b[39m\u001b[31m'\"'\u001b[39m\u001b[31m, '\u001b[39my\u001b[31m', \u001b[39m'\u001b[31mq',\u001b[39m 't\u001b[31m', \u001b[39m'f\u001b[31m', \u001b[39m\u001b[31m'<'\u001b[39m\u001b[31m, '\u001b[39m\\x\u001b[31m0c'\u001b[39m\u001b[31m, '\u001b[39m\u001b[31m\"',\u001b[39m\u001b[31m '\"\u001b[39m\u001b[31m', \u001b[39m\u001b[31m'\"'\u001b[39m\u001b[31m, '\u001b[39m\u001b[31m\"',\u001b[39m\u001b[31m '\"\u001b[39m\u001b[31m', \u001b[39m\u001b[31m'\"'\u001b[39m\u001b[31m, '\u001b[39m\u001b[31m\"',\u001b[39m\u001b[31m '\"\u001b[39m\u001b[31m', \u001b[39m't\u001b[31m', \u001b[39m'k\u001b[31m', \u001b[39m'i\u001b[31m', \u001b[39m'j\u001b[31m', \u001b[39m\u001b[31m'v'\u001b[39m\u001b[31m, '\u001b[39mu\u001b[31m', \u001b[39m\u001b[31m'-'\u001b[39m\u001b[31m, '\u001b[39m\u001b[31m?',\u001b[39m 'i\u001b[31m', \u001b[39m\u001b[31m'w'\u001b[39m\u001b[31m, '\u001b[39mg\u001b[31m', \u001b[39m'u\u001b[31m', \u001b[39m'u\u001b[31m', \u001b[39m\u001b[31m'\\x\u001b[39m\u001b[31m0c'\u001b[39m\u001b[31m, '\u001b[39m\u001b[31m\"',\u001b[39m\u001b[31m '\"\u001b[39m\u001b[31m', \u001b[39m\u001b[31m'\"'\u001b[39m\u001b[31m, '\u001b[39m\u001b[31m\"',\u001b[39m 'g\u001b[31m', \u001b[39m'n\u001b[31m', \u001b[39m'u\u001b[31m', \u001b[39m'g\u001b[31m', \u001b[39m\u001b[31m'<'\u001b[39m\u001b[31m, '\u001b[39m\\x\u001b[31m0c'\u001b[39m\u001b[31m, '\u001b[39m\u001b[31m\"',\u001b[39m\u001b[31m '\"\u001b[39m\u001b[31m', \u001b[39m\u001b[31m'\"'\u001b[39m\u001b[31m, '\u001b[39m\u001b[31m\"',\u001b[39m\u001b[31m '\"\u001b[39m\u001b[31m', \u001b[39m\u001b[31m'\"'\u001b[39m\u001b[31m, '\u001b[39m\u001b[31m\"',\u001b[39m\u001b[31m '\"\u001b[39m\u001b[31m', \u001b[39m'n\u001b[31m', \u001b[39m'g\u001b[31m', \u001b[39m\u001b[31m'v'\u001b[39m\u001b[31m, '\u001b[39mv\u001b[31m', \u001b[39m'g\u001b[31m', \u001b[39m't\u001b[31m', \u001b[39m'u\u001b[31m', \u001b[39m\u001b[31m'-'\u001b[39m\u001b[31m, '\u001b[39m\u001b[31m?',\u001b[39m 'i\u001b[31m', \u001b[39m\u001b[31m'w'\u001b[39m\u001b[31m, '\u001b[39mg\u001b[31m', \u001b[39m'u\u001b[31m', \u001b[39m'u\u001b[31m', \u001b[39m\u001b[31m'\\x\u001b[39m\u001b[31m0c'\u001b[39m\u001b[31m, '\u001b[39m\u001b[31m\"',\u001b[39m\u001b[31m '\"\u001b[39m\u001b[31m', \u001b[39m\u001b[31m'\"'\u001b[39m\u001b[31m, '\u001b[39m\u001b[31m\"',\u001b[39m\u001b[31m '\"\u001b[39m\u001b[31m', \u001b[39m\u001b[31m'\"'\u001b[39m\u001b[31m, '\u001b[39m\u001b[31m\"',\u001b[39m\u001b[31m '\"\u001b[39m\u001b[31m', \u001b[39m'i\u001b[31m', \u001b[39m\u001b[31m'w'\u001b[39m\u001b[31m, '\u001b[39mg\u001b[31m', \u001b[39m'u\u001b[31m', \u001b[39m'u\u001b[31m', \u001b[39m'g\u001b[31m', \u001b[39m'u\u001b[31m', \u001b[39m\u001b[31m'-'\u001b[39m\u001b[31m, '\u001b[39m\u001b[31m?',\u001b[39m '\u001b[31m3',\u001b[39m\u001b[31m '\\\u001b[39mx\u001b[31m0c'\u001b[39m\u001b[31m, '\u001b[39m\u001b[31m\"',\u001b[39m\u001b[31m '\"\u001b[39m\u001b[31m', \u001b[39m\u001b[31m'\"'\u001b[39m\u001b[31m, '\u001b[39m\u001b[31m\"',\u001b[39m 'y\u001b[31m', \u001b[39m'\u001b[31mq',\u001b[39m 'p\u001b[31m', \u001b[39m\u001b[31m'\"'\u001b[39m\u001b[31m, '\u001b[39m\u001b[31m?',\u001b[39m\u001b[31m '\"\u001b[39m\u001b[31m', \u001b[39m'V\u001b[31m', \u001b[39m't\u001b[31m', \u001b[39m\u001b[31m'w'\u001b[39m\u001b[31m, '\u001b[39mg\u001b[31m', \u001b[39m\u001b[31m'\\x\u001b[39m\u001b[31m0c'\u001b[39m\u001b[31m, '\u001b[39m\u001b[31m\"',\u001b[39m\u001b[31m '\"\u001b[39m\u001b[31m', \u001b[39m\u001b[31m'\"'\u001b[39m\u001b[31m, '\u001b[39m\u001b[31m\"',\u001b[39m \u001b[31m'h'\u001b[39m\u001b[31m, '\u001b[39m\u001b[31mq',\u001b[39m 't\u001b[31m', \u001b[39m\u001b[31m'\"'\u001b[39m\u001b[31m, '\u001b[39mk\u001b[31m', \u001b[39m\u001b[31m'\"'\u001b[39m\u001b[31m, '\u001b[39mk\u001b[31m', \u001b[39m'p\u001b[31m', \u001b[39m\u001b[31m'\"'\u001b[39m\u001b[31m, '\u001b[39my\u001b[31m', \u001b[39m'\u001b[31mq',\u001b[39m 't\u001b[31m', \u001b[39m'f\u001b[31m', \u001b[39m\u001b[31m'<'\u001b[39m\u001b[31m, '\u001b[39m\\x\u001b[31m0c'\u001b[39m\u001b[31m, '\u001b[39m\u001b[31m\"',\u001b[39m\u001b[31m '\"\u001b[39m\u001b[31m', \u001b[39m\u001b[31m'\"'\u001b[39m\u001b[31m, '\u001b[39m\u001b[31m\"',\u001b[39m\u001b[31m '\"\u001b[39m\u001b[31m', \u001b[39m\u001b[31m'\"'\u001b[39m\u001b[31m, '\u001b[39m\u001b[31m\"',\u001b[39m\u001b[31m '\"\u001b[39m\u001b[31m', \u001b[39m'k\u001b[31m', \u001b[39m\u001b[31m'h'\u001b[39m\u001b[31m, '\u001b[39m\u001b[31m\"',\u001b[39m 'p\u001b[31m', \u001b[39m'\u001b[31mq',\u001b[39m \u001b[31m'v'\u001b[39m\u001b[31m, '\u001b[39m\u001b[31m*',\u001b[39m\u001b[31m 'k\u001b[39m\u001b[31m', \u001b[39m\u001b[31m'\"'\u001b[39m\u001b[31m, '\u001b[39mk\u001b[31m', \u001b[39m'p\u001b[31m', \u001b[39m\u001b[31m'\"'\u001b[39m\u001b[31m, '\u001b[39mt\u001b[31m', \u001b[39m'k\u001b[31m', \u001b[39m'i\u001b[31m', \u001b[39m'j\u001b[31m', \u001b[39m\u001b[31m'v'\u001b[39m\u001b[31m, '\u001b[39mu\u001b[31m', \u001b[39m\u001b[31m'+'\u001b[39m\u001b[31m, '\u001b[39m\u001b[31m<',\u001b[39m\u001b[31m '\\\u001b[39mx\u001b[31m0c'\u001b[39m\u001b[31m, '\u001b[39m\u001b[31m\"',\u001b[39m\u001b[31m '\"\u001b[39m\u001b[31m', \u001b[39m\u001b[31m'\"'\u001b[39m\u001b[31m, '\u001b[39m\u001b[31m\"',\u001b[39m\u001b[31m '\"\u001b[39m\u001b[31m', \u001b[39m\u001b[31m'\"'\u001b[39m\u001b[31m, '\u001b[39m\u001b[31m\"',\u001b[39m\u001b[31m '\"\u001b[39m\u001b[31m', \u001b[39m\u001b[31m'\"'\u001b[39m\u001b[31m, '\u001b[39m\u001b[31m\"',\u001b[39m\u001b[31m '\"\u001b[39m\u001b[31m', \u001b[39m\u001b[31m'\"'\u001b[39m\u001b[31m, '\u001b[39my\u001b[31m', \u001b[39m'\u001b[31mq',\u001b[39m 'p\u001b[31m', \u001b[39m\u001b[31m'\"'\u001b[39m\u001b[31m, '\u001b[39m\u001b[31m?',\u001b[39m\u001b[31m '\"\u001b[39m\u001b[31m', \u001b[39m'H\u001b[31m', \u001b[39m\u001b[31m'c'\u001b[39m\u001b[31m, '\u001b[39mn\u001b[31m', \u001b[39m'u\u001b[31m', \u001b[39m'g\u001b[31m', \u001b[39m\u001b[31m'\\x\u001b[39m\u001b[31m0c'\u001b[39m\u001b[31m, '\u001b[39m\u001b[31m\"',\u001b[39m\u001b[31m '\"\u001b[39m\u001b[31m', \u001b[39m\u001b[31m'\"'\u001b[39m\u001b[31m, '\u001b[39m\u001b[31m\"',\u001b[39m '\u001b[31mq',\u001b[39m 'u\u001b[31m', \u001b[39m'\u001b[31m0',\u001b[39m 'u\u001b[31m', \u001b[39m\u001b[31m'{'\u001b[39m\u001b[31m, '\u001b[39mu\u001b[31m', \u001b[39m\u001b[31m'v'\u001b[39m\u001b[31m, '\u001b[39mg\u001b[31m', \u001b[39m'\u001b[31mo',\u001b[39m\u001b[31m '*\u001b[39m\u001b[31m', \u001b[39m\u001b[31m'$'\u001b[39m\u001b[31m, '\u001b[39me\u001b[31m', \u001b[39m'n\u001b[31m', \u001b[39m'g\u001b[31m', \u001b[39m\u001b[31m'c'\u001b[39m\u001b[31m, '\u001b[39mt\u001b[31m', \u001b[39m\u001b[31m'$'\u001b[39m\u001b[31m, '\u001b[39m\u001b[31m+',\u001b[39m\u001b[31m '\\\u001b[39mx\u001b[31m0c'\u001b[39m\u001b[31m, '\u001b[39mk\u001b[31m', \u001b[39m\u001b[31m'h'\u001b[39m\u001b[31m, '\u001b[39m\u001b[31m\"',\u001b[39m 'y\u001b[31m', \u001b[39m'\u001b[31mq',\u001b[39m 'p\u001b[31m', \u001b[39m\u001b[31m'<'\u001b[39m\u001b[31m, '\u001b[39m\\x\u001b[31m0c'\u001b[39m\u001b[31m, '\u001b[39m\u001b[31m\"',\u001b[39m\u001b[31m '\"\u001b[39m\u001b[31m', \u001b[39m\u001b[31m'\"'\u001b[39m\u001b[31m, '\u001b[39m\u001b[31m\"',\u001b[39m 'j\u001b[31m', \u001b[39m\u001b[31m'c'\u001b[39m\u001b[31m, '\u001b[39mp\u001b[31m', \u001b[39m'i\u001b[31m', \u001b[39m'\u001b[31mo',\u001b[39m \u001b[31m'c'\u001b[39m\u001b[31m, '\u001b[39mp\u001b[31m', \u001b[39m\u001b[31m'*'\u001b[39m\u001b[31m, '\u001b[39my\u001b[31m', \u001b[39m'\u001b[31mq',\u001b[39m 't\u001b[31m', \u001b[39m'f\u001b[31m', \u001b[39m\u001b[31m'.'\u001b[39m\u001b[31m, '\u001b[39mi\u001b[31m', \u001b[39m\u001b[31m'w'\u001b[39m\u001b[31m, '\u001b[39mg\u001b[31m', \u001b[39m'u\u001b[31m', \u001b[39m'u\u001b[31m', \u001b[39m'g\u001b[31m', \u001b[39m'u\u001b[31m', \u001b[39m\u001b[31m'.'\u001b[39m\u001b[31m, '\u001b[39mt\u001b[31m', \u001b[39m'k\u001b[31m', \u001b[39m'i\u001b[31m', \u001b[39m'j\u001b[31m', \u001b[39m\u001b[31m'v'\u001b[39m\u001b[31m, '\u001b[39mu\u001b[31m', \u001b[39m\u001b[31m'.'\u001b[39m\u001b[31m, '\u001b[39mn\u001b[31m', \u001b[39m'g\u001b[31m', \u001b[39m\u001b[31m'v'\u001b[39m\u001b[31m, '\u001b[39mv\u001b[31m', \u001b[39m'g\u001b[31m', \u001b[39m't\u001b[31m', \u001b[39m'u\u001b[31m', \u001b[39m\u001b[31m'+'\u001b[39m\u001b[31m, '\u001b[39m\\x\u001b[31m0c'\u001b[39m\u001b[31m, '\u001b[39m\u001b[31m\"',\u001b[39m\u001b[31m '\"\u001b[39m\u001b[31m', \u001b[39m\u001b[31m'\"'\u001b[39m\u001b[31m, '\u001b[39m\u001b[31m\"',\u001b[39m 'r\u001b[31m', \u001b[39m't\u001b[31m', \u001b[39m'k\u001b[31m', \u001b[39m'p\u001b[31m', \u001b[39m\u001b[31m'v'\u001b[39m\u001b[31m, '\u001b[39m\u001b[31m*',\u001b[39m\u001b[31m '$\u001b[39m\u001b[31m', \u001b[39m'R\u001b[31m', \u001b[39m'n\u001b[31m', \u001b[39m\u001b[31m'c'\u001b[39m\u001b[31m, '\u001b[39m\u001b[31m{',\u001b[39m 'g\u001b[31m', \u001b[39m't\u001b[31m', \u001b[39m\u001b[31m'\"'\u001b[39m\u001b[31m, '\u001b[39m4\u001b[31m', \u001b[39m\u001b[31m'\"'\u001b[39m\u001b[31m, '\u001b[39my\u001b[31m', \u001b[39m'\u001b[31mq',\u001b[39m 'p\u001b[31m', \u001b[39m\u001b[31m'#'\u001b[39m\u001b[31m, '\u001b[39m\u001b[31m$',\u001b[39m\u001b[31m '+\u001b[39m\u001b[31m', \u001b[39m\u001b[31m'\\x\u001b[39m\u001b[31m0c'\u001b[39m\u001b[31m, '\u001b[39mg\u001b[31m', \u001b[39m'n\u001b[31m', \u001b[39m'u\u001b[31m', \u001b[39m'g\u001b[31m', \u001b[39m\u001b[31m'<'\u001b[39m\u001b[31m, '\u001b[39m\\x\u001b[31m0c'\u001b[39m\u001b[31m, '\u001b[39m\u001b[31m\"',\u001b[39m\u001b[31m '\"\u001b[39m\u001b[31m', \u001b[39m\u001b[31m'\"'\u001b[39m\u001b[31m, '\u001b[39m\u001b[31m\"',\u001b[39m 'j\u001b[31m', \u001b[39m\u001b[31m'c'\u001b[39m\u001b[31m, '\u001b[39mp\u001b[31m', \u001b[39m'i\u001b[31m', \u001b[39m'\u001b[31mo',\u001b[39m \u001b[31m'c'\u001b[39m\u001b[31m, '\u001b[39mp\u001b[31m', \u001b[39m\u001b[31m'*'\u001b[39m\u001b[31m, '\u001b[39my\u001b[31m', \u001b[39m'\u001b[31mq',\u001b[39m 't\u001b[31m', \u001b[39m'f\u001b[31m', \u001b[39m\u001b[31m'.'\u001b[39m\u001b[31m, '\u001b[39mi\u001b[31m', \u001b[39m\u001b[31m'w'\u001b[39m\u001b[31m, '\u001b[39mg\u001b[31m', \u001b[39m'u\u001b[31m', \u001b[39m'u\u001b[31m', \u001b[39m'g\u001b[31m', \u001b[39m'u\u001b[31m', \u001b[39m\u001b[31m'.'\u001b[39m\u001b[31m, '\u001b[39mt\u001b[31m', \u001b[39m'k\u001b[31m', \u001b[39m'i\u001b[31m', \u001b[39m'j\u001b[31m', \u001b[39m\u001b[31m'v'\u001b[39m\u001b[31m, '\u001b[39mu\u001b[31m', \u001b[39m\u001b[31m'.'\u001b[39m\u001b[31m, '\u001b[39mn\u001b[31m', \u001b[39m'g\u001b[31m', \u001b[39m\u001b[31m'v'\u001b[39m\u001b[31m, '\u001b[39mv\u001b[31m', \u001b[39m'g\u001b[31m', \u001b[39m't\u001b[31m', \u001b[39m'u\u001b[31m', \u001b[39m\u001b[31m'+'\u001b[39m\u001b[31m, '\u001b[39m\\x\u001b[31m0c'\u001b[39m\u001b[31m, '\u001b[39m\u001b[31m\"',\u001b[39m\u001b[31m '\"\u001b[39m\u001b[31m', \u001b[39m\u001b[31m'\"'\u001b[39m\u001b[31m, '\u001b[39m\u001b[31m\"',\u001b[39m 'r\u001b[31m', \u001b[39m't\u001b[31m', \u001b[39m'k\u001b[31m', \u001b[39m'p\u001b[31m', \u001b[39m\u001b[31m'v'\u001b[39m\u001b[31m, '\u001b[39m\u001b[31m*',\u001b[39m\u001b[31m '$\u001b[39m\u001b[31m', \u001b[39m\u001b[31m'['\u001b[39m\u001b[31m, '\u001b[39m\u001b[31mq',\u001b[39m\u001b[31m 'w\u001b[39m\u001b[31m', \u001b[39m\u001b[31m'\"'\u001b[39m\u001b[31m, '\u001b[39mn\u001b[31m', \u001b[39m'\u001b[31mq',\u001b[39m 'u\u001b[31m', \u001b[39m\u001b[31m'v'\u001b[39m\u001b[31m, '\u001b[39m\u001b[31m0',\u001b[39m\u001b[31m '\"\u001b[39m\u001b[31m', \u001b[39m'V\u001b[31m', \u001b[39m'j\u001b[31m', \u001b[39m'g\u001b[31m', \u001b[39m\u001b[31m'\"'\u001b[39m\u001b[31m, '\u001b[39my\u001b[31m', \u001b[39m'\u001b[31mq',\u001b[39m 't\u001b[31m', \u001b[39m'f\u001b[31m', \u001b[39m\u001b[31m'\"'\u001b[39m\u001b[31m, '\u001b[39my\u001b[31m', \u001b[39m\u001b[31m'c'\u001b[39m\u001b[31m, '\u001b[39mu\u001b[31m', \u001b[39m\u001b[31m'$'\u001b[39m\u001b[31m, '\u001b[39m\u001b[31m.',\u001b[39m\u001b[31m '\"\u001b[39m\u001b[31m', \u001b[39m'y\u001b[31m', \u001b[39m'\u001b[31mq',\u001b[39m 't\u001b[31m', \u001b[39m'f\u001b[31m', \u001b[39m\u001b[31m'+'\u001b[39m\u001b[31m, '\u001b[39m\\x\u001b[31m0c'\u001b[39m\u001b[31m, '\u001b[39m\\x\u001b[31m0c'\u001b[39m\u001b[31m, '\u001b[39m\\x\u001b[31m0c'\u001b[39m\u001b[31m, '\u001b[39m\\x\u001b[31m0c'\u001b[39m\u001b[31m, '\u001b[39m\\x\u001b[31m0c'\u001b[39m\u001b[31m, '\u001b[39m\\x\u001b[31m0c'\u001b[39m\u001b[31m, '\u001b[39m\\x\u001b[31m0c'\u001b[39m\u001b[31m, '\u001b[39m\\x\u001b[31m0c'\u001b[39m\u001b[31m, '\u001b[39m\\x\u001b[31m0c'\u001b[39m\u001b[31m, '\u001b[39m\\x\u001b[31m0c'\u001b[39m\u001b[31m]\n",
      "k\u001b[39mey\u001b[31m =2\u001b[39m\n",
      "e\u001b[31mxec\u001b[39m(d\u001b[31mecr\u001b[39mypt(cipher\u001b[31m, k\u001b[39mey))\n"
     ]
    },
    {
     "data": {
      "text/plain": [
       "re.compile(r'(\\W\\W\\W|\\W\\Wk|o\\W\\W|\\Wad|7\\W\\W|\\Wd\\W|\\We\\W|ord|q\\W\\W|5\\W\\W|\\Wv\\W|2\\W\\W|\\Wh\\W|ryp|dd\\W|3\\W\\W|\\Ww\\W|or\\W|c\\Wd|\\W\\W2|\\W\\Ww|h\\W\\W|xec|\\W\\Wx|\\Wc\\W|\\W\\Wn|0c\\W|0\\W\\W|ecr|\\W8\\W)',\n",
       "           re.UNICODE)"
      ]
     },
     "execution_count": 27,
     "metadata": {},
     "output_type": "execute_result"
    }
   ],
   "source": [
    "filename = '/kaggle/input/script-2/script2algo1key1.py'\n",
    "HighlightTopWeights(filename, 30, True)"
   ]
  },
  {
   "cell_type": "code",
   "execution_count": 28,
   "id": "2dc20bf4",
   "metadata": {
    "execution": {
     "iopub.execute_input": "2024-04-15T15:48:03.631782Z",
     "iopub.status.busy": "2024-04-15T15:48:03.631387Z",
     "iopub.status.idle": "2024-04-15T15:48:03.667993Z",
     "shell.execute_reply": "2024-04-15T15:48:03.666404Z"
    },
    "papermill": {
     "duration": 0.067297,
     "end_time": "2024-04-15T15:48:03.670228",
     "exception": false,
     "start_time": "2024-04-15T15:48:03.602931",
     "status": "completed"
    },
    "scrolled": true,
    "tags": []
   },
   "outputs": [
    {
     "name": "stdout",
     "output_type": "stream",
     "text": [
      "\n",
      "def decrypt(f\u001b[31m, k\u001b[39m\u001b[31m):\n",
      "\u001b[39m\u001b[31m   \u001b[39m\u001b[31m   \u001b[39m\u001b[31m   \u001b[39m\u001b[31m   \u001b[39mdecrypted\u001b[31m = \u001b[39m\u001b[31m\"\"\n",
      "\u001b[39m\u001b[31m   \u001b[39m\u001b[31m   \u001b[39m\u001b[31m   \u001b[39m\u001b[31m   \u001b[39mfor i in f\u001b[31m:\n",
      " \u001b[39m\u001b[31m   \u001b[39m\u001b[31m   \u001b[39m\u001b[31m   \u001b[39m\u001b[31m   \u001b[39m\u001b[31m   \u001b[39mj\u001b[31m = \u001b[39mint(\u001b[31mi/k\u001b[39m\u001b[31m)\n",
      " \u001b[39m\u001b[31m   \u001b[39m\u001b[31m   \u001b[39m\u001b[31m   \u001b[39m\u001b[31m   \u001b[39m\u001b[31m   \u001b[39mdecrypted\u001b[31m +=\u001b[39m chr(j\u001b[31m)\n",
      " \u001b[39m\u001b[31m   \u001b[39m\u001b[31m   \u001b[39m\u001b[31m   \u001b[39m  return decrypted\u001b[31m\n",
      "  \u001b[39m\u001b[31m   \u001b[39m\u001b[31m   \u001b[39m\n",
      "cipher\u001b[31m = \u001b[39m[210, \u001b[31m218\u001b[39m, 224, \u001b[31m222\u001b[39m, 228, 2\u001b[31m32,\u001b[39m 64, \u001b[31m222\u001b[39m, 230, 20, 210, \u001b[31m218\u001b[39m, 224, \u001b[31m222\u001b[39m, 228, 2\u001b[31m32,\u001b[39m 64, 228, 194, 220, 200, \u001b[31m222\u001b[39m, \u001b[31m218\u001b[39m, 20, 200, 202, 204, 64, \u001b[31m208\u001b[39m, 194, 220, 206, \u001b[31m218\u001b[39m, 194, 220, 80, 238, \u001b[31m222\u001b[39m, 228, 200, 88, 64, 238, 228, \u001b[31m222\u001b[39m, 220, 206, 230, 88, 64, 228, 210, 206, \u001b[31m208\u001b[39m, 2\u001b[31m32,\u001b[39m 230, 88, 64, 216, 202, 2\u001b[31m32,\u001b[39m 2\u001b[31m32,\u001b[39m 202, 228, 230, 82, 116, 20, 64, 64, 64, 64, 210, 204, 64, 238, 228, \u001b[31m222\u001b[39m, 220, 206, 230, 124, 96, 116, 20, 64, 64, 64, 64, 64, 64, 64, 64, 224, 228, 210, 220, 2\u001b[31m32,\u001b[39m 80, 68, 146, 220, 198, \u001b[31m222\u001b[39m, 228, 228, 202, 198, 2\u001b[31m32,\u001b[39m 64, 206, 234, 202, 230, 230, 202, 230, 116, 64, 68, 88, 64, 216, 202, 2\u001b[31m32,\u001b[39m 2\u001b[31m32,\u001b[39m 202, 228, 230, 82, 20, 64, 64, 64, 64, \u001b[31m70,\u001b[39m \u001b[31m70,\u001b[39m \u001b[31m218\u001b[39m, 194, 214, 202, 64, 2\u001b[31m32,\u001b[39m \u001b[31m208\u001b[39m, 202, 64, 220, \u001b[31m222\u001b[39m, \u001b[31m222\u001b[39m, 230, 202, 94, \u001b[31m208\u001b[39m, 194, 220, 206, \u001b[31m218\u001b[39m, 194, 220, 20, 64, 64, 64, 64, 224, 228, 210, 220, 2\u001b[31m32,\u001b[39m 80, 68, 64, 64, 190, 190, 190, 190, 190, 190, 190, 190, 190, 190, 190, 190, 190, 190, 190, 190, 190, 190, 184, 220, 64, 2\u001b[31m48,\u001b[39m 64, 64, 64, 64, 64, 64, 64, 64, 64, 64, 64, 64, 64, 64, 64, 64, 64, 64, 2\u001b[31m48,\u001b[39m 184, 220, 64, 2\u001b[31m48,\u001b[39m 64, 64, 64, 64, 64, 64, 64, 64, 64, 64, 64, 64, 64, 64, 64, 64, 64, 64, 2\u001b[31m48,\u001b[39m 68, 82, 20, 64, 64, 64, 64, 210, 204, 64, 238, 228, \u001b[31m222\u001b[39m, 220, 206, 230, 124, 96, 116, 20, 64, 64, 64, 64, 64, 64, 64, 64, 224, 228, 210, 220, 2\u001b[31m32,\u001b[39m 80, 68, 64, 2\u001b[31m48,\u001b[39m 64, 64, 64, 64, 64, 64, 64, 64, 64, 64, 64, 64, 64, 64, 64, 64, 64, 64, 158, 68, 82, 20, 64, 64, 64, 64, 210, 204, 64, 238, 228, \u001b[31m222\u001b[39m, 220, 206, 230, 124, 98, 64, 194, 220, 200, 64, 238, 228, \u001b[31m222\u001b[39m, 220, 206, 230, 120, 106, 116, 20, 64, 64, 64, 64, 64, 64, 64, 64, 224, 228, 210, 220, 2\u001b[31m32,\u001b[39m 80, 68, 64, 2\u001b[31m48,\u001b[39m 64, 64, 64, 64, 64, 64, 64, 64, 64, 64, 64, 64, 64, 64, 64, 64, 64, 64, 2\u001b[31m48,\u001b[39m 68, 82, 20, 64, 64, 64, 64, 210, 204, 64, 238, 228, \u001b[31m222\u001b[39m, 220, 206, 230, 122, 122, 106, 116, 20, 64, 64, 64, 64, 64, 64, 64, 64, 224, 228, 210, 220, 2\u001b[31m32,\u001b[39m 80, 68, 64, 2\u001b[31m48,\u001b[39m 64, 64, 64, 64, 64, 64, 64, 64, 64, 64, 64, 64, 64, 64, 64, 64, 64, 94, 2\u001b[31m48,\u001b[39m 68, 82, 20, 64, 64, 64, 64, 210, 204, 64, 238, 228, \u001b[31m222\u001b[39m, 220, 206, 230, 122, 122, 108, 116, 20, 64, 64, 64, 64, 64, 64, 64, 64, 224, 228, 210, 220, 2\u001b[31m32,\u001b[39m 80, 68, 64, 2\u001b[31m48,\u001b[39m 64, 64, 64, 64, 64, 64, 64, 64, 64, 64, 64, 64, 64, 64, 64, 64, 64, 94, 2\u001b[31m48,\u001b[39m 184, 64, 68, 82, 20, 64, 64, 64, 64, 210, 204, 64, 238, 228, \u001b[31m222\u001b[39m, 220, 206, 230, 122, 122, 102, 116, 20, 64, 64, 64, 64, 64, 64, 64, 64, 224, 228, 210, 220, 2\u001b[31m32,\u001b[39m 80, 68, 64, 2\u001b[31m48,\u001b[39m 64, 64, 64, 64, 64, 64, 64, 64, 64, 64, 64, 64, 64, 64, 64, 64, 64, 94, 68, 82, 20, 64, 64, 64, 64, 210, 204, 64, 238, 228, \u001b[31m222\u001b[39m, 220, 206, 230, 124, 102, 116, 20, 64, 64, 64, 64, 64, 64, 64, 64, 224, 228, 210, 220, 2\u001b[31m32,\u001b[39m 80, 68, 64, 2\u001b[31m48,\u001b[39m 64, 64, 64, 64, 64, 64, 64, 64, 64, 64, 64, 64, 64, 64, 64, 64, 64, 94, 64, 184, 64, 68, 82, 20, 64, 64, 64, 64, 210, 204, 64, 238, 228, \u001b[31m222\u001b[39m, 220, 206, 230, 124, 122, 102, 116, 20, 64, 64, 64, 64, 64, 64, 64, 64, 224, 228, 210, 220, 2\u001b[31m32,\u001b[39m 80, 68, 64, 2\u001b[31m48,\u001b[39m 184, 220, 64, 2\u001b[31m48,\u001b[39m 184, 220, 64, 2\u001b[31m48,\u001b[39m 68, 82, 20, 64, 64, 64, 64, 210, 204, 64, 238, 228, \u001b[31m222\u001b[39m, 220, 206, 230, 122, 122, 100, 116, 20, 64, 64, 64, 64, 64, 64, 64, 64, 224, 228, 210, 220, 2\u001b[31m32,\u001b[39m 80, 68, 64, 2\u001b[31m48,\u001b[39m 184, 220, 64, 2\u001b[31m48,\u001b[39m 184, 220, 64, 2\u001b[31m48,\u001b[39m 184, 220, 64, 2\u001b[31m48,\u001b[39m 68, 82, 20, 64, 64, 64, 64, 210, 204, 64, 238, 228, \u001b[31m222\u001b[39m, 220, 206, 230, 64, 122, 122, 64, 98, 116, 20, 64, 64, 64, 64, 64, 64, 64, 64, 224, 228, 210, 220, 2\u001b[31m32,\u001b[39m 80, 68, 64, 2\u001b[31m48,\u001b[39m 184, 220, 64, 2\u001b[31m48,\u001b[39m 184, 220, 64, 2\u001b[31m48,\u001b[39m 184, 220, 64, 2\u001b[31m48,\u001b[39m 184, 220, 64, 2\u001b[31m48,\u001b[39m 68, 82, 20, 64, 64, 64, 64, 210, 204, 64, 238, 228, \u001b[31m222\u001b[39m, 220, 206, 230, 64, 122, 122, 96, 116, 20, 64, 64, 64, 64, 64, 64, 64, 64, 224, 228, 210, 220, 2\u001b[31m32,\u001b[39m 80, 68, 64, 2\u001b[31m48,\u001b[39m 184, 220, 64, 2\u001b[31m48,\u001b[39m 184, 220, 64, 2\u001b[31m48,\u001b[39m 184, 220, 64, 2\u001b[31m48,\u001b[39m 184, 220, 64, 2\u001b[31m48,\u001b[39m 184, 220, 64, 2\u001b[31m48,\u001b[39m 68, 82, 20, 64, 64, 64, 64, 224, 228, 210, 220, 2\u001b[31m32,\u001b[39m 80, 68, 190, 190, 190, 68, 82, 20, 64, 64, 64, 64, \u001b[31m70,\u001b[39m \u001b[31m70,\u001b[39m \u001b[31m218\u001b[39m, 194, 214, 202, 64, 2\u001b[31m32,\u001b[39m \u001b[31m208\u001b[39m, 202, 64, 196, 216, 194, 220, 214, 230, 94, 204, 210, 216, 216, 64, 210, 220, 64, 238, \u001b[31m208\u001b[39m, 202, 228, 202, 64, 220, 202, 202, 200, 202, 200, 20, 64, 64, 64, 64, 2\u001b[31m32,\u001b[39m \u001b[31m222\u001b[39m, 224, 228, 210, 220, 2\u001b[31m32,\u001b[39m 64, 122, 64, 68, 64, 64, 64, 64, 64, 64, 64, 68, 20, 64, 64, 64, 64, 204, \u001b[31m222\u001b[39m, 228, 64, 210, 64, 210, 220, 64, 238, \u001b[31m222\u001b[39m, 228, 200, 116, 20, 64, 64, 64, 64, 64, 64, 64, 64, 210, 204, 64, 210, 64, 210, 220, 64, 228, 210, 206, \u001b[31m208\u001b[39m, 2\u001b[31m32,\u001b[39m 230, 116, 20, 64, 64, 64, 64, 64, 64, 64, 64, 64, 64, 64, 64, 2\u001b[31m32,\u001b[39m \u001b[31m222\u001b[39m, 224, 228, 210, 220, 2\u001b[31m32,\u001b[39m 86, 122, 64, 210, 20, 64, 64, 64, 64, 64, 64, 64, 64, 202, 216, 230, 202, 116, 20, 64, 64, 64, 64, 64, 64, 64, 64, 64, 64, 64, 64, 2\u001b[31m32,\u001b[39m \u001b[31m222\u001b[39m, 224, 228, 210, 220, 2\u001b[31m32,\u001b[39m 86, 122, 68, 190, 68, 20, 64, 64, 64, 64, 64, 64, 64, 64, 2\u001b[31m32,\u001b[39m \u001b[31m222\u001b[39m, 224, 228, 210, 220, 2\u001b[31m32,\u001b[39m 86, 122, 68, 64, 68, 20, 64, 64, 64, 64, 224, 228, 210, 220, 2\u001b[31m32,\u001b[39m 80, 2\u001b[31m32,\u001b[39m \u001b[31m222\u001b[39m, 224, 228, 210, 220, 2\u001b[31m32,\u001b[39m 82, 20, 216, 202, 2\u001b[31m32,\u001b[39m 2\u001b[31m32,\u001b[39m 202, 228, 230, 122, 68, 68, 64, \u001b[31m70,\u001b[39m \u001b[31m70,\u001b[39m 2\u001b[31m32,\u001b[39m \u001b[31m208\u001b[39m, 202, 64, 210, 220, 198, \u001b[31m222\u001b[39m, 228, 228, 202, 198, 2\u001b[31m32,\u001b[39m 64, 206, 234, 202, 230, 230, 202, 230, 20, 228, 210, 206, \u001b[31m208\u001b[39m, 2\u001b[31m32,\u001b[39m 230, 64, 122, 64, 182, 186, 64, \u001b[31m70,\u001b[39m \u001b[31m70,\u001b[39m 2\u001b[31m32,\u001b[39m \u001b[31m208\u001b[39m, 202, 64, 198, \u001b[31m222\u001b[39m, 228, 228, 202, 198, 2\u001b[31m32,\u001b[39m 64, 206, 234, 202, 230, 230, 202, 230, 20, 206, 234, 202, 230, 230, 202, 230, 122, 96, 64, \u001b[31m70,\u001b[39m \u001b[31m70,\u001b[39m 2\u001b[31m32,\u001b[39m \u001b[31m208\u001b[39m, 202, 64, 220, 234, \u001b[31m218\u001b[39m, 196, 202, 228, 64, \u001b[31m222\u001b[39m, 204, 64, 210, 220, 198, \u001b[31m222\u001b[39m, 228, 228, 202, 198, 2\u001b[31m32,\u001b[39m 64, 206, 234, 202, 230, 230, 202, 230, 20, 238, \u001b[31m222\u001b[39m, 220, 122, 140, 194, 216, 230, 202, 20, 224, 228, 210, 220, 2\u001b[31m32,\u001b[39m 80, 68, 174, 202, 216, 198, \u001b[31m222\u001b[39m, \u001b[31m218\u001b[39m, 202, 64, 2\u001b[31m32,\u001b[39m \u001b[31m222\u001b[39m, 64, \u001b[31m208\u001b[39m, 194, 220, 206, \u001b[31m218\u001b[39m, 194, 220, 66, 68, 82, 20, 20, 20, 20, 238, \u001b[31m222\u001b[39m, 228, 200, 64, 122, 64, 210, 220, 224, 234, 2\u001b[31m32,\u001b[39m 80, 68, 160, 216, 194, \u001b[31m242\u001b[39m, 202, 228, 64, 98, 88, 64, 210, 220, 224, 234, 2\u001b[31m32,\u001b[39m 64, \u001b[31m242\u001b[39m, \u001b[31m222\u001b[39m, 234, 228, 64, 238, \u001b[31m222\u001b[39m, 228, 200, 116, 184, 220, 68, 82, 20, \u001b[31m222\u001b[39m, 230, 92, 230, \u001b[31m242\u001b[39m, 230, 2\u001b[31m32,\u001b[39m 202, \u001b[31m218\u001b[39m, 80, 68, 198, 216, 202, 194, 228, 68, 82, 64, 20, 20, 20, 20, 238, \u001b[31m208\u001b[39m, 210, 216, 202, 64, 220, \u001b[31m222\u001b[39m, 2\u001b[31m32,\u001b[39m 80, 238, \u001b[31m222\u001b[39m, 220, 82, 64, 194, 220, 200, 64, 206, 234, 202, 230, 230, 202, 230, 120, 108, 116, 20, 64, 64, 64, 64, \u001b[31m208\u001b[39m, 194, 220, 206, \u001b[31m218\u001b[39m, 194, 220, 80, 238, \u001b[31m222\u001b[39m, 228, 200, 88, 206, 234, 202, 230, 230, 202, 230, 88, 228, 210, 206, \u001b[31m208\u001b[39m, 2\u001b[31m32,\u001b[39m 230, 88, 216, 202, 2\u001b[31m32,\u001b[39m 2\u001b[31m32,\u001b[39m 202, 228, 230, 82, 20, 64, 64, 64, 64, 206, 234, 202, 230, 230, 64, 122, 64, 210, 220, 224, 234, 2\u001b[31m32,\u001b[39m 80, 68, 160, 216, 194, \u001b[31m242\u001b[39m, 202, 228, 64, 100, 88, 64, 206, 234, 202, 230, 230, 64, 194, 64, 216, 202, 2\u001b[31m32,\u001b[39m 2\u001b[31m32,\u001b[39m 202, 228, 116, 184, 220, 68, 82, 20, 64, 64, 64, 64, 210, 204, 64, 206, 234, 202, 230, 230, 64, 210, 220, 64, 238, \u001b[31m222\u001b[39m, 228, 200, 116, 20, 64, 64, 64, 64, 64, 64, 64, 64, 228, 210, 206, \u001b[31m208\u001b[39m, 2\u001b[31m32,\u001b[39m 230, 86, 122, 206, 234, 202, 230, 230, 20, 64, 64, 64, 64, 202, 216, 230, 202, 116, 20, 64, 64, 64, 64, 64, 64, 64, 64, 216, 202, 2\u001b[31m32,\u001b[39m 2\u001b[31m32,\u001b[39m 202, 228, 230, 86, 122, 206, 234, 202, 230, 230, 20, 64, 64, 64, 64, 64, 64, 64, 64, 206, 234, 202, 230, 230, 202, 230, 86, 122, 98, 20, 64, 64, 64, 64, 238, \u001b[31m222\u001b[39m, 220, 64, 122, 64, 168, 228, 234, 202, 20, 64, 64, 64, 64, 204, \u001b[31m222\u001b[39m, 228, 64, 210, 64, 210, 220, 64, 238, \u001b[31m222\u001b[39m, 228, 200, 116, 20, 64, 64, 64, 64, 64, 64, 64, 64, 210, 204, 64, 220, \u001b[31m222\u001b[39m, 2\u001b[31m32,\u001b[39m 80, 210, 64, 210, 220, 64, 228, 210, 206, \u001b[31m208\u001b[39m, 2\u001b[31m32,\u001b[39m 230, 82, 116, 20, 64, 64, 64, 64, 64, 64, 64, 64, 64, 64, 64, 64, 238, \u001b[31m222\u001b[39m, 220, 64, 122, 64, 140, 194, 216, 230, 202, 20, 64, 64, 64, 64, \u001b[31m222\u001b[39m, 230, 92, 230, \u001b[31m242\u001b[39m, 230, 2\u001b[31m32,\u001b[39m 202, \u001b[31m218\u001b[39m, 80, 68, 198, 216, 202, 194, 228, 68, 82, 20, 210, 204, 64, 238, \u001b[31m222\u001b[39m, 220, 116, 20, 64, 64, 64, 64, \u001b[31m208\u001b[39m, 194, 220, 206, \u001b[31m218\u001b[39m, 194, 220, 80, 238, \u001b[31m222\u001b[39m, 228, 200, 88, 206, 234, 202, 230, 230, 202, 230, 88, 228, 210, 206, \u001b[31m208\u001b[39m, 2\u001b[31m32,\u001b[39m 230, 88, 216, 202, 2\u001b[31m32,\u001b[39m 2\u001b[31m32,\u001b[39m 202, 228, 230, 82, 20, 64, 64, 64, 64, 224, 228, 210, 220, 2\u001b[31m32,\u001b[39m 80, 68, 160, 216, 194, \u001b[31m242\u001b[39m, 202, 228, 64, 100, 64, 238, \u001b[31m222\u001b[39m, 220, 66, 68, 82, 20, 202, 216, 230, 202, 116, 20, 64, 64, 64, 64, \u001b[31m208\u001b[39m, 194, 220, 206, \u001b[31m218\u001b[39m, 194, 220, 80, 238, \u001b[31m222\u001b[39m, 228, 200, 88, 206, 234, 202, 230, 230, 202, 230, 88, 228, 210, 206, \u001b[31m208\u001b[39m, 2\u001b[31m32,\u001b[39m 230, 88, 216, 202, 2\u001b[31m32,\u001b[39m 2\u001b[31m32,\u001b[39m 202, 228, 230, 82, 20, 64, 64, 64, 64, 224, 228, 210, 220, 2\u001b[31m32,\u001b[39m 80, 68, 178, \u001b[31m222\u001b[39m, 234, 64, 216, \u001b[31m222\u001b[39m, 230, 2\u001b[31m32,\u001b[39m 92, 64, 168, \u001b[31m208\u001b[39m, 202, 64, 238, \u001b[31m222\u001b[39m, 228, 200, 64, 238, 194, 230, 68, 88, 64, 238, \u001b[31m222\u001b[39m, 228, 200, 82, 20, 20, 20, 20, 20, 20, 20, 20, 20, 20\u001b[31m]\n",
      "k\u001b[39mey =2\n",
      "exec(decrypt(cipher\u001b[31m, k\u001b[39mey))\n"
     ]
    },
    {
     "data": {
      "text/plain": [
       "re.compile(r'(\\W\\W\\W|208|222|32\\W|\\W\\Wk|i\\Wk|48\\W|70\\W|242|218)', re.UNICODE)"
      ]
     },
     "execution_count": 28,
     "metadata": {},
     "output_type": "execute_result"
    }
   ],
   "source": [
    "filename = '/kaggle/input/script2algo2/script2algo2key1.py'\n",
    "HighlightTopWeights(filename, 10, True)"
   ]
  },
  {
   "cell_type": "code",
   "execution_count": 29,
   "id": "c51cefd3",
   "metadata": {
    "execution": {
     "iopub.execute_input": "2024-04-15T15:48:03.729027Z",
     "iopub.status.busy": "2024-04-15T15:48:03.727875Z",
     "iopub.status.idle": "2024-04-15T15:48:03.742612Z",
     "shell.execute_reply": "2024-04-15T15:48:03.741440Z"
    },
    "papermill": {
     "duration": 0.04682,
     "end_time": "2024-04-15T15:48:03.745271",
     "exception": false,
     "start_time": "2024-04-15T15:48:03.698451",
     "status": "completed"
    },
    "tags": []
   },
   "outputs": [],
   "source": [
    "def hlWeightsinSeq(f, num, verbose, k):\n",
    "    if num <= 0:\n",
    "        print(\"Error\")\n",
    "        return\n",
    "    with open(f) as file:\n",
    "        fil = file.read()\n",
    "    file = fileDeal(fil)\n",
    "    v = str(makeVector(file))\n",
    "    v = np.array(transformVector(v))\n",
    "    v = v.reshape(1, -1)\n",
    "    nonz = nonzero(v) #gets the nonzero indices of the vector\n",
    "    nonzdf = pd.DataFrame(nonz)\n",
    "    nonzdf = nonzdf.transpose() #switches x and y axes\n",
    "    #this is not absolute value because there are very few negative weights\n",
    "    nonzdf['max weight'] = nonzdf[1].apply(get_max)\n",
    "    #same thing here no absolute value\n",
    "    ranked = nonzdf.sort_values(by = 'max weight', ascending = False)[:num] #get the top # of the max weights\n",
    "    ranked['original str'] = ranked[1].apply(get_string_back)\n",
    "    \n",
    "    #this segment makes the regular expressions from the strings\n",
    "    sequences = list(ranked['original str'])\n",
    "    regexes = []\n",
    "    for seq in sequences:\n",
    "        regexes.append(regexpressionmaker(seq))\n",
    "    sep = '|'\n",
    "    regexes = sep.join(regexes)\n",
    "    regexes = '(' + regexes + ')'\n",
    "    regex = re.compile(regexes)\n",
    "    matches = re.finditer(regex, fil)\n",
    "    new_pairs = []\n",
    "    first = True\n",
    "    #this only keeps matches that are within k distance of another match\n",
    "    for i in matches:\n",
    "        sp = i.span()\n",
    "        if (not first) and (sp[0] <= pre_sp[1] + k):\n",
    "            new_pairs.append((pre_sp, sp))\n",
    "        pre_sp = sp\n",
    "        first = False\n",
    "\n",
    "    if verbose:\n",
    "        #initialize variables\n",
    "        last = 0\n",
    "        \n",
    "        for p in new_pairs: \n",
    "            print(fil[last:p[0][0]], end=\"\")\n",
    "            print(Back.RED, end='')\n",
    "            print(fil[max(last, p[0][0]):p[1][1]], end='')\n",
    "            last = p[1][1]\n",
    "            print(Style.RESET_ALL, end='')\n",
    "        print(fil[last:])\n",
    "    return regex"
   ]
  },
  {
   "cell_type": "code",
   "execution_count": 30,
   "id": "08ae943a",
   "metadata": {
    "execution": {
     "iopub.execute_input": "2024-04-15T15:48:03.802724Z",
     "iopub.status.busy": "2024-04-15T15:48:03.802330Z",
     "iopub.status.idle": "2024-04-15T15:48:03.881940Z",
     "shell.execute_reply": "2024-04-15T15:48:03.880850Z"
    },
    "papermill": {
     "duration": 0.112856,
     "end_time": "2024-04-15T15:48:03.886115",
     "exception": false,
     "start_time": "2024-04-15T15:48:03.773259",
     "status": "completed"
    },
    "scrolled": true,
    "tags": []
   },
   "outputs": [
    {
     "name": "stdout",
     "output_type": "stream",
     "text": [
      "\n",
      "def decrypt(f\u001b[41m, k):\n",
      "\u001b[0m\u001b[41m   \u001b[0m\u001b[41m   \u001b[0m  decrypted\u001b[41m = \"\"\n",
      "\u001b[0m\u001b[41m   \u001b[0m\u001b[41m   \u001b[0m  for i in f\u001b[41m:\n",
      "    \u001b[0m\u001b[41m   \u001b[0m\u001b[41m   \u001b[0m  decrypted = decrypted.__add__(chr((ord(i)-k)%128\u001b[41m))\n",
      "   \u001b[0m\u001b[41m   \u001b[0m  return decrypted\u001b[41m\n",
      "     \u001b[0m\u001b[41m   \u001b[0m\n",
      "cipher\u001b[41m = ['k\u001b[0m\u001b[41m', \u001b[0m\u001b[41m'o',\u001b[0m 'r\u001b[41m', 'q',\u001b[0m 't', 'v\u001b[41m', '\"'\u001b[0m\u001b[41m, '\u001b[0m\u001b[41mq',\u001b[0m 'u', '\\x0c', 'k\u001b[41m', 'o',\u001b[0m 'r\u001b[41m', 'q',\u001b[0m 't', 'v\u001b[41m', '\"'\u001b[0m\u001b[41m, '\u001b[0m\u001b[41mt', \u001b[0m'c', 'p', 'f\u001b[41m', 'q',\u001b[0m '\u001b[41mo', '\\\u001b[0mx0c', 'f', 'g', 'h\u001b[41m', '\"'\u001b[0m\u001b[41m, '\u001b[0m\u001b[41mj', \u001b[0m'c', 'p', 'i\u001b[41m', 'o',\u001b[0m 'c', 'p\u001b[41m', '*'\u001b[0m\u001b[41m, '\u001b[0m\u001b[41my', \u001b[0m\u001b[41m'q',\u001b[0m 't', 'f\u001b[41m', '.'\u001b[0m\u001b[41m, '\u001b[0m\u001b[41m\"',\u001b[0m 'y', 't\u001b[41m', 'q',\u001b[0m 'p', 'i', 'u\u001b[41m', '.'\u001b[0m\u001b[41m, '\u001b[0m\u001b[41m\"',\u001b[0m 't', 'k', 'i', 'j', 'v', 'u\u001b[41m', '.'\u001b[0m\u001b[41m, '\u001b[0m\u001b[41m\"',\u001b[0m 'n', 'g', 'v', 'v', 'g', 't', 'u\u001b[41m', '+'\u001b[0m\u001b[41m, '\u001b[0m\u001b[41m<',\u001b[0m\u001b[41m '\\\u001b[0mx0c\u001b[41m', '\"'\u001b[0m\u001b[41m, '\u001b[0m\u001b[41m\"',\u001b[0m\u001b[41m '\"\u001b[0m\u001b[41m', \u001b[0m\u001b[41m'\"'\u001b[0m\u001b[41m, '\u001b[0m\u001b[41mk', \u001b[0m'h\u001b[41m', '\"'\u001b[0m\u001b[41m, '\u001b[0m\u001b[41my', \u001b[0m't\u001b[41m', 'q',\u001b[0m 'p', 'i', 'u\u001b[41m', '@'\u001b[0m\u001b[41m, '\u001b[0m\u001b[41m2', \u001b[0m\u001b[41m'<'\u001b[0m\u001b[41m, '\u001b[0m\\x0c\u001b[41m', '\"'\u001b[0m\u001b[41m, '\u001b[0m\u001b[41m\"',\u001b[0m\u001b[41m '\"\u001b[0m\u001b[41m', \u001b[0m\u001b[41m'\"'\u001b[0m\u001b[41m, '\u001b[0m\u001b[41m\"',\u001b[0m\u001b[41m '\"\u001b[0m\u001b[41m', \u001b[0m\u001b[41m'\"'\u001b[0m\u001b[41m, '\u001b[0m\u001b[41m\"',\u001b[0m 'r', 't', 'k', 'p', 'v\u001b[41m', '*'\u001b[0m\u001b[41m, '\u001b[0m\u001b[41m$',\u001b[0m 'K', 'p\u001b[41m', 'e'\u001b[0m\u001b[41m, '\u001b[0m\u001b[41mq',\u001b[0m 't', 't', 'g\u001b[41m', 'e'\u001b[0m\u001b[41m, '\u001b[0m\u001b[41mv', \u001b[0m\u001b[41m'\"'\u001b[0m\u001b[41m, '\u001b[0m\u001b[41mi', \u001b[0m'w', 'g', 'u', 'u', 'g', 'u\u001b[41m', '<'\u001b[0m\u001b[41m, '\u001b[0m\u001b[41m\"',\u001b[0m\u001b[41m '$\u001b[0m\u001b[41m', \u001b[0m\u001b[41m'.'\u001b[0m\u001b[41m, '\u001b[0m\u001b[41m\"',\u001b[0m 'n', 'g', 'v', 'v', 'g', 't', 'u\u001b[41m', '+'\u001b[0m\u001b[41m, '\u001b[0m\\x0c\u001b[41m', '\"'\u001b[0m\u001b[41m, '\u001b[0m\u001b[41m\"',\u001b[0m\u001b[41m '\"\u001b[0m\u001b[41m', \u001b[0m\u001b[41m'\"'\u001b[0m\u001b[41m, '\u001b[0m\u001b[41m%',\u001b[0m\u001b[41m '%\u001b[0m\u001b[41m', \u001b[0m\u001b[41m'o',\u001b[0m 'c', 'm', 'g\u001b[41m', '\"'\u001b[0m\u001b[41m, '\u001b[0m\u001b[41mv', \u001b[0m'j', 'g\u001b[41m', '\"'\u001b[0m\u001b[41m, '\u001b[0m\u001b[41mp', \u001b[0m\u001b[41m'q',\u001b[0m 'q', 'u', 'g', '1', 'j', 'c', 'p', 'i\u001b[41m', 'o',\u001b[0m 'c', 'p', '\\x0c\u001b[41m', '\"'\u001b[0m\u001b[41m, '\u001b[0m\u001b[41m\"',\u001b[0m\u001b[41m '\"\u001b[0m\u001b[41m', \u001b[0m\u001b[41m'\"'\u001b[0m\u001b[41m, '\u001b[0m\u001b[41mr', \u001b[0m't', 'k', 'p', 'v\u001b[41m', '*'\u001b[0m\u001b[41m, '\u001b[0m\u001b[41m$',\u001b[0m\u001b[41m '\"\u001b[0m\u001b[41m', \u001b[0m\u001b[41m'\"'\u001b[0m\u001b[41m, '\u001b[0m\u001b[41ma', \u001b[0m'a', 'a', 'a', 'a', 'a', 'a', 'a', 'a', 'a', 'a', 'a', 'a', 'a', 'a', 'a', 'a', 'a\u001b[41m', '^'\u001b[0m\u001b[41m, '\u001b[0m\u001b[41mp', \u001b[0m\u001b[41m'\"'\u001b[0m\u001b[41m, '\u001b[0m\u001b[41m~',\u001b[0m\u001b[41m '\"\u001b[0m\u001b[41m', \u001b[0m\u001b[41m'\"'\u001b[0m\u001b[41m, '\u001b[0m\u001b[41m\"',\u001b[0m\u001b[41m '\"\u001b[0m\u001b[41m', \u001b[0m\u001b[41m'\"'\u001b[0m\u001b[41m, '\u001b[0m\u001b[41m\"',\u001b[0m\u001b[41m '\"\u001b[0m\u001b[41m', \u001b[0m\u001b[41m'\"'\u001b[0m\u001b[41m, '\u001b[0m\u001b[41m\"',\u001b[0m\u001b[41m '\"\u001b[0m\u001b[41m', \u001b[0m\u001b[41m'\"'\u001b[0m\u001b[41m, '\u001b[0m\u001b[41m\"',\u001b[0m\u001b[41m '\"\u001b[0m\u001b[41m', \u001b[0m\u001b[41m'\"'\u001b[0m\u001b[41m, '\u001b[0m\u001b[41m\"',\u001b[0m\u001b[41m '\"\u001b[0m\u001b[41m', \u001b[0m\u001b[41m'\"'\u001b[0m\u001b[41m, '\u001b[0m\u001b[41m\"',\u001b[0m\u001b[41m '~\u001b[0m\u001b[41m', \u001b[0m\u001b[41m'^'\u001b[0m\u001b[41m, '\u001b[0m\u001b[41mp', \u001b[0m\u001b[41m'\"'\u001b[0m\u001b[41m, '\u001b[0m\u001b[41m~',\u001b[0m\u001b[41m '\"\u001b[0m\u001b[41m', \u001b[0m\u001b[41m'\"'\u001b[0m\u001b[41m, '\u001b[0m\u001b[41m\"',\u001b[0m\u001b[41m '\"\u001b[0m\u001b[41m', \u001b[0m\u001b[41m'\"'\u001b[0m\u001b[41m, '\u001b[0m\u001b[41m\"',\u001b[0m\u001b[41m '\"\u001b[0m\u001b[41m', \u001b[0m\u001b[41m'\"'\u001b[0m\u001b[41m, '\u001b[0m\u001b[41m\"',\u001b[0m\u001b[41m '\"\u001b[0m\u001b[41m', \u001b[0m\u001b[41m'\"'\u001b[0m\u001b[41m, '\u001b[0m\u001b[41m\"',\u001b[0m\u001b[41m '\"\u001b[0m\u001b[41m', \u001b[0m\u001b[41m'\"'\u001b[0m\u001b[41m, '\u001b[0m\u001b[41m\"',\u001b[0m\u001b[41m '\"\u001b[0m\u001b[41m', \u001b[0m\u001b[41m'\"'\u001b[0m\u001b[41m, '\u001b[0m\u001b[41m\"',\u001b[0m\u001b[41m '~\u001b[0m\u001b[41m', \u001b[0m\u001b[41m'$'\u001b[0m\u001b[41m, '\u001b[0m\u001b[41m+',\u001b[0m\u001b[41m '\\\u001b[0mx0c\u001b[41m', '\"'\u001b[0m\u001b[41m, '\u001b[0m\u001b[41m\"',\u001b[0m\u001b[41m '\"\u001b[0m\u001b[41m', \u001b[0m\u001b[41m'\"'\u001b[0m\u001b[41m, '\u001b[0m\u001b[41mk', \u001b[0m'h\u001b[41m', '\"'\u001b[0m\u001b[41m, '\u001b[0m\u001b[41my', \u001b[0m't\u001b[41m', 'q',\u001b[0m 'p', 'i', 'u\u001b[41m', '@'\u001b[0m\u001b[41m, '\u001b[0m\u001b[41m2', \u001b[0m\u001b[41m'<'\u001b[0m\u001b[41m, '\u001b[0m\\x0c\u001b[41m', '\"'\u001b[0m\u001b[41m, '\u001b[0m\u001b[41m\"',\u001b[0m\u001b[41m '\"\u001b[0m\u001b[41m', \u001b[0m\u001b[41m'\"'\u001b[0m\u001b[41m, '\u001b[0m\u001b[41m\"',\u001b[0m\u001b[41m '\"\u001b[0m\u001b[41m', \u001b[0m\u001b[41m'\"'\u001b[0m\u001b[41m, '\u001b[0m\u001b[41m\"',\u001b[0m 'r', 't', 'k', 'p', 'v\u001b[41m', '*'\u001b[0m\u001b[41m, '\u001b[0m\u001b[41m$',\u001b[0m\u001b[41m '\"\u001b[0m\u001b[41m', \u001b[0m\u001b[41m'~'\u001b[0m\u001b[41m, '\u001b[0m\u001b[41m\"',\u001b[0m\u001b[41m '\"\u001b[0m\u001b[41m', \u001b[0m\u001b[41m'\"'\u001b[0m\u001b[41m, '\u001b[0m\u001b[41m\"',\u001b[0m\u001b[41m '\"\u001b[0m\u001b[41m', \u001b[0m\u001b[41m'\"'\u001b[0m\u001b[41m, '\u001b[0m\u001b[41m\"',\u001b[0m\u001b[41m '\"\u001b[0m\u001b[41m', \u001b[0m\u001b[41m'\"'\u001b[0m\u001b[41m, '\u001b[0m\u001b[41m\"',\u001b[0m\u001b[41m '\"\u001b[0m\u001b[41m', \u001b[0m\u001b[41m'\"'\u001b[0m\u001b[41m, '\u001b[0m\u001b[41m\"',\u001b[0m\u001b[41m '\"\u001b[0m\u001b[41m', \u001b[0m\u001b[41m'\"'\u001b[0m\u001b[41m, '\u001b[0m\u001b[41m\"',\u001b[0m\u001b[41m '\"\u001b[0m\u001b[41m', \u001b[0m\u001b[41m'\"'\u001b[0m\u001b[41m, '\u001b[0m\u001b[41mQ', \u001b[0m\u001b[41m'$'\u001b[0m\u001b[41m, '\u001b[0m\u001b[41m+',\u001b[0m\u001b[41m '\\\u001b[0mx0c\u001b[41m', '\"'\u001b[0m\u001b[41m, '\u001b[0m\u001b[41m\"',\u001b[0m\u001b[41m '\"\u001b[0m\u001b[41m', \u001b[0m\u001b[41m'\"'\u001b[0m\u001b[41m, '\u001b[0m\u001b[41mk', \u001b[0m'h\u001b[41m', '\"'\u001b[0m\u001b[41m, '\u001b[0m\u001b[41my', \u001b[0m't\u001b[41m', 'q',\u001b[0m 'p', 'i', 'u\u001b[41m', '@'\u001b[0m\u001b[41m, '\u001b[0m\u001b[41m3', \u001b[0m\u001b[41m'\"'\u001b[0m\u001b[41m, '\u001b[0m\u001b[41mc', \u001b[0m'p', 'f\u001b[41m', '\"'\u001b[0m\u001b[41m, '\u001b[0m\u001b[41my', \u001b[0m't\u001b[41m', 'q',\u001b[0m 'p', 'i', 'u\u001b[41m', '>'\u001b[0m\u001b[41m, '\u001b[0m\u001b[41m7',\u001b[0m\u001b[41m '<\u001b[0m\u001b[41m', \u001b[0m'\\x0c\u001b[41m', '\"'\u001b[0m\u001b[41m, '\u001b[0m\u001b[41m\"',\u001b[0m\u001b[41m '\"\u001b[0m\u001b[41m', \u001b[0m\u001b[41m'\"'\u001b[0m\u001b[41m, '\u001b[0m\u001b[41m\"',\u001b[0m\u001b[41m '\"\u001b[0m\u001b[41m', \u001b[0m\u001b[41m'\"'\u001b[0m\u001b[41m, '\u001b[0m\u001b[41m\"',\u001b[0m 'r', 't', 'k', 'p', 'v\u001b[41m', '*'\u001b[0m\u001b[41m, '\u001b[0m\u001b[41m$',\u001b[0m\u001b[41m '\"\u001b[0m\u001b[41m', \u001b[0m\u001b[41m'~'\u001b[0m\u001b[41m, '\u001b[0m\u001b[41m\"',\u001b[0m\u001b[41m '\"\u001b[0m\u001b[41m', \u001b[0m\u001b[41m'\"'\u001b[0m\u001b[41m, '\u001b[0m\u001b[41m\"',\u001b[0m\u001b[41m '\"\u001b[0m\u001b[41m', \u001b[0m\u001b[41m'\"'\u001b[0m\u001b[41m, '\u001b[0m\u001b[41m\"',\u001b[0m\u001b[41m '\"\u001b[0m\u001b[41m', \u001b[0m\u001b[41m'\"'\u001b[0m\u001b[41m, '\u001b[0m\u001b[41m\"',\u001b[0m\u001b[41m '\"\u001b[0m\u001b[41m', \u001b[0m\u001b[41m'\"'\u001b[0m\u001b[41m, '\u001b[0m\u001b[41m\"',\u001b[0m\u001b[41m '\"\u001b[0m\u001b[41m', \u001b[0m\u001b[41m'\"'\u001b[0m\u001b[41m, '\u001b[0m\u001b[41m\"',\u001b[0m\u001b[41m '\"\u001b[0m\u001b[41m', \u001b[0m\u001b[41m'\"'\u001b[0m\u001b[41m, '\u001b[0m\u001b[41m~',\u001b[0m\u001b[41m '$\u001b[0m\u001b[41m', \u001b[0m\u001b[41m'+'\u001b[0m\u001b[41m, '\u001b[0m\\x0c\u001b[41m', '\"'\u001b[0m\u001b[41m, '\u001b[0m\u001b[41m\"',\u001b[0m\u001b[41m '\"\u001b[0m\u001b[41m', \u001b[0m\u001b[41m'\"'\u001b[0m\u001b[41m, '\u001b[0m\u001b[41mk', \u001b[0m'h\u001b[41m', '\"'\u001b[0m\u001b[41m, '\u001b[0m\u001b[41my', \u001b[0m't\u001b[41m', 'q',\u001b[0m 'p', 'i', 'u\u001b[41m', '?'\u001b[0m\u001b[41m, '\u001b[0m\u001b[41m?',\u001b[0m '\u001b[41m7', '<\u001b[0m\u001b[41m', \u001b[0m'\\x0c\u001b[41m', '\"'\u001b[0m\u001b[41m, '\u001b[0m\u001b[41m\"',\u001b[0m\u001b[41m '\"\u001b[0m\u001b[41m', \u001b[0m\u001b[41m'\"'\u001b[0m\u001b[41m, '\u001b[0m\u001b[41m\"',\u001b[0m\u001b[41m '\"\u001b[0m\u001b[41m', \u001b[0m\u001b[41m'\"'\u001b[0m\u001b[41m, '\u001b[0m\u001b[41m\"',\u001b[0m 'r', 't', 'k', 'p', 'v\u001b[41m', '*'\u001b[0m\u001b[41m, '\u001b[0m\u001b[41m$',\u001b[0m\u001b[41m '\"\u001b[0m\u001b[41m', \u001b[0m\u001b[41m'~'\u001b[0m\u001b[41m, '\u001b[0m\u001b[41m\"',\u001b[0m\u001b[41m '\"\u001b[0m\u001b[41m', \u001b[0m\u001b[41m'\"'\u001b[0m\u001b[41m, '\u001b[0m\u001b[41m\"',\u001b[0m\u001b[41m '\"\u001b[0m\u001b[41m', \u001b[0m\u001b[41m'\"'\u001b[0m\u001b[41m, '\u001b[0m\u001b[41m\"',\u001b[0m\u001b[41m '\"\u001b[0m\u001b[41m', \u001b[0m\u001b[41m'\"'\u001b[0m\u001b[41m, '\u001b[0m\u001b[41m\"',\u001b[0m\u001b[41m '\"\u001b[0m\u001b[41m', \u001b[0m\u001b[41m'\"'\u001b[0m\u001b[41m, '\u001b[0m\u001b[41m\"',\u001b[0m\u001b[41m '\"\u001b[0m\u001b[41m', \u001b[0m\u001b[41m'\"'\u001b[0m\u001b[41m, '\u001b[0m\u001b[41m\"',\u001b[0m\u001b[41m '\"\u001b[0m\u001b[41m', \u001b[0m'1\u001b[41m', '~'\u001b[0m\u001b[41m, '\u001b[0m\u001b[41m$',\u001b[0m\u001b[41m '+\u001b[0m\u001b[41m', \u001b[0m'\\x0c\u001b[41m', '\"'\u001b[0m\u001b[41m, '\u001b[0m\u001b[41m\"',\u001b[0m\u001b[41m '\"\u001b[0m\u001b[41m', \u001b[0m\u001b[41m'\"'\u001b[0m\u001b[41m, '\u001b[0m\u001b[41mk', \u001b[0m'h\u001b[41m', '\"'\u001b[0m\u001b[41m, '\u001b[0m\u001b[41my', \u001b[0m't\u001b[41m', 'q',\u001b[0m 'p', 'i', 'u\u001b[41m', '?'\u001b[0m\u001b[41m, '\u001b[0m\u001b[41m?',\u001b[0m '8\u001b[41m', '<'\u001b[0m\u001b[41m, '\u001b[0m\\x0c\u001b[41m', '\"'\u001b[0m\u001b[41m, '\u001b[0m\u001b[41m\"',\u001b[0m\u001b[41m '\"\u001b[0m\u001b[41m', \u001b[0m\u001b[41m'\"'\u001b[0m\u001b[41m, '\u001b[0m\u001b[41m\"',\u001b[0m\u001b[41m '\"\u001b[0m\u001b[41m', \u001b[0m\u001b[41m'\"'\u001b[0m\u001b[41m, '\u001b[0m\u001b[41m\"',\u001b[0m 'r', 't', 'k', 'p', 'v\u001b[41m', '*'\u001b[0m\u001b[41m, '\u001b[0m\u001b[41m$',\u001b[0m\u001b[41m '\"\u001b[0m\u001b[41m', \u001b[0m\u001b[41m'~'\u001b[0m\u001b[41m, '\u001b[0m\u001b[41m\"',\u001b[0m\u001b[41m '\"\u001b[0m\u001b[41m', \u001b[0m\u001b[41m'\"'\u001b[0m\u001b[41m, '\u001b[0m\u001b[41m\"',\u001b[0m\u001b[41m '\"\u001b[0m\u001b[41m', \u001b[0m\u001b[41m'\"'\u001b[0m\u001b[41m, '\u001b[0m\u001b[41m\"',\u001b[0m\u001b[41m '\"\u001b[0m\u001b[41m', \u001b[0m\u001b[41m'\"'\u001b[0m\u001b[41m, '\u001b[0m\u001b[41m\"',\u001b[0m\u001b[41m '\"\u001b[0m\u001b[41m', \u001b[0m\u001b[41m'\"'\u001b[0m\u001b[41m, '\u001b[0m\u001b[41m\"',\u001b[0m\u001b[41m '\"\u001b[0m\u001b[41m', \u001b[0m\u001b[41m'\"'\u001b[0m\u001b[41m, '\u001b[0m\u001b[41m\"',\u001b[0m\u001b[41m '\"\u001b[0m\u001b[41m', \u001b[0m'1\u001b[41m', '~'\u001b[0m\u001b[41m, '\u001b[0m\u001b[41m^',\u001b[0m\u001b[41m '\"\u001b[0m\u001b[41m', \u001b[0m\u001b[41m'$'\u001b[0m\u001b[41m, '\u001b[0m\u001b[41m+',\u001b[0m\u001b[41m '\\\u001b[0mx0c\u001b[41m', '\"'\u001b[0m\u001b[41m, '\u001b[0m\u001b[41m\"',\u001b[0m\u001b[41m '\"\u001b[0m\u001b[41m', \u001b[0m\u001b[41m'\"'\u001b[0m\u001b[41m, '\u001b[0m\u001b[41mk', \u001b[0m'h\u001b[41m', '\"'\u001b[0m\u001b[41m, '\u001b[0m\u001b[41my', \u001b[0m't\u001b[41m', 'q',\u001b[0m 'p', 'i', 'u\u001b[41m', '?'\u001b[0m\u001b[41m, '\u001b[0m\u001b[41m?',\u001b[0m '\u001b[41m5', '<\u001b[0m\u001b[41m', \u001b[0m'\\x0c\u001b[41m', '\"'\u001b[0m\u001b[41m, '\u001b[0m\u001b[41m\"',\u001b[0m\u001b[41m '\"\u001b[0m\u001b[41m', \u001b[0m\u001b[41m'\"'\u001b[0m\u001b[41m, '\u001b[0m\u001b[41m\"',\u001b[0m\u001b[41m '\"\u001b[0m\u001b[41m', \u001b[0m\u001b[41m'\"'\u001b[0m\u001b[41m, '\u001b[0m\u001b[41m\"',\u001b[0m 'r', 't', 'k', 'p', 'v\u001b[41m', '*'\u001b[0m\u001b[41m, '\u001b[0m\u001b[41m$',\u001b[0m\u001b[41m '\"\u001b[0m\u001b[41m', \u001b[0m\u001b[41m'~'\u001b[0m\u001b[41m, '\u001b[0m\u001b[41m\"',\u001b[0m\u001b[41m '\"\u001b[0m\u001b[41m', \u001b[0m\u001b[41m'\"'\u001b[0m\u001b[41m, '\u001b[0m\u001b[41m\"',\u001b[0m\u001b[41m '\"\u001b[0m\u001b[41m', \u001b[0m\u001b[41m'\"'\u001b[0m\u001b[41m, '\u001b[0m\u001b[41m\"',\u001b[0m\u001b[41m '\"\u001b[0m\u001b[41m', \u001b[0m\u001b[41m'\"'\u001b[0m\u001b[41m, '\u001b[0m\u001b[41m\"',\u001b[0m\u001b[41m '\"\u001b[0m\u001b[41m', \u001b[0m\u001b[41m'\"'\u001b[0m\u001b[41m, '\u001b[0m\u001b[41m\"',\u001b[0m\u001b[41m '\"\u001b[0m\u001b[41m', \u001b[0m\u001b[41m'\"'\u001b[0m\u001b[41m, '\u001b[0m\u001b[41m\"',\u001b[0m\u001b[41m '\"\u001b[0m\u001b[41m', \u001b[0m'1\u001b[41m', '$'\u001b[0m\u001b[41m, '\u001b[0m\u001b[41m+',\u001b[0m\u001b[41m '\\\u001b[0mx0c\u001b[41m', '\"'\u001b[0m\u001b[41m, '\u001b[0m\u001b[41m\"',\u001b[0m\u001b[41m '\"\u001b[0m\u001b[41m', \u001b[0m\u001b[41m'\"'\u001b[0m\u001b[41m, '\u001b[0m\u001b[41mk', \u001b[0m'h\u001b[41m', '\"'\u001b[0m\u001b[41m, '\u001b[0m\u001b[41my', \u001b[0m't\u001b[41m', 'q',\u001b[0m 'p', 'i', 'u\u001b[41m', '@'\u001b[0m\u001b[41m, '\u001b[0m\u001b[41m5',\u001b[0m\u001b[41m '<\u001b[0m\u001b[41m', \u001b[0m'\\x0c\u001b[41m', '\"'\u001b[0m\u001b[41m, '\u001b[0m\u001b[41m\"',\u001b[0m\u001b[41m '\"\u001b[0m\u001b[41m', \u001b[0m\u001b[41m'\"'\u001b[0m\u001b[41m, '\u001b[0m\u001b[41m\"',\u001b[0m\u001b[41m '\"\u001b[0m\u001b[41m', \u001b[0m\u001b[41m'\"'\u001b[0m\u001b[41m, '\u001b[0m\u001b[41m\"',\u001b[0m 'r', 't', 'k', 'p', 'v\u001b[41m', '*'\u001b[0m\u001b[41m, '\u001b[0m\u001b[41m$',\u001b[0m\u001b[41m '\"\u001b[0m\u001b[41m', \u001b[0m\u001b[41m'~'\u001b[0m\u001b[41m, '\u001b[0m\u001b[41m\"',\u001b[0m\u001b[41m '\"\u001b[0m\u001b[41m', \u001b[0m\u001b[41m'\"'\u001b[0m\u001b[41m, '\u001b[0m\u001b[41m\"',\u001b[0m\u001b[41m '\"\u001b[0m\u001b[41m', \u001b[0m\u001b[41m'\"'\u001b[0m\u001b[41m, '\u001b[0m\u001b[41m\"',\u001b[0m\u001b[41m '\"\u001b[0m\u001b[41m', \u001b[0m\u001b[41m'\"'\u001b[0m\u001b[41m, '\u001b[0m\u001b[41m\"',\u001b[0m\u001b[41m '\"\u001b[0m\u001b[41m', \u001b[0m\u001b[41m'\"'\u001b[0m\u001b[41m, '\u001b[0m\u001b[41m\"',\u001b[0m\u001b[41m '\"\u001b[0m\u001b[41m', \u001b[0m\u001b[41m'\"'\u001b[0m\u001b[41m, '\u001b[0m\u001b[41m\"',\u001b[0m\u001b[41m '\"\u001b[0m\u001b[41m', \u001b[0m'1\u001b[41m', '\"'\u001b[0m\u001b[41m, '\u001b[0m\u001b[41m^',\u001b[0m\u001b[41m '\"\u001b[0m\u001b[41m', \u001b[0m\u001b[41m'$'\u001b[0m\u001b[41m, '\u001b[0m\u001b[41m+',\u001b[0m\u001b[41m '\\\u001b[0mx0c\u001b[41m', '\"'\u001b[0m\u001b[41m, '\u001b[0m\u001b[41m\"',\u001b[0m\u001b[41m '\"\u001b[0m\u001b[41m', \u001b[0m\u001b[41m'\"'\u001b[0m\u001b[41m, '\u001b[0m\u001b[41mk', \u001b[0m'h\u001b[41m', '\"'\u001b[0m\u001b[41m, '\u001b[0m\u001b[41my', \u001b[0m't\u001b[41m', 'q',\u001b[0m 'p', 'i', 'u\u001b[41m', '@'\u001b[0m\u001b[41m, '\u001b[0m\u001b[41m?',\u001b[0m '\u001b[41m5', '<\u001b[0m\u001b[41m', \u001b[0m'\\x0c\u001b[41m', '\"'\u001b[0m\u001b[41m, '\u001b[0m\u001b[41m\"',\u001b[0m\u001b[41m '\"\u001b[0m\u001b[41m', \u001b[0m\u001b[41m'\"'\u001b[0m\u001b[41m, '\u001b[0m\u001b[41m\"',\u001b[0m\u001b[41m '\"\u001b[0m\u001b[41m', \u001b[0m\u001b[41m'\"'\u001b[0m\u001b[41m, '\u001b[0m\u001b[41m\"',\u001b[0m 'r', 't', 'k', 'p', 'v\u001b[41m', '*'\u001b[0m\u001b[41m, '\u001b[0m\u001b[41m$',\u001b[0m\u001b[41m '\"\u001b[0m\u001b[41m', \u001b[0m\u001b[41m'~'\u001b[0m\u001b[41m, '\u001b[0m\u001b[41m^',\u001b[0m 'p\u001b[41m', '\"'\u001b[0m\u001b[41m, '\u001b[0m\u001b[41m~',\u001b[0m\u001b[41m '^\u001b[0m\u001b[41m', \u001b[0m'p\u001b[41m', '\"'\u001b[0m\u001b[41m, '\u001b[0m\u001b[41m~',\u001b[0m\u001b[41m '$\u001b[0m\u001b[41m', \u001b[0m\u001b[41m'+'\u001b[0m\u001b[41m, '\u001b[0m\\x0c\u001b[41m', '\"'\u001b[0m\u001b[41m, '\u001b[0m\u001b[41m\"',\u001b[0m\u001b[41m '\"\u001b[0m\u001b[41m', \u001b[0m\u001b[41m'\"'\u001b[0m\u001b[41m, '\u001b[0m\u001b[41mk', \u001b[0m'h\u001b[41m', '\"'\u001b[0m\u001b[41m, '\u001b[0m\u001b[41my', \u001b[0m't\u001b[41m', 'q',\u001b[0m 'p', 'i', 'u\u001b[41m', '?'\u001b[0m\u001b[41m, '\u001b[0m\u001b[41m?',\u001b[0m '4\u001b[41m', '<'\u001b[0m\u001b[41m, '\u001b[0m\\x0c\u001b[41m', '\"'\u001b[0m\u001b[41m, '\u001b[0m\u001b[41m\"',\u001b[0m\u001b[41m '\"\u001b[0m\u001b[41m', \u001b[0m\u001b[41m'\"'\u001b[0m\u001b[41m, '\u001b[0m\u001b[41m\"',\u001b[0m\u001b[41m '\"\u001b[0m\u001b[41m', \u001b[0m\u001b[41m'\"'\u001b[0m\u001b[41m, '\u001b[0m\u001b[41m\"',\u001b[0m 'r', 't', 'k', 'p', 'v\u001b[41m', '*'\u001b[0m\u001b[41m, '\u001b[0m\u001b[41m$',\u001b[0m\u001b[41m '\"\u001b[0m\u001b[41m', \u001b[0m\u001b[41m'~'\u001b[0m\u001b[41m, '\u001b[0m\u001b[41m^',\u001b[0m 'p\u001b[41m', '\"'\u001b[0m\u001b[41m, '\u001b[0m\u001b[41m~',\u001b[0m\u001b[41m '^\u001b[0m\u001b[41m', \u001b[0m'p\u001b[41m', '\"'\u001b[0m\u001b[41m, '\u001b[0m\u001b[41m~',\u001b[0m\u001b[41m '^\u001b[0m\u001b[41m', \u001b[0m'p\u001b[41m', '\"'\u001b[0m\u001b[41m, '\u001b[0m\u001b[41m~',\u001b[0m\u001b[41m '$\u001b[0m\u001b[41m', \u001b[0m\u001b[41m'+'\u001b[0m\u001b[41m, '\u001b[0m\\x0c\u001b[41m', '\"'\u001b[0m\u001b[41m, '\u001b[0m\u001b[41m\"',\u001b[0m\u001b[41m '\"\u001b[0m\u001b[41m', \u001b[0m\u001b[41m'\"'\u001b[0m\u001b[41m, '\u001b[0m\u001b[41mk', \u001b[0m'h\u001b[41m', '\"'\u001b[0m\u001b[41m, '\u001b[0m\u001b[41my', \u001b[0m't\u001b[41m', 'q',\u001b[0m 'p', 'i', 'u\u001b[41m', '\"'\u001b[0m\u001b[41m, '\u001b[0m\u001b[41m?',\u001b[0m\u001b[41m '?\u001b[0m\u001b[41m', \u001b[0m\u001b[41m'\"'\u001b[0m\u001b[41m, '\u001b[0m\u001b[41m3', \u001b[0m\u001b[41m'<'\u001b[0m\u001b[41m, '\u001b[0m\\x0c\u001b[41m', '\"'\u001b[0m\u001b[41m, '\u001b[0m\u001b[41m\"',\u001b[0m\u001b[41m '\"\u001b[0m\u001b[41m', \u001b[0m\u001b[41m'\"'\u001b[0m\u001b[41m, '\u001b[0m\u001b[41m\"',\u001b[0m\u001b[41m '\"\u001b[0m\u001b[41m', \u001b[0m\u001b[41m'\"'\u001b[0m\u001b[41m, '\u001b[0m\u001b[41m\"',\u001b[0m 'r', 't', 'k', 'p', 'v\u001b[41m', '*'\u001b[0m\u001b[41m, '\u001b[0m\u001b[41m$',\u001b[0m\u001b[41m '\"\u001b[0m\u001b[41m', \u001b[0m\u001b[41m'~'\u001b[0m\u001b[41m, '\u001b[0m\u001b[41m^',\u001b[0m 'p\u001b[41m', '\"'\u001b[0m\u001b[41m, '\u001b[0m\u001b[41m~',\u001b[0m\u001b[41m '^\u001b[0m\u001b[41m', \u001b[0m'p\u001b[41m', '\"'\u001b[0m\u001b[41m, '\u001b[0m\u001b[41m~',\u001b[0m\u001b[41m '^\u001b[0m\u001b[41m', \u001b[0m'p\u001b[41m', '\"'\u001b[0m\u001b[41m, '\u001b[0m\u001b[41m~',\u001b[0m\u001b[41m '^\u001b[0m\u001b[41m', \u001b[0m'p\u001b[41m', '\"'\u001b[0m\u001b[41m, '\u001b[0m\u001b[41m~',\u001b[0m\u001b[41m '$\u001b[0m\u001b[41m', \u001b[0m\u001b[41m'+'\u001b[0m\u001b[41m, '\u001b[0m\\x0c\u001b[41m', '\"'\u001b[0m\u001b[41m, '\u001b[0m\u001b[41m\"',\u001b[0m\u001b[41m '\"\u001b[0m\u001b[41m', \u001b[0m\u001b[41m'\"'\u001b[0m\u001b[41m, '\u001b[0m\u001b[41mk', \u001b[0m'h\u001b[41m', '\"'\u001b[0m\u001b[41m, '\u001b[0m\u001b[41my', \u001b[0m't\u001b[41m', 'q',\u001b[0m 'p', 'i', 'u\u001b[41m', '\"'\u001b[0m\u001b[41m, '\u001b[0m\u001b[41m?',\u001b[0m\u001b[41m '?\u001b[0m\u001b[41m', \u001b[0m'2\u001b[41m', '<'\u001b[0m\u001b[41m, '\u001b[0m\\x0c\u001b[41m', '\"'\u001b[0m\u001b[41m, '\u001b[0m\u001b[41m\"',\u001b[0m\u001b[41m '\"\u001b[0m\u001b[41m', \u001b[0m\u001b[41m'\"'\u001b[0m\u001b[41m, '\u001b[0m\u001b[41m\"',\u001b[0m\u001b[41m '\"\u001b[0m\u001b[41m', \u001b[0m\u001b[41m'\"'\u001b[0m\u001b[41m, '\u001b[0m\u001b[41m\"',\u001b[0m 'r', 't', 'k', 'p', 'v\u001b[41m', '*'\u001b[0m\u001b[41m, '\u001b[0m\u001b[41m$',\u001b[0m\u001b[41m '\"\u001b[0m\u001b[41m', \u001b[0m\u001b[41m'~'\u001b[0m\u001b[41m, '\u001b[0m\u001b[41m^',\u001b[0m 'p\u001b[41m', '\"'\u001b[0m\u001b[41m, '\u001b[0m\u001b[41m~',\u001b[0m\u001b[41m '^\u001b[0m\u001b[41m', \u001b[0m'p\u001b[41m', '\"'\u001b[0m\u001b[41m, '\u001b[0m\u001b[41m~',\u001b[0m\u001b[41m '^\u001b[0m\u001b[41m', \u001b[0m'p\u001b[41m', '\"'\u001b[0m\u001b[41m, '\u001b[0m\u001b[41m~',\u001b[0m\u001b[41m '^\u001b[0m\u001b[41m', \u001b[0m'p\u001b[41m', '\"'\u001b[0m\u001b[41m, '\u001b[0m\u001b[41m~',\u001b[0m\u001b[41m '^\u001b[0m\u001b[41m', \u001b[0m'p\u001b[41m', '\"'\u001b[0m\u001b[41m, '\u001b[0m\u001b[41m~',\u001b[0m\u001b[41m '$\u001b[0m\u001b[41m', \u001b[0m\u001b[41m'+'\u001b[0m\u001b[41m, '\u001b[0m\\x0c\u001b[41m', '\"'\u001b[0m\u001b[41m, '\u001b[0m\u001b[41m\"',\u001b[0m\u001b[41m '\"\u001b[0m\u001b[41m', \u001b[0m\u001b[41m'\"'\u001b[0m\u001b[41m, '\u001b[0m\u001b[41mr', \u001b[0m't', 'k', 'p', 'v\u001b[41m', '*'\u001b[0m\u001b[41m, '\u001b[0m\u001b[41m$',\u001b[0m 'a', 'a', 'a\u001b[41m', '$'\u001b[0m\u001b[41m, '\u001b[0m\u001b[41m+',\u001b[0m\u001b[41m '\\\u001b[0mx0c\u001b[41m', '\"'\u001b[0m\u001b[41m, '\u001b[0m\u001b[41m\"',\u001b[0m\u001b[41m '\"\u001b[0m\u001b[41m', \u001b[0m\u001b[41m'\"'\u001b[0m\u001b[41m, '\u001b[0m\u001b[41m%',\u001b[0m\u001b[41m '%\u001b[0m\u001b[41m', \u001b[0m\u001b[41m'o',\u001b[0m 'c', 'm', 'g\u001b[41m', '\"'\u001b[0m\u001b[41m, '\u001b[0m\u001b[41mv', \u001b[0m'j', 'g\u001b[41m', '\"'\u001b[0m\u001b[41m, '\u001b[0m\u001b[41md', \u001b[0m'n', 'c', 'p', 'm', 'u', '1', 'h', 'k', 'n', 'n\u001b[41m', '\"'\u001b[0m\u001b[41m, '\u001b[0m\u001b[41mk', \u001b[0m'p\u001b[41m', '\"'\u001b[0m\u001b[41m, '\u001b[0m\u001b[41my', \u001b[0m'j', 'g', 't', 'g\u001b[41m', '\"'\u001b[0m\u001b[41m, '\u001b[0m\u001b[41mp', \u001b[0m'g', 'g', 'f', 'g', 'f', '\\x0c\u001b[41m', '\"'\u001b[0m\u001b[41m, '\u001b[0m\u001b[41m\"',\u001b[0m\u001b[41m '\"\u001b[0m\u001b[41m', \u001b[0m\u001b[41m'\"'\u001b[0m\u001b[41m, '\u001b[0m\u001b[41mv', \u001b[0m\u001b[41m'q',\u001b[0m 'r', 't', 'k', 'p', 'v\u001b[41m', '\"'\u001b[0m\u001b[41m, '\u001b[0m\u001b[41m?',\u001b[0m\u001b[41m '\"\u001b[0m\u001b[41m', \u001b[0m\u001b[41m'$'\u001b[0m\u001b[41m, '\u001b[0m\u001b[41m\"',\u001b[0m\u001b[41m '\"\u001b[0m\u001b[41m', \u001b[0m\u001b[41m'\"'\u001b[0m\u001b[41m, '\u001b[0m\u001b[41m\"',\u001b[0m\u001b[41m '\"\u001b[0m\u001b[41m', \u001b[0m\u001b[41m'\"'\u001b[0m\u001b[41m, '\u001b[0m\u001b[41m\"',\u001b[0m\u001b[41m '$\u001b[0m\u001b[41m', \u001b[0m'\\x0c\u001b[41m', '\"'\u001b[0m\u001b[41m, '\u001b[0m\u001b[41m\"',\u001b[0m\u001b[41m '\"\u001b[0m\u001b[41m', \u001b[0m\u001b[41m'\"'\u001b[0m\u001b[41m, '\u001b[0m\u001b[41mh', \u001b[0m\u001b[41m'q',\u001b[0m 't\u001b[41m', '\"'\u001b[0m\u001b[41m, '\u001b[0m\u001b[41mk', \u001b[0m\u001b[41m'\"'\u001b[0m\u001b[41m, '\u001b[0m\u001b[41mk', \u001b[0m'p\u001b[41m', '\"'\u001b[0m\u001b[41m, '\u001b[0m\u001b[41my', \u001b[0m\u001b[41m'q',\u001b[0m 't', 'f\u001b[41m', '<'\u001b[0m\u001b[41m, '\u001b[0m\\x0c\u001b[41m', '\"'\u001b[0m\u001b[41m, '\u001b[0m\u001b[41m\"',\u001b[0m\u001b[41m '\"\u001b[0m\u001b[41m', \u001b[0m\u001b[41m'\"'\u001b[0m\u001b[41m, '\u001b[0m\u001b[41m\"',\u001b[0m\u001b[41m '\"\u001b[0m\u001b[41m', \u001b[0m\u001b[41m'\"'\u001b[0m\u001b[41m, '\u001b[0m\u001b[41m\"',\u001b[0m\u001b[41m 'k\u001b[0m\u001b[41m', \u001b[0m'h\u001b[41m', '\"'\u001b[0m\u001b[41m, '\u001b[0m\u001b[41mk', \u001b[0m\u001b[41m'\"'\u001b[0m\u001b[41m, '\u001b[0m\u001b[41mk', \u001b[0m'p\u001b[41m', '\"'\u001b[0m\u001b[41m, '\u001b[0m\u001b[41mt', \u001b[0m'k', 'i', 'j', 'v', 'u\u001b[41m', '<'\u001b[0m\u001b[41m, '\u001b[0m\\x0c\u001b[41m', '\"'\u001b[0m\u001b[41m, '\u001b[0m\u001b[41m\"',\u001b[0m\u001b[41m '\"\u001b[0m\u001b[41m', \u001b[0m\u001b[41m'\"'\u001b[0m\u001b[41m, '\u001b[0m\u001b[41m\"',\u001b[0m\u001b[41m '\"\u001b[0m\u001b[41m', \u001b[0m\u001b[41m'\"'\u001b[0m\u001b[41m, '\u001b[0m\u001b[41m\"',\u001b[0m\u001b[41m '\"\u001b[0m\u001b[41m', \u001b[0m\u001b[41m'\"'\u001b[0m\u001b[41m, '\u001b[0m\u001b[41m\"',\u001b[0m\u001b[41m '\"\u001b[0m\u001b[41m', \u001b[0m'v\u001b[41m', 'q',\u001b[0m 'r', 't', 'k', 'p', 'v\u001b[41m', '-'\u001b[0m\u001b[41m, '\u001b[0m\u001b[41m?',\u001b[0m\u001b[41m '\"\u001b[0m\u001b[41m', \u001b[0m'k', '\\x0c\u001b[41m', '\"'\u001b[0m\u001b[41m, '\u001b[0m\u001b[41m\"',\u001b[0m\u001b[41m '\"\u001b[0m\u001b[41m', \u001b[0m\u001b[41m'\"'\u001b[0m\u001b[41m, '\u001b[0m\u001b[41m\"',\u001b[0m\u001b[41m '\"\u001b[0m\u001b[41m', \u001b[0m\u001b[41m'\"'\u001b[0m\u001b[41m, '\u001b[0m\u001b[41m\"',\u001b[0m 'g', 'n', 'u', 'g\u001b[41m', '<'\u001b[0m\u001b[41m, '\u001b[0m\\x0c\u001b[41m', '\"'\u001b[0m\u001b[41m, '\u001b[0m\u001b[41m\"',\u001b[0m\u001b[41m '\"\u001b[0m\u001b[41m', \u001b[0m\u001b[41m'\"'\u001b[0m\u001b[41m, '\u001b[0m\u001b[41m\"',\u001b[0m\u001b[41m '\"\u001b[0m\u001b[41m', \u001b[0m\u001b[41m'\"'\u001b[0m\u001b[41m, '\u001b[0m\u001b[41m\"',\u001b[0m\u001b[41m '\"\u001b[0m\u001b[41m', \u001b[0m\u001b[41m'\"'\u001b[0m\u001b[41m, '\u001b[0m\u001b[41m\"',\u001b[0m\u001b[41m '\"\u001b[0m\u001b[41m', \u001b[0m'v\u001b[41m', 'q',\u001b[0m 'r', 't', 'k', 'p', 'v\u001b[41m', '-'\u001b[0m\u001b[41m, '\u001b[0m\u001b[41m?',\u001b[0m\u001b[41m '$\u001b[0m\u001b[41m', \u001b[0m'a\u001b[41m', '$'\u001b[0m\u001b[41m, '\u001b[0m\\x0c\u001b[41m', '\"'\u001b[0m\u001b[41m, '\u001b[0m\u001b[41m\"',\u001b[0m\u001b[41m '\"\u001b[0m\u001b[41m', \u001b[0m\u001b[41m'\"'\u001b[0m\u001b[41m, '\u001b[0m\u001b[41m\"',\u001b[0m\u001b[41m '\"\u001b[0m\u001b[41m', \u001b[0m\u001b[41m'\"'\u001b[0m\u001b[41m, '\u001b[0m\u001b[41m\"',\u001b[0m 'v\u001b[41m', 'q',\u001b[0m 'r', 't', 'k', 'p', 'v\u001b[41m', '-'\u001b[0m\u001b[41m, '\u001b[0m\u001b[41m?',\u001b[0m\u001b[41m '$\u001b[0m\u001b[41m', \u001b[0m\u001b[41m'\"'\u001b[0m\u001b[41m, '\u001b[0m\u001b[41m$',\u001b[0m\u001b[41m '\\\u001b[0mx0c\u001b[41m', '\"'\u001b[0m\u001b[41m, '\u001b[0m\u001b[41m\"',\u001b[0m\u001b[41m '\"\u001b[0m\u001b[41m', \u001b[0m\u001b[41m'\"'\u001b[0m\u001b[41m, '\u001b[0m\u001b[41mr', \u001b[0m't', 'k', 'p', 'v\u001b[41m', '*'\u001b[0m\u001b[41m, '\u001b[0m\u001b[41mv', \u001b[0m\u001b[41m'q',\u001b[0m 'r', 't', 'k', 'p', 'v\u001b[41m', '+'\u001b[0m\u001b[41m, '\u001b[0m\\x0c', 'n', 'g', 'v', 'v', 'g', 't', 'u\u001b[41m', '?'\u001b[0m\u001b[41m, '\u001b[0m\u001b[41m$',\u001b[0m\u001b[41m '$\u001b[0m\u001b[41m', \u001b[0m\u001b[41m'\"'\u001b[0m\u001b[41m, '\u001b[0m\u001b[41m%',\u001b[0m\u001b[41m '%\u001b[0m\u001b[41m', \u001b[0m'v', 'j', 'g\u001b[41m', '\"'\u001b[0m\u001b[41m, '\u001b[0m\u001b[41mk', \u001b[0m'p\u001b[41m', 'e'\u001b[0m\u001b[41m, '\u001b[0m\u001b[41mq',\u001b[0m 't', 't', 'g\u001b[41m', 'e'\u001b[0m\u001b[41m, '\u001b[0m\u001b[41mv', \u001b[0m\u001b[41m'\"'\u001b[0m\u001b[41m, '\u001b[0m\u001b[41mi', \u001b[0m'w', 'g', 'u', 'u', 'g', 'u', '\\x0c', 't', 'k', 'i', 'j', 'v', 'u\u001b[41m', '\"'\u001b[0m\u001b[41m, '\u001b[0m\u001b[41m?',\u001b[0m\u001b[41m '\"\u001b[0m\u001b[41m', \u001b[0m\u001b[41m']'\u001b[0m\u001b[41m, '\u001b[0m\u001b[41m_', \u001b[0m\u001b[41m'\"'\u001b[0m\u001b[41m, '\u001b[0m\u001b[41m%',\u001b[0m\u001b[41m '%\u001b[0m\u001b[41m', \u001b[0m'v', 'j', 'g\u001b[41m', '\"'\u001b[0m\u001b[41m, '\u001b[0m\u001b[41me', \u001b[0m\u001b[41m'q',\u001b[0m 't', 't', 'g\u001b[41m', 'e'\u001b[0m\u001b[41m, '\u001b[0m\u001b[41mv', \u001b[0m\u001b[41m'\"'\u001b[0m\u001b[41m, '\u001b[0m\u001b[41mi', \u001b[0m'w', 'g', 'u', 'u', 'g', 'u', '\\x0c', 'i', 'w', 'g', 'u', 'u', 'g', 'u\u001b[41m', '?'\u001b[0m\u001b[41m, '\u001b[0m\u001b[41m2', \u001b[0m\u001b[41m'\"'\u001b[0m\u001b[41m, '\u001b[0m\u001b[41m%',\u001b[0m\u001b[41m '%\u001b[0m\u001b[41m', \u001b[0m'v', 'j', 'g\u001b[41m', '\"'\u001b[0m\u001b[41m, '\u001b[0m\u001b[41mp', \u001b[0m'w\u001b[41m', 'o',\u001b[0m\u001b[41m 'd'\u001b[0m\u001b[41m, '\u001b[0m\u001b[41mg', \u001b[0m't\u001b[41m', '\"'\u001b[0m\u001b[41m, '\u001b[0m\u001b[41mq',\u001b[0m 'h\u001b[41m', '\"'\u001b[0m\u001b[41m, '\u001b[0m\u001b[41mk', \u001b[0m'p\u001b[41m', 'e'\u001b[0m\u001b[41m, '\u001b[0m\u001b[41mq',\u001b[0m 't', 't', 'g\u001b[41m', 'e'\u001b[0m\u001b[41m, '\u001b[0m\u001b[41mv', \u001b[0m\u001b[41m'\"'\u001b[0m\u001b[41m, '\u001b[0m\u001b[41mi', \u001b[0m'w', 'g', 'u', 'u', 'g', 'u', '\\x0c', 'y\u001b[41m', 'q',\u001b[0m 'p\u001b[41m', '?'\u001b[0m\u001b[41m, '\u001b[0m\u001b[41mH', \u001b[0m'c', 'n', 'u', 'g', '\\x0c', 'r', 't', 'k', 'p', 'v\u001b[41m', '*'\u001b[0m\u001b[41m, '\u001b[0m\u001b[41m$',\u001b[0m 'Y', 'g', 'n\u001b[41m', 'e'\u001b[0m\u001b[41m, '\u001b[0m\u001b[41mq',\u001b[0m 'o', 'g\u001b[41m', '\"'\u001b[0m\u001b[41m, '\u001b[0m\u001b[41mv', \u001b[0m\u001b[41m'q',\u001b[0m\u001b[41m '\"\u001b[0m\u001b[41m', \u001b[0m'j', 'c', 'p', 'i\u001b[41m', 'o',\u001b[0m 'c', 'p\u001b[41m', '#'\u001b[0m\u001b[41m, '\u001b[0m\u001b[41m$',\u001b[0m\u001b[41m '+\u001b[0m\u001b[41m', \u001b[0m'\\x0c', '\\x0c', '\\x0c', '\\x0c', 'y\u001b[41m', 'q',\u001b[0m 't', 'f\u001b[41m', '\"'\u001b[0m\u001b[41m, '\u001b[0m\u001b[41m?',\u001b[0m\u001b[41m '\"\u001b[0m\u001b[41m', \u001b[0m'k', 'p', 'r', 'w', 'v\u001b[41m', '*'\u001b[0m\u001b[41m, '\u001b[0m\u001b[41m$',\u001b[0m 'R', 'n', 'c\u001b[41m', '{'\u001b[0m\u001b[41m, '\u001b[0m\u001b[41mg', \u001b[0m't\u001b[41m', '\"'\u001b[0m\u001b[41m, '\u001b[0m\u001b[41m3', \u001b[0m\u001b[41m'.'\u001b[0m\u001b[41m, '\u001b[0m\u001b[41m\"',\u001b[0m\u001b[41m 'k\u001b[0m\u001b[41m', \u001b[0m'p', 'r', 'w', 'v\u001b[41m', '\"'\u001b[0m\u001b[41m, '\u001b[0m\u001b[41m{',\u001b[0m 'q', 'w', 't\u001b[41m', '\"'\u001b[0m\u001b[41m, '\u001b[0m\u001b[41my', \u001b[0m\u001b[41m'q',\u001b[0m 't', 'f\u001b[41m', '<'\u001b[0m\u001b[41m, '\u001b[0m\u001b[41m^',\u001b[0m 'p\u001b[41m', '$'\u001b[0m\u001b[41m, '\u001b[0m\u001b[41m+',\u001b[0m\u001b[41m '\\\u001b[0mx0c\u001b[41m', 'q',\u001b[0m 'u', '0', 'u\u001b[41m', '{'\u001b[0m\u001b[41m, '\u001b[0m\u001b[41mu', \u001b[0m'v', 'g\u001b[41m', 'o',\u001b[0m\u001b[41m '*\u001b[0m\u001b[41m', \u001b[0m\u001b[41m'$'\u001b[0m\u001b[41m, '\u001b[0m\u001b[41me', \u001b[0m'n', 'g', 'c', 't\u001b[41m', '$'\u001b[0m\u001b[41m, '\u001b[0m\u001b[41m+',\u001b[0m\u001b[41m '\"\u001b[0m\u001b[41m', \u001b[0m'\\x0c', '\\x0c', '\\x0c', '\\x0c', 'y', 'j', 'k', 'n', 'g\u001b[41m', '\"'\u001b[0m\u001b[41m, '\u001b[0m\u001b[41mp', \u001b[0m\u001b[41m'q',\u001b[0m 'v\u001b[41m', '*'\u001b[0m\u001b[41m, '\u001b[0m\u001b[41my', \u001b[0m\u001b[41m'q',\u001b[0m 'p\u001b[41m', '+'\u001b[0m\u001b[41m, '\u001b[0m\u001b[41m\"',\u001b[0m 'c', 'p', 'f\u001b[41m', '\"'\u001b[0m\u001b[41m, '\u001b[0m\u001b[41mi', \u001b[0m'w', 'g', 'u', 'u', 'g', 'u\u001b[41m', '>'\u001b[0m\u001b[41m, '\u001b[0m\u001b[41m8', \u001b[0m\u001b[41m'<'\u001b[0m\u001b[41m, '\u001b[0m\\x0c\u001b[41m', '\"'\u001b[0m\u001b[41m, '\u001b[0m\u001b[41m\"',\u001b[0m\u001b[41m '\"\u001b[0m\u001b[41m', \u001b[0m\u001b[41m'\"'\u001b[0m\u001b[41m, '\u001b[0m\u001b[41mj', \u001b[0m'c', 'p', 'i\u001b[41m', 'o',\u001b[0m 'c', 'p\u001b[41m', '*'\u001b[0m\u001b[41m, '\u001b[0m\u001b[41my', \u001b[0m\u001b[41m'q',\u001b[0m 't', 'f\u001b[41m', '.'\u001b[0m\u001b[41m, '\u001b[0m\u001b[41mi', \u001b[0m'w', 'g', 'u', 'u', 'g', 'u\u001b[41m', '.'\u001b[0m\u001b[41m, '\u001b[0m\u001b[41mt', \u001b[0m'k', 'i', 'j', 'v', 'u\u001b[41m', '.'\u001b[0m\u001b[41m, '\u001b[0m\u001b[41mn', \u001b[0m'g', 'v', 'v', 'g', 't', 'u\u001b[41m', '+'\u001b[0m\u001b[41m, '\u001b[0m\\x0c\u001b[41m', '\"'\u001b[0m\u001b[41m, '\u001b[0m\u001b[41m\"',\u001b[0m\u001b[41m '\"\u001b[0m\u001b[41m', \u001b[0m\u001b[41m'\"'\u001b[0m\u001b[41m, '\u001b[0m\u001b[41mi', \u001b[0m'w', 'g', 'u', 'u\u001b[41m', '\"'\u001b[0m\u001b[41m, '\u001b[0m\u001b[41m?',\u001b[0m\u001b[41m '\"\u001b[0m\u001b[41m', \u001b[0m'k', 'p', 'r', 'w', 'v\u001b[41m', '*'\u001b[0m\u001b[41m, '\u001b[0m\u001b[41m$',\u001b[0m 'R', 'n', 'c\u001b[41m', '{'\u001b[0m\u001b[41m, '\u001b[0m\u001b[41mg', \u001b[0m't\u001b[41m', '\"'\u001b[0m\u001b[41m, '\u001b[0m\u001b[41m4', \u001b[0m\u001b[41m'.'\u001b[0m\u001b[41m, '\u001b[0m\u001b[41m\"',\u001b[0m 'i', 'w', 'g', 'u', 'u\u001b[41m', '\"'\u001b[0m\u001b[41m, '\u001b[0m\u001b[41mc', \u001b[0m\u001b[41m'\"'\u001b[0m\u001b[41m, '\u001b[0m\u001b[41mn', \u001b[0m'g', 'v', 'v', 'g', 't\u001b[41m', '<'\u001b[0m\u001b[41m, '\u001b[0m\u001b[41m^',\u001b[0m 'p\u001b[41m', '$'\u001b[0m\u001b[41m, '\u001b[0m\u001b[41m+',\u001b[0m\u001b[41m '\\\u001b[0mx0c\u001b[41m', '\"'\u001b[0m\u001b[41m, '\u001b[0m\u001b[41m\"',\u001b[0m\u001b[41m '\"\u001b[0m\u001b[41m', \u001b[0m\u001b[41m'\"'\u001b[0m\u001b[41m, '\u001b[0m\u001b[41mk', \u001b[0m'h\u001b[41m', '\"'\u001b[0m\u001b[41m, '\u001b[0m\u001b[41mi', \u001b[0m'w', 'g', 'u', 'u\u001b[41m', '\"'\u001b[0m\u001b[41m, '\u001b[0m\u001b[41mk', \u001b[0m'p\u001b[41m', '\"'\u001b[0m\u001b[41m, '\u001b[0m\u001b[41my', \u001b[0m\u001b[41m'q',\u001b[0m 't', 'f\u001b[41m', '<'\u001b[0m\u001b[41m, '\u001b[0m\\x0c\u001b[41m', '\"'\u001b[0m\u001b[41m, '\u001b[0m\u001b[41m\"',\u001b[0m\u001b[41m '\"\u001b[0m\u001b[41m', \u001b[0m\u001b[41m'\"'\u001b[0m\u001b[41m, '\u001b[0m\u001b[41m\"',\u001b[0m\u001b[41m '\"\u001b[0m\u001b[41m', \u001b[0m\u001b[41m'\"'\u001b[0m\u001b[41m, '\u001b[0m\u001b[41m\"',\u001b[0m 't', 'k', 'i', 'j', 'v', 'u\u001b[41m', '-'\u001b[0m\u001b[41m, '\u001b[0m\u001b[41m?',\u001b[0m 'i', 'w', 'g', 'u', 'u', '\\x0c\u001b[41m', '\"'\u001b[0m\u001b[41m, '\u001b[0m\u001b[41m\"',\u001b[0m\u001b[41m '\"\u001b[0m\u001b[41m', \u001b[0m\u001b[41m'\"'\u001b[0m\u001b[41m, '\u001b[0m\u001b[41mg', \u001b[0m'n', 'u', 'g\u001b[41m', '<'\u001b[0m\u001b[41m, '\u001b[0m\\x0c\u001b[41m', '\"'\u001b[0m\u001b[41m, '\u001b[0m\u001b[41m\"',\u001b[0m\u001b[41m '\"\u001b[0m\u001b[41m', \u001b[0m\u001b[41m'\"'\u001b[0m\u001b[41m, '\u001b[0m\u001b[41m\"',\u001b[0m\u001b[41m '\"\u001b[0m\u001b[41m', \u001b[0m\u001b[41m'\"'\u001b[0m\u001b[41m, '\u001b[0m\u001b[41m\"',\u001b[0m 'n', 'g', 'v', 'v', 'g', 't', 'u\u001b[41m', '-'\u001b[0m\u001b[41m, '\u001b[0m\u001b[41m?',\u001b[0m 'i', 'w', 'g', 'u', 'u', '\\x0c\u001b[41m', '\"'\u001b[0m\u001b[41m, '\u001b[0m\u001b[41m\"',\u001b[0m\u001b[41m '\"\u001b[0m\u001b[41m', \u001b[0m\u001b[41m'\"'\u001b[0m\u001b[41m, '\u001b[0m\u001b[41m\"',\u001b[0m\u001b[41m '\"\u001b[0m\u001b[41m', \u001b[0m\u001b[41m'\"'\u001b[0m\u001b[41m, '\u001b[0m\u001b[41m\"',\u001b[0m 'i', 'w', 'g', 'u', 'u', 'g', 'u\u001b[41m', '-'\u001b[0m\u001b[41m, '\u001b[0m\u001b[41m?',\u001b[0m '3', '\\x0c\u001b[41m', '\"'\u001b[0m\u001b[41m, '\u001b[0m\u001b[41m\"',\u001b[0m\u001b[41m '\"\u001b[0m\u001b[41m', \u001b[0m\u001b[41m'\"'\u001b[0m\u001b[41m, '\u001b[0m\u001b[41my', \u001b[0m\u001b[41m'q',\u001b[0m 'p\u001b[41m', '\"'\u001b[0m\u001b[41m, '\u001b[0m\u001b[41m?',\u001b[0m\u001b[41m '\"\u001b[0m\u001b[41m', \u001b[0m'V', 't', 'w', 'g', '\\x0c\u001b[41m', '\"'\u001b[0m\u001b[41m, '\u001b[0m\u001b[41m\"',\u001b[0m\u001b[41m '\"\u001b[0m\u001b[41m', \u001b[0m\u001b[41m'\"'\u001b[0m\u001b[41m, '\u001b[0m\u001b[41mh', \u001b[0m\u001b[41m'q',\u001b[0m 't\u001b[41m', '\"'\u001b[0m\u001b[41m, '\u001b[0m\u001b[41mk', \u001b[0m\u001b[41m'\"'\u001b[0m\u001b[41m, '\u001b[0m\u001b[41mk', \u001b[0m'p\u001b[41m', '\"'\u001b[0m\u001b[41m, '\u001b[0m\u001b[41my', \u001b[0m\u001b[41m'q',\u001b[0m 't', 'f\u001b[41m', '<'\u001b[0m\u001b[41m, '\u001b[0m\\x0c\u001b[41m', '\"'\u001b[0m\u001b[41m, '\u001b[0m\u001b[41m\"',\u001b[0m\u001b[41m '\"\u001b[0m\u001b[41m', \u001b[0m\u001b[41m'\"'\u001b[0m\u001b[41m, '\u001b[0m\u001b[41m\"',\u001b[0m\u001b[41m '\"\u001b[0m\u001b[41m', \u001b[0m\u001b[41m'\"'\u001b[0m\u001b[41m, '\u001b[0m\u001b[41m\"',\u001b[0m\u001b[41m 'k\u001b[0m\u001b[41m', \u001b[0m'h\u001b[41m', '\"'\u001b[0m\u001b[41m, '\u001b[0m\u001b[41mp', \u001b[0m\u001b[41m'q',\u001b[0m 'v\u001b[41m', '*'\u001b[0m\u001b[41m, '\u001b[0m\u001b[41mk', \u001b[0m\u001b[41m'\"'\u001b[0m\u001b[41m, '\u001b[0m\u001b[41mk', \u001b[0m'p\u001b[41m', '\"'\u001b[0m\u001b[41m, '\u001b[0m\u001b[41mt', \u001b[0m'k', 'i', 'j', 'v', 'u\u001b[41m', '+'\u001b[0m\u001b[41m, '\u001b[0m\u001b[41m<',\u001b[0m\u001b[41m '\\\u001b[0mx0c\u001b[41m', '\"'\u001b[0m\u001b[41m, '\u001b[0m\u001b[41m\"',\u001b[0m\u001b[41m '\"\u001b[0m\u001b[41m', \u001b[0m\u001b[41m'\"'\u001b[0m\u001b[41m, '\u001b[0m\u001b[41m\"',\u001b[0m\u001b[41m '\"\u001b[0m\u001b[41m', \u001b[0m\u001b[41m'\"'\u001b[0m\u001b[41m, '\u001b[0m\u001b[41m\"',\u001b[0m\u001b[41m '\"\u001b[0m\u001b[41m', \u001b[0m\u001b[41m'\"'\u001b[0m\u001b[41m, '\u001b[0m\u001b[41m\"',\u001b[0m\u001b[41m '\"\u001b[0m\u001b[41m', \u001b[0m'y\u001b[41m', 'q',\u001b[0m 'p\u001b[41m', '\"'\u001b[0m\u001b[41m, '\u001b[0m\u001b[41m?',\u001b[0m\u001b[41m '\"\u001b[0m\u001b[41m', \u001b[0m'H', 'c', 'n', 'u', 'g', '\\x0c\u001b[41m', '\"'\u001b[0m\u001b[41m, '\u001b[0m\u001b[41m\"',\u001b[0m\u001b[41m '\"\u001b[0m\u001b[41m', \u001b[0m\u001b[41m'\"'\u001b[0m\u001b[41m, '\u001b[0m\u001b[41mq',\u001b[0m 'u', '0', 'u\u001b[41m', '{'\u001b[0m\u001b[41m, '\u001b[0m\u001b[41mu', \u001b[0m'v', 'g\u001b[41m', 'o',\u001b[0m\u001b[41m '*\u001b[0m\u001b[41m', \u001b[0m\u001b[41m'$'\u001b[0m\u001b[41m, '\u001b[0m\u001b[41me', \u001b[0m'n', 'g', 'c', 't\u001b[41m', '$'\u001b[0m\u001b[41m, '\u001b[0m\u001b[41m+',\u001b[0m\u001b[41m '\\\u001b[0mx0c', 'k', 'h\u001b[41m', '\"'\u001b[0m\u001b[41m, '\u001b[0m\u001b[41my', \u001b[0m\u001b[41m'q',\u001b[0m 'p\u001b[41m', '<'\u001b[0m\u001b[41m, '\u001b[0m\\x0c\u001b[41m', '\"'\u001b[0m\u001b[41m, '\u001b[0m\u001b[41m\"',\u001b[0m\u001b[41m '\"\u001b[0m\u001b[41m', \u001b[0m\u001b[41m'\"'\u001b[0m\u001b[41m, '\u001b[0m\u001b[41mj', \u001b[0m'c', 'p', 'i\u001b[41m', 'o',\u001b[0m 'c', 'p\u001b[41m', '*'\u001b[0m\u001b[41m, '\u001b[0m\u001b[41my', \u001b[0m\u001b[41m'q',\u001b[0m 't', 'f\u001b[41m', '.'\u001b[0m\u001b[41m, '\u001b[0m\u001b[41mi', \u001b[0m'w', 'g', 'u', 'u', 'g', 'u\u001b[41m', '.'\u001b[0m\u001b[41m, '\u001b[0m\u001b[41mt', \u001b[0m'k', 'i', 'j', 'v', 'u\u001b[41m', '.'\u001b[0m\u001b[41m, '\u001b[0m\u001b[41mn', \u001b[0m'g', 'v', 'v', 'g', 't', 'u\u001b[41m', '+'\u001b[0m\u001b[41m, '\u001b[0m\\x0c\u001b[41m', '\"'\u001b[0m\u001b[41m, '\u001b[0m\u001b[41m\"',\u001b[0m\u001b[41m '\"\u001b[0m\u001b[41m', \u001b[0m\u001b[41m'\"'\u001b[0m\u001b[41m, '\u001b[0m\u001b[41mr', \u001b[0m't', 'k', 'p', 'v\u001b[41m', '*'\u001b[0m\u001b[41m, '\u001b[0m\u001b[41m$',\u001b[0m 'R', 'n', 'c\u001b[41m', '{'\u001b[0m\u001b[41m, '\u001b[0m\u001b[41mg', \u001b[0m't\u001b[41m', '\"'\u001b[0m\u001b[41m, '\u001b[0m\u001b[41m4', \u001b[0m\u001b[41m'\"'\u001b[0m\u001b[41m, '\u001b[0m\u001b[41my', \u001b[0m\u001b[41m'q',\u001b[0m 'p\u001b[41m', '#'\u001b[0m\u001b[41m, '\u001b[0m\u001b[41m$',\u001b[0m\u001b[41m '+\u001b[0m\u001b[41m', \u001b[0m'\\x0c', 'g', 'n', 'u', 'g\u001b[41m', '<'\u001b[0m\u001b[41m, '\u001b[0m\\x0c\u001b[41m', '\"'\u001b[0m\u001b[41m, '\u001b[0m\u001b[41m\"',\u001b[0m\u001b[41m '\"\u001b[0m\u001b[41m', \u001b[0m\u001b[41m'\"'\u001b[0m\u001b[41m, '\u001b[0m\u001b[41mj', \u001b[0m'c', 'p', 'i\u001b[41m', 'o',\u001b[0m 'c', 'p\u001b[41m', '*'\u001b[0m\u001b[41m, '\u001b[0m\u001b[41my', \u001b[0m\u001b[41m'q',\u001b[0m 't', 'f\u001b[41m', '.'\u001b[0m\u001b[41m, '\u001b[0m\u001b[41mi', \u001b[0m'w', 'g', 'u', 'u', 'g', 'u\u001b[41m', '.'\u001b[0m\u001b[41m, '\u001b[0m\u001b[41mt', \u001b[0m'k', 'i', 'j', 'v', 'u\u001b[41m', '.'\u001b[0m\u001b[41m, '\u001b[0m\u001b[41mn', \u001b[0m'g', 'v', 'v', 'g', 't', 'u\u001b[41m', '+'\u001b[0m\u001b[41m, '\u001b[0m\\x0c\u001b[41m', '\"'\u001b[0m\u001b[41m, '\u001b[0m\u001b[41m\"',\u001b[0m\u001b[41m '\"\u001b[0m\u001b[41m', \u001b[0m\u001b[41m'\"'\u001b[0m\u001b[41m, '\u001b[0m\u001b[41mr', \u001b[0m't', 'k', 'p', 'v\u001b[41m', '*'\u001b[0m\u001b[41m, '\u001b[0m\u001b[41m$',\u001b[0m\u001b[41m '[\u001b[0m\u001b[41m', \u001b[0m\u001b[41m'q',\u001b[0m 'w\u001b[41m', '\"'\u001b[0m\u001b[41m, '\u001b[0m\u001b[41mn', \u001b[0m\u001b[41m'q',\u001b[0m 'u', 'v', '0\u001b[41m', '\"'\u001b[0m\u001b[41m, '\u001b[0m\u001b[41mV', \u001b[0m'j', 'g\u001b[41m', '\"'\u001b[0m\u001b[41m, '\u001b[0m\u001b[41my', \u001b[0m\u001b[41m'q',\u001b[0m 't', 'f\u001b[41m', '\"'\u001b[0m\u001b[41m, '\u001b[0m\u001b[41my', \u001b[0m'c', 'u\u001b[41m', '$'\u001b[0m\u001b[41m, '\u001b[0m\u001b[41m.',\u001b[0m\u001b[41m '\"\u001b[0m\u001b[41m', \u001b[0m'y\u001b[41m', 'q',\u001b[0m 't', 'f\u001b[41m', '+'\u001b[0m\u001b[41m, '\u001b[0m\\x0c', '\\x0c', '\\x0c', '\\x0c', '\\x0c', '\\x0c', '\\x0c', '\\x0c', '\\x0c', '\\x0c']\n",
      "key =2\n",
      "exec(decrypt(cipher, key))\n"
     ]
    },
    {
     "data": {
      "text/plain": [
       "re.compile(r'(\\W\\W\\W|\\W\\Wk|o\\W\\W|\\Wad|7\\W\\W|\\Wd\\W|\\We\\W|ord|q\\W\\W|5\\W\\W)',\n",
       "           re.UNICODE)"
      ]
     },
     "execution_count": 30,
     "metadata": {},
     "output_type": "execute_result"
    }
   ],
   "source": [
    "filename = '/kaggle/input/script-2/script2algo1key1.py'\n",
    "hlWeightsinSeq(filename, 10, True, 1)"
   ]
  },
  {
   "cell_type": "code",
   "execution_count": 31,
   "id": "57374604",
   "metadata": {
    "execution": {
     "iopub.execute_input": "2024-04-15T15:48:03.944341Z",
     "iopub.status.busy": "2024-04-15T15:48:03.943907Z",
     "iopub.status.idle": "2024-04-15T15:48:03.985211Z",
     "shell.execute_reply": "2024-04-15T15:48:03.983443Z"
    },
    "papermill": {
     "duration": 0.074117,
     "end_time": "2024-04-15T15:48:03.987947",
     "exception": false,
     "start_time": "2024-04-15T15:48:03.913830",
     "status": "completed"
    },
    "tags": []
   },
   "outputs": [
    {
     "name": "stdout",
     "output_type": "stream",
     "text": [
      "\n",
      "def decrypt(f\u001b[41m, k):\n",
      "\u001b[0m\u001b[41m   \u001b[0m\u001b[41m   \u001b[0m\u001b[41m   \u001b[0m\u001b[41m   \u001b[0mdecrypted\u001b[41m = \"\"\n",
      "\u001b[0m\u001b[41m   \u001b[0m\u001b[41m   \u001b[0m\u001b[41m   \u001b[0m\u001b[41m   \u001b[0mfor i in f\u001b[41m:\n",
      "    \u001b[0m\u001b[41m   \u001b[0m\u001b[41m   \u001b[0m\u001b[41m   \u001b[0m\u001b[41m   \u001b[0m\u001b[41mj = \u001b[0m\u001b[41mint(i\u001b[0m\u001b[41m/k)\n",
      " \u001b[0m\u001b[41m   \u001b[0m\u001b[41m   \u001b[0m\u001b[41m   \u001b[0m\u001b[41m   \u001b[0m\u001b[41m   \u001b[0mdecrypted += chr(j\u001b[41m)\n",
      "    \u001b[0m\u001b[41m   \u001b[0m\u001b[41m   \u001b[0m  return decrypted\u001b[41m\n",
      "     \u001b[0m\u001b[41m   \u001b[0m\n",
      "cipher\u001b[41m = [210\u001b[0m\u001b[41m, 218\u001b[0m, 224, 222, 228, 232, 64, 222, 230, 20, \u001b[41m210, 218\u001b[0m, 224, 222, 228, 232, 64, 228, 194, 220, \u001b[41m200, 222\u001b[0m\u001b[41m, 218\u001b[0m, 20, 200, 202, 204, 64, 208, 194, 220, 20\u001b[41m6, 218\u001b[0m, 194, 220, 80, \u001b[41m238, 222\u001b[0m, 228, 200, 88, 64, 238, 228, 222, 220, 206, 230, 88, 64, 228, 210, 20\u001b[41m6, 208\u001b[0m, 232, 230, 88, 64, 21\u001b[41m6, 202, \u001b[0m\u001b[41m232,\u001b[0m\u001b[41m 232,\u001b[0m 202, 228, 230, 8\u001b[41m2, 116, \u001b[0m20, 64, 64, 64, 64, 210, 204, 64, 238, 228, 222, 220, 206, 230, 124, 9\u001b[41m6, 116, \u001b[0m20, 64, 64, 64, 64, 64, 64, 64, 64, 224, 228, 210, 220, 232, 80, 68, 146, 220, 198, 222, 228, 228, 202, 198, 232, 64, 206, 234, 202, 230, 230, 202, 230, 116, 64, 68, 88, 64, 21\u001b[41m6, 202, \u001b[0m\u001b[41m232,\u001b[0m\u001b[41m 232,\u001b[0m 202, 228, 230, 82, 20, 64, 64, 64, 64,\u001b[41m 70, 70\u001b[0m\u001b[41m, 218\u001b[0m, 194, 214, 202, 64, 2\u001b[41m32, 208\u001b[0m, 202, 64, 220, \u001b[41m222, 222\u001b[0m, 230, 202, 94, 208, 194, 220, 20\u001b[41m6, 218\u001b[0m, 194, 220, 20, 64, 64, 64, 64, 224, 228, 210, 220, 232, 80, 68, 64, 64, 1\u001b[41m90, 190,\u001b[0m\u001b[41m 190,\u001b[0m\u001b[41m 190,\u001b[0m\u001b[41m 190,\u001b[0m\u001b[41m 190,\u001b[0m\u001b[41m 190,\u001b[0m\u001b[41m 190,\u001b[0m\u001b[41m 190,\u001b[0m\u001b[41m 190,\u001b[0m\u001b[41m 190,\u001b[0m\u001b[41m 190,\u001b[0m\u001b[41m 190,\u001b[0m\u001b[41m 190,\u001b[0m\u001b[41m 190,\u001b[0m\u001b[41m 190,\u001b[0m\u001b[41m 190,\u001b[0m\u001b[41m 190,\u001b[0m 184, 220, 64, 248, 64, 64, 64, 64, 64, 64, 64, 64, 64, 64, 64, 64, 64, 64, 64, 64, 64, 64, 248, 184, 220, 64, 248, 64, 64, 64, 64, 64, 64, 64, 64, 64, 64, 64, 64, 64, 64, 64, 64, 64, 64, 248, 68, 82, 20, 64, 64, 64, 64, 210, 204, 64, 238, 228, 222, 220, 206, 230, 124, 9\u001b[41m6, 116, \u001b[0m20, 64, 64, 64, 64, 64, 64, 64, 64, 224, 228, 210, 220, 232, 80, 68, 64, 248, 64, 64, 64, 64, 64, 64, 64, 64, 64, 64, 64, 64, 64, 64, 64, 64, 64, 64, 158, 68, 82, 20, 64, 64, 64, 64, 210, 204, 64, 238, 228, 222, 220, 206, 230, 124, 98, 64, 194, 220, 200, 64, 238, 228, 222, 220, 206, 230, 120, 10\u001b[41m6, 116, \u001b[0m20, 64, 64, 64, 64, 64, 64, 64, 64, 224, 228, 210, 220, 232, 80, 68, 64, 248, 64, 64, 64, 64, 64, 64, 64, 64, 64, 64, 64, 64, 64, 64, 64, 64, 64, 64, 248, 68, 82, 20, 64, 64, 64, 64, 210, 204, 64, 238, 228, 222, 220, 206, 230, 12\u001b[41m2, 122, \u001b[0m\u001b[41m106, \u001b[0m\u001b[41m116, \u001b[0m20, 64, 64, 64, 64, 64, 64, 64, 64, 224, 228, 210, 220, 232, 80, 68, 64, 248, 64, 64, 64, 64, 64, 64, 64, 64, 64, 64, 64, 64, 64, 64, 64, 64, 64, 94, 248, 68, 82, 20, 64, 64, 64, 64, 210, 204, 64, 238, 228, 222, 220, 206, 230, 12\u001b[41m2, 122, \u001b[0m108, 116, 20, 64, 64, 64, 64, 64, 64, 64, 64, 224, 228, 210, 220, 232, 80, 68, 64, 248, 64, 64, 64, 64, 64, 64, 64, 64, 64, 64, 64, 64, 64, 64, 64, 64, 64, 94, 248, 184, 64, 68, 82, 20, 64, 64, 64, 64, 210, 204, 64, 238, 228, 222, 220, 206, 230, 12\u001b[41m2, 122, \u001b[0m\u001b[41m102, \u001b[0m\u001b[41m116, \u001b[0m20, 64, 64, 64, 64, 64, 64, 64, 64, 224, 228, 210, 220, 232, 80, 68, 64, 248, 64, 64, 64, 64, 64, 64, 64, 64, 64, 64, 64, 64, 64, 64, 64, 64, 64, 94, 68, 82, 20, 64, 64, 64, 64, 210, 204, 64, 238, 228, 222, 220, 206, 230, 124, 10\u001b[41m2, 116, \u001b[0m20, 64, 64, 64, 64, 64, 64, 64, 64, 224, 228, 210, 220, 232, 80, 68, 64, 248, 64, 64, 64, 64, 64, 64, 64, 64, 64, 64, 64, 64, 64, 64, 64, 64, 64, 94, 64, 184, 64, 68, 82, 20, 64, 64, 64, 64, 210, 204, 64, 238, 228, 222, 220, 206, 230, 124, 12\u001b[41m2, 102, \u001b[0m\u001b[41m116, \u001b[0m20, 64, 64, 64, 64, 64, 64, 64, 64, 224, 228, 210, 220, 232, 80, 68, 64, 248, 184, 220, 64, 248, 184, 220, 64, 248, 68, 82, 20, 64, 64, 64, 64, 210, 204, 64, 238, 228, 222, 220, 206, 230, 12\u001b[41m2, 122, \u001b[0m100, 116, 20, 64, 64, 64, 64, 64, 64, 64, 64, 224, 228, 210, 220, 232, 80, 68, 64, 248, 184, 220, 64, 248, 184, 220, 64, 248, 184, 220, 64, 248, 68, 82, 20, 64, 64, 64, 64, 210, 204, 64, 238, 228, 222, 220, 206, 230, 64, 12\u001b[41m2, 122, \u001b[0m64, 98, 116, 20, 64, 64, 64, 64, 64, 64, 64, 64, 224, 228, 210, 220, 232, 80, 68, 64, 248, 184, 220, 64, 248, 184, 220, 64, 248, 184, 220, 64, 248, 184, 220, 64, 248, 68, 82, 20, 64, 64, 64, 64, 210, 204, 64, 238, 228, 222, 220, 206, 230, 64, 12\u001b[41m2, 122, \u001b[0m\u001b[41m96, \u001b[0m\u001b[41m116, \u001b[0m20, 64, 64, 64, 64, 64, 64, 64, 64, 224, 228, 210, 220, 232, 80, 68, 64, 248, 184, 220, 64, 248, 184, 220, 64, 248, 184, 220, 64, 248, 184, 220, 64, 248, 184, 220, 64, 248, 68, 82, 20, 64, 64, 64, 64, 224, 228, 210, 220, 232, 80, 68, 1\u001b[41m90, 190,\u001b[0m\u001b[41m 190,\u001b[0m 68, 82, 20, 64, 64, 64, 64,\u001b[41m 70, 70\u001b[0m\u001b[41m, 218\u001b[0m, 194, 214, 202, 64, 2\u001b[41m32, 208\u001b[0m, 202, 64, 19\u001b[41m6, 216, \u001b[0m194, 220, 214, 230, 94, 204, 210, 21\u001b[41m6, 216, \u001b[0m64, 210, 220, 64, \u001b[41m238, 208\u001b[0m, 202, 228, 202, 64, 220, 20\u001b[41m2, 202, \u001b[0m\u001b[41m200\u001b[0m, 20\u001b[41m2, 200\u001b[0m, 20, 64, 64, 64, 64, 2\u001b[41m32, 222\u001b[0m, 224, 228, 210, 220, 232, 64, 122, 64, 68, 64, 64, 64, 64, 64, 64, 64, 68, 20, 64, 64, 64, 64, 204, 222, 228, 64, 210, 64, 210, 220, 64, \u001b[41m238, 222\u001b[0m, 228, 200, 116, 20, 64, 64, 64, 64, 64, 64, 64, 64, 210, 204, 64, 210, 64, 210, 220, 64, 228, 210, 20\u001b[41m6, 208\u001b[0m, 232, 230, 116, 20, 64, 64, 64, 64, 64, 64, 64, 64, 64, 64, 64, 64, 2\u001b[41m32, 222\u001b[0m, 224, 228, 210, 220, 2\u001b[41m32, 86, \u001b[0m\u001b[41m122, \u001b[0m64, 210, 20, 64, 64, 64, 64, 64, 64, 64, 64, 20\u001b[41m2, 216, \u001b[0m230, 20\u001b[41m2, 116, \u001b[0m20, 64, 64, 64, 64, 64, 64, 64, 64, 64, 64, 64, 64, 2\u001b[41m32, 222\u001b[0m, 224, 228, 210, 220, 2\u001b[41m32, 86, \u001b[0m\u001b[41m122, \u001b[0m68, 190, 68, 20, 64, 64, 64, 64, 64, 64, 64, 64, 2\u001b[41m32, 222\u001b[0m, 224, 228, 210, 220, 2\u001b[41m32, 86, \u001b[0m\u001b[41m122, \u001b[0m68, 64, 68, 20, 64, 64, 64, 64, 224, 228, 210, 220, 232, 80, 2\u001b[41m32, 222\u001b[0m, 224, 228, 210, 220, 2\u001b[41m32, 82, \u001b[0m20, 21\u001b[41m6, 202, \u001b[0m\u001b[41m232,\u001b[0m\u001b[41m 232,\u001b[0m 202, 228, 230, 122, 68, 68, 64,\u001b[41m 70, 70\u001b[0m, 2\u001b[41m32, 208\u001b[0m, 202, 64, 210, 220, 198, 222, 228, 228, 202, 198, 232, 64, 206, 234, 202, 230, 230, 202, 230, 20, 228, 210, 20\u001b[41m6, 208\u001b[0m, 232, 230, 64, 122, 64, 18\u001b[41m2, 186, \u001b[0m64,\u001b[41m 70, 70\u001b[0m, 2\u001b[41m32, 208\u001b[0m, 202, 64, 198, 222, 228, 228, 202, 198, 232, 64, 206, 234, 202, 230, 230, 202, 230, 20, 206, 234, 202, 230, 230, 202, 230, 12\u001b[41m2, 96, \u001b[0m64,\u001b[41m 70, 70\u001b[0m, 2\u001b[41m32, 208\u001b[0m, 202, 64, 220, 234, 218, 19\u001b[41m6, 202, \u001b[0m228, 64, 222, 204, 64, 210, 220, 198, 222, 228, 228, 202, 198, 232, 64, 206, 234, 202, 230, 230, 202, 230, 20, \u001b[41m238, 222\u001b[0m, 220, 122, 140, 194, 216, 230, 202, 20, 224, 228, 210, 220, 232, 80, 68, 174, 20\u001b[41m2, 216, \u001b[0m198, \u001b[41m222, 218\u001b[0m, 202, 64, 2\u001b[41m32, 222\u001b[0m, 64, 208, 194, 220, 20\u001b[41m6, 218\u001b[0m, 194, 220, 66, 68, 82, 20, 20, 20, 20, \u001b[41m238, 222\u001b[0m, 228, 200, 64, 122, 64, 210, 220, 224, 234, 232, 80, 68, 160, 216, 194, 242, 202, 228, 64, 98, 88, 64, 210, 220, 224, 234, 232, 64, \u001b[41m242, 222\u001b[0m, 234, 228, 64, \u001b[41m238, 222\u001b[0m, 228, 200, 116, 184, 220, 68, 82, 20, 222, 230, 92, 230, 242, 230, 232, 20\u001b[41m2, 218\u001b[0m, 80, 68, 198, 21\u001b[41m6, 202, \u001b[0m194, 228, 68, 82, 64, 20, 20, 20, 20, \u001b[41m238, 208\u001b[0m\u001b[41m, 210\u001b[0m, 21\u001b[41m6, 202, \u001b[0m64, 220, 222, 232, 80, \u001b[41m238, 222\u001b[0m, 220, 82, 64, 194, 220, 200, 64, 206, 234, 202, 230, 230, 202, 230, 120, 108, 116, 20, 64, 64, 64, 64, 208, 194, 220, 20\u001b[41m6, 218\u001b[0m, 194, 220, 80, \u001b[41m238, 222\u001b[0m, 228, 200, 88, 206, 234, 202, 230, 230, 202, 230, 88, 228, 210, 20\u001b[41m6, 208\u001b[0m, 232, 230, 88, 21\u001b[41m6, 202, \u001b[0m\u001b[41m232,\u001b[0m\u001b[41m 232,\u001b[0m 202, 228, 230, 82, 20, 64, 64, 64, 64, 206, 234, 202, 230, 230, 64, 122, 64, 210, 220, 224, 234, 232, 80, 68, 160, 216, 194, 242, 202, 228, 64, 100, 88, 64, 206, 234, 202, 230, 230, 64, 194, 64, 21\u001b[41m6, 202, \u001b[0m\u001b[41m232,\u001b[0m\u001b[41m 232,\u001b[0m 202, 228, 116, 184, 220, 68, 82, 20, 64, 64, 64, 64, 210, 204, 64, 206, 234, 202, 230, 230, 64, 210, 220, 64, \u001b[41m238, 222\u001b[0m, 228, 200, 116, 20, 64, 64, 64, 64, 64, 64, 64, 64, 228, 210, 20\u001b[41m6, 208\u001b[0m, 232, 230, 8\u001b[41m6, 122, \u001b[0m\u001b[41m206, \u001b[0m234, 202, 230, 230, 20, 64, 64, 64, 64, 20\u001b[41m2, 216, \u001b[0m230, 20\u001b[41m2, 116, \u001b[0m20, 64, 64, 64, 64, 64, 64, 64, 64, 21\u001b[41m6, 202, \u001b[0m\u001b[41m232,\u001b[0m\u001b[41m 232,\u001b[0m 202, 228, 230, 8\u001b[41m6, 122, \u001b[0m\u001b[41m206, \u001b[0m234, 202, 230, 230, 20, 64, 64, 64, 64, 64, 64, 64, 64, 206, 234, 202, 230, 230, 202, 230, 8\u001b[41m6, 122, \u001b[0m98, 20, 64, 64, 64, 64, \u001b[41m238, 222\u001b[0m, 220, 64, 122, 64, 168, 228, 234, 202, 20, 64, 64, 64, 64, 204, 222, 228, 64, 210, 64, 210, 220, 64, \u001b[41m238, 222\u001b[0m, 228, 200, 116, 20, 64, 64, 64, 64, 64, 64, 64, 64, 210, 204, 64, 220, 222, 232, 80, 210, 64, 210, 220, 64, 228, 210, 20\u001b[41m6, 208\u001b[0m, 232, 230, 8\u001b[41m2, 116, \u001b[0m20, 64, 64, 64, 64, 64, 64, 64, 64, 64, 64, 64, 64, \u001b[41m238, 222\u001b[0m, 220, 64, 122, 64, 140, 194, 216, 230, 202, 20, 64, 64, 64, 64, 222, 230, 92, 230, 242, 230, 232, 20\u001b[41m2, 218\u001b[0m, 80, 68, 198, 21\u001b[41m6, 202, \u001b[0m194, 228, 68, 82, 20, 210, 204, 64, \u001b[41m238, 222\u001b[0m, 220, 116, 20, 64, 64, 64, 64, 208, 194, 220, 20\u001b[41m6, 218\u001b[0m, 194, 220, 80, \u001b[41m238, 222\u001b[0m, 228, 200, 88, 206, 234, 202, 230, 230, 202, 230, 88, 228, 210, 20\u001b[41m6, 208\u001b[0m, 232, 230, 88, 21\u001b[41m6, 202, \u001b[0m\u001b[41m232,\u001b[0m\u001b[41m 232,\u001b[0m 202, 228, 230, 82, 20, 64, 64, 64, 64, 224, 228, 210, 220, 232, 80, 68, 160, 216, 194, 242, 202, 228, 64, 100, 64, \u001b[41m238, 222\u001b[0m, 220, 66, 68, 82, 20, 20\u001b[41m2, 216, \u001b[0m230, 20\u001b[41m2, 116, \u001b[0m20, 64, 64, 64, 64, 208, 194, 220, 20\u001b[41m6, 218\u001b[0m, 194, 220, 80, \u001b[41m238, 222\u001b[0m, 228, 200, 88, 206, 234, 202, 230, 230, 202, 230, 88, 228, 210, 20\u001b[41m6, 208\u001b[0m, 232, 230, 88, 21\u001b[41m6, 202, \u001b[0m\u001b[41m232,\u001b[0m\u001b[41m 232,\u001b[0m 202, 228, 230, 82, 20, 64, 64, 64, 64, 224, 228, 210, 220, 232, 80, 68, 178, 222, 234, 64, 21\u001b[41m6, 222\u001b[0m, 230, 2\u001b[41m32, 92, \u001b[0m64, 168, 208, 202, 64, \u001b[41m238, 222\u001b[0m, 228, 200, 64, 238, 194, 230, 68, 88, 64, \u001b[41m238, 222\u001b[0m, 228, 200, 82, 20, 20, 20, 20, 20, 20, 20, 20, 20, 20]\n",
      "key =2\n",
      "exec(decrypt(cipher, key))\n"
     ]
    },
    {
     "data": {
      "text/plain": [
       "re.compile(r'(\\W\\W\\W|208|222|32\\W|\\W\\Wk|i\\Wk|48\\W|70\\W|242|218|2\\W\\W|90\\W|238|ryp|210|t\\Wi|6\\W\\W|46\\W|\\W70|200)',\n",
       "           re.UNICODE)"
      ]
     },
     "execution_count": 31,
     "metadata": {},
     "output_type": "execute_result"
    }
   ],
   "source": [
    "filename = '/kaggle/input/script2algo2/script2algo2key1.py'\n",
    "hlWeightsinSeq(filename, 20, True, 2)"
   ]
  },
  {
   "cell_type": "markdown",
   "id": "2fd5033d",
   "metadata": {
    "papermill": {
     "duration": 0.028399,
     "end_time": "2024-04-15T15:48:04.044958",
     "exception": false,
     "start_time": "2024-04-15T15:48:04.016559",
     "status": "completed"
    },
    "tags": []
   },
   "source": [
    "## Let's See if We Can Get Better Results by Following Gradients"
   ]
  },
  {
   "cell_type": "code",
   "execution_count": 32,
   "id": "11b5480a",
   "metadata": {
    "execution": {
     "iopub.execute_input": "2024-04-15T15:48:04.104528Z",
     "iopub.status.busy": "2024-04-15T15:48:04.103497Z",
     "iopub.status.idle": "2024-04-15T15:48:04.109271Z",
     "shell.execute_reply": "2024-04-15T15:48:04.108173Z"
    },
    "papermill": {
     "duration": 0.037865,
     "end_time": "2024-04-15T15:48:04.111533",
     "exception": false,
     "start_time": "2024-04-15T15:48:04.073668",
     "status": "completed"
    },
    "tags": []
   },
   "outputs": [],
   "source": [
    "#this is the platform that keras is built on\n",
    "import tensorflow as tf\n",
    "def get_gradient(idx):\n",
    "    return ar[0][winner_class][0][idx]"
   ]
  },
  {
   "cell_type": "code",
   "execution_count": 33,
   "id": "68e294b0",
   "metadata": {
    "execution": {
     "iopub.execute_input": "2024-04-15T15:48:04.170476Z",
     "iopub.status.busy": "2024-04-15T15:48:04.170070Z",
     "iopub.status.idle": "2024-04-15T15:48:04.183142Z",
     "shell.execute_reply": "2024-04-15T15:48:04.182101Z"
    },
    "papermill": {
     "duration": 0.045608,
     "end_time": "2024-04-15T15:48:04.185638",
     "exception": false,
     "start_time": "2024-04-15T15:48:04.140030",
     "status": "completed"
    },
    "tags": []
   },
   "outputs": [],
   "source": [
    "def HighlightTopGradients(f, num, verbose, absolutevalue, maxgrads):\n",
    "    if num <= 0:\n",
    "        print(\"Error\")\n",
    "        return\n",
    "    with open(f) as file:\n",
    "        fil = file.read()\n",
    "    file = fileDeal(fil)\n",
    "    v = str(makeVector(file))\n",
    "    v = np.array(transformVector(v))\n",
    "    v = v.reshape(1, -1)\n",
    "    x = list(v) \n",
    "    x_t = tf.cast(x, tf.float32) #this line is necessary for the gradientTape to work\n",
    "    with tf.GradientTape() as t:\n",
    "        t.watch(x_t)\n",
    "        y = model(x_t)\n",
    "    global ar \n",
    "    ar = np.array(t.jacobian(y, x_t))\n",
    "    nonz = nonzero(v)\n",
    "    nonzdf = pd.DataFrame(nonz)\n",
    "    nonzdf = nonzdf.transpose()\n",
    "    global winner_class\n",
    "    winner_class = np.argmax(y)\n",
    "    nonzdf['gradient'] = nonzdf[1].apply(get_gradient)\n",
    "    if absolutevalue:\n",
    "        nonzdf['gradient'] = nonzdf['gradient'].apply(abs)\n",
    "    rankeddown = nonzdf.sort_values(by = 'gradient', ascending = not(maxgrads))[:num]\n",
    "    rankeddown['original str'] = rankeddown[1].apply(get_string_back)\n",
    "    sequences = list(rankeddown['original str'])\n",
    "    regexes = []\n",
    "    for seq in sequences:\n",
    "        regexes.append(regexpressionmaker(seq))\n",
    "    sep = '|'\n",
    "    regexes = sep.join(regexes)\n",
    "    regexes = '(' + regexes + ')'\n",
    "    regex = re.compile(regexes)\n",
    "    if verbose:\n",
    "        #this will highlight the sequences with the highest gradients in the input\n",
    "        print(re.sub(regex, Fore.RED+ r'\\1' + Fore.RESET, fil))\n",
    "    return regex"
   ]
  },
  {
   "cell_type": "code",
   "execution_count": 34,
   "id": "a15c9325",
   "metadata": {
    "execution": {
     "iopub.execute_input": "2024-04-15T15:48:04.244708Z",
     "iopub.status.busy": "2024-04-15T15:48:04.244322Z",
     "iopub.status.idle": "2024-04-15T15:48:04.262030Z",
     "shell.execute_reply": "2024-04-15T15:48:04.261228Z"
    },
    "papermill": {
     "duration": 0.049843,
     "end_time": "2024-04-15T15:48:04.264181",
     "exception": false,
     "start_time": "2024-04-15T15:48:04.214338",
     "status": "completed"
    },
    "tags": []
   },
   "outputs": [],
   "source": [
    "def hlgradsinsequence(f, num, verbose, absolutevalue, maxgrads, k):\n",
    "    if num <= 0:\n",
    "        print(\"Error\")\n",
    "        return\n",
    "    with open(f) as file:\n",
    "        fil = file.read()\n",
    "    file = fileDeal(fil)\n",
    "    v = str(makeVector(file))\n",
    "    v = np.array(transformVector(v))\n",
    "    v = v.reshape(1, -1)\n",
    "    x = list(v) \n",
    "    \n",
    "    x_t = tf.cast(x, tf.float32) #this line is necessary for the gradientTape to work\n",
    "    with tf.GradientTape() as t:\n",
    "        t.watch(x_t)\n",
    "        y = model(x_t)\n",
    "    global ar \n",
    "    ar = np.array(t.jacobian(y, x_t))\n",
    "    nonz = nonzero(v)\n",
    "    nonzdf = pd.DataFrame(nonz)\n",
    "    nonzdf = nonzdf.transpose()\n",
    "    global winner_class\n",
    "    winner_class = np.argmax(y)\n",
    "    nonzdf['gradient'] = nonzdf[1].apply(get_gradient)\n",
    "    \n",
    "    if absolutevalue:\n",
    "        nonzdf['gradient'] = nonzdf['gradient'].apply(abs)\n",
    "    rankeddown = nonzdf.sort_values(by = 'gradient', ascending = not(maxgrads))[:num]\n",
    "    rankeddown['original str'] = rankeddown[1].apply(get_string_back)\n",
    "    \n",
    "    sequences = list(rankeddown['original str'])\n",
    "    regexes = []\n",
    "    for seq in sequences:\n",
    "        regexes.append(regexpressionmaker(seq))\n",
    "    sep = '|'\n",
    "    regexes = sep.join(regexes)\n",
    "    regexes = '(' + regexes + ')'\n",
    "    regex = re.compile(regexes)\n",
    "    \n",
    "    matches = re.finditer(regex, fil)\n",
    "    new_pairs = []\n",
    "    first = True\n",
    "    #this only keeps matches that are within k distance of another match\n",
    "    for i in matches:\n",
    "        sp = i.span()\n",
    "        if (not first) and (sp[0] <= pre_sp[1] + k):\n",
    "            new_pairs.append((pre_sp, sp))\n",
    "        pre_sp = sp\n",
    "        first = False\n",
    "\n",
    "    if verbose:\n",
    "        #initialize variables\n",
    "        last = 0\n",
    "        \n",
    "        for p in new_pairs: \n",
    "            print(fil[last:p[0][0]], end=\"\")\n",
    "            print(Back.RED, end='')\n",
    "            print(fil[max(last, p[0][0]):p[1][1]], end='')\n",
    "            last = p[1][1]\n",
    "            print(Style.RESET_ALL, end='')\n",
    "        print(fil[last:])\n",
    "    return regex"
   ]
  },
  {
   "cell_type": "code",
   "execution_count": 35,
   "id": "1cf56085",
   "metadata": {
    "execution": {
     "iopub.execute_input": "2024-04-15T15:48:04.323251Z",
     "iopub.status.busy": "2024-04-15T15:48:04.322309Z",
     "iopub.status.idle": "2024-04-15T15:48:04.726965Z",
     "shell.execute_reply": "2024-04-15T15:48:04.725929Z"
    },
    "papermill": {
     "duration": 0.437772,
     "end_time": "2024-04-15T15:48:04.730371",
     "exception": false,
     "start_time": "2024-04-15T15:48:04.292599",
     "status": "completed"
    },
    "scrolled": true,
    "tags": []
   },
   "outputs": [
    {
     "name": "stdout",
     "output_type": "stream",
     "text": [
      "\n",
      "def decrypt(f, k):\n",
      "            decrypted = \"\"\n",
      "            for i in f:\n",
      "                j = i\u001b[31mnt(\u001b[39mi/k)\n",
      "                decrypted += ch\u001b[31mr(j\u001b[39m)\n",
      "            return decrypted\n",
      "        \n",
      "cipher = \u001b[31m[21\u001b[39m0,\u001b[31m 21\u001b[39m8, 224, \u001b[31m222\u001b[39m, \u001b[31m228\u001b[39m, 2\u001b[31m32,\u001b[39m 64, \u001b[31m222\u001b[39m, 230, 20,\u001b[31m 21\u001b[39m0,\u001b[31m 21\u001b[39m8, 224, \u001b[31m222\u001b[39m, \u001b[31m228\u001b[39m, 2\u001b[31m32,\u001b[39m 64, \u001b[31m228\u001b[39m, 194, \u001b[31m220\u001b[39m, 200, \u001b[31m222\u001b[39m,\u001b[31m 21\u001b[39m8, 20, 200, \u001b[31m202\u001b[39m, \u001b[31m204\u001b[39m, 64, 208, 194, \u001b[31m220\u001b[39m, 2\u001b[31m06,\u001b[39m\u001b[31m 21\u001b[39m8, 194, \u001b[31m220\u001b[39m, \u001b[31m80,\u001b[39m \u001b[31m238\u001b[39m, \u001b[31m222\u001b[39m, \u001b[31m228\u001b[39m, 200, 88, 64, \u001b[31m238\u001b[39m, \u001b[31m228\u001b[39m, \u001b[31m222\u001b[39m, \u001b[31m220\u001b[39m, 2\u001b[31m06,\u001b[39m 230, 88, 64, \u001b[31m228\u001b[39m,\u001b[31m 21\u001b[39m0, 2\u001b[31m06,\u001b[39m 208, 2\u001b[31m32,\u001b[39m 230, 88, 64,\u001b[31m 21\u001b[39m6, \u001b[31m202\u001b[39m, 2\u001b[31m32,\u001b[39m 2\u001b[31m32,\u001b[39m \u001b[31m202\u001b[39m, \u001b[31m228\u001b[39m, 230, 82, \u001b[31m116\u001b[39m, 20, 64, 64, 64, 64,\u001b[31m 21\u001b[39m0, \u001b[31m204\u001b[39m, 64, \u001b[31m238\u001b[39m, \u001b[31m228\u001b[39m, \u001b[31m222\u001b[39m, \u001b[31m220\u001b[39m, 2\u001b[31m06,\u001b[39m 230, 124, 96, \u001b[31m116\u001b[39m, 20, 64, 64, 64, 64, 64, 64, 64, 64, 224, \u001b[31m228\u001b[39m,\u001b[31m 21\u001b[39m0, \u001b[31m220\u001b[39m, 2\u001b[31m32,\u001b[39m \u001b[31m80,\u001b[39m 68, 1\u001b[31m46,\u001b[39m \u001b[31m220\u001b[39m, \u001b[31m198\u001b[39m, \u001b[31m222\u001b[39m, \u001b[31m228\u001b[39m, \u001b[31m228\u001b[39m, \u001b[31m202\u001b[39m, \u001b[31m198\u001b[39m, 2\u001b[31m32,\u001b[39m 64, 2\u001b[31m06,\u001b[39m 234, \u001b[31m202\u001b[39m, 230, 230, \u001b[31m202\u001b[39m, 230, \u001b[31m116\u001b[39m, 64, 68, 88, 64,\u001b[31m 21\u001b[39m6, \u001b[31m202\u001b[39m, 2\u001b[31m32,\u001b[39m 2\u001b[31m32,\u001b[39m \u001b[31m202\u001b[39m, \u001b[31m228\u001b[39m, 230, 82, 20, 64, 64, 64, 64, \u001b[31m70,\u001b[39m \u001b[31m70,\u001b[39m\u001b[31m 21\u001b[39m8, 194,\u001b[31m 21\u001b[39m4, \u001b[31m202\u001b[39m, 64, 2\u001b[31m32,\u001b[39m 208, \u001b[31m202\u001b[39m, 64, \u001b[31m220\u001b[39m, \u001b[31m222\u001b[39m, \u001b[31m222\u001b[39m, 230, \u001b[31m202\u001b[39m, 94, 208, 194, \u001b[31m220\u001b[39m, 2\u001b[31m06,\u001b[39m\u001b[31m 21\u001b[39m8, 194, \u001b[31m220\u001b[39m, 20, 64, 64, 64, 64, 224, \u001b[31m228\u001b[39m,\u001b[31m 21\u001b[39m0, \u001b[31m220\u001b[39m, 2\u001b[31m32,\u001b[39m \u001b[31m80,\u001b[39m 68, 64, 64, 1\u001b[31m90,\u001b[39m 1\u001b[31m90,\u001b[39m 1\u001b[31m90,\u001b[39m 1\u001b[31m90,\u001b[39m 1\u001b[31m90,\u001b[39m 1\u001b[31m90,\u001b[39m 1\u001b[31m90,\u001b[39m 1\u001b[31m90,\u001b[39m 1\u001b[31m90,\u001b[39m 1\u001b[31m90,\u001b[39m 1\u001b[31m90,\u001b[39m 1\u001b[31m90,\u001b[39m 1\u001b[31m90,\u001b[39m 1\u001b[31m90,\u001b[39m 1\u001b[31m90,\u001b[39m 1\u001b[31m90,\u001b[39m 1\u001b[31m90,\u001b[39m 1\u001b[31m90,\u001b[39m \u001b[31m184\u001b[39m, \u001b[31m220\u001b[39m, 64, 2\u001b[31m48,\u001b[39m 64, 64, 64, 64, 64, 64, 64, 64, 64, 64, 64, 64, 64, 64, 64, 64, 64, 64, 2\u001b[31m48,\u001b[39m \u001b[31m184\u001b[39m, \u001b[31m220\u001b[39m, 64, 2\u001b[31m48,\u001b[39m 64, 64, 64, 64, 64, 64, 64, 64, 64, 64, 64, 64, 64, 64, 64, 64, 64, 64, 2\u001b[31m48,\u001b[39m 68, 82, 20, 64, 64, 64, 64,\u001b[31m 21\u001b[39m0, \u001b[31m204\u001b[39m, 64, \u001b[31m238\u001b[39m, \u001b[31m228\u001b[39m, \u001b[31m222\u001b[39m, \u001b[31m220\u001b[39m, 2\u001b[31m06,\u001b[39m 230, 124, 96, \u001b[31m116\u001b[39m, 20, 64, 64, 64, 64, 64, 64, 64, 64, 224, \u001b[31m228\u001b[39m,\u001b[31m 21\u001b[39m0, \u001b[31m220\u001b[39m, 2\u001b[31m32,\u001b[39m \u001b[31m80,\u001b[39m 68, 64, 2\u001b[31m48,\u001b[39m 64, 64, 64, 64, 64, 64, 64, 64, 64, 64, 64, 64, 64, 64, 64, 64, 64, 64, 158, 68, 82, 20, 64, 64, 64, 64,\u001b[31m 21\u001b[39m0, \u001b[31m204\u001b[39m, 64, \u001b[31m238\u001b[39m, \u001b[31m228\u001b[39m, \u001b[31m222\u001b[39m, \u001b[31m220\u001b[39m, 2\u001b[31m06,\u001b[39m 230, 124, 98, 64, 194, \u001b[31m220\u001b[39m, 200, 64, \u001b[31m238\u001b[39m, \u001b[31m228\u001b[39m, \u001b[31m222\u001b[39m, \u001b[31m220\u001b[39m, 2\u001b[31m06,\u001b[39m 230, 120, 1\u001b[31m06,\u001b[39m \u001b[31m116\u001b[39m, 20, 64, 64, 64, 64, 64, 64, 64, 64, 224, \u001b[31m228\u001b[39m,\u001b[31m 21\u001b[39m0, \u001b[31m220\u001b[39m, 2\u001b[31m32,\u001b[39m \u001b[31m80,\u001b[39m 68, 64, 2\u001b[31m48,\u001b[39m 64, 64, 64, 64, 64, 64, 64, 64, 64, 64, 64, 64, 64, 64, 64, 64, 64, 64, 2\u001b[31m48,\u001b[39m 68, 82, 20, 64, 64, 64, 64,\u001b[31m 21\u001b[39m0, \u001b[31m204\u001b[39m, 64, \u001b[31m238\u001b[39m, \u001b[31m228\u001b[39m, \u001b[31m222\u001b[39m, \u001b[31m220\u001b[39m, 2\u001b[31m06,\u001b[39m 230, 122, 122, 1\u001b[31m06,\u001b[39m \u001b[31m116\u001b[39m, 20, 64, 64, 64, 64, 64, 64, 64, 64, 224, \u001b[31m228\u001b[39m,\u001b[31m 21\u001b[39m0, \u001b[31m220\u001b[39m, 2\u001b[31m32,\u001b[39m \u001b[31m80,\u001b[39m 68, 64, 2\u001b[31m48,\u001b[39m 64, 64, 64, 64, 64, 64, 64, 64, 64, 64, 64, 64, 64, 64, 64, 64, 64, 94, 2\u001b[31m48,\u001b[39m 68, 82, 20, 64, 64, 64, 64,\u001b[31m 21\u001b[39m0, \u001b[31m204\u001b[39m, 64, \u001b[31m238\u001b[39m, \u001b[31m228\u001b[39m, \u001b[31m222\u001b[39m, \u001b[31m220\u001b[39m, 2\u001b[31m06,\u001b[39m 230, 122, 122, 108, \u001b[31m116\u001b[39m, 20, 64, 64, 64, 64, 64, 64, 64, 64, 224, \u001b[31m228\u001b[39m,\u001b[31m 21\u001b[39m0, \u001b[31m220\u001b[39m, 2\u001b[31m32,\u001b[39m \u001b[31m80,\u001b[39m 68, 64, 2\u001b[31m48,\u001b[39m 64, 64, 64, 64, 64, 64, 64, 64, 64, 64, 64, 64, 64, 64, 64, 64, 64, 94, 2\u001b[31m48,\u001b[39m \u001b[31m184\u001b[39m, 64, 68, 82, 20, 64, 64, 64, 64,\u001b[31m 21\u001b[39m0, \u001b[31m204\u001b[39m, 64, \u001b[31m238\u001b[39m, \u001b[31m228\u001b[39m, \u001b[31m222\u001b[39m, \u001b[31m220\u001b[39m, 2\u001b[31m06,\u001b[39m 230, 122, 122, 102, \u001b[31m116\u001b[39m, 20, 64, 64, 64, 64, 64, 64, 64, 64, 224, \u001b[31m228\u001b[39m,\u001b[31m 21\u001b[39m0, \u001b[31m220\u001b[39m, 2\u001b[31m32,\u001b[39m \u001b[31m80,\u001b[39m 68, 64, 2\u001b[31m48,\u001b[39m 64, 64, 64, 64, 64, 64, 64, 64, 64, 64, 64, 64, 64, 64, 64, 64, 64, 94, 68, 82, 20, 64, 64, 64, 64,\u001b[31m 21\u001b[39m0, \u001b[31m204\u001b[39m, 64, \u001b[31m238\u001b[39m, \u001b[31m228\u001b[39m, \u001b[31m222\u001b[39m, \u001b[31m220\u001b[39m, 2\u001b[31m06,\u001b[39m 230, 124, 102, \u001b[31m116\u001b[39m, 20, 64, 64, 64, 64, 64, 64, 64, 64, 224, \u001b[31m228\u001b[39m,\u001b[31m 21\u001b[39m0, \u001b[31m220\u001b[39m, 2\u001b[31m32,\u001b[39m \u001b[31m80,\u001b[39m 68, 64, 2\u001b[31m48,\u001b[39m 64, 64, 64, 64, 64, 64, 64, 64, 64, 64, 64, 64, 64, 64, 64, 64, 64, 94, 64, \u001b[31m184\u001b[39m, 64, 68, 82, 20, 64, 64, 64, 64,\u001b[31m 21\u001b[39m0, \u001b[31m204\u001b[39m, 64, \u001b[31m238\u001b[39m, \u001b[31m228\u001b[39m, \u001b[31m222\u001b[39m, \u001b[31m220\u001b[39m, 2\u001b[31m06,\u001b[39m 230, 124, 122, 102, \u001b[31m116\u001b[39m, 20, 64, 64, 64, 64, 64, 64, 64, 64, 224, \u001b[31m228\u001b[39m,\u001b[31m 21\u001b[39m0, \u001b[31m220\u001b[39m, 2\u001b[31m32,\u001b[39m \u001b[31m80,\u001b[39m 68, 64, 2\u001b[31m48,\u001b[39m \u001b[31m184\u001b[39m, \u001b[31m220\u001b[39m, 64, 2\u001b[31m48,\u001b[39m \u001b[31m184\u001b[39m, \u001b[31m220\u001b[39m, 64, 2\u001b[31m48,\u001b[39m 68, 82, 20, 64, 64, 64, 64,\u001b[31m 21\u001b[39m0, \u001b[31m204\u001b[39m, 64, \u001b[31m238\u001b[39m, \u001b[31m228\u001b[39m, \u001b[31m222\u001b[39m, \u001b[31m220\u001b[39m, 2\u001b[31m06,\u001b[39m 230, 122, 122, 100, \u001b[31m116\u001b[39m, 20, 64, 64, 64, 64, 64, 64, 64, 64, 224, \u001b[31m228\u001b[39m,\u001b[31m 21\u001b[39m0, \u001b[31m220\u001b[39m, 2\u001b[31m32,\u001b[39m \u001b[31m80,\u001b[39m 68, 64, 2\u001b[31m48,\u001b[39m \u001b[31m184\u001b[39m, \u001b[31m220\u001b[39m, 64, 2\u001b[31m48,\u001b[39m \u001b[31m184\u001b[39m, \u001b[31m220\u001b[39m, 64, 2\u001b[31m48,\u001b[39m \u001b[31m184\u001b[39m, \u001b[31m220\u001b[39m, 64, 2\u001b[31m48,\u001b[39m 68, 82, 20, 64, 64, 64, 64,\u001b[31m 21\u001b[39m0, \u001b[31m204\u001b[39m, 64, \u001b[31m238\u001b[39m, \u001b[31m228\u001b[39m, \u001b[31m222\u001b[39m, \u001b[31m220\u001b[39m, 2\u001b[31m06,\u001b[39m 230, 64, 122, 122, 64, 98, \u001b[31m116\u001b[39m, 20, 64, 64, 64, 64, 64, 64, 64, 64, 224, \u001b[31m228\u001b[39m,\u001b[31m 21\u001b[39m0, \u001b[31m220\u001b[39m, 2\u001b[31m32,\u001b[39m \u001b[31m80,\u001b[39m 68, 64, 2\u001b[31m48,\u001b[39m \u001b[31m184\u001b[39m, \u001b[31m220\u001b[39m, 64, 2\u001b[31m48,\u001b[39m \u001b[31m184\u001b[39m, \u001b[31m220\u001b[39m, 64, 2\u001b[31m48,\u001b[39m \u001b[31m184\u001b[39m, \u001b[31m220\u001b[39m, 64, 2\u001b[31m48,\u001b[39m \u001b[31m184\u001b[39m, \u001b[31m220\u001b[39m, 64, 2\u001b[31m48,\u001b[39m 68, 82, 20, 64, 64, 64, 64,\u001b[31m 21\u001b[39m0, \u001b[31m204\u001b[39m, 64, \u001b[31m238\u001b[39m, \u001b[31m228\u001b[39m, \u001b[31m222\u001b[39m, \u001b[31m220\u001b[39m, 2\u001b[31m06,\u001b[39m 230, 64, 122, 122, 96, \u001b[31m116\u001b[39m, 20, 64, 64, 64, 64, 64, 64, 64, 64, 224, \u001b[31m228\u001b[39m,\u001b[31m 21\u001b[39m0, \u001b[31m220\u001b[39m, 2\u001b[31m32,\u001b[39m \u001b[31m80,\u001b[39m 68, 64, 2\u001b[31m48,\u001b[39m \u001b[31m184\u001b[39m, \u001b[31m220\u001b[39m, 64, 2\u001b[31m48,\u001b[39m \u001b[31m184\u001b[39m, \u001b[31m220\u001b[39m, 64, 2\u001b[31m48,\u001b[39m \u001b[31m184\u001b[39m, \u001b[31m220\u001b[39m, 64, 2\u001b[31m48,\u001b[39m \u001b[31m184\u001b[39m, \u001b[31m220\u001b[39m, 64, 2\u001b[31m48,\u001b[39m \u001b[31m184\u001b[39m, \u001b[31m220\u001b[39m, 64, 2\u001b[31m48,\u001b[39m 68, 82, 20, 64, 64, 64, 64, 224, \u001b[31m228\u001b[39m,\u001b[31m 21\u001b[39m0, \u001b[31m220\u001b[39m, 2\u001b[31m32,\u001b[39m \u001b[31m80,\u001b[39m 68, 1\u001b[31m90,\u001b[39m 1\u001b[31m90,\u001b[39m 1\u001b[31m90,\u001b[39m 68, 82, 20, 64, 64, 64, 64, \u001b[31m70,\u001b[39m \u001b[31m70,\u001b[39m\u001b[31m 21\u001b[39m8, 194,\u001b[31m 21\u001b[39m4, \u001b[31m202\u001b[39m, 64, 2\u001b[31m32,\u001b[39m 208, \u001b[31m202\u001b[39m, 64, 196,\u001b[31m 21\u001b[39m6, 194, \u001b[31m220\u001b[39m,\u001b[31m 21\u001b[39m4, 230, 94, \u001b[31m204\u001b[39m,\u001b[31m 21\u001b[39m0,\u001b[31m 21\u001b[39m6,\u001b[31m 21\u001b[39m6, 64,\u001b[31m 21\u001b[39m0, \u001b[31m220\u001b[39m, 64, \u001b[31m238\u001b[39m, 208, \u001b[31m202\u001b[39m, \u001b[31m228\u001b[39m, \u001b[31m202\u001b[39m, 64, \u001b[31m220\u001b[39m, \u001b[31m202\u001b[39m, \u001b[31m202\u001b[39m, 200, \u001b[31m202\u001b[39m, 200, 20, 64, 64, 64, 64, 2\u001b[31m32,\u001b[39m \u001b[31m222\u001b[39m, 224, \u001b[31m228\u001b[39m,\u001b[31m 21\u001b[39m0, \u001b[31m220\u001b[39m, 2\u001b[31m32,\u001b[39m 64, 122, 64, 68, 64, 64, 64, 64, 64, 64, 64, 68, 20, 64, 64, 64, 64, \u001b[31m204\u001b[39m, \u001b[31m222\u001b[39m, \u001b[31m228\u001b[39m, 64,\u001b[31m 21\u001b[39m0, 64,\u001b[31m 21\u001b[39m0, \u001b[31m220\u001b[39m, 64, \u001b[31m238\u001b[39m, \u001b[31m222\u001b[39m, \u001b[31m228\u001b[39m, 200, \u001b[31m116\u001b[39m, 20, 64, 64, 64, 64, 64, 64, 64, 64,\u001b[31m 21\u001b[39m0, \u001b[31m204\u001b[39m, 64,\u001b[31m 21\u001b[39m0, 64,\u001b[31m 21\u001b[39m0, \u001b[31m220\u001b[39m, 64, \u001b[31m228\u001b[39m,\u001b[31m 21\u001b[39m0, 2\u001b[31m06,\u001b[39m 208, 2\u001b[31m32,\u001b[39m 230, \u001b[31m116\u001b[39m, 20, 64, 64, 64, 64, 64, 64, 64, 64, 64, 64, 64, 64, 2\u001b[31m32,\u001b[39m \u001b[31m222\u001b[39m, 224, \u001b[31m228\u001b[39m,\u001b[31m 21\u001b[39m0, \u001b[31m220\u001b[39m, 2\u001b[31m32,\u001b[39m \u001b[31m86,\u001b[39m 122, 64,\u001b[31m 21\u001b[39m0, 20, 64, 64, 64, 64, 64, 64, 64, 64, \u001b[31m202\u001b[39m,\u001b[31m 21\u001b[39m6, 230, \u001b[31m202\u001b[39m, \u001b[31m116\u001b[39m, 20, 64, 64, 64, 64, 64, 64, 64, 64, 64, 64, 64, 64, 2\u001b[31m32,\u001b[39m \u001b[31m222\u001b[39m, 224, \u001b[31m228\u001b[39m,\u001b[31m 21\u001b[39m0, \u001b[31m220\u001b[39m, 2\u001b[31m32,\u001b[39m \u001b[31m86,\u001b[39m 122, 68, 1\u001b[31m90,\u001b[39m 68, 20, 64, 64, 64, 64, 64, 64, 64, 64, 2\u001b[31m32,\u001b[39m \u001b[31m222\u001b[39m, 224, \u001b[31m228\u001b[39m,\u001b[31m 21\u001b[39m0, \u001b[31m220\u001b[39m, 2\u001b[31m32,\u001b[39m \u001b[31m86,\u001b[39m 122, 68, 64, 68, 20, 64, 64, 64, 64, 224, \u001b[31m228\u001b[39m,\u001b[31m 21\u001b[39m0, \u001b[31m220\u001b[39m, 2\u001b[31m32,\u001b[39m \u001b[31m80,\u001b[39m 2\u001b[31m32,\u001b[39m \u001b[31m222\u001b[39m, 224, \u001b[31m228\u001b[39m,\u001b[31m 21\u001b[39m0, \u001b[31m220\u001b[39m, 2\u001b[31m32,\u001b[39m 82, 20,\u001b[31m 21\u001b[39m6, \u001b[31m202\u001b[39m, 2\u001b[31m32,\u001b[39m 2\u001b[31m32,\u001b[39m \u001b[31m202\u001b[39m, \u001b[31m228\u001b[39m, 230, 122, 68, 68, 64, \u001b[31m70,\u001b[39m \u001b[31m70,\u001b[39m 2\u001b[31m32,\u001b[39m 208, \u001b[31m202\u001b[39m, 64,\u001b[31m 21\u001b[39m0, \u001b[31m220\u001b[39m, \u001b[31m198\u001b[39m, \u001b[31m222\u001b[39m, \u001b[31m228\u001b[39m, \u001b[31m228\u001b[39m, \u001b[31m202\u001b[39m, \u001b[31m198\u001b[39m, 2\u001b[31m32,\u001b[39m 64, 2\u001b[31m06,\u001b[39m 234, \u001b[31m202\u001b[39m, 230, 230, \u001b[31m202\u001b[39m, 230, 20, \u001b[31m228\u001b[39m,\u001b[31m 21\u001b[39m0, 2\u001b[31m06,\u001b[39m 208, 2\u001b[31m32,\u001b[39m 230, 64, 122, 64, 182, 1\u001b[31m86,\u001b[39m 64, \u001b[31m70,\u001b[39m \u001b[31m70,\u001b[39m 2\u001b[31m32,\u001b[39m 208, \u001b[31m202\u001b[39m, 64, \u001b[31m198\u001b[39m, \u001b[31m222\u001b[39m, \u001b[31m228\u001b[39m, \u001b[31m228\u001b[39m, \u001b[31m202\u001b[39m, \u001b[31m198\u001b[39m, 2\u001b[31m32,\u001b[39m 64, 2\u001b[31m06,\u001b[39m 234, \u001b[31m202\u001b[39m, 230, 230, \u001b[31m202\u001b[39m, 230, 20, 2\u001b[31m06,\u001b[39m 234, \u001b[31m202\u001b[39m, 230, 230, \u001b[31m202\u001b[39m, 230, 122, 96, 64, \u001b[31m70,\u001b[39m \u001b[31m70,\u001b[39m 2\u001b[31m32,\u001b[39m 208, \u001b[31m202\u001b[39m, 64, \u001b[31m220\u001b[39m, 234,\u001b[31m 21\u001b[39m8, 196, \u001b[31m202\u001b[39m, \u001b[31m228\u001b[39m, 64, \u001b[31m222\u001b[39m, \u001b[31m204\u001b[39m, 64,\u001b[31m 21\u001b[39m0, \u001b[31m220\u001b[39m, \u001b[31m198\u001b[39m, \u001b[31m222\u001b[39m, \u001b[31m228\u001b[39m, \u001b[31m228\u001b[39m, \u001b[31m202\u001b[39m, \u001b[31m198\u001b[39m, 2\u001b[31m32,\u001b[39m 64, 2\u001b[31m06,\u001b[39m 234, \u001b[31m202\u001b[39m, 230, 230, \u001b[31m202\u001b[39m, 230, 20, \u001b[31m238\u001b[39m, \u001b[31m222\u001b[39m, \u001b[31m220\u001b[39m, 122, 140, 194,\u001b[31m 21\u001b[39m6, 230, \u001b[31m202\u001b[39m, 20, 224, \u001b[31m228\u001b[39m,\u001b[31m 21\u001b[39m0, \u001b[31m220\u001b[39m, 2\u001b[31m32,\u001b[39m \u001b[31m80,\u001b[39m 68,\u001b[31m 17\u001b[39m4, \u001b[31m202\u001b[39m,\u001b[31m 21\u001b[39m6, \u001b[31m198\u001b[39m, \u001b[31m222\u001b[39m,\u001b[31m 21\u001b[39m8, \u001b[31m202\u001b[39m, 64, 2\u001b[31m32,\u001b[39m \u001b[31m222\u001b[39m, 64, 208, 194, \u001b[31m220\u001b[39m, 2\u001b[31m06,\u001b[39m\u001b[31m 21\u001b[39m8, 194, \u001b[31m220\u001b[39m, 66, 68, 82, 20, 20, 20, 20, \u001b[31m238\u001b[39m, \u001b[31m222\u001b[39m, \u001b[31m228\u001b[39m, 200, 64, 122, 64,\u001b[31m 21\u001b[39m0, \u001b[31m220\u001b[39m, 224, 234, 2\u001b[31m32,\u001b[39m \u001b[31m80,\u001b[39m 68, \u001b[31m160\u001b[39m,\u001b[31m 21\u001b[39m6, 194, \u001b[31m242\u001b[39m, \u001b[31m202\u001b[39m, \u001b[31m228\u001b[39m, 64, 98, 88, 64,\u001b[31m 21\u001b[39m0, \u001b[31m220\u001b[39m, 224, 234, 2\u001b[31m32,\u001b[39m 64, \u001b[31m242\u001b[39m, \u001b[31m222\u001b[39m, 234, \u001b[31m228\u001b[39m, 64, \u001b[31m238\u001b[39m, \u001b[31m222\u001b[39m, \u001b[31m228\u001b[39m, 200, \u001b[31m116\u001b[39m, \u001b[31m184\u001b[39m, \u001b[31m220\u001b[39m, 68, 82, 20, \u001b[31m222\u001b[39m, 230, 92, 230, \u001b[31m242\u001b[39m, 230, 2\u001b[31m32,\u001b[39m \u001b[31m202\u001b[39m,\u001b[31m 21\u001b[39m8, \u001b[31m80,\u001b[39m 68, \u001b[31m198\u001b[39m,\u001b[31m 21\u001b[39m6, \u001b[31m202\u001b[39m, 194, \u001b[31m228\u001b[39m, 68, 82, 64, 20, 20, 20, 20, \u001b[31m238\u001b[39m, 208,\u001b[31m 21\u001b[39m0,\u001b[31m 21\u001b[39m6, \u001b[31m202\u001b[39m, 64, \u001b[31m220\u001b[39m, \u001b[31m222\u001b[39m, 2\u001b[31m32,\u001b[39m \u001b[31m80,\u001b[39m \u001b[31m238\u001b[39m, \u001b[31m222\u001b[39m, \u001b[31m220\u001b[39m, 82, 64, 194, \u001b[31m220\u001b[39m, 200, 64, 2\u001b[31m06,\u001b[39m 234, \u001b[31m202\u001b[39m, 230, 230, \u001b[31m202\u001b[39m, 230, 120, 108, \u001b[31m116\u001b[39m, 20, 64, 64, 64, 64, 208, 194, \u001b[31m220\u001b[39m, 2\u001b[31m06,\u001b[39m\u001b[31m 21\u001b[39m8, 194, \u001b[31m220\u001b[39m, \u001b[31m80,\u001b[39m \u001b[31m238\u001b[39m, \u001b[31m222\u001b[39m, \u001b[31m228\u001b[39m, 200, 88, 2\u001b[31m06,\u001b[39m 234, \u001b[31m202\u001b[39m, 230, 230, \u001b[31m202\u001b[39m, 230, 88, \u001b[31m228\u001b[39m,\u001b[31m 21\u001b[39m0, 2\u001b[31m06,\u001b[39m 208, 2\u001b[31m32,\u001b[39m 230, 88,\u001b[31m 21\u001b[39m6, \u001b[31m202\u001b[39m, 2\u001b[31m32,\u001b[39m 2\u001b[31m32,\u001b[39m \u001b[31m202\u001b[39m, \u001b[31m228\u001b[39m, 230, 82, 20, 64, 64, 64, 64, 2\u001b[31m06,\u001b[39m 234, \u001b[31m202\u001b[39m, 230, 230, 64, 122, 64,\u001b[31m 21\u001b[39m0, \u001b[31m220\u001b[39m, 224, 234, 2\u001b[31m32,\u001b[39m \u001b[31m80,\u001b[39m 68, \u001b[31m160\u001b[39m,\u001b[31m 21\u001b[39m6, 194, \u001b[31m242\u001b[39m, \u001b[31m202\u001b[39m, \u001b[31m228\u001b[39m, 64, 100, 88, 64, 2\u001b[31m06,\u001b[39m 234, \u001b[31m202\u001b[39m, 230, 230, 64, 194, 64,\u001b[31m 21\u001b[39m6, \u001b[31m202\u001b[39m, 2\u001b[31m32,\u001b[39m 2\u001b[31m32,\u001b[39m \u001b[31m202\u001b[39m, \u001b[31m228\u001b[39m, \u001b[31m116\u001b[39m, \u001b[31m184\u001b[39m, \u001b[31m220\u001b[39m, 68, 82, 20, 64, 64, 64, 64,\u001b[31m 21\u001b[39m0, \u001b[31m204\u001b[39m, 64, 2\u001b[31m06,\u001b[39m 234, \u001b[31m202\u001b[39m, 230, 230, 64,\u001b[31m 21\u001b[39m0, \u001b[31m220\u001b[39m, 64, \u001b[31m238\u001b[39m, \u001b[31m222\u001b[39m, \u001b[31m228\u001b[39m, 200, \u001b[31m116\u001b[39m, 20, 64, 64, 64, 64, 64, 64, 64, 64, \u001b[31m228\u001b[39m,\u001b[31m 21\u001b[39m0, 2\u001b[31m06,\u001b[39m 208, 2\u001b[31m32,\u001b[39m 230, \u001b[31m86,\u001b[39m 122, 2\u001b[31m06,\u001b[39m 234, \u001b[31m202\u001b[39m, 230, 230, 20, 64, 64, 64, 64, \u001b[31m202\u001b[39m,\u001b[31m 21\u001b[39m6, 230, \u001b[31m202\u001b[39m, \u001b[31m116\u001b[39m, 20, 64, 64, 64, 64, 64, 64, 64, 64,\u001b[31m 21\u001b[39m6, \u001b[31m202\u001b[39m, 2\u001b[31m32,\u001b[39m 2\u001b[31m32,\u001b[39m \u001b[31m202\u001b[39m, \u001b[31m228\u001b[39m, 230, \u001b[31m86,\u001b[39m 122, 2\u001b[31m06,\u001b[39m 234, \u001b[31m202\u001b[39m, 230, 230, 20, 64, 64, 64, 64, 64, 64, 64, 64, 2\u001b[31m06,\u001b[39m 234, \u001b[31m202\u001b[39m, 230, 230, \u001b[31m202\u001b[39m, 230, \u001b[31m86,\u001b[39m 122, 98, 20, 64, 64, 64, 64, \u001b[31m238\u001b[39m, \u001b[31m222\u001b[39m, \u001b[31m220\u001b[39m, 64, 122, 64, 168, \u001b[31m228\u001b[39m, 234, \u001b[31m202\u001b[39m, 20, 64, 64, 64, 64, \u001b[31m204\u001b[39m, \u001b[31m222\u001b[39m, \u001b[31m228\u001b[39m, 64,\u001b[31m 21\u001b[39m0, 64,\u001b[31m 21\u001b[39m0, \u001b[31m220\u001b[39m, 64, \u001b[31m238\u001b[39m, \u001b[31m222\u001b[39m, \u001b[31m228\u001b[39m, 200, \u001b[31m116\u001b[39m, 20, 64, 64, 64, 64, 64, 64, 64, 64,\u001b[31m 21\u001b[39m0, \u001b[31m204\u001b[39m, 64, \u001b[31m220\u001b[39m, \u001b[31m222\u001b[39m, 2\u001b[31m32,\u001b[39m \u001b[31m80,\u001b[39m\u001b[31m 21\u001b[39m0, 64,\u001b[31m 21\u001b[39m0, \u001b[31m220\u001b[39m, 64, \u001b[31m228\u001b[39m,\u001b[31m 21\u001b[39m0, 2\u001b[31m06,\u001b[39m 208, 2\u001b[31m32,\u001b[39m 230, 82, \u001b[31m116\u001b[39m, 20, 64, 64, 64, 64, 64, 64, 64, 64, 64, 64, 64, 64, \u001b[31m238\u001b[39m, \u001b[31m222\u001b[39m, \u001b[31m220\u001b[39m, 64, 122, 64, 140, 194,\u001b[31m 21\u001b[39m6, 230, \u001b[31m202\u001b[39m, 20, 64, 64, 64, 64, \u001b[31m222\u001b[39m, 230, 92, 230, \u001b[31m242\u001b[39m, 230, 2\u001b[31m32,\u001b[39m \u001b[31m202\u001b[39m,\u001b[31m 21\u001b[39m8, \u001b[31m80,\u001b[39m 68, \u001b[31m198\u001b[39m,\u001b[31m 21\u001b[39m6, \u001b[31m202\u001b[39m, 194, \u001b[31m228\u001b[39m, 68, 82, 20,\u001b[31m 21\u001b[39m0, \u001b[31m204\u001b[39m, 64, \u001b[31m238\u001b[39m, \u001b[31m222\u001b[39m, \u001b[31m220\u001b[39m, \u001b[31m116\u001b[39m, 20, 64, 64, 64, 64, 208, 194, \u001b[31m220\u001b[39m, 2\u001b[31m06,\u001b[39m\u001b[31m 21\u001b[39m8, 194, \u001b[31m220\u001b[39m, \u001b[31m80,\u001b[39m \u001b[31m238\u001b[39m, \u001b[31m222\u001b[39m, \u001b[31m228\u001b[39m, 200, 88, 2\u001b[31m06,\u001b[39m 234, \u001b[31m202\u001b[39m, 230, 230, \u001b[31m202\u001b[39m, 230, 88, \u001b[31m228\u001b[39m,\u001b[31m 21\u001b[39m0, 2\u001b[31m06,\u001b[39m 208, 2\u001b[31m32,\u001b[39m 230, 88,\u001b[31m 21\u001b[39m6, \u001b[31m202\u001b[39m, 2\u001b[31m32,\u001b[39m 2\u001b[31m32,\u001b[39m \u001b[31m202\u001b[39m, \u001b[31m228\u001b[39m, 230, 82, 20, 64, 64, 64, 64, 224, \u001b[31m228\u001b[39m,\u001b[31m 21\u001b[39m0, \u001b[31m220\u001b[39m, 2\u001b[31m32,\u001b[39m \u001b[31m80,\u001b[39m 68, \u001b[31m160\u001b[39m,\u001b[31m 21\u001b[39m6, 194, \u001b[31m242\u001b[39m, \u001b[31m202\u001b[39m, \u001b[31m228\u001b[39m, 64, 100, 64, \u001b[31m238\u001b[39m, \u001b[31m222\u001b[39m, \u001b[31m220\u001b[39m, 66, 68, 82, 20, \u001b[31m202\u001b[39m,\u001b[31m 21\u001b[39m6, 230, \u001b[31m202\u001b[39m, \u001b[31m116\u001b[39m, 20, 64, 64, 64, 64, 208, 194, \u001b[31m220\u001b[39m, 2\u001b[31m06,\u001b[39m\u001b[31m 21\u001b[39m8, 194, \u001b[31m220\u001b[39m, \u001b[31m80,\u001b[39m \u001b[31m238\u001b[39m, \u001b[31m222\u001b[39m, \u001b[31m228\u001b[39m, 200, 88, 2\u001b[31m06,\u001b[39m 234, \u001b[31m202\u001b[39m, 230, 230, \u001b[31m202\u001b[39m, 230, 88, \u001b[31m228\u001b[39m,\u001b[31m 21\u001b[39m0, 2\u001b[31m06,\u001b[39m 208, 2\u001b[31m32,\u001b[39m 230, 88,\u001b[31m 21\u001b[39m6, \u001b[31m202\u001b[39m, 2\u001b[31m32,\u001b[39m 2\u001b[31m32,\u001b[39m \u001b[31m202\u001b[39m, \u001b[31m228\u001b[39m, 230, 82, 20, 64, 64, 64, 64, 224, \u001b[31m228\u001b[39m,\u001b[31m 21\u001b[39m0, \u001b[31m220\u001b[39m, 2\u001b[31m32,\u001b[39m \u001b[31m80,\u001b[39m 68,\u001b[31m 17\u001b[39m8, \u001b[31m222\u001b[39m, 234, 64,\u001b[31m 21\u001b[39m6, \u001b[31m222\u001b[39m, 230, 2\u001b[31m32,\u001b[39m 92, 64, 168, 208, \u001b[31m202\u001b[39m, 64, \u001b[31m238\u001b[39m, \u001b[31m222\u001b[39m, \u001b[31m228\u001b[39m, 200, 64, \u001b[31m238\u001b[39m, 194, 230, 68, 88, 64, \u001b[31m238\u001b[39m, \u001b[31m222\u001b[39m, \u001b[31m228\u001b[39m, 200, 82, 20, 20, 20, 20, 20, 20, 20, 20, 20, 20]\n",
      "key =2\n",
      "exec(decrypt(cipher, key))\n"
     ]
    },
    {
     "data": {
      "text/plain": [
       "re.compile(r'(222|t\\Wi|46\\W|70\\W|174|210|204|32\\W|202|218|90\\W|\\W21|06\\W|228|80\\W|160|184|238|r\\Wj|198|86\\W|14\\W|220|242|48\\W|nt\\W|84\\W|18\\W|116|\\W17)',\n",
       "           re.UNICODE)"
      ]
     },
     "execution_count": 35,
     "metadata": {},
     "output_type": "execute_result"
    }
   ],
   "source": [
    "filename = '/kaggle/input/script2algo2/script2algo2key1.py'\n",
    "HighlightTopGradients(filename, 30, True, False, True)"
   ]
  },
  {
   "cell_type": "code",
   "execution_count": 36,
   "id": "ee753382",
   "metadata": {
    "execution": {
     "iopub.execute_input": "2024-04-15T15:48:04.790635Z",
     "iopub.status.busy": "2024-04-15T15:48:04.789955Z",
     "iopub.status.idle": "2024-04-15T15:48:05.025519Z",
     "shell.execute_reply": "2024-04-15T15:48:05.024203Z"
    },
    "papermill": {
     "duration": 0.268575,
     "end_time": "2024-04-15T15:48:05.028090",
     "exception": false,
     "start_time": "2024-04-15T15:48:04.759515",
     "status": "completed"
    },
    "tags": []
   },
   "outputs": [
    {
     "name": "stdout",
     "output_type": "stream",
     "text": [
      "\n",
      "def decrypt(f, k):\n",
      "            decrypted = \"\"\n",
      "            for i in f:\n",
      "                j = int(i/k)\n",
      "                decrypted += chr(j)\n",
      "            return decrypted\n",
      "        \n",
      "cipher = \u001b[41m[210, 21\u001b[0m8, 224, \u001b[41m222, 228\u001b[0m, 232, 64, 222, 230, 20,\u001b[41m 210, 21\u001b[0m8, 224, \u001b[41m222, 228\u001b[0m, 232, 64, 228, 194, 220, 200, \u001b[41m222, 21\u001b[0m8, 20, 200, \u001b[41m202, 204\u001b[0m, 64, 208, 194, 220, 2\u001b[41m06, 21\u001b[0m8, 194, 220, \u001b[41m80, 238\u001b[0m\u001b[41m, 222\u001b[0m\u001b[41m, 228\u001b[0m, 200, 88, 64, \u001b[41m238, 228\u001b[0m\u001b[41m, 222\u001b[0m, 220, 206, 230, 88, 64, \u001b[41m228, 21\u001b[0m0, 206, 208, 232, 230, 88, 64, 216, 202, 2\u001b[41m32, 232,\u001b[0m\u001b[41m 202\u001b[0m\u001b[41m, 228\u001b[0m, 230, 82, 116, 20, 64, 64, 64, 64, 210, 204, 64, \u001b[41m238, 228\u001b[0m\u001b[41m, 222\u001b[0m, 220, 206, 230, 124, 96, 116, 20, 64, 64, 64, 64, 64, 64, 64, 64, 224, \u001b[41m228, 21\u001b[0m0, 220, 2\u001b[41m32, 80,\u001b[0m 68, 146, 220, \u001b[41m198, 222\u001b[0m\u001b[41m, 228\u001b[0m\u001b[41m, 228\u001b[0m\u001b[41m, 202\u001b[0m\u001b[41m, 198\u001b[0m, 232, 64, 206, 234, 202, 230, 230, 202, 230, 116, 64, 68, 88, 64, 216, 202, 2\u001b[41m32, 232,\u001b[0m\u001b[41m 202\u001b[0m\u001b[41m, 228\u001b[0m, 230, 82, 20, 64, 64, 64, 64, \u001b[41m70, 70,\u001b[0m\u001b[41m 21\u001b[0m8, 194, 214, 202, 64, 232, 208, 202, 64, 220, \u001b[41m222, 222\u001b[0m, 230, 202, 94, 208, 194, 220, 2\u001b[41m06, 21\u001b[0m8, 194, 220, 20, 64, 64, 64, 64, 224, \u001b[41m228, 21\u001b[0m0, 220, 2\u001b[41m32, 80,\u001b[0m 68, 64, 64, 1\u001b[41m90, 190,\u001b[0m\u001b[41m 190,\u001b[0m\u001b[41m 190,\u001b[0m\u001b[41m 190,\u001b[0m\u001b[41m 190,\u001b[0m\u001b[41m 190,\u001b[0m\u001b[41m 190,\u001b[0m\u001b[41m 190,\u001b[0m\u001b[41m 190,\u001b[0m\u001b[41m 190,\u001b[0m\u001b[41m 190,\u001b[0m\u001b[41m 190,\u001b[0m\u001b[41m 190,\u001b[0m\u001b[41m 190,\u001b[0m\u001b[41m 190,\u001b[0m\u001b[41m 190,\u001b[0m\u001b[41m 190,\u001b[0m\u001b[41m 184\u001b[0m, 220, 64, 248, 64, 64, 64, 64, 64, 64, 64, 64, 64, 64, 64, 64, 64, 64, 64, 64, 64, 64, 248, 184, 220, 64, 248, 64, 64, 64, 64, 64, 64, 64, 64, 64, 64, 64, 64, 64, 64, 64, 64, 64, 64, 248, 68, 82, 20, 64, 64, 64, 64, 210, 204, 64, \u001b[41m238, 228\u001b[0m\u001b[41m, 222\u001b[0m, 220, 206, 230, 124, 96, 116, 20, 64, 64, 64, 64, 64, 64, 64, 64, 224, \u001b[41m228, 21\u001b[0m0, 220, 2\u001b[41m32, 80,\u001b[0m 68, 64, 248, 64, 64, 64, 64, 64, 64, 64, 64, 64, 64, 64, 64, 64, 64, 64, 64, 64, 64, 158, 68, 82, 20, 64, 64, 64, 64, 210, 204, 64, \u001b[41m238, 228\u001b[0m\u001b[41m, 222\u001b[0m, 220, 206, 230, 124, 98, 64, 194, 220, 200, 64, \u001b[41m238, 228\u001b[0m\u001b[41m, 222\u001b[0m, 220, 206, 230, 120, 106, 116, 20, 64, 64, 64, 64, 64, 64, 64, 64, 224, \u001b[41m228, 21\u001b[0m0, 220, 2\u001b[41m32, 80,\u001b[0m 68, 64, 248, 64, 64, 64, 64, 64, 64, 64, 64, 64, 64, 64, 64, 64, 64, 64, 64, 64, 64, 248, 68, 82, 20, 64, 64, 64, 64, 210, 204, 64, \u001b[41m238, 228\u001b[0m\u001b[41m, 222\u001b[0m, 220, 206, 230, 122, 122, 106, 116, 20, 64, 64, 64, 64, 64, 64, 64, 64, 224, \u001b[41m228, 21\u001b[0m0, 220, 2\u001b[41m32, 80,\u001b[0m 68, 64, 248, 64, 64, 64, 64, 64, 64, 64, 64, 64, 64, 64, 64, 64, 64, 64, 64, 64, 94, 248, 68, 82, 20, 64, 64, 64, 64, 210, 204, 64, \u001b[41m238, 228\u001b[0m\u001b[41m, 222\u001b[0m, 220, 206, 230, 122, 122, 108, 116, 20, 64, 64, 64, 64, 64, 64, 64, 64, 224, \u001b[41m228, 21\u001b[0m0, 220, 2\u001b[41m32, 80,\u001b[0m 68, 64, 248, 64, 64, 64, 64, 64, 64, 64, 64, 64, 64, 64, 64, 64, 64, 64, 64, 64, 94, 248, 184, 64, 68, 82, 20, 64, 64, 64, 64, 210, 204, 64, \u001b[41m238, 228\u001b[0m\u001b[41m, 222\u001b[0m, 220, 206, 230, 122, 122, 102, 116, 20, 64, 64, 64, 64, 64, 64, 64, 64, 224, \u001b[41m228, 21\u001b[0m0, 220, 2\u001b[41m32, 80,\u001b[0m 68, 64, 248, 64, 64, 64, 64, 64, 64, 64, 64, 64, 64, 64, 64, 64, 64, 64, 64, 64, 94, 68, 82, 20, 64, 64, 64, 64, 210, 204, 64, \u001b[41m238, 228\u001b[0m\u001b[41m, 222\u001b[0m, 220, 206, 230, 124, 102, 116, 20, 64, 64, 64, 64, 64, 64, 64, 64, 224, \u001b[41m228, 21\u001b[0m0, 220, 2\u001b[41m32, 80,\u001b[0m 68, 64, 248, 64, 64, 64, 64, 64, 64, 64, 64, 64, 64, 64, 64, 64, 64, 64, 64, 64, 94, 64, 184, 64, 68, 82, 20, 64, 64, 64, 64, 210, 204, 64, \u001b[41m238, 228\u001b[0m\u001b[41m, 222\u001b[0m, 220, 206, 230, 124, 122, 102, 116, 20, 64, 64, 64, 64, 64, 64, 64, 64, 224, \u001b[41m228, 21\u001b[0m0, 220, 2\u001b[41m32, 80,\u001b[0m 68, 64, 248, 184, 220, 64, 248, 184, 220, 64, 248, 68, 82, 20, 64, 64, 64, 64, 210, 204, 64, \u001b[41m238, 228\u001b[0m\u001b[41m, 222\u001b[0m, 220, 206, 230, 122, 122, 100, 116, 20, 64, 64, 64, 64, 64, 64, 64, 64, 224, \u001b[41m228, 21\u001b[0m0, 220, 2\u001b[41m32, 80,\u001b[0m 68, 64, 248, 184, 220, 64, 248, 184, 220, 64, 248, 184, 220, 64, 248, 68, 82, 20, 64, 64, 64, 64, 210, 204, 64, \u001b[41m238, 228\u001b[0m\u001b[41m, 222\u001b[0m, 220, 206, 230, 64, 122, 122, 64, 98, 116, 20, 64, 64, 64, 64, 64, 64, 64, 64, 224, \u001b[41m228, 21\u001b[0m0, 220, 2\u001b[41m32, 80,\u001b[0m 68, 64, 248, 184, 220, 64, 248, 184, 220, 64, 248, 184, 220, 64, 248, 184, 220, 64, 248, 68, 82, 20, 64, 64, 64, 64, 210, 204, 64, \u001b[41m238, 228\u001b[0m\u001b[41m, 222\u001b[0m, 220, 206, 230, 64, 122, 122, 96, 116, 20, 64, 64, 64, 64, 64, 64, 64, 64, 224, \u001b[41m228, 21\u001b[0m0, 220, 2\u001b[41m32, 80,\u001b[0m 68, 64, 248, 184, 220, 64, 248, 184, 220, 64, 248, 184, 220, 64, 248, 184, 220, 64, 248, 184, 220, 64, 248, 68, 82, 20, 64, 64, 64, 64, 224, \u001b[41m228, 21\u001b[0m0, 220, 2\u001b[41m32, 80,\u001b[0m 68, 1\u001b[41m90, 190,\u001b[0m\u001b[41m 190,\u001b[0m 68, 82, 20, 64, 64, 64, 64, \u001b[41m70, 70,\u001b[0m\u001b[41m 21\u001b[0m8, 194, 214, 202, 64, 232, 208, 202, 64, 196, 216, 194, 220, 214, 230, 94, \u001b[41m204, 21\u001b[0m\u001b[41m0, 21\u001b[0m\u001b[41m6, 21\u001b[0m6, 64, 210, 220, 64, 238, 208, \u001b[41m202, 228\u001b[0m\u001b[41m, 202\u001b[0m, 64, 220, \u001b[41m202, 202\u001b[0m, 200, 202, 200, 20, 64, 64, 64, 64, 2\u001b[41m32, 222\u001b[0m, 224, \u001b[41m228, 21\u001b[0m0, 220, 232, 64, 122, 64, 68, 64, 64, 64, 64, 64, 64, 64, 68, 20, 64, 64, 64, 64, \u001b[41m204, 222\u001b[0m\u001b[41m, 228\u001b[0m, 64, 210, 64, 210, 220, 64, \u001b[41m238, 222\u001b[0m\u001b[41m, 228\u001b[0m, 200, 116, 20, 64, 64, 64, 64, 64, 64, 64, 64, 210, 204, 64, 210, 64, 210, 220, 64, \u001b[41m228, 21\u001b[0m0, 206, 208, 232, 230, 116, 20, 64, 64, 64, 64, 64, 64, 64, 64, 64, 64, 64, 64, 2\u001b[41m32, 222\u001b[0m, 224, \u001b[41m228, 21\u001b[0m0, 220, 232, 86, 122, 64, 210, 20, 64, 64, 64, 64, 64, 64, 64, 64, \u001b[41m202, 21\u001b[0m6, 230, 202, 116, 20, 64, 64, 64, 64, 64, 64, 64, 64, 64, 64, 64, 64, 2\u001b[41m32, 222\u001b[0m, 224, \u001b[41m228, 21\u001b[0m0, 220, 232, 86, 122, 68, 190, 68, 20, 64, 64, 64, 64, 64, 64, 64, 64, 2\u001b[41m32, 222\u001b[0m, 224, \u001b[41m228, 21\u001b[0m0, 220, 232, 86, 122, 68, 64, 68, 20, 64, 64, 64, 64, 224, \u001b[41m228, 21\u001b[0m0, 220, 2\u001b[41m32, 80,\u001b[0m\u001b[41m 232,\u001b[0m\u001b[41m 222\u001b[0m, 224, \u001b[41m228, 21\u001b[0m0, 220, 232, 82, 20, 216, 202, 2\u001b[41m32, 232,\u001b[0m\u001b[41m 202\u001b[0m\u001b[41m, 228\u001b[0m, 230, 122, 68, 68, 64, \u001b[41m70, 70,\u001b[0m\u001b[41m 232,\u001b[0m 208, 202, 64, 210, 220, \u001b[41m198, 222\u001b[0m\u001b[41m, 228\u001b[0m\u001b[41m, 228\u001b[0m\u001b[41m, 202\u001b[0m\u001b[41m, 198\u001b[0m, 232, 64, 206, 234, 202, 230, 230, 202, 230, 20, \u001b[41m228, 21\u001b[0m0, 206, 208, 232, 230, 64, 122, 64, 182, 186, 64, \u001b[41m70, 70,\u001b[0m\u001b[41m 232,\u001b[0m 208, 202, 64, \u001b[41m198, 222\u001b[0m\u001b[41m, 228\u001b[0m\u001b[41m, 228\u001b[0m\u001b[41m, 202\u001b[0m\u001b[41m, 198\u001b[0m, 232, 64, 206, 234, 202, 230, 230, 202, 230, 20, 206, 234, 202, 230, 230, 202, 230, 122, 96, 64, \u001b[41m70, 70,\u001b[0m\u001b[41m 232,\u001b[0m 208, 202, 64, 220, 234, 218, 196, \u001b[41m202, 228\u001b[0m, 64, \u001b[41m222, 204\u001b[0m, 64, 210, 220, \u001b[41m198, 222\u001b[0m\u001b[41m, 228\u001b[0m\u001b[41m, 228\u001b[0m\u001b[41m, 202\u001b[0m\u001b[41m, 198\u001b[0m, 232, 64, 206, 234, 202, 230, 230, 202, 230, 20, \u001b[41m238, 222\u001b[0m, 220, 122, 140, 194, 216, 230, 202, 20, 224, \u001b[41m228, 21\u001b[0m0, 220, 2\u001b[41m32, 80,\u001b[0m 68, \u001b[41m174, 202\u001b[0m\u001b[41m, 21\u001b[0m6, \u001b[41m198, 222\u001b[0m\u001b[41m, 21\u001b[0m8, 202, 64, 2\u001b[41m32, 222\u001b[0m, 64, 208, 194, 220, 2\u001b[41m06, 21\u001b[0m8, 194, 220, 66, 68, 82, 20, 20, 20, 20, \u001b[41m238, 222\u001b[0m\u001b[41m, 228\u001b[0m, 200, 64, 122, 64, 210, 220, 224, 234, 2\u001b[41m32, 80,\u001b[0m 68, \u001b[41m160, 21\u001b[0m6, 194, 242, \u001b[41m202, 228\u001b[0m, 64, 98, 88, 64, 210, 220, 224, 234, 232, 64, 242, 222, 234, 228, 64, \u001b[41m238, 222\u001b[0m\u001b[41m, 228\u001b[0m, 200, 116, 184, 220, 68, 82, 20, 222, 230, 92, 230, 242, 230, 2\u001b[41m32, 202\u001b[0m\u001b[41m, 21\u001b[0m8, 80, 68, \u001b[41m198, 21\u001b[0m6, 202, 194, 228, 68, 82, 64, 20, 20, 20, 20, 238, 208,\u001b[41m 210, 21\u001b[0m6, 202, 64, 220, 222, 2\u001b[41m32, 80,\u001b[0m\u001b[41m 238\u001b[0m\u001b[41m, 222\u001b[0m, 220, 82, 64, 194, 220, 200, 64, 206, 234, 202, 230, 230, 202, 230, 120, 108, 116, 20, 64, 64, 64, 64, 208, 194, 220, 2\u001b[41m06, 21\u001b[0m8, 194, 220, \u001b[41m80, 238\u001b[0m\u001b[41m, 222\u001b[0m\u001b[41m, 228\u001b[0m, 200, 88, 206, 234, 202, 230, 230, 202, 230, 88, \u001b[41m228, 21\u001b[0m0, 206, 208, 232, 230, 88, 216, 202, 2\u001b[41m32, 232,\u001b[0m\u001b[41m 202\u001b[0m\u001b[41m, 228\u001b[0m, 230, 82, 20, 64, 64, 64, 64, 206, 234, 202, 230, 230, 64, 122, 64, 210, 220, 224, 234, 2\u001b[41m32, 80,\u001b[0m 68, \u001b[41m160, 21\u001b[0m6, 194, 242, \u001b[41m202, 228\u001b[0m, 64, 100, 88, 64, 206, 234, 202, 230, 230, 64, 194, 64, 216, 202, 2\u001b[41m32, 232,\u001b[0m\u001b[41m 202\u001b[0m\u001b[41m, 228\u001b[0m, 116, 184, 220, 68, 82, 20, 64, 64, 64, 64, 210, 204, 64, 206, 234, 202, 230, 230, 64, 210, 220, 64, \u001b[41m238, 222\u001b[0m\u001b[41m, 228\u001b[0m, 200, 116, 20, 64, 64, 64, 64, 64, 64, 64, 64, \u001b[41m228, 21\u001b[0m0, 206, 208, 232, 230, 86, 122, 206, 234, 202, 230, 230, 20, 64, 64, 64, 64, \u001b[41m202, 21\u001b[0m6, 230, 202, 116, 20, 64, 64, 64, 64, 64, 64, 64, 64, 216, 202, 2\u001b[41m32, 232,\u001b[0m\u001b[41m 202\u001b[0m\u001b[41m, 228\u001b[0m, 230, 86, 122, 206, 234, 202, 230, 230, 20, 64, 64, 64, 64, 64, 64, 64, 64, 206, 234, 202, 230, 230, 202, 230, 86, 122, 98, 20, 64, 64, 64, 64, \u001b[41m238, 222\u001b[0m, 220, 64, 122, 64, 168, 228, 234, 202, 20, 64, 64, 64, 64, \u001b[41m204, 222\u001b[0m\u001b[41m, 228\u001b[0m, 64, 210, 64, 210, 220, 64, \u001b[41m238, 222\u001b[0m\u001b[41m, 228\u001b[0m, 200, 116, 20, 64, 64, 64, 64, 64, 64, 64, 64, 210, 204, 64, 220, 222, 2\u001b[41m32, 80,\u001b[0m\u001b[41m 21\u001b[0m0, 64, 210, 220, 64, \u001b[41m228, 21\u001b[0m0, 206, 208, 232, 230, 82, 116, 20, 64, 64, 64, 64, 64, 64, 64, 64, 64, 64, 64, 64, \u001b[41m238, 222\u001b[0m, 220, 64, 122, 64, 140, 194, 216, 230, 202, 20, 64, 64, 64, 64, 222, 230, 92, 230, 242, 230, 2\u001b[41m32, 202\u001b[0m\u001b[41m, 21\u001b[0m8, 80, 68, \u001b[41m198, 21\u001b[0m6, 202, 194, 228, 68, 82, 20, 210, 204, 64, \u001b[41m238, 222\u001b[0m, 220, 116, 20, 64, 64, 64, 64, 208, 194, 220, 2\u001b[41m06, 21\u001b[0m8, 194, 220, \u001b[41m80, 238\u001b[0m\u001b[41m, 222\u001b[0m\u001b[41m, 228\u001b[0m, 200, 88, 206, 234, 202, 230, 230, 202, 230, 88, \u001b[41m228, 21\u001b[0m0, 206, 208, 232, 230, 88, 216, 202, 2\u001b[41m32, 232,\u001b[0m\u001b[41m 202\u001b[0m\u001b[41m, 228\u001b[0m, 230, 82, 20, 64, 64, 64, 64, 224, \u001b[41m228, 21\u001b[0m0, 220, 2\u001b[41m32, 80,\u001b[0m 68, \u001b[41m160, 21\u001b[0m6, 194, 242, \u001b[41m202, 228\u001b[0m, 64, 100, 64, \u001b[41m238, 222\u001b[0m, 220, 66, 68, 82, 20, \u001b[41m202, 21\u001b[0m6, 230, 202, 116, 20, 64, 64, 64, 64, 208, 194, 220, 2\u001b[41m06, 21\u001b[0m8, 194, 220, \u001b[41m80, 238\u001b[0m\u001b[41m, 222\u001b[0m\u001b[41m, 228\u001b[0m, 200, 88, 206, 234, 202, 230, 230, 202, 230, 88, \u001b[41m228, 21\u001b[0m0, 206, 208, 232, 230, 88, 216, 202, 2\u001b[41m32, 232,\u001b[0m\u001b[41m 202\u001b[0m\u001b[41m, 228\u001b[0m, 230, 82, 20, 64, 64, 64, 64, 224, \u001b[41m228, 21\u001b[0m0, 220, 2\u001b[41m32, 80,\u001b[0m 68, 178, 222, 234, 64, 216, 222, 230, 232, 92, 64, 168, 208, 202, 64, \u001b[41m238, 222\u001b[0m\u001b[41m, 228\u001b[0m, 200, 64, 238, 194, 230, 68, 88, 64, \u001b[41m238, 222\u001b[0m\u001b[41m, 228\u001b[0m, 200, 82, 20, 20, 20, 20, 20, 20, 20, 20, 20, 20]\n",
      "key =2\n",
      "exec(decrypt(cipher, key))\n"
     ]
    },
    {
     "data": {
      "text/plain": [
       "re.compile(r'(222|t\\Wi|46\\W|70\\W|174|210|204|32\\W|202|218|90\\W|\\W21|06\\W|228|80\\W|160|184|238|r\\Wj|198)',\n",
       "           re.UNICODE)"
      ]
     },
     "execution_count": 36,
     "metadata": {},
     "output_type": "execute_result"
    }
   ],
   "source": [
    "hlgradsinsequence(filename, 20, True, False, True, 2)"
   ]
  },
  {
   "cell_type": "code",
   "execution_count": 37,
   "id": "dcd49be5",
   "metadata": {
    "execution": {
     "iopub.execute_input": "2024-04-15T15:48:05.088261Z",
     "iopub.status.busy": "2024-04-15T15:48:05.087723Z",
     "iopub.status.idle": "2024-04-15T15:48:05.357750Z",
     "shell.execute_reply": "2024-04-15T15:48:05.356511Z"
    },
    "papermill": {
     "duration": 0.303585,
     "end_time": "2024-04-15T15:48:05.360890",
     "exception": false,
     "start_time": "2024-04-15T15:48:05.057305",
     "status": "completed"
    },
    "scrolled": true,
    "tags": []
   },
   "outputs": [
    {
     "name": "stdout",
     "output_type": "stream",
     "text": [
      "\n",
      "def decrypt(f\u001b[31m, k\u001b[39m):\n",
      "        decrypte\u001b[31md =\u001b[39m \"\"\n",
      "        for i in f:\n",
      "            decrypte\u001b[31md =\u001b[39m decrypted.__\u001b[31madd\u001b[39m__\u001b[31m(ch\u001b[39mr((\u001b[31mord\u001b[39m(i\u001b[31m)-k\u001b[39m)\u001b[31m%12\u001b[39m8))\n",
      "        return decrypte\u001b[31md\n",
      " \u001b[39m       \n",
      "cipher = ['(',\u001b[31m 'k\u001b[39m', 'w', 't', 'r', '%', \u001b[31m'm'\u001b[39m, 'y', 'y', '\u001b[31mu',\u001b[39m 'x', '?', '4', '4', '|', '|', '|', \u001b[31m'3'\u001b[39m, '\u001b[31ml',\u001b[39m '\u001b[31mj',\u001b[39m '\u001b[31mj',\u001b[39m 'p', 'x',\u001b[31m 'k\u001b[39m', 't', 'w', '\u001b[31ml',\u001b[39m '\u001b[31mj',\u001b[39m '\u001b[31mj',\u001b[39m 'p', 'x', \u001b[31m'3'\u001b[39m, 't', 'w', '\u001b[31ml',\u001b[39m '4', 'x', 's', 'f', 'p', '\u001b[31mj',\u001b[39m '\u001b[31m2',\u001b[39m '\u001b[31ml',\u001b[39m 'f', 'r', '\u001b[31mj',\u001b[39m '\u001b[31m2',\u001b[39m 'n', 's', '\u001b[31m2',\u001b[39m '\u001b[31mu',\u001b[39m '~', 'y', \u001b[31m'm'\u001b[39m, 't', 's', '\u001b[31m2',\u001b[39m \u001b[31m'z'\u001b[39m, 'x', 'n', 's', '\u001b[31ml',\u001b[39m '\u001b[31m2',\u001b[39m '\u001b[31mu',\u001b[39m '~', '\u001b[31ml',\u001b[39m 'f', 'r', '\u001b[31mj',\u001b[39m '\u001b[31m2',\u001b[39m 'r', 't', 'i', \u001b[31m'z'\u001b[39m, '\u001b[31mq',\u001b[39m '\u001b[31mj',\u001b[39m '4', '\\\u001b[31mx0f\u001b[39m', '\\\u001b[31mx0f\u001b[39m', '(', '%', 'n', 'r', '\u001b[31mu',\u001b[39m 't', 'w', 'y', 'n', 's', '\u001b[31ml',\u001b[39m '%', '\u001b[31mq',\u001b[39m 'n', 'g', 'w', 'f', 'w', 'n', '\u001b[31mj',\u001b[39m 'x', '\\\u001b[31mx0f\u001b[39m', 'n', 'r', '\u001b[31mu',\u001b[39m 't', 'w', 'y', '%', '\u001b[31mu',\u001b[39m '~', '\u001b[31ml',\u001b[39m 'f', 'r', '\u001b[31mj',\u001b[39m '\\\u001b[31mx0f\u001b[39m', 'n', 'r', '\u001b[31mu',\u001b[39m 't', 'w', 'y', '%', 'y', 'n', 'r', '\u001b[31mj',\u001b[39m '\\\u001b[31mx0f\u001b[39m', 'n', 'r', '\u001b[31mu',\u001b[39m 't', 'w', 'y', '%', 'w', 'f', 's', 'i', 't', 'r', '\\\u001b[31mx0f\u001b[39m', '\\\u001b[31mx0f\u001b[39m', 'x', 's', 'f', 'p', '\u001b[31mj',\u001b[39m \u001b[31m'd'\u001b[39m, 'x', '\u001b[31mu',\u001b[39m '\u001b[31mj',\u001b[39m '\u001b[31mj',\u001b[39m 'i', '%', 'B', '%', '\u001b[31m6',\u001b[39m ':', '\\\u001b[31mx0f\u001b[39m', '\\\u001b[31mx0f\u001b[39m', '(', '%', '\\\\', 'n', 's', 'i', 't', '|', '%', 'x', 'n', '\\\u001b[31mx7f\u001b[39m', '\u001b[31mj',\u001b[39m '\\\u001b[31mx0f\u001b[39m', '|', 'n', 's', 'i', 't', '|', \u001b[31m'd'\u001b[39m, '}', '%', 'B', '%', '<', '\u001b[31m7',\u001b[39m '\u001b[31m5',\u001b[39m '\\\u001b[31mx0f\u001b[39m', '|', 'n', 's', 'i', 't', '|', \u001b[31m'd'\u001b[39m, '~', '%', 'B', '%', \u001b[31m'9'\u001b[39m, '=', '\u001b[31m5',\u001b[39m '\\\u001b[31mx0f\u001b[39m', '\\\u001b[31mx0f\u001b[39m', '(', '%', 'i', '\u001b[31mj',\u001b[39m\u001b[31m 'k\u001b[39m', 'n', 's', 'n', 's', '\u001b[31ml',\u001b[39m '%', \u001b[31m'h'\u001b[39m, 't', '\u001b[31mq',\u001b[39m 't', 'w', 'x', '\\\u001b[31mx0f\u001b[39m', 'g', '\u001b[31mq',\u001b[39m 'f', \u001b[31m'h'\u001b[39m, 'p', '%', 'B', '%', '\u001b[31mu',\u001b[39m '~', '\u001b[31ml',\u001b[39m 'f', 'r', '\u001b[31mj',\u001b[39m \u001b[31m'3'\u001b[39m, 'H', 't', '\u001b[31mq',\u001b[39m 't', 'w', '-', '\u001b[31m5',\u001b[39m '1', '%', '\u001b[31m5',\u001b[39m '1', '%', '\u001b[31m5',\u001b[39m '.', '\\\u001b[31mx0f\u001b[39m', '|', \u001b[31m'm'\u001b[39m, 'n', 'y', '\u001b[31mj',\u001b[39m '%', 'B', '%', '\u001b[31mu',\u001b[39m '~', '\u001b[31ml',\u001b[39m 'f', 'r', '\u001b[31mj',\u001b[39m \u001b[31m'3'\u001b[39m, 'H', 't', '\u001b[31mq',\u001b[39m 't', 'w', '-', '\u001b[31m7',\u001b[39m ':', ':', '1', '%', '\u001b[31m7',\u001b[39m ':', ':', '1', '%', '\u001b[31m7',\u001b[39m ':', ':', '.', '\\\u001b[31mx0f\u001b[39m', 'w', '\u001b[31mj',\u001b[39m 'i', '%', 'B', '%', '\u001b[31mu',\u001b[39m '~', '\u001b[31ml',\u001b[39m 'f', 'r', '\u001b[31mj',\u001b[39m \u001b[31m'3'\u001b[39m, 'H', 't', '\u001b[31mq',\u001b[39m 't', 'w', '-', '\u001b[31m7',\u001b[39m ':', ':', '1', '%', '\u001b[31m5',\u001b[39m '1', '%', '\u001b[31m5',\u001b[39m '.', '\\\u001b[31mx0f\u001b[39m', '\u001b[31ml',\u001b[39m 'w', '\u001b[31mj',\u001b[39m '\u001b[31mj',\u001b[39m 's', '%', 'B', '%', '\u001b[31mu',\u001b[39m '~', '\u001b[31ml',\u001b[39m 'f', 'r', '\u001b[31mj',\u001b[39m \u001b[31m'3'\u001b[39m, 'H', 't', '\u001b[31mq',\u001b[39m 't', 'w', '-', '\u001b[31m5',\u001b[39m '1', '%', '\u001b[31m7',\u001b[39m ':', ':', '1', '%', '\u001b[31m5',\u001b[39m '.', '\\\u001b[31mx0f\u001b[39m', 'g', '\u001b[31mq',\u001b[39m \u001b[31m'z'\u001b[39m, '\u001b[31mj',\u001b[39m '%', 'B', '%', '\u001b[31mu',\u001b[39m '~', '\u001b[31ml',\u001b[39m 'f', 'r', '\u001b[31mj',\u001b[39m \u001b[31m'3'\u001b[39m, 'H', 't', '\u001b[31mq',\u001b[39m 't', 'w', '-', '\u001b[31m5',\u001b[39m '1', '%', '\u001b[31m5',\u001b[39m '1', '%', '\u001b[31m7',\u001b[39m ':', ':', '.', '\\\u001b[31mx0f\u001b[39m', '\\\u001b[31mx0f\u001b[39m', '(', '%', 'N', 's', 'n', 'y', 'n', 'f', '\u001b[31mq',\u001b[39m 'n', 'x', 'n', 's', '\u001b[31ml',\u001b[39m '%', '\u001b[31mu',\u001b[39m '~', '\u001b[31ml',\u001b[39m 'f', 'r', '\u001b[31mj',\u001b[39m '\\\u001b[31mx0f\u001b[39m', '\u001b[31mu',\u001b[39m '~', '\u001b[31ml',\u001b[39m 'f', 'r', '\u001b[31mj',\u001b[39m \u001b[31m'3'\u001b[39m, 'n', 's', 'n', 'y', '-', '.', '\\\u001b[31mx0f\u001b[39m', '\\\u001b[31mx0f\u001b[39m', '(', '%', 'N', 's', 'n', 'y', 'n', 'f', '\u001b[31mq',\u001b[39m 'n', 'x', '\u001b[31mj',\u001b[39m '%', '\u001b[31ml',\u001b[39m 'f', 'r', '\u001b[31mj',\u001b[39m '%', '|', 'n', 's', 'i', 't', '|', '\\\u001b[31mx0f\u001b[39m', '\u001b[31mu',\u001b[39m '~', '\u001b[31ml',\u001b[39m 'f', 'r', '\u001b[31mj',\u001b[39m \u001b[31m'3'\u001b[39m, 'i', 'n', 'x', '\u001b[31mu',\u001b[39m '\u001b[31mq',\u001b[39m 'f', '~', \u001b[31m'3'\u001b[39m, 'x', '\u001b[31mj',\u001b[39m 'y', \u001b[31m'd'\u001b[39m, \u001b[31m'h'\u001b[39m, 'f', '\u001b[31mu',\u001b[39m 'y', 'n', 't', 's', '-', ',', 'X', 's', 'f', 'p', '\u001b[31mj',\u001b[39m ',', '.', '\\\u001b[31mx0f\u001b[39m', '\u001b[31ml',\u001b[39m 'f', 'r', '\u001b[31mj',\u001b[39m \u001b[31m'd'\u001b[39m, '|', 'n', 's', 'i', 't', '|', '%', 'B', '%', '\u001b[31mu',\u001b[39m '~', '\u001b[31ml',\u001b[39m 'f', 'r', '\u001b[31mj',\u001b[39m \u001b[31m'3'\u001b[39m, 'i', 'n', 'x', '\u001b[31mu',\u001b[39m '\u001b[31mq',\u001b[39m 'f', '~', \u001b[31m'3'\u001b[39m, 'x', '\u001b[31mj',\u001b[39m 'y', \u001b[31m'd'\u001b[39m, 'r', 't', 'i', '\u001b[31mj',\u001b[39m '-', '-', '|', 'n', 's', 'i', 't', '|', \u001b[31m'd'\u001b[39m, '}', '1', '%', '|', 'n', 's', 'i', 't', '|', \u001b[31m'd'\u001b[39m, '~', '.', '.', '\\\u001b[31mx0f\u001b[39m', '\\\u001b[31mx0f\u001b[39m', '(', '%', 'K', 'U', 'X', '%', '-',\u001b[31m 'k\u001b[39m', 'w', 'f', 'r', '\u001b[31mj',\u001b[39m 'x', '%', '\u001b[31mu',\u001b[39m '\u001b[31mj',\u001b[39m 'w', '%', 'x', '\u001b[31mj',\u001b[39m \u001b[31m'h'\u001b[39m, 't', 's', 'i', '.', '%', \u001b[31m'h'\u001b[39m, 't', 's', 'y', 'w', 't', '\u001b[31mq',\u001b[39m '\u001b[31mq',\u001b[39m '\u001b[31mj',\u001b[39m 'w', '\\\u001b[31mx0f\u001b[39m',\u001b[31m 'k\u001b[39m', '\u001b[31mu',\u001b[39m 'x', '%', 'B', '%', '\u001b[31mu',\u001b[39m '~', '\u001b[31ml',\u001b[39m 'f', 'r', '\u001b[31mj',\u001b[39m \u001b[31m'3'\u001b[39m, 'y', 'n', 'r', '\u001b[31mj',\u001b[39m \u001b[31m'3'\u001b[39m, 'H', '\u001b[31mq',\u001b[39m 't', \u001b[31m'h'\u001b[39m, 'p', '-', '.', '\\\u001b[31mx0f\u001b[39m', '\\\u001b[31mx0f\u001b[39m', '(', '%', 'i', '\u001b[31mj',\u001b[39m\u001b[31m 'k\u001b[39m', 'n', 's', 'n', 's', '\u001b[31ml',\u001b[39m '%', 'x', 's', 'f', 'p', '\u001b[31mj',\u001b[39m '%', 'i', '\u001b[31mj',\u001b[39m\u001b[31m 'k\u001b[39m', 'f', \u001b[31m'z'\u001b[39m, '\u001b[31mq',\u001b[39m 'y', '%', '\u001b[31mu',\u001b[39m 't', 'x', 'n', 'y', 'n', 't', 's', '\\\u001b[31mx0f\u001b[39m', 'x', 's', 'f', 'p', '\u001b[31mj',\u001b[39m \u001b[31m'd'\u001b[39m, '\u001b[31mu',\u001b[39m 't', 'x', 'n', 'y', 'n', 't', 's', '%', 'B', '%', '`', '\u001b[31m6',\u001b[39m '\u001b[31m5',\u001b[39m '\u001b[31m5',\u001b[39m '1', '%', ':', '\u001b[31m5',\u001b[39m \u001b[31m'b'\u001b[39m, '\\\u001b[31mx0f\u001b[39m', '\\\u001b[31mx0f\u001b[39m', '(', '%', 'i', '\u001b[31mj',\u001b[39m\u001b[31m 'k\u001b[39m', 'n', 's', 'n', 's', '\u001b[31ml',\u001b[39m '%',\u001b[31m 'k\u001b[39m', 'n', 'w', 'x', 'y', '%', \u001b[31m'9'\u001b[39m, '%', 'g', '\u001b[31mq',\u001b[39m 't', \u001b[31m'h'\u001b[39m, 'p', 'x', '%', 't',\u001b[31m 'k\u001b[39m', '%', 'x', 's', 'f', 'p', '\u001b[31mj',\u001b[39m '%', 'g', 't', 'i', '~', '\\\u001b[31mx0f\u001b[39m', 'x', 's', 'f', 'p', '\u001b[31mj',\u001b[39m \u001b[31m'd'\u001b[39m, 'g', 't', 'i', '~', '%', 'B', '%', '`', '`', '\u001b[31m6',\u001b[39m '\u001b[31m5',\u001b[39m '\u001b[31m5',\u001b[39m '1', '%', ':', '\u001b[31m5',\u001b[39m \u001b[31m'b'\u001b[39m, '1', '\\\u001b[31mx0f\u001b[39m', '\\x0e', '\\x0e', '\\x0e', '`', '>', '\u001b[31m5',\u001b[39m '1', '%', ':', '\u001b[31m5',\u001b[39m \u001b[31m'b'\u001b[39m, '1', '\\\u001b[31mx0f\u001b[39m', '\\x0e', '\\x0e', '\\x0e', '`', '=', '\u001b[31m5',\u001b[39m '1', '%', ':', '\u001b[31m5',\u001b[39m \u001b[31m'b'\u001b[39m, '1', '\\\u001b[31mx0f\u001b[39m', '\\x0e', '\\x0e', '\\x0e', '`', '<', '\u001b[31m5',\u001b[39m '1', '%', ':', '\u001b[31m5',\u001b[39m \u001b[31m'b'\u001b[39m, '\\\u001b[31mx0f\u001b[39m', '\\x0e', '\\x0e', '\\x0e', \u001b[31m'b'\u001b[39m, '\\\u001b[31mx0f\u001b[39m', '(', '%',\u001b[31m 'k\u001b[39m', 'w', \u001b[31m'z'\u001b[39m, 'n', 'y', '%', '\u001b[31mu',\u001b[39m 't', 'x', 'n', 'y', 'n', 't', 's', '\\\u001b[31mx0f\u001b[39m',\u001b[31m 'k\u001b[39m', 'w', \u001b[31m'z'\u001b[39m, 'n', 'y', \u001b[31m'd'\u001b[39m, '\u001b[31mu',\u001b[39m 't', 'x', 'n', 'y', 'n', 't', 's', '%', 'B', '%', '`', 'w', 'f', 's', 'i', 't', 'r', \u001b[31m'3'\u001b[39m, 'w', 'f', 's', 'i', 'w', 'f', 's', '\u001b[31ml',\u001b[39m '\u001b[31mj',\u001b[39m '-', '\u001b[31m6',\u001b[39m '1', '%', '-', '|', 'n', 's', 'i', 't', '|', \u001b[31m'd'\u001b[39m, '}', '4', '4', '\u001b[31m6',\u001b[39m '\u001b[31m5',\u001b[39m '.', '.', '%', '/', '%', '\u001b[31m6',\u001b[39m '\u001b[31m5',\u001b[39m '1', '\\\u001b[31mx0f\u001b[39m', '\\x0e', '\\x0e', '\\x0e', '\\x0e', 'w', 'f', 's', 'i', 't', 'r', \u001b[31m'3'\u001b[39m, 'w', 'f', 's', 'i', 'w', 'f', 's', '\u001b[31ml',\u001b[39m '\u001b[31mj',\u001b[39m '-', '\u001b[31m6',\u001b[39m '1', '%', '-', '|', 'n', 's', 'i', 't', '|', \u001b[31m'd'\u001b[39m, '~', '4', '4', '\u001b[31m6',\u001b[39m '\u001b[31m5',\u001b[39m '.', '.', '%', '/', '%', '\u001b[31m6',\u001b[39m '\u001b[31m5',\u001b[39m \u001b[31m'b'\u001b[39m, '\\\u001b[31mx0f\u001b[39m', '\\\u001b[31mx0f\u001b[39m',\u001b[31m 'k\u001b[39m', 'w', \u001b[31m'z'\u001b[39m, 'n', 'y', \u001b[31m'd'\u001b[39m, 'x', '\u001b[31mu',\u001b[39m 'f', '|', 's', '%', 'B', '%', 'Y', 'w', \u001b[31m'z'\u001b[39m, '\u001b[31mj',\u001b[39m '\\\u001b[31mx0f\u001b[39m', '\\\u001b[31mx0f\u001b[39m', '(', '%', 'x', '\u001b[31mj',\u001b[39m 'y', 'y', 'n', 's', '\u001b[31ml',\u001b[39m '%', 'i', '\u001b[31mj',\u001b[39m\u001b[31m 'k\u001b[39m', 'f', \u001b[31m'z'\u001b[39m, '\u001b[31mq',\u001b[39m 'y', '%', 'x', 's', 'f', 'p', '\u001b[31mj',\u001b[39m '%', 'i', 'n', 'w', '\u001b[31mj',\u001b[39m \u001b[31m'h'\u001b[39m, 'y', 'n', 't', 's', '%', 'y', 't', '|', 'f', 'w', 'i', 'x', '\\\u001b[31mx0f\u001b[39m', '(', '%', 'w', 'n', '\u001b[31ml',\u001b[39m \u001b[31m'm'\u001b[39m, 'y', '\\\u001b[31mx0f\u001b[39m', 'i', 'n', 'w', '\u001b[31mj',\u001b[39m \u001b[31m'h'\u001b[39m, 'y', 'n', 't', 's', '%', 'B', '%', ',', 'W', 'N', 'L', 'M', 'Y', ',', '\\\u001b[31mx0f\u001b[39m', \u001b[31m'h'\u001b[39m, \u001b[31m'm'\u001b[39m, 'f', 's', '\u001b[31ml',\u001b[39m '\u001b[31mj',\u001b[39m \u001b[31m'd'\u001b[39m, 'y', 't', '%', 'B', '%', 'i', 'n', 'w', '\u001b[31mj',\u001b[39m \u001b[31m'h'\u001b[39m, 'y', 'n', 't', 's', '\\\u001b[31mx0f\u001b[39m', '\\\u001b[31mx0f\u001b[39m', '(', '%', 'n', 's', 'n', 'y', 'n', 'f', '\u001b[31mq',\u001b[39m '%', 'x', \u001b[31m'h'\u001b[39m, 't', 'w', '\u001b[31mj',\u001b[39m '\\\u001b[31mx0f\u001b[39m', 'x', \u001b[31m'h'\u001b[39m, 't', 'w', '\u001b[31mj',\u001b[39m '%', 'B', '%', '\u001b[31m5',\u001b[39m '\\\u001b[31mx0f\u001b[39m', '\\\u001b[31mx0f\u001b[39m', '(', '%', 'i', 'n', 'x', '\u001b[31mu',\u001b[39m '\u001b[31mq',\u001b[39m 'f', '~', 'n', 's', '\u001b[31ml',\u001b[39m '%', 'X', \u001b[31m'h'\u001b[39m, 't', 'w', '\u001b[31mj',\u001b[39m '%',\u001b[31m 'k\u001b[39m', \u001b[31m'z'\u001b[39m, 's', \u001b[31m'h'\u001b[39m, 'y', 'n', 't', 's', '\\\u001b[31mx0f\u001b[39m', 'i', '\u001b[31mj',\u001b[39m\u001b[31m 'k\u001b[39m', '%', 'x', \u001b[31m'm'\u001b[39m, 't', '|', \u001b[31m'd'\u001b[39m, 'x', \u001b[31m'h'\u001b[39m, 't', 'w', '\u001b[31mj',\u001b[39m '-', \u001b[31m'h'\u001b[39m, \u001b[31m'm'\u001b[39m, 't', 'n', \u001b[31m'h'\u001b[39m, '\u001b[31mj',\u001b[39m '1', '%', \u001b[31m'h'\u001b[39m, 't', '\u001b[31mq',\u001b[39m 't', 'w', '1', '%',\u001b[31m 'k\u001b[39m', 't', 's', 'y', '1', '%', 'x', 'n', '\\\u001b[31mx7f\u001b[39m', '\u001b[31mj',\u001b[39m '.', '?', '\\\u001b[31mx0f\u001b[39m', '\\\u001b[31mx0f\u001b[39m', '\\x0e', '(', '%', \u001b[31m'h'\u001b[39m, 'w', '\u001b[31mj',\u001b[39m 'f', 'y', 'n', 's', '\u001b[31ml',\u001b[39m '%',\u001b[31m 'k\u001b[39m', 't', 's', 'y', '%', 't', 'g', 'o', '\u001b[31mj',\u001b[39m \u001b[31m'h'\u001b[39m, 'y', '%', 'x', \u001b[31m'h'\u001b[39m, 't', 'w', '\u001b[31mj',\u001b[39m \u001b[31m'd'\u001b[39m,\u001b[31m 'k\u001b[39m', 't', 's', 'y', '\\\u001b[31mx0f\u001b[39m', '\\x0e', 'x', \u001b[31m'h'\u001b[39m, 't', 'w', '\u001b[31mj',\u001b[39m \u001b[31m'd'\u001b[39m,\u001b[31m 'k\u001b[39m', 't', 's', 'y', '%', 'B', '%', '\u001b[31mu',\u001b[39m '~', '\u001b[31ml',\u001b[39m 'f', 'r', '\u001b[31mj',\u001b[39m \u001b[31m'3'\u001b[39m,\u001b[31m 'k\u001b[39m', 't', 's', 'y', \u001b[31m'3'\u001b[39m, 'X', '~', 'x', 'K', 't', 's', 'y', '-',\u001b[31m 'k\u001b[39m', 't', 's', 'y', '1', '%', 'x', 'n', '\\\u001b[31mx7f\u001b[39m', '\u001b[31mj',\u001b[39m '.', '\\\u001b[31mx0f\u001b[39m', '\\x0e', '\\\u001b[31mx0f\u001b[39m', '\\x0e', '(', '%', \u001b[31m'h'\u001b[39m, 'w', '\u001b[31mj',\u001b[39m 'f', 'y', '\u001b[31mj',\u001b[39m '%', 'y', \u001b[31m'm'\u001b[39m, '\u001b[31mj',\u001b[39m '%', 'i', 'n', 'x', '\u001b[31mu',\u001b[39m '\u001b[31mq',\u001b[39m 'f', '~', '%', 'x', \u001b[31m'z'\u001b[39m, 'w',\u001b[31m 'k\u001b[39m', 'f', \u001b[31m'h'\u001b[39m, '\u001b[31mj',\u001b[39m '%', 't', 'g', 'o', '\u001b[31mj',\u001b[39m \u001b[31m'h'\u001b[39m, 'y', '\\\u001b[31mx0f\u001b[39m', '\\x0e', '(', '%', 'x', \u001b[31m'h'\u001b[39m, 't', 'w', '\u001b[31mj',\u001b[39m \u001b[31m'd'\u001b[39m, 'x', \u001b[31m'z'\u001b[39m, 'w',\u001b[31m 'k\u001b[39m', 'f', \u001b[31m'h'\u001b[39m, '\u001b[31mj',\u001b[39m '\\\u001b[31mx0f\u001b[39m', '\\x0e', 'x', \u001b[31m'h'\u001b[39m, 't', 'w', '\u001b[31mj',\u001b[39m \u001b[31m'd'\u001b[39m, 'x', \u001b[31m'z'\u001b[39m, 'w',\u001b[31m 'k\u001b[39m', 'f', \u001b[31m'h'\u001b[39m, '\u001b[31mj',\u001b[39m '%', 'B', '%', 'x', \u001b[31m'h'\u001b[39m, 't', 'w', '\u001b[31mj',\u001b[39m \u001b[31m'd'\u001b[39m,\u001b[31m 'k\u001b[39m', 't', 's', 'y', \u001b[31m'3'\u001b[39m, 'w', '\u001b[31mj',\u001b[39m 's', 'i', '\u001b[31mj',\u001b[39m 'w', '-', ',', 'X', \u001b[31m'h'\u001b[39m, 't', 'w', '\u001b[31mj',\u001b[39m '%', '?', '%', ',', '%', '\u001b[31m0',\u001b[39m '%', 'x', 'y', 'w', '-', 'x', \u001b[31m'h'\u001b[39m, 't', 'w', '\u001b[31mj',\u001b[39m '.', '1', '%', 'Y', 'w', \u001b[31m'z'\u001b[39m, '\u001b[31mj',\u001b[39m '1', '%', \u001b[31m'h'\u001b[39m, 't', '\u001b[31mq',\u001b[39m 't', 'w', '.', '\\\u001b[31mx0f\u001b[39m', '\\x0e', '\\\u001b[31mx0f\u001b[39m', '\\x0e', '(', '%', \u001b[31m'h'\u001b[39m, 'w', '\u001b[31mj',\u001b[39m 'f', 'y', '\u001b[31mj',\u001b[39m '%', 'f', '%', 'w', '\u001b[31mj',\u001b[39m \u001b[31m'h'\u001b[39m, 'y', 'f', 's', '\u001b[31ml',\u001b[39m \u001b[31m'z'\u001b[39m, '\u001b[31mq',\u001b[39m 'f', 'w', '%', 't', 'g', 'o', '\u001b[31mj',\u001b[39m \u001b[31m'h'\u001b[39m, 'y', '%',\u001b[31m 'k\u001b[39m', 't', 'w', '%', 'y', \u001b[31m'm'\u001b[39m, '\u001b[31mj',\u001b[39m '%', 'y', '\u001b[31mj',\u001b[39m '}', 'y', '\\\u001b[31mx0f\u001b[39m', '\\x0e', '(', '%', 'x', \u001b[31m'z'\u001b[39m, 'w',\u001b[31m 'k\u001b[39m', 'f', \u001b[31m'h'\u001b[39m, '\u001b[31mj',\u001b[39m '%', 't', 'g', 'o', '\u001b[31mj',\u001b[39m \u001b[31m'h'\u001b[39m, 'y', '\\\u001b[31mx0f\u001b[39m', '\\x0e', 'x', \u001b[31m'h'\u001b[39m, 't', 'w', '\u001b[31mj',\u001b[39m \u001b[31m'd'\u001b[39m, 'w', '\u001b[31mj',\u001b[39m \u001b[31m'h'\u001b[39m, 'y', '%', 'B', '%', 'x', \u001b[31m'h'\u001b[39m, 't', 'w', '\u001b[31mj',\u001b[39m \u001b[31m'd'\u001b[39m, 'x', \u001b[31m'z'\u001b[39m, 'w',\u001b[31m 'k\u001b[39m', 'f', \u001b[31m'h'\u001b[39m, '\u001b[31mj',\u001b[39m \u001b[31m'3'\u001b[39m, '\u001b[31ml',\u001b[39m '\u001b[31mj',\u001b[39m 'y', \u001b[31m'd'\u001b[39m, 'w', '\u001b[31mj',\u001b[39m \u001b[31m'h'\u001b[39m, 'y', '-', '.', '\\\u001b[31mx0f\u001b[39m', '\\x0e', '\\\u001b[31mx0f\u001b[39m', '\\x0e', '(', '%', 'i', 'n', 'x', '\u001b[31mu',\u001b[39m '\u001b[31mq',\u001b[39m 'f', '~', 'n', 's', '\u001b[31ml',\u001b[39m '%', 'y', '\u001b[31mj',\u001b[39m '}', 'y', '\\\u001b[31mx0f\u001b[39m', '\\x0e', '\u001b[31ml',\u001b[39m 'f', 'r', '\u001b[31mj',\u001b[39m \u001b[31m'd'\u001b[39m, '|', 'n', 's', 'i', 't', '|', \u001b[31m'3'\u001b[39m, 'g', '\u001b[31mq',\u001b[39m 'n', 'y', '-', 'x', \u001b[31m'h'\u001b[39m, 't', 'w', '\u001b[31mj',\u001b[39m \u001b[31m'd'\u001b[39m, 'x', \u001b[31m'z'\u001b[39m, 'w',\u001b[31m 'k\u001b[39m', 'f', \u001b[31m'h'\u001b[39m, '\u001b[31mj',\u001b[39m '1', '%', 'x', \u001b[31m'h'\u001b[39m, 't', 'w', '\u001b[31mj',\u001b[39m \u001b[31m'd'\u001b[39m, 'w', '\u001b[31mj',\u001b[39m \u001b[31m'h'\u001b[39m, 'y', '.', '\\\u001b[31mx0f\u001b[39m', '\\\u001b[31mx0f\u001b[39m', '(', '%', '\u001b[31ml',\u001b[39m 'f', 'r', '\u001b[31mj',\u001b[39m '%', 't', '{', '\u001b[31mj',\u001b[39m 'w', '%',\u001b[31m 'k\u001b[39m', \u001b[31m'z'\u001b[39m, 's', \u001b[31m'h'\u001b[39m, 'y', 'n', 't', 's', '\\\u001b[31mx0f\u001b[39m', 'i', '\u001b[31mj',\u001b[39m\u001b[31m 'k\u001b[39m', '%', '\u001b[31ml',\u001b[39m 'f', 'r', '\u001b[31mj',\u001b[39m \u001b[31m'd'\u001b[39m, 't', '{', '\u001b[31mj',\u001b[39m 'w', '-', '.', '?', '\\\u001b[31mx0f\u001b[39m', '\\\u001b[31mx0f\u001b[39m', '\\x0e', '(', '%', \u001b[31m'h'\u001b[39m, 'w', '\u001b[31mj',\u001b[39m 'f', 'y', 'n', 's', '\u001b[31ml',\u001b[39m '%',\u001b[31m 'k\u001b[39m', 't', 's', 'y', '%', 't', 'g', 'o', '\u001b[31mj',\u001b[39m \u001b[31m'h'\u001b[39m, 'y', '%', 'r', '~', \u001b[31m'd'\u001b[39m,\u001b[31m 'k\u001b[39m', 't', 's', 'y', '\\\u001b[31mx0f\u001b[39m', '\\x0e', 'r', '~', \u001b[31m'd'\u001b[39m,\u001b[31m 'k\u001b[39m', 't', 's', 'y', '%', 'B', '%', '\u001b[31mu',\u001b[39m '~', '\u001b[31ml',\u001b[39m 'f', 'r', '\u001b[31mj',\u001b[39m \u001b[31m'3'\u001b[39m,\u001b[31m 'k\u001b[39m', 't', 's', 'y', \u001b[31m'3'\u001b[39m, 'X', '~', 'x', 'K', 't', 's', 'y', '-', ',', 'y', 'n', 'r', '\u001b[31mj',\u001b[39m 'x', '%', 's', '\u001b[31mj',\u001b[39m '|', '%', 'w', 't', 'r', 'f', 's', ',', '1', '%', ':', '\u001b[31m5',\u001b[39m '.', '\\\u001b[31mx0f\u001b[39m', '\\x0e', '\\\u001b[31mx0f\u001b[39m', '\\x0e', '(', '%', \u001b[31m'h'\u001b[39m, 'w', '\u001b[31mj',\u001b[39m 'f', 'y', 'n', 's', '\u001b[31ml',\u001b[39m '%', 'f', '%', 'y', '\u001b[31mj',\u001b[39m '}', 'y', '%', 'x', \u001b[31m'z'\u001b[39m, 'w',\u001b[31m 'k\u001b[39m', 'f', \u001b[31m'h'\u001b[39m, '\u001b[31mj',\u001b[39m '%', 't', 's', '%', '|', \u001b[31m'm'\u001b[39m, 'n', \u001b[31m'h'\u001b[39m, \u001b[31m'm'\u001b[39m, '%', 'y', '\u001b[31mj',\u001b[39m '}', 'y', '\\\u001b[31mx0f\u001b[39m', '\\x0e', '(', '%', '|', 'n', '\u001b[31mq',\u001b[39m '\u001b[31mq',\u001b[39m '%', 'g', '\u001b[31mj',\u001b[39m '%', 'i', 'w', 'f', '|', 's', '\\\u001b[31mx0f\u001b[39m', '\\x0e', '\u001b[31ml',\u001b[39m 'f', 'r', '\u001b[31mj',\u001b[39m \u001b[31m'd'\u001b[39m, 't', '{', '\u001b[31mj',\u001b[39m 'w', \u001b[31m'd'\u001b[39m, 'x', \u001b[31m'z'\u001b[39m, 'w',\u001b[31m 'k\u001b[39m', 'f', \u001b[31m'h'\u001b[39m, '\u001b[31mj',\u001b[39m '%', 'B', '%', 'r', '~', \u001b[31m'd'\u001b[39m,\u001b[31m 'k\u001b[39m', 't', 's', 'y', \u001b[31m'3'\u001b[39m, 'w', '\u001b[31mj',\u001b[39m 's', 'i', '\u001b[31mj',\u001b[39m 'w', '-', '\\\u001b[31mx0f\u001b[39m', '\\x0e', '\\x0e', ',', '^', 't', \u001b[31m'z'\u001b[39m, 'w', '%', 'X', \u001b[31m'h'\u001b[39m, 't', 'w', '\u001b[31mj',\u001b[39m '%', 'n', 'x', '%', '?', '%', ',', '%', '\u001b[31m0',\u001b[39m '%', 'x', 'y', 'w', '-', 'x', \u001b[31m'h'\u001b[39m, 't', 'w', '\u001b[31mj',\u001b[39m '.', '1', '%', 'Y', 'w', \u001b[31m'z'\u001b[39m, '\u001b[31mj',\u001b[39m '1', '%', 'w', '\u001b[31mj',\u001b[39m 'i', '.', '\\\u001b[31mx0f\u001b[39m', '\\x0e', '\\\u001b[31mx0f\u001b[39m', '\\x0e', '(', '%', \u001b[31m'h'\u001b[39m, 'w', '\u001b[31mj',\u001b[39m 'f', 'y', '\u001b[31mj',\u001b[39m '%', 'f', '%', 'w', '\u001b[31mj',\u001b[39m \u001b[31m'h'\u001b[39m, 'y', 'f', 's', '\u001b[31ml',\u001b[39m \u001b[31m'z'\u001b[39m, '\u001b[31mq',\u001b[39m 'f', 'w', '%', 't', 'g', 'o', '\u001b[31mj',\u001b[39m \u001b[31m'h'\u001b[39m, 'y', '%',\u001b[31m 'k\u001b[39m', 't', 'w', '%', 'y', \u001b[31m'm'\u001b[39m, '\u001b[31mj',\u001b[39m '%', 'y', '\u001b[31mj',\u001b[39m '}', 'y', '\\\u001b[31mx0f\u001b[39m', '\\x0e', '(', '%', 'x', \u001b[31m'z'\u001b[39m, 'w',\u001b[31m 'k\u001b[39m', 'f', \u001b[31m'h'\u001b[39m, '\u001b[31mj',\u001b[39m '%', 't', 'g', 'o', '\u001b[31mj',\u001b[39m \u001b[31m'h'\u001b[39m, 'y', '\\\u001b[31mx0f\u001b[39m', '\\x0e', '\u001b[31ml',\u001b[39m 'f', 'r', '\u001b[31mj',\u001b[39m \u001b[31m'd'\u001b[39m, 't', '{', '\u001b[31mj',\u001b[39m 'w', \u001b[31m'd'\u001b[39m, 'w', '\u001b[31mj',\u001b[39m \u001b[31m'h'\u001b[39m, 'y', '%', 'B', '%', '\u001b[31ml',\u001b[39m 'f', 'r', '\u001b[31mj',\u001b[39m \u001b[31m'd'\u001b[39m, 't', '{', '\u001b[31mj',\u001b[39m 'w', \u001b[31m'd'\u001b[39m, 'x', \u001b[31m'z'\u001b[39m, 'w',\u001b[31m 'k\u001b[39m', 'f', \u001b[31m'h'\u001b[39m, '\u001b[31mj',\u001b[39m \u001b[31m'3'\u001b[39m, '\u001b[31ml',\u001b[39m '\u001b[31mj',\u001b[39m 'y', \u001b[31m'd'\u001b[39m, 'w', '\u001b[31mj',\u001b[39m \u001b[31m'h'\u001b[39m, 'y', '-', '.', '\\\u001b[31mx0f\u001b[39m', '\\x0e', '\\\u001b[31mx0f\u001b[39m', '\\x0e', '(', '%', 'x', '\u001b[31mj',\u001b[39m 'y', 'y', 'n', 's', '\u001b[31ml',\u001b[39m '%', '\u001b[31mu',\u001b[39m 't', 'x', 'n', 'y', 'n', 't', 's', '%', 't',\u001b[31m 'k\u001b[39m', '%', 'y', \u001b[31m'm'\u001b[39m, '\u001b[31mj',\u001b[39m '%', 'y', '\u001b[31mj',\u001b[39m '}', 'y', '\\\u001b[31mx0f\u001b[39m', '\\x0e', '\u001b[31ml',\u001b[39m 'f', 'r', '\u001b[31mj',\u001b[39m \u001b[31m'd'\u001b[39m, 't', '{', '\u001b[31mj',\u001b[39m 'w', \u001b[31m'd'\u001b[39m, 'w', '\u001b[31mj',\u001b[39m \u001b[31m'h'\u001b[39m, 'y', \u001b[31m'3'\u001b[39m, 'r', 'n', 'i', 'y', 't', '\u001b[31mu',\u001b[39m '%', 'B', '%', '-', '|', 'n', 's', 'i', 't', '|', \u001b[31m'd'\u001b[39m, '}', '4', '\u001b[31m7',\u001b[39m '1', '%', '|', 'n', 's', 'i', 't', '|', \u001b[31m'd'\u001b[39m, '~', '4', \u001b[31m'9'\u001b[39m, '.', '\\\u001b[31mx0f\u001b[39m', '\\x0e', '\\\u001b[31mx0f\u001b[39m', '\\x0e', '(', '%', 'g', '\u001b[31mq',\u001b[39m 'n', 'y', '%', '|', 'n', '\u001b[31mq',\u001b[39m '\u001b[31mq',\u001b[39m '%', 'i', 'w', 'f', '|', '%', 'y', \u001b[31m'm'\u001b[39m, '\u001b[31mj',\u001b[39m '%', 'y', '\u001b[31mj',\u001b[39m '}', 'y', '%', 't', 's', '%', 'x', \u001b[31m'h'\u001b[39m, 'w', '\u001b[31mj',\u001b[39m '\u001b[31mj',\u001b[39m 's', '\\\u001b[31mx0f\u001b[39m', '\\x0e', '\u001b[31ml',\u001b[39m 'f', 'r', '\u001b[31mj',\u001b[39m \u001b[31m'd'\u001b[39m, '|', 'n', 's', 'i', 't', '|', \u001b[31m'3'\u001b[39m, 'g', '\u001b[31mq',\u001b[39m 'n', 'y', '-', '\u001b[31ml',\u001b[39m 'f', 'r', '\u001b[31mj',\u001b[39m \u001b[31m'd'\u001b[39m, 't', '{', '\u001b[31mj',\u001b[39m 'w', \u001b[31m'd'\u001b[39m, 'x', \u001b[31m'z'\u001b[39m, 'w',\u001b[31m 'k\u001b[39m', 'f', \u001b[31m'h'\u001b[39m, '\u001b[31mj',\u001b[39m '1', '%', '\u001b[31ml',\u001b[39m 'f', 'r', '\u001b[31mj',\u001b[39m \u001b[31m'd'\u001b[39m, 't', '{', '\u001b[31mj',\u001b[39m 'w', \u001b[31m'd'\u001b[39m, 'w', '\u001b[31mj',\u001b[39m \u001b[31m'h'\u001b[39m, 'y', '.', '\\\u001b[31mx0f\u001b[39m', '\\x0e', '\u001b[31mu',\u001b[39m '~', '\u001b[31ml',\u001b[39m 'f', 'r', '\u001b[31mj',\u001b[39m \u001b[31m'3'\u001b[39m, 'i', 'n', 'x', '\u001b[31mu',\u001b[39m '\u001b[31mq',\u001b[39m 'f', '~', \u001b[31m'3'\u001b[39m,\u001b[31m 'k\u001b[39m', '\u001b[31mq',\u001b[39m 'n', '\u001b[31mu',\u001b[39m '-', '.', '\\\u001b[31mx0f\u001b[39m', '\\x0e', '\\\u001b[31mx0f\u001b[39m', '\\x0e', '(', '%', 'f',\u001b[31m 'k\u001b[39m', 'y', '\u001b[31mj',\u001b[39m 'w', '%', '\u001b[31m7',\u001b[39m '%', 'x', '\u001b[31mj',\u001b[39m \u001b[31m'h'\u001b[39m, 't', 's', 'i', 'x', '%', '|', '\u001b[31mj',\u001b[39m '%', '|', 'n', '\u001b[31mq',\u001b[39m '\u001b[31mq',\u001b[39m '%', \u001b[31m'v'\u001b[39m, \u001b[31m'z'\u001b[39m, 'n', 'y', '%', 'y', \u001b[31m'm'\u001b[39m, '\u001b[31mj',\u001b[39m '%', '\u001b[31mu',\u001b[39m 'w', 't', '\u001b[31ml',\u001b[39m 'w', 'f', 'r', '\\\u001b[31mx0f\u001b[39m', '\\x0e', 'y', 'n', 'r', '\u001b[31mj',\u001b[39m \u001b[31m'3'\u001b[39m, 'x', '\u001b[31mq',\u001b[39m '\u001b[31mj',\u001b[39m '\u001b[31mj',\u001b[39m '\u001b[31mu',\u001b[39m '-', '\u001b[31m7',\u001b[39m '.', '\\\u001b[31mx0f\u001b[39m', '\\x0e', '\\\u001b[31mx0f\u001b[39m', '\\x0e', '(', '%', 'i', '\u001b[31mj',\u001b[39m 'f', \u001b[31m'h'\u001b[39m, 'y', 'n', '{', 'f', 'y', 'n', 's', '\u001b[31ml',\u001b[39m '%', '\u001b[31mu',\u001b[39m '~', '\u001b[31ml',\u001b[39m 'f', 'r', '\u001b[31mj',\u001b[39m '%', '\u001b[31mq',\u001b[39m 'n', 'g', 'w', 'f', 'w', '~', '\\\u001b[31mx0f\u001b[39m', '\\x0e', '\u001b[31mu',\u001b[39m '~', '\u001b[31ml',\u001b[39m 'f', 'r', '\u001b[31mj',\u001b[39m \u001b[31m'3'\u001b[39m, \u001b[31m'v'\u001b[39m, \u001b[31m'z'\u001b[39m, 'n', 'y', '-', '.', '\\\u001b[31mx0f\u001b[39m', '\\x0e', '\\\u001b[31mx0f\u001b[39m', '\\x0e', '(', '%', \u001b[31m'v'\u001b[39m, \u001b[31m'z'\u001b[39m, 'n', 'y', '%', 'y', \u001b[31m'm'\u001b[39m, '\u001b[31mj',\u001b[39m '%', '\u001b[31mu',\u001b[39m 'w', 't', '\u001b[31ml',\u001b[39m 'w', 'f', 'r', '\\\u001b[31mx0f\u001b[39m', '\\x0e', \u001b[31m'v'\u001b[39m, \u001b[31m'z'\u001b[39m, 'n', 'y', '-', '.', '\\\u001b[31mx0f\u001b[39m', '\\\u001b[31mx0f\u001b[39m', '\\\u001b[31mx0f\u001b[39m', '(', '%', 'R', 'f', 'n', 's', '%', 'K', \u001b[31m'z'\u001b[39m, 's', \u001b[31m'h'\u001b[39m, 'y', 'n', 't', 's', '\\\u001b[31mx0f\u001b[39m', '|', \u001b[31m'm'\u001b[39m, 'n', '\u001b[31mq',\u001b[39m '\u001b[31mj',\u001b[39m '%', 'Y', 'w', \u001b[31m'z'\u001b[39m, '\u001b[31mj',\u001b[39m '?', '\\\u001b[31mx0f\u001b[39m', '\\x0e', '\\\u001b[31mx0f\u001b[39m', '\\x0e', '(', '%', \u001b[31m'm'\u001b[39m, 'f', 's', 'i', '\u001b[31mq',\u001b[39m 'n', 's', '\u001b[31ml',\u001b[39m '%', 'p', '\u001b[31mj',\u001b[39m '~', '%', '\u001b[31mj',\u001b[39m '{', '\u001b[31mj',\u001b[39m 's', 'y', 'x', '\\\u001b[31mx0f\u001b[39m', '\\x0e',\u001b[31m 'k\u001b[39m', 't', 'w', '%', '\u001b[31mj',\u001b[39m '{', '\u001b[31mj',\u001b[39m 's', 'y', '%', 'n', 's', '%', '\u001b[31mu',\u001b[39m '~', '\u001b[31ml',\u001b[39m 'f', 'r', '\u001b[31mj',\u001b[39m \u001b[31m'3'\u001b[39m, '\u001b[31mj',\u001b[39m '{', '\u001b[31mj',\u001b[39m 's', 'y', \u001b[31m'3'\u001b[39m, '\u001b[31ml',\u001b[39m '\u001b[31mj',\u001b[39m 'y', '-', '.', '?', '\\\u001b[31mx0f\u001b[39m', '\\x0e', '\\x0e', 'n',\u001b[31m 'k\u001b[39m', '%', '\u001b[31mj',\u001b[39m '{', '\u001b[31mj',\u001b[39m 's', 'y', \u001b[31m'3'\u001b[39m, 'y', '~', '\u001b[31mu',\u001b[39m '\u001b[31mj',\u001b[39m '%', 'B', 'B', '%', '\u001b[31mu',\u001b[39m '~', '\u001b[31ml',\u001b[39m 'f', 'r', '\u001b[31mj',\u001b[39m \u001b[31m'3'\u001b[39m, 'P', 'J', '^', 'I', 'T', '\\\\', 'S', '?', '\\\u001b[31mx0f\u001b[39m', '\\x0e', '\\x0e', '\\x0e', 'n',\u001b[31m 'k\u001b[39m', '%', '\u001b[31mj',\u001b[39m '{', '\u001b[31mj',\u001b[39m 's', 'y', \u001b[31m'3'\u001b[39m, 'p', '\u001b[31mj',\u001b[39m '~', '%', 'B', 'B', '%', '\u001b[31mu',\u001b[39m '~', '\u001b[31ml',\u001b[39m 'f', 'r', '\u001b[31mj',\u001b[39m \u001b[31m'3'\u001b[39m, 'P', \u001b[31m'd'\u001b[39m, 'Z', 'U', '?', '\\\u001b[31mx0f\u001b[39m', '\\x0e', '\\x0e', '\\x0e', '\\x0e', \u001b[31m'h'\u001b[39m, \u001b[31m'm'\u001b[39m, 'f', 's', '\u001b[31ml',\u001b[39m '\u001b[31mj',\u001b[39m \u001b[31m'd'\u001b[39m, 'y', 't', '%', 'B', '%', ',', 'Z', 'U', ',', '\\\u001b[31mx0f\u001b[39m', '\\x0e', '\\x0e', '\\x0e', 'n',\u001b[31m 'k\u001b[39m', '%', '\u001b[31mj',\u001b[39m '{', '\u001b[31mj',\u001b[39m 's', 'y', \u001b[31m'3'\u001b[39m, 'p', '\u001b[31mj',\u001b[39m '~', '%', 'B', 'B', '%', '\u001b[31mu',\u001b[39m '~', '\u001b[31ml',\u001b[39m 'f', 'r', '\u001b[31mj',\u001b[39m \u001b[31m'3'\u001b[39m, 'P', \u001b[31m'd'\u001b[39m, 'I', 'T', '\\\\', 'S', '?', '\\\u001b[31mx0f\u001b[39m', '\\x0e', '\\x0e', '\\x0e', '\\x0e', \u001b[31m'h'\u001b[39m, \u001b[31m'm'\u001b[39m, 'f', 's', '\u001b[31ml',\u001b[39m '\u001b[31mj',\u001b[39m \u001b[31m'd'\u001b[39m, 'y', 't', '%', 'B', '%', ',', 'I', 'T', '\\\\', 'S', ',', '\\\u001b[31mx0f\u001b[39m', '\\x0e', '\\x0e', '\\x0e', 'n',\u001b[31m 'k\u001b[39m', '%', '\u001b[31mj',\u001b[39m '{', '\u001b[31mj',\u001b[39m 's', 'y', \u001b[31m'3'\u001b[39m, 'p', '\u001b[31mj',\u001b[39m '~', '%', 'B', 'B', '%', '\u001b[31mu',\u001b[39m '~', '\u001b[31ml',\u001b[39m 'f', 'r', '\u001b[31mj',\u001b[39m \u001b[31m'3'\u001b[39m, 'P', \u001b[31m'd'\u001b[39m, 'Q', 'J', 'K', 'Y', '?', '\\\u001b[31mx0f\u001b[39m', '\\x0e', '\\x0e', '\\x0e', '\\x0e', \u001b[31m'h'\u001b[39m, \u001b[31m'm'\u001b[39m, 'f', 's', '\u001b[31ml',\u001b[39m '\u001b[31mj',\u001b[39m \u001b[31m'd'\u001b[39m, 'y', 't', '%', 'B', '%', ',', 'Q', 'J', 'K', 'Y', ',', '\\\u001b[31mx0f\u001b[39m', '\\x0e', '\\x0e', '\\x0e', 'n',\u001b[31m 'k\u001b[39m', '%', '\u001b[31mj',\u001b[39m '{', '\u001b[31mj',\u001b[39m 's', 'y', \u001b[31m'3'\u001b[39m, 'p', '\u001b[31mj',\u001b[39m '~', '%', 'B', 'B', '%', '\u001b[31mu',\u001b[39m '~', '\u001b[31ml',\u001b[39m 'f', 'r', '\u001b[31mj',\u001b[39m \u001b[31m'3'\u001b[39m, 'P', \u001b[31m'd'\u001b[39m, 'W', 'N', 'L', 'M', 'Y', '?', '\\\u001b[31mx0f\u001b[39m', '\\x0e', '\\x0e', '\\x0e', '\\x0e', \u001b[31m'h'\u001b[39m, \u001b[31m'm'\u001b[39m, 'f', 's', '\u001b[31ml',\u001b[39m '\u001b[31mj',\u001b[39m \u001b[31m'd'\u001b[39m, 'y', 't', '%', 'B', '%', ',', 'W', 'N', 'L', 'M', 'Y', ',', '\\\u001b[31mx0f\u001b[39m', '\\\u001b[31mx0f\u001b[39m', '\\x0e', '(', '%', 'N',\u001b[31m 'k\u001b[39m', '%', 'y', '|', 't', '%', 'p', '\u001b[31mj',\u001b[39m '~', 'x', '%', '\u001b[31mu',\u001b[39m 'w', '\u001b[31mj',\u001b[39m 'x', 'x', '\u001b[31mj',\u001b[39m 'i', '%', 'x', 'n', 'r', \u001b[31m'z'\u001b[39m, '\u001b[31mq',\u001b[39m 'y', 'f', 's', '\u001b[31mj',\u001b[39m 't', \u001b[31m'z'\u001b[39m, 'x', '\u001b[31mq',\u001b[39m '~', '\\\u001b[31mx0f\u001b[39m', '\\x0e', '(', '%', '|', '\u001b[31mj',\u001b[39m '%', 'i', 't', 's', ',', 'y', '%', '|', 'f', 's', 'y', '%', 'x', 's', 'f', 'p', '\u001b[31mj',\u001b[39m '%', 'y', 't', '%', 'r', 't', '{', '\u001b[31mj',\u001b[39m '%', 'n', 's', 'y', 't', '%', 'y', '|', 't', '\\\u001b[31mx0f\u001b[39m', '\\x0e', '(', '%', 'i', 'n', 'w', '\u001b[31mj',\u001b[39m \u001b[31m'h'\u001b[39m, 'y', 'n', 't', 's', 'x', '%', 'x', 'n', 'r', \u001b[31m'z'\u001b[39m, '\u001b[31mq',\u001b[39m 'y', 'f', 's', '\u001b[31mj',\u001b[39m 't', \u001b[31m'z'\u001b[39m, 'x', '\u001b[31mq',\u001b[39m '~', '\\\u001b[31mx0f\u001b[39m', '\\x0e', 'n',\u001b[31m 'k\u001b[39m', '%', \u001b[31m'h'\u001b[39m, \u001b[31m'm'\u001b[39m, 'f', 's', '\u001b[31ml',\u001b[39m '\u001b[31mj',\u001b[39m \u001b[31m'd'\u001b[39m, 'y', 't', '%', 'B', 'B', '%', ',', 'Z', 'U', ',', '%', 'f', 's', 'i', '%', 'i', 'n', 'w', '\u001b[31mj',\u001b[39m \u001b[31m'h'\u001b[39m, 'y', 'n', 't', 's', '%', '&', 'B', '%', ',', 'I', 'T', '\\\\', 'S', ',', '?', '\\\u001b[31mx0f\u001b[39m', '\\x0e', '\\x0e', 'i', 'n', 'w', '\u001b[31mj',\u001b[39m \u001b[31m'h'\u001b[39m, 'y', 'n', 't', 's', '%', 'B', '%', ',', 'Z', 'U', ',', '\\\u001b[31mx0f\u001b[39m', '\\x0e', 'n',\u001b[31m 'k\u001b[39m', '%', \u001b[31m'h'\u001b[39m, \u001b[31m'm'\u001b[39m, 'f', 's', '\u001b[31ml',\u001b[39m '\u001b[31mj',\u001b[39m \u001b[31m'd'\u001b[39m, 'y', 't', '%', 'B', 'B', '%', ',', 'I', 'T', '\\\\', 'S', ',', '%', 'f', 's', 'i', '%', 'i', 'n', 'w', '\u001b[31mj',\u001b[39m \u001b[31m'h'\u001b[39m, 'y', 'n', 't', 's', '%', '&', 'B', '%', ',', 'Z', 'U', ',', '?', '\\\u001b[31mx0f\u001b[39m', '\\x0e', '\\x0e', 'i', 'n', 'w', '\u001b[31mj',\u001b[39m \u001b[31m'h'\u001b[39m, 'y', 'n', 't', 's', '%', 'B', '%', ',', 'I', 'T', '\\\\', 'S', ',', '\\\u001b[31mx0f\u001b[39m', '\\x0e', 'n',\u001b[31m 'k\u001b[39m', '%', \u001b[31m'h'\u001b[39m, \u001b[31m'm'\u001b[39m, 'f', 's', '\u001b[31ml',\u001b[39m '\u001b[31mj',\u001b[39m \u001b[31m'd'\u001b[39m, 'y', 't', '%', 'B', 'B', '%', ',', 'Q', 'J', 'K', 'Y', ',', '%', 'f', 's', 'i', '%', 'i', 'n', 'w', '\u001b[31mj',\u001b[39m \u001b[31m'h'\u001b[39m, 'y', 'n', 't', 's', '%', '&', 'B', '%', ',', 'W', 'N', 'L', 'M', 'Y', ',', '?', '\\\u001b[31mx0f\u001b[39m', '\\x0e', '\\x0e', 'i', 'n', 'w', '\u001b[31mj',\u001b[39m \u001b[31m'h'\u001b[39m, 'y', 'n', 't', 's', '%', 'B', '%', ',', 'Q', 'J', 'K', 'Y', ',', '\\\u001b[31mx0f\u001b[39m', '\\x0e', 'n',\u001b[31m 'k\u001b[39m', '%', \u001b[31m'h'\u001b[39m, \u001b[31m'm'\u001b[39m, 'f', 's', '\u001b[31ml',\u001b[39m '\u001b[31mj',\u001b[39m \u001b[31m'd'\u001b[39m, 'y', 't', '%', 'B', 'B', '%', ',', 'W', 'N', 'L', 'M', 'Y', ',', '%', 'f', 's', 'i', '%', 'i', 'n', 'w', '\u001b[31mj',\u001b[39m \u001b[31m'h'\u001b[39m, 'y', 'n', 't', 's', '%', '&', 'B', '%', ',', 'Q', 'J', 'K', 'Y', ',', '?', '\\\u001b[31mx0f\u001b[39m', '\\x0e', '\\x0e', 'i', 'n', 'w', '\u001b[31mj',\u001b[39m \u001b[31m'h'\u001b[39m, 'y', 'n', 't', 's', '%', 'B', '%', ',', 'W', 'N', 'L', 'M', 'Y', ',', '\\\u001b[31mx0f\u001b[39m', '\\\u001b[31mx0f\u001b[39m', '\\x0e', '(', '%', 'R', 't', '{', 'n', 's', '\u001b[31ml',\u001b[39m '%', 'y', \u001b[31m'm'\u001b[39m, '\u001b[31mj',\u001b[39m '%', 'x', 's', 'f', 'p', '\u001b[31mj',\u001b[39m '\\\u001b[31mx0f\u001b[39m', '\\x0e', 'n',\u001b[31m 'k\u001b[39m', '%', 'i', 'n', 'w', '\u001b[31mj',\u001b[39m \u001b[31m'h'\u001b[39m, 'y', 'n', 't', 's', '%', 'B', 'B', '%', ',', 'Z', 'U', ',', '?', '\\\u001b[31mx0f\u001b[39m', '\\x0e', '\\x0e', 'x', 's', 'f', 'p', '\u001b[31mj',\u001b[39m \u001b[31m'd'\u001b[39m, '\u001b[31mu',\u001b[39m 't', 'x', 'n', 'y', 'n', 't', 's', '`', '\u001b[31m6',\u001b[39m \u001b[31m'b'\u001b[39m, '%', '\u001b[31m2',\u001b[39m 'B', '%', '\u001b[31m6',\u001b[39m '\u001b[31m5',\u001b[39m '\\\u001b[31mx0f\u001b[39m', '\\x0e', 'n',\u001b[31m 'k\u001b[39m', '%', 'i', 'n', 'w', '\u001b[31mj',\u001b[39m \u001b[31m'h'\u001b[39m, 'y', 'n', 't', 's', '%', 'B', 'B', '%', ',', 'I', 'T', '\\\\', 'S', ',', '?', '\\\u001b[31mx0f\u001b[39m', '\\x0e', '\\x0e', 'x', 's', 'f', 'p', '\u001b[31mj',\u001b[39m \u001b[31m'd'\u001b[39m, '\u001b[31mu',\u001b[39m 't', 'x', 'n', 'y', 'n', 't', 's', '`', '\u001b[31m6',\u001b[39m \u001b[31m'b'\u001b[39m, '%', '\u001b[31m0',\u001b[39m 'B', '%', '\u001b[31m6',\u001b[39m '\u001b[31m5',\u001b[39m '\\\u001b[31mx0f\u001b[39m', '\\x0e', 'n',\u001b[31m 'k\u001b[39m', '%', 'i', 'n', 'w', '\u001b[31mj',\u001b[39m \u001b[31m'h'\u001b[39m, 'y', 'n', 't', 's', '%', 'B', 'B', '%', ',', 'Q', 'J', 'K', 'Y', ',', '?', '\\\u001b[31mx0f\u001b[39m', '\\x0e', '\\x0e', 'x', 's', 'f', 'p', '\u001b[31mj',\u001b[39m \u001b[31m'd'\u001b[39m, '\u001b[31mu',\u001b[39m 't', 'x', 'n', 'y', 'n', 't', 's', '`', '\u001b[31m5',\u001b[39m \u001b[31m'b'\u001b[39m, '%', '\u001b[31m2',\u001b[39m 'B', '%', '\u001b[31m6',\u001b[39m '\u001b[31m5',\u001b[39m '\\\u001b[31mx0f\u001b[39m', '\\x0e', 'n',\u001b[31m 'k\u001b[39m', '%', 'i', 'n', 'w', '\u001b[31mj',\u001b[39m \u001b[31m'h'\u001b[39m, 'y', 'n', 't', 's', '%', 'B', 'B', '%', ',', 'W', 'N', 'L', 'M', 'Y', ',', '?', '\\\u001b[31mx0f\u001b[39m', '\\x0e', '\\x0e', 'x', 's', 'f', 'p', '\u001b[31mj',\u001b[39m \u001b[31m'd'\u001b[39m, '\u001b[31mu',\u001b[39m 't', 'x', 'n', 'y', 'n', 't', 's', '`', '\u001b[31m5',\u001b[39m \u001b[31m'b'\u001b[39m, '%', '\u001b[31m0',\u001b[39m 'B', '%', '\u001b[31m6',\u001b[39m '\u001b[31m5',\u001b[39m '\\\u001b[31mx0f\u001b[39m', '\\\u001b[31mx0f\u001b[39m', '\\x0e', '(', '%', 'X', 's', 'f', 'p', '\u001b[31mj',\u001b[39m '%', 'g', 't', 'i', '~', '%', '\u001b[31ml',\u001b[39m 'w', 't', '|', 'n', 's', '\u001b[31ml',\u001b[39m '%', 'r', '\u001b[31mj',\u001b[39m \u001b[31m'h'\u001b[39m, \u001b[31m'm'\u001b[39m, 'f', 's', 'n', 'x', 'r', '\\\u001b[31mx0f\u001b[39m', '\\x0e', '(', '%', 'n',\u001b[31m 'k\u001b[39m', '%',\u001b[31m 'k\u001b[39m', 'w', \u001b[31m'z'\u001b[39m, 'n', 'y', 'x', '%', 'f', 's', 'i', '%', 'x', 's', 'f', 'p', '\u001b[31mj',\u001b[39m 'x', '%', \u001b[31m'h'\u001b[39m, 't', '\u001b[31mq',\u001b[39m '\u001b[31mq',\u001b[39m 'n', 'i', '\u001b[31mj',\u001b[39m '%', 'y', \u001b[31m'm'\u001b[39m, '\u001b[31mj',\u001b[39m 's', '%', 'x', \u001b[31m'h'\u001b[39m, 't', 'w', '\u001b[31mj',\u001b[39m 'x', '\\\u001b[31mx0f\u001b[39m', '\\x0e', '(', '%', '|', 'n', '\u001b[31mq',\u001b[39m '\u001b[31mq',\u001b[39m '%', 'g', '\u001b[31mj',\u001b[39m '%', 'n', 's', \u001b[31m'h'\u001b[39m, 'w', '\u001b[31mj',\u001b[39m 'r', '\u001b[31mj',\u001b[39m 's', 'y', '\u001b[31mj',\u001b[39m 'i', '%', 'g', '~', '%', '\u001b[31m6',\u001b[39m '\u001b[31m5',\u001b[39m '\\\u001b[31mx0f\u001b[39m', '\\x0e', 'x', 's', 'f', 'p', '\u001b[31mj',\u001b[39m \u001b[31m'd'\u001b[39m, 'g', 't', 'i', '~', \u001b[31m'3'\u001b[39m, 'n', 's', 'x', '\u001b[31mj',\u001b[39m 'w', 'y', '-', '\u001b[31m5',\u001b[39m '1', '%', '\u001b[31mq',\u001b[39m 'n', 'x', 'y', '-', 'x', 's', 'f', 'p', '\u001b[31mj',\u001b[39m \u001b[31m'd'\u001b[39m, '\u001b[31mu',\u001b[39m 't', 'x', 'n', 'y', 'n', 't', 's', '.', '.', '\\\u001b[31mx0f\u001b[39m', '\\x0e', 'n',\u001b[31m 'k\u001b[39m', '%', 'x', 's', 'f', 'p', '\u001b[31mj',\u001b[39m \u001b[31m'd'\u001b[39m, '\u001b[31mu',\u001b[39m 't', 'x', 'n', 'y', 'n', 't', 's', '`', '\u001b[31m5',\u001b[39m \u001b[31m'b'\u001b[39m, '%', 'B', 'B', '%',\u001b[31m 'k\u001b[39m', 'w', \u001b[31m'z'\u001b[39m, 'n', 'y', \u001b[31m'd'\u001b[39m, '\u001b[31mu',\u001b[39m 't', 'x', 'n', 'y', 'n', 't', 's', '`', '\u001b[31m5',\u001b[39m \u001b[31m'b'\u001b[39m, '%', 'f', 's', 'i', '%', 'x', 's', 'f', 'p', '\u001b[31mj',\u001b[39m \u001b[31m'd'\u001b[39m, '\u001b[31mu',\u001b[39m 't', 'x', 'n', 'y', 'n', 't', 's', '`', '\u001b[31m6',\u001b[39m \u001b[31m'b'\u001b[39m, '%', 'B', 'B', '%',\u001b[31m 'k\u001b[39m', 'w', \u001b[31m'z'\u001b[39m, 'n', 'y', \u001b[31m'd'\u001b[39m, '\u001b[31mu',\u001b[39m 't', 'x', 'n', 'y', 'n', 't', 's', '`', '\u001b[31m6',\u001b[39m \u001b[31m'b'\u001b[39m, '?', '\\\u001b[31mx0f\u001b[39m', '\\x0e', '\\x0e', 'x', \u001b[31m'h'\u001b[39m, 't', 'w', '\u001b[31mj',\u001b[39m '%', '\u001b[31m0',\u001b[39m 'B', '%', '\u001b[31m6',\u001b[39m '\u001b[31m5',\u001b[39m '\\\u001b[31mx0f\u001b[39m', '\\x0e', '\\x0e',\u001b[31m 'k\u001b[39m', 'w', \u001b[31m'z'\u001b[39m, 'n', 'y', \u001b[31m'd'\u001b[39m, 'x', '\u001b[31mu',\u001b[39m 'f', '|', 's', '%', 'B', '%', 'K', 'f', '\u001b[31mq',\u001b[39m 'x', '\u001b[31mj',\u001b[39m '\\\u001b[31mx0f\u001b[39m', '\\x0e', '\u001b[31mj',\u001b[39m '\u001b[31mq',\u001b[39m 'x', '\u001b[31mj',\u001b[39m '?', '\\\u001b[31mx0f\u001b[39m', '\\x0e', '\\x0e', 'x', 's', 'f', 'p', '\u001b[31mj',\u001b[39m \u001b[31m'd'\u001b[39m, 'g', 't', 'i', '~', \u001b[31m'3'\u001b[39m, '\u001b[31mu',\u001b[39m 't', '\u001b[31mu',\u001b[39m '-', '.', '\\\u001b[31mx0f\u001b[39m', '\\x0e', '\\x0e', '\\\u001b[31mx0f\u001b[39m', '\\x0e', 'n',\u001b[31m 'k\u001b[39m', '%', 's', 't', 'y', '%',\u001b[31m 'k\u001b[39m', 'w', \u001b[31m'z'\u001b[39m, 'n', 'y', \u001b[31m'd'\u001b[39m, 'x', '\u001b[31mu',\u001b[39m 'f', '|', 's', '?', '\\\u001b[31mx0f\u001b[39m', '\\x0e', '\\x0e',\u001b[31m 'k\u001b[39m', 'w', \u001b[31m'z'\u001b[39m, 'n', 'y', \u001b[31m'd'\u001b[39m, '\u001b[31mu',\u001b[39m 't', 'x', 'n', 'y', 'n', 't', 's', '%', 'B', '%', '`', 'w', 'f', 's', 'i', 't', 'r', \u001b[31m'3'\u001b[39m, 'w', 'f', 's', 'i', 'w', 'f', 's', '\u001b[31ml',\u001b[39m '\u001b[31mj',\u001b[39m '-', '\u001b[31m6',\u001b[39m '1', '%', '-', '|', 'n', 's', 'i', 't', '|', \u001b[31m'd'\u001b[39m, '}', '4', '4', '\u001b[31m6',\u001b[39m '\u001b[31m5',\u001b[39m '.', '.', '%', '/', '%', '\u001b[31m6',\u001b[39m '\u001b[31m5',\u001b[39m '1', '\\\u001b[31mx0f\u001b[39m', '\\x0e', '\\x0e', '\\x0e', '\\x0e', '\\x0e', '\\x0e', 'w', 'f', 's', 'i', 't', 'r', \u001b[31m'3'\u001b[39m, 'w', 'f', 's', 'i', 'w', 'f', 's', '\u001b[31ml',\u001b[39m '\u001b[31mj',\u001b[39m '-', '\u001b[31m6',\u001b[39m '1', '%', '-', '|', 'n', 's', 'i', 't', '|', \u001b[31m'd'\u001b[39m, '~', '4', '4', '\u001b[31m6',\u001b[39m '\u001b[31m5',\u001b[39m '.', '.', '%', '/', '%', '\u001b[31m6',\u001b[39m '\u001b[31m5',\u001b[39m \u001b[31m'b'\u001b[39m, '\\\u001b[31mx0f\u001b[39m', '\\x0e', '\\x0e', '\\\u001b[31mx0f\u001b[39m', '\\x0e',\u001b[31m 'k\u001b[39m', 'w', \u001b[31m'z'\u001b[39m, 'n', 'y', \u001b[31m'd'\u001b[39m, 'x', '\u001b[31mu',\u001b[39m 'f', '|', 's', '%', 'B', '%', 'Y', 'w', \u001b[31m'z'\u001b[39m, '\u001b[31mj',\u001b[39m '\\\u001b[31mx0f\u001b[39m', '\\x0e', '\u001b[31ml',\u001b[39m 'f', 'r', '\u001b[31mj',\u001b[39m \u001b[31m'd'\u001b[39m, '|', 'n', 's', 'i', 't', '|', \u001b[31m'3'\u001b[39m,\u001b[31m 'k\u001b[39m', 'n', '\u001b[31mq',\u001b[39m '\u001b[31mq',\u001b[39m '-', 'g', '\u001b[31mq',\u001b[39m 'f', \u001b[31m'h'\u001b[39m, 'p', '.', '\\\u001b[31mx0f\u001b[39m', '\\x0e', '\\\u001b[31mx0f\u001b[39m', '\\x0e',\u001b[31m 'k\u001b[39m', 't', 'w', '%', '\u001b[31mu',\u001b[39m 't', 'x', '%', 'n', 's', '%', 'x', 's', 'f', 'p', '\u001b[31mj',\u001b[39m \u001b[31m'd'\u001b[39m, 'g', 't', 'i', '~', '?', '\\\u001b[31mx0f\u001b[39m', '\\x0e', '\\x0e', '\u001b[31mu',\u001b[39m '~', '\u001b[31ml',\u001b[39m 'f', 'r', '\u001b[31mj',\u001b[39m \u001b[31m'3'\u001b[39m, 'i', 'w', 'f', '|', \u001b[31m'3'\u001b[39m, 'w', '\u001b[31mj',\u001b[39m \u001b[31m'h'\u001b[39m, 'y', '-', '\u001b[31ml',\u001b[39m 'f', 'r', '\u001b[31mj',\u001b[39m \u001b[31m'd'\u001b[39m, '|', 'n', 's', 'i', 't', '|', '1', '%', '\u001b[31ml',\u001b[39m 'w', '\u001b[31mj',\u001b[39m '\u001b[31mj',\u001b[39m 's', '1', '\\\u001b[31mx0f\u001b[39m', '\\x0e', '\\x0e', '\\x0e', '\\x0e', '\\x0e', '\\x0e', '\u001b[31mu',\u001b[39m '~', '\u001b[31ml',\u001b[39m 'f', 'r', '\u001b[31mj',\u001b[39m \u001b[31m'3'\u001b[39m, 'W', '\u001b[31mj',\u001b[39m \u001b[31m'h'\u001b[39m, 'y', '-', '\u001b[31mu',\u001b[39m 't', 'x', '`', '\u001b[31m5',\u001b[39m \u001b[31m'b'\u001b[39m, '1', '%', '\u001b[31mu',\u001b[39m 't', 'x', '`', '\u001b[31m6',\u001b[39m \u001b[31m'b'\u001b[39m, '1', '%', '\u001b[31m6',\u001b[39m '\u001b[31m5',\u001b[39m '1', '%', '\u001b[31m6',\u001b[39m '\u001b[31m5',\u001b[39m '.', '.', '\\\u001b[31mx0f\u001b[39m', '\\x0e', '\u001b[31mu',\u001b[39m '~', '\u001b[31ml',\u001b[39m 'f', 'r', '\u001b[31mj',\u001b[39m \u001b[31m'3'\u001b[39m, 'i', 'w', 'f', '|', \u001b[31m'3'\u001b[39m, 'w', '\u001b[31mj',\u001b[39m \u001b[31m'h'\u001b[39m, 'y', '-', '\u001b[31ml',\u001b[39m 'f', 'r', '\u001b[31mj',\u001b[39m \u001b[31m'd'\u001b[39m, '|', 'n', 's', 'i', 't', '|', '1', '%', '|', \u001b[31m'm'\u001b[39m, 'n', 'y', '\u001b[31mj',\u001b[39m '1', '%', '\u001b[31mu',\u001b[39m '~', '\u001b[31ml',\u001b[39m 'f', 'r', '\u001b[31mj',\u001b[39m \u001b[31m'3'\u001b[39m, 'W', '\u001b[31mj',\u001b[39m \u001b[31m'h'\u001b[39m, 'y', '-', '\\\u001b[31mx0f\u001b[39m', '\\x0e', '\\x0e',\u001b[31m 'k\u001b[39m', 'w', \u001b[31m'z'\u001b[39m, 'n', 'y', \u001b[31m'd'\u001b[39m, '\u001b[31mu',\u001b[39m 't', 'x', 'n', 'y', 'n', 't', 's', '`', '\u001b[31m5',\u001b[39m \u001b[31m'b'\u001b[39m, '1', '%',\u001b[31m 'k\u001b[39m', 'w', \u001b[31m'z'\u001b[39m, 'n', 'y', \u001b[31m'd'\u001b[39m, '\u001b[31mu',\u001b[39m 't', 'x', 'n', 'y', 'n', 't', 's', '`', '\u001b[31m6',\u001b[39m \u001b[31m'b'\u001b[39m, '1', '%', '\u001b[31m6',\u001b[39m '\u001b[31m5',\u001b[39m '1', '%', '\u001b[31m6',\u001b[39m '\u001b[31m5',\u001b[39m '.', '.', '\\\u001b[31mx0f\u001b[39m', '\\\u001b[31mx0f\u001b[39m', '\\x0e', '(', '%', 'L', 'f', 'r', '\u001b[31mj',\u001b[39m '%', 'T', '{', '\u001b[31mj',\u001b[39m 'w', '%', \u001b[31m'h'\u001b[39m, 't', 's', 'i', 'n', 'y', 'n', 't', 's', 'x', '\\\u001b[31mx0f\u001b[39m', '\\x0e', 'n',\u001b[31m 'k\u001b[39m', '%', 'x', 's', 'f', 'p', '\u001b[31mj',\u001b[39m \u001b[31m'd'\u001b[39m, '\u001b[31mu',\u001b[39m 't', 'x', 'n', 'y', 'n', 't', 's', '`', '\u001b[31m5',\u001b[39m \u001b[31m'b'\u001b[39m, '%', 'A', '%', '\u001b[31m5',\u001b[39m '%', 't', 'w', '%', 'x', 's', 'f', 'p', '\u001b[31mj',\u001b[39m \u001b[31m'd'\u001b[39m, '\u001b[31mu',\u001b[39m 't', 'x', 'n', 'y', 'n', 't', 's', '`', '\u001b[31m5',\u001b[39m \u001b[31m'b'\u001b[39m, '%', 'C', '%', '|', 'n', 's', 'i', 't', '|', \u001b[31m'd'\u001b[39m, '}', '\u001b[31m2',\u001b[39m '\u001b[31m6',\u001b[39m '\u001b[31m5',\u001b[39m '?', '\\\u001b[31mx0f\u001b[39m', '\\x0e', '\\x0e', '\u001b[31ml',\u001b[39m 'f', 'r', '\u001b[31mj',\u001b[39m \u001b[31m'd'\u001b[39m, 't', '{', '\u001b[31mj',\u001b[39m 'w', '-', '.', '\\\u001b[31mx0f\u001b[39m', '\\x0e', 'n',\u001b[31m 'k\u001b[39m', '%', 'x', 's', 'f', 'p', '\u001b[31mj',\u001b[39m \u001b[31m'd'\u001b[39m, '\u001b[31mu',\u001b[39m 't', 'x', 'n', 'y', 'n', 't', 's', '`', '\u001b[31m6',\u001b[39m \u001b[31m'b'\u001b[39m, '%', 'A', '%', '\u001b[31m5',\u001b[39m '%', 't', 'w', '%', 'x', 's', 'f', 'p', '\u001b[31mj',\u001b[39m \u001b[31m'd'\u001b[39m, '\u001b[31mu',\u001b[39m 't', 'x', 'n', 'y', 'n', 't', 's', '`', '\u001b[31m6',\u001b[39m \u001b[31m'b'\u001b[39m, '%', 'C', '%', '|', 'n', 's', 'i', 't', '|', \u001b[31m'd'\u001b[39m, '~', '\u001b[31m2',\u001b[39m '\u001b[31m6',\u001b[39m '\u001b[31m5',\u001b[39m '?', '\\\u001b[31mx0f\u001b[39m', '\\x0e', '\\x0e', '\u001b[31ml',\u001b[39m 'f', 'r', '\u001b[31mj',\u001b[39m \u001b[31m'd'\u001b[39m, 't', '{', '\u001b[31mj',\u001b[39m 'w', '-', '.', '\\\u001b[31mx0f\u001b[39m', '\\\u001b[31mx0f\u001b[39m', '\\x0e', '(', '%', 'Y', 't', \u001b[31m'z'\u001b[39m, \u001b[31m'h'\u001b[39m, \u001b[31m'm'\u001b[39m, 'n', 's', '\u001b[31ml',\u001b[39m '%', 'y', \u001b[31m'm'\u001b[39m, '\u001b[31mj',\u001b[39m '%', 'x', 's', 'f', 'p', '\u001b[31mj',\u001b[39m '%', 'g', 't', 'i', '~', '\\\u001b[31mx0f\u001b[39m', '\\x0e',\u001b[31m 'k\u001b[39m', 't', 'w', '%', 'g', '\u001b[31mq',\u001b[39m 't', \u001b[31m'h'\u001b[39m, 'p', '%', 'n', 's', '%', 'x', 's', 'f', 'p', '\u001b[31mj',\u001b[39m \u001b[31m'd'\u001b[39m, 'g', 't', 'i', '~', '`', '\u001b[31m6',\u001b[39m '?', \u001b[31m'b'\u001b[39m, '?', '\\\u001b[31mx0f\u001b[39m', '\\x0e', '\\x0e', 'n',\u001b[31m 'k\u001b[39m', '%', 'x', 's', 'f', 'p', '\u001b[31mj',\u001b[39m \u001b[31m'd'\u001b[39m, '\u001b[31mu',\u001b[39m 't', 'x', 'n', 'y', 'n', 't', 's', '`', '\u001b[31m5',\u001b[39m \u001b[31m'b'\u001b[39m, '%', 'B', 'B', '%', 'g', '\u001b[31mq',\u001b[39m 't', \u001b[31m'h'\u001b[39m, 'p', '`', '\u001b[31m5',\u001b[39m \u001b[31m'b'\u001b[39m, '%', 'f', 's', 'i', '%', 'x', 's', 'f', 'p', '\u001b[31mj',\u001b[39m \u001b[31m'd'\u001b[39m, '\u001b[31mu',\u001b[39m 't', 'x', 'n', 'y', 'n', 't', 's', '`', '\u001b[31m6',\u001b[39m \u001b[31m'b'\u001b[39m, '%', 'B', 'B', '%', 'g', '\u001b[31mq',\u001b[39m 't', \u001b[31m'h'\u001b[39m, 'p', '`', '\u001b[31m6',\u001b[39m \u001b[31m'b'\u001b[39m, '?', '\\\u001b[31mx0f\u001b[39m', '\\x0e', '\\x0e', '\\x0e', '\u001b[31ml',\u001b[39m 'f', 'r', '\u001b[31mj',\u001b[39m \u001b[31m'd'\u001b[39m, 't', '{', '\u001b[31mj',\u001b[39m 'w', '-', '.', '\\\u001b[31mx0f\u001b[39m', '\\\u001b[31mx0f\u001b[39m', '\\x0e', '(', '%', 'i', 'n', 'x', '\u001b[31mu',\u001b[39m '\u001b[31mq',\u001b[39m 'f', '~', 'n', 's', '\u001b[31ml',\u001b[39m '%', 'x', \u001b[31m'h'\u001b[39m, 't', 'w', '\u001b[31mj',\u001b[39m '%', \u001b[31m'h'\u001b[39m, 't', 's', 'y', 'n', 's', \u001b[31m'z'\u001b[39m, 't', \u001b[31m'z'\u001b[39m, 'x', '\u001b[31mq',\u001b[39m '~', '\\\u001b[31mx0f\u001b[39m', '\\x0e', 'x', \u001b[31m'm'\u001b[39m, 't', '|', \u001b[31m'd'\u001b[39m, 'x', \u001b[31m'h'\u001b[39m, 't', 'w', '\u001b[31mj',\u001b[39m '-', '\u001b[31m6',\u001b[39m '1', '%', '|', \u001b[31m'm'\u001b[39m, 'n', 'y', '\u001b[31mj',\u001b[39m '1', '%', ',', 'y', 'n', 'r', '\u001b[31mj',\u001b[39m 'x', '%', 's', '\u001b[31mj',\u001b[39m '|', '%', 'w', 't', 'r', 'f', 's', ',', '1', '%', '\u001b[31m7',\u001b[39m '\u001b[31m5',\u001b[39m '.', '\\\u001b[31mx0f\u001b[39m', '\\\u001b[31mx0f\u001b[39m', '\\x0e', '(', '%', 'W', '\u001b[31mj',\u001b[39m\u001b[31m 'k\u001b[39m', 'w', '\u001b[31mj',\u001b[39m 'x', \u001b[31m'm'\u001b[39m, '%', '\u001b[31ml',\u001b[39m 'f', 'r', '\u001b[31mj',\u001b[39m '%', 'x', \u001b[31m'h'\u001b[39m, 'w', '\u001b[31mj',\u001b[39m '\u001b[31mj',\u001b[39m 's', '\\\u001b[31mx0f\u001b[39m', '\\x0e', '\u001b[31mu',\u001b[39m '~', '\u001b[31ml',\u001b[39m 'f', 'r', '\u001b[31mj',\u001b[39m \u001b[31m'3'\u001b[39m, 'i', 'n', 'x', '\u001b[31mu',\u001b[39m '\u001b[31mq',\u001b[39m 'f', '~', \u001b[31m'3'\u001b[39m, \u001b[31m'z'\u001b[39m, '\u001b[31mu',\u001b[39m 'i', 'f', 'y', '\u001b[31mj',\u001b[39m '-', '.', '\\\u001b[31mx0f\u001b[39m', '\\\u001b[31mx0f\u001b[39m', '\\x0e', '(', '%', 'K', 'w', 'f', 'r', '\u001b[31mj',\u001b[39m '%', 'U', '\u001b[31mj',\u001b[39m 'w', '%', 'X', '\u001b[31mj',\u001b[39m \u001b[31m'h'\u001b[39m, 't', 's', 'i', '%', '4', 'W', '\u001b[31mj',\u001b[39m\u001b[31m 'k\u001b[39m', 'w', '\u001b[31mj',\u001b[39m 'x', \u001b[31m'm'\u001b[39m, '%', 'W', 'f', 'y', '\u001b[31mj',\u001b[39m '\\\u001b[31mx0f\u001b[39m', '\\x0e',\u001b[31m 'k\u001b[39m', '\u001b[31mu',\u001b[39m 'x', \u001b[31m'3'\u001b[39m, 'y', 'n', \u001b[31m'h'\u001b[39m, 'p', '-', 'x', 's', 'f', 'p', '\u001b[31mj',\u001b[39m \u001b[31m'd'\u001b[39m, 'x', '\u001b[31mu',\u001b[39m '\u001b[31mj',\u001b[39m '\u001b[31mj',\u001b[39m 'i', '.', '\\\u001b[31mx0f\u001b[39m'\u001b[31m]\n",
      "k\u001b[39mey =5\n",
      "exec(decrypt(cipher\u001b[31m, k\u001b[39mey))\n",
      "re.compile('(\\\\Wd\\\\W|2\\\\W\\\\W|\\\\W\\\\Wk|\\\\Wh\\\\W|6\\\\W\\\\W|\\\\Wad|\\\\Wv\\\\W|x0f|h\\\\W\\\\W|3\\\\W\\\\W|q\\\\W\\\\W|j\\\\W\\\\W|\\\\W9\\\\W|7\\\\W\\\\W|\\\\W3\\\\W|dd\\\\W|d\\\\W\\\\W|u\\\\W\\\\W|add|\\\\Wch|l\\\\W\\\\W|ord|0\\\\W\\\\W|\\\\W12|\\\\Wb\\\\W|z\\\\W\\\\W|\\\\Wz\\\\W|\\\\)\n"
     ]
    }
   ],
   "source": [
    "filename = '/kaggle/input/script-5-algo-1-key-4/script5algo1key4.py'\n",
    "print(HighlightTopGradients(filename, 30, True, False, True))"
   ]
  },
  {
   "cell_type": "code",
   "execution_count": 38,
   "id": "3f009c18",
   "metadata": {
    "execution": {
     "iopub.execute_input": "2024-04-15T15:48:05.423566Z",
     "iopub.status.busy": "2024-04-15T15:48:05.423154Z",
     "iopub.status.idle": "2024-04-15T15:48:05.689029Z",
     "shell.execute_reply": "2024-04-15T15:48:05.687928Z"
    },
    "papermill": {
     "duration": 0.301578,
     "end_time": "2024-04-15T15:48:05.692961",
     "exception": false,
     "start_time": "2024-04-15T15:48:05.391383",
     "status": "completed"
    },
    "scrolled": true,
    "tags": []
   },
   "outputs": [
    {
     "name": "stdout",
     "output_type": "stream",
     "text": [
      "\n",
      "def decrypt(f, k):\n",
      "        decrypted = \"\"\n",
      "        for i in f:\n",
      "            decrypted = decrypted.__\u001b[41madd__(ch\u001b[0mr((ord(i)-k)%128))\n",
      "        return decrypted\n",
      "        \n",
      "cipher = ['(', 'k', 'w', 't', 'r', '%', 'm', 'y', 'y', 'u', 'x', '?', '4', '4', '|', '|', '|', '3', 'l', '\u001b[41mj', 'j',\u001b[0m 'p', 'x', 'k', 't', 'w', 'l', '\u001b[41mj', 'j',\u001b[0m 'p', 'x', '3', 't', 'w', 'l', '4', 'x', 's', 'f', 'p', '\u001b[41mj', '2',\u001b[0m 'l', 'f', 'r', '\u001b[41mj', '2',\u001b[0m 'n', 's', '\u001b[41m2', 'u',\u001b[0m '~', 'y', 'm', 't', 's', '2', 'z', 'x', 'n', 's', 'l', '\u001b[41m2', 'u',\u001b[0m '~', 'l', 'f', 'r', '\u001b[41mj', '2',\u001b[0m 'r', 't', 'i', 'z', '\u001b[41mq', 'j',\u001b[0m '4', '\\\u001b[41mx0f', '\\x0f\u001b[0m', '(', '%', 'n', 'r', 'u', 't', 'w', 'y', 'n', 's', 'l', '%', 'q', 'n', 'g', 'w', 'f', 'w', 'n', 'j', 'x', '\\x0f', 'n', 'r', 'u', 't', 'w', 'y', '%', 'u', '~', 'l', 'f', 'r', '\u001b[41mj', '\\x0f\u001b[0m', 'n', 'r', 'u', 't', 'w', 'y', '%', 'y', 'n', 'r', '\u001b[41mj', '\\x0f\u001b[0m', 'n', 'r', 'u', 't', 'w', 'y', '%', 'w', 'f', 's', 'i', 't', 'r', '\\\u001b[41mx0f', '\\x0f\u001b[0m', 'x', 's', 'f', 'p', '\u001b[41mj', 'd'\u001b[0m, 'x', '\u001b[41mu', 'j',\u001b[0m\u001b[41m 'j',\u001b[0m 'i', '%', 'B', '%', '6', ':', '\\\u001b[41mx0f', '\\x0f\u001b[0m', '(', '%', '\\\\', 'n', 's', 'i', 't', '|', '%', 'x', 'n', '\\x7f', '\u001b[41mj', '\\x0f\u001b[0m', '|', 'n', 's', 'i', 't', '|', 'd', '}', '%', 'B', '%', '<', '7', '5', '\\x0f', '|', 'n', 's', 'i', 't', '|', 'd', '~', '%', 'B', '%', '9', '=', '5', '\\\u001b[41mx0f', '\\x0f\u001b[0m', '(', '%', 'i', '\u001b[41mj', 'k\u001b[0m', 'n', 's', 'n', 's', 'l', '%', 'h', 't', 'q', 't', 'w', 'x', '\\x0f', 'g', '\u001b[41mq', 'f', 'h'\u001b[0m, 'p', '%', 'B', '%', 'u', '~', 'l', 'f', 'r', '\u001b[41mj', '3'\u001b[0m, 'H', 't', 'q', 't', 'w', '-', '5', '1', '%', '5', '1', '%', '5', '.', '\\x0f', '|', 'm', 'n', 'y', 'j', '%', 'B', '%', 'u', '~', 'l', 'f', 'r', '\u001b[41mj', '3'\u001b[0m, 'H', 't', 'q', 't', 'w', '-', '7', ':', ':', '1', '%', '7', ':', ':', '1', '%', '7', ':', ':', '.', '\\x0f', 'w', 'j', 'i', '%', 'B', '%', 'u', '~', 'l', 'f', 'r', '\u001b[41mj', '3'\u001b[0m, 'H', 't', 'q', 't', 'w', '-', '7', ':', ':', '1', '%', '5', '1', '%', '5', '.', '\\x0f', 'l', 'w', '\u001b[41mj', 'j',\u001b[0m 's', '%', 'B', '%', 'u', '~', 'l', 'f', 'r', '\u001b[41mj', '3'\u001b[0m, 'H', 't', 'q', 't', 'w', '-', '5', '1', '%', '7', ':', ':', '1', '%', '5', '.', '\\x0f', 'g', 'q', 'z', 'j', '%', 'B', '%', 'u', '~', 'l', 'f', 'r', '\u001b[41mj', '3'\u001b[0m, 'H', 't', 'q', 't', 'w', '-', '5', '1', '%', '5', '1', '%', '7', ':', ':', '.', '\\\u001b[41mx0f', '\\x0f\u001b[0m', '(', '%', 'N', 's', 'n', 'y', 'n', 'f', 'q', 'n', 'x', 'n', 's', 'l', '%', 'u', '~', 'l', 'f', 'r', '\u001b[41mj', '\\x0f\u001b[0m\u001b[41m', 'u',\u001b[0m '~', 'l', 'f', 'r', '\u001b[41mj', '3'\u001b[0m, 'n', 's', 'n', 'y', '-', '.', '\\\u001b[41mx0f', '\\x0f\u001b[0m', '(', '%', 'N', 's', 'n', 'y', 'n', 'f', 'q', 'n', 'x', 'j', '%', 'l', 'f', 'r', 'j', '%', '|', 'n', 's', 'i', 't', '|', '\\\u001b[41mx0f', 'u',\u001b[0m '~', 'l', 'f', 'r', '\u001b[41mj', '3'\u001b[0m, 'i', 'n', 'x', '\u001b[41mu', 'q',\u001b[0m 'f', '~', '3', 'x', '\u001b[41mj', 'y', 'd'\u001b[0m\u001b[41m, 'h'\u001b[0m, 'f', 'u', 'y', 'n', 't', 's', '-', ',', 'X', 's', 'f', 'p', 'j', ',', '.', '\\x0f', 'l', 'f', 'r', '\u001b[41mj', 'd'\u001b[0m, '|', 'n', 's', 'i', 't', '|', '%', 'B', '%', 'u', '~', 'l', 'f', 'r', '\u001b[41mj', '3'\u001b[0m, 'i', 'n', 'x', '\u001b[41mu', 'q',\u001b[0m 'f', '~', '3', 'x', '\u001b[41mj', 'y', 'd'\u001b[0m, 'r', 't', 'i', 'j', '-', '-', '|', 'n', 's', 'i', 't', '|', 'd', '}', '1', '%', '|', 'n', 's', 'i', 't', '|', 'd', '~', '.', '.', '\\\u001b[41mx0f', '\\x0f\u001b[0m', '(', '%', 'K', 'U', 'X', '%', '-', 'k', 'w', 'f', 'r', 'j', 'x', '%', '\u001b[41mu', 'j',\u001b[0m 'w', '%', 'x', '\u001b[41mj', 'h'\u001b[0m, 't', 's', 'i', '.', '%', 'h', 't', 's', 'y', 'w', 't', '\u001b[41mq', 'q',\u001b[0m\u001b[41m 'j',\u001b[0m 'w', '\\\u001b[41mx0f', 'k\u001b[0m\u001b[41m', 'u',\u001b[0m 'x', '%', 'B', '%', 'u', '~', 'l', 'f', 'r', '\u001b[41mj', '3'\u001b[0m, 'y', 'n', 'r', '\u001b[41mj', '3'\u001b[0m, 'H', '\u001b[41mq', 't', 'h'\u001b[0m, 'p', '-', '.', '\\\u001b[41mx0f', '\\x0f\u001b[0m', '(', '%', 'i', '\u001b[41mj', 'k\u001b[0m', 'n', 's', 'n', 's', 'l', '%', 'x', 's', 'f', 'p', 'j', '%', 'i', '\u001b[41mj', 'k\u001b[0m', 'f', 'z', 'q', 'y', '%', 'u', 't', 'x', 'n', 'y', 'n', 't', 's', '\\x0f', 'x', 's', 'f', 'p', '\u001b[41mj', 'd'\u001b[0m\u001b[41m, 'u',\u001b[0m 't', 'x', 'n', 'y', 'n', 't', 's', '%', 'B', '%', '`', '6', '5', '5', '1', '%', ':', '5', 'b', '\\\u001b[41mx0f', '\\x0f\u001b[0m', '(', '%', 'i', '\u001b[41mj', 'k\u001b[0m', 'n', 's', 'n', 's', 'l', '%', 'k', 'n', 'w', 'x', 'y', '%', '9', '%', 'g', '\u001b[41mq', 't', 'h'\u001b[0m, 'p', 'x', '%', 't', 'k', '%', 'x', 's', 'f', 'p', 'j', '%', 'g', 't', 'i', '~', '\\x0f', 'x', 's', 'f', 'p', '\u001b[41mj', 'd'\u001b[0m, 'g', 't', 'i', '~', '%', 'B', '%', '`', '`', '6', '5', '5', '1', '%', ':', '5', 'b', '1', '\\x0f', '\\x0e', '\\x0e', '\\x0e', '`', '>', '5', '1', '%', ':', '5', 'b', '1', '\\x0f', '\\x0e', '\\x0e', '\\x0e', '`', '=', '5', '1', '%', ':', '5', 'b', '1', '\\x0f', '\\x0e', '\\x0e', '\\x0e', '`', '<', '5', '1', '%', ':', '5', 'b', '\\x0f', '\\x0e', '\\x0e', '\\x0e', 'b', '\\x0f', '(', '%', 'k', 'w', 'z', 'n', 'y', '%', 'u', 't', 'x', 'n', 'y', 'n', 't', 's', '\\\u001b[41mx0f', 'k\u001b[0m', 'w', 'z', 'n', 'y', \u001b[41m'd', 'u',\u001b[0m 't', 'x', 'n', 'y', 'n', 't', 's', '%', 'B', '%', '`', 'w', 'f', 's', 'i', 't', 'r', '3', 'w', 'f', 's', 'i', 'w', 'f', 's', 'l', 'j', '-', '6', '1', '%', '-', '|', 'n', 's', 'i', 't', '|', 'd', '}', '4', '4', '6', '5', '.', '.', '%', '/', '%', '6', '5', '1', '\\x0f', '\\x0e', '\\x0e', '\\x0e', '\\x0e', 'w', 'f', 's', 'i', 't', 'r', '3', 'w', 'f', 's', 'i', 'w', 'f', 's', 'l', 'j', '-', '6', '1', '%', '-', '|', 'n', 's', 'i', 't', '|', 'd', '~', '4', '4', '6', '5', '.', '.', '%', '/', '%', '6', '5', 'b', '\\\u001b[41mx0f', '\\x0f\u001b[0m\u001b[41m', 'k\u001b[0m', 'w', 'z', 'n', 'y', 'd', 'x', 'u', 'f', '|', 's', '%', 'B', '%', 'Y', 'w', 'z', '\u001b[41mj', '\\x0f\u001b[0m\u001b[41m', '\\x0f\u001b[0m', '(', '%', 'x', 'j', 'y', 'y', 'n', 's', 'l', '%', 'i', '\u001b[41mj', 'k\u001b[0m', 'f', 'z', 'q', 'y', '%', 'x', 's', 'f', 'p', 'j', '%', 'i', 'n', 'w', '\u001b[41mj', 'h'\u001b[0m, 'y', 'n', 't', 's', '%', 'y', 't', '|', 'f', 'w', 'i', 'x', '\\x0f', '(', '%', 'w', 'n', 'l', 'm', 'y', '\\x0f', 'i', 'n', 'w', '\u001b[41mj', 'h'\u001b[0m, 'y', 'n', 't', 's', '%', 'B', '%', ',', 'W', 'N', 'L', 'M', 'Y', ',', '\\\u001b[41mx0f', 'h'\u001b[0m, 'm', 'f', 's', 'l', '\u001b[41mj', 'd'\u001b[0m, 'y', 't', '%', 'B', '%', 'i', 'n', 'w', '\u001b[41mj', 'h'\u001b[0m, 'y', 'n', 't', 's', '\\\u001b[41mx0f', '\\x0f\u001b[0m', '(', '%', 'n', 's', 'n', 'y', 'n', 'f', 'q', '%', 'x', 'h', 't', 'w', '\u001b[41mj', '\\x0f\u001b[0m', 'x', 'h', 't', 'w', 'j', '%', 'B', '%', '5', '\\\u001b[41mx0f', '\\x0f\u001b[0m', '(', '%', 'i', 'n', 'x', '\u001b[41mu', 'q',\u001b[0m 'f', '~', 'n', 's', 'l', '%', 'X', 'h', 't', 'w', '\u001b[41mj', '%', 'k\u001b[0m', 'z', 's', 'h', 'y', 'n', 't', 's', '\\x0f', 'i', '\u001b[41mj', 'k\u001b[0m', '%', 'x', 'm', 't', '|', 'd', 'x', 'h', 't', 'w', '\u001b[41mj', '-', 'h'\u001b[0m, 'm', 't', 'n', \u001b[41m'h', 'j',\u001b[0m '1', '%', 'h', 't', 'q', 't', 'w', '1', '%', 'k', 't', 's', 'y', '1', '%', 'x', 'n', '\\x7f', 'j', '.', '?', '\\\u001b[41mx0f', '\\x0f\u001b[0m', '\\x0e', '(', '%', 'h', 'w', 'j', 'f', 'y', 'n', 's', 'l', '%', 'k', 't', 's', 'y', '%', 't', 'g', 'o', '\u001b[41mj', 'h'\u001b[0m, 'y', '%', 'x', 'h', 't', 'w', '\u001b[41mj', 'd'\u001b[0m\u001b[41m, 'k\u001b[0m', 't', 's', 'y', '\\x0f', '\\x0e', 'x', 'h', 't', 'w', '\u001b[41mj', 'd'\u001b[0m\u001b[41m, 'k\u001b[0m', 't', 's', 'y', '%', 'B', '%', 'u', '~', 'l', 'f', 'r', '\u001b[41mj', '3'\u001b[0m\u001b[41m, 'k\u001b[0m', 't', 's', 'y', '3', 'X', '~', 'x', 'K', 't', 's', 'y', '-', 'k', 't', 's', 'y', '1', '%', 'x', 'n', '\\x7f', 'j', '.', '\\x0f', '\\x0e', '\\x0f', '\\x0e', '(', '%', 'h', 'w', 'j', 'f', 'y', 'j', '%', 'y', 'm', 'j', '%', 'i', 'n', 'x', '\u001b[41mu', 'q',\u001b[0m 'f', '~', '%', 'x', 'z', 'w', 'k', 'f', \u001b[41m'h', 'j',\u001b[0m '%', 't', 'g', 'o', '\u001b[41mj', 'h'\u001b[0m, 'y', '\\x0f', '\\x0e', '(', '%', 'x', 'h', 't', 'w', '\u001b[41mj', 'd'\u001b[0m, 'x', 'z', 'w', 'k', 'f', \u001b[41m'h', 'j',\u001b[0m\u001b[41m '\\x0f\u001b[0m', '\\x0e', 'x', 'h', 't', 'w', '\u001b[41mj', 'd'\u001b[0m, 'x', 'z', 'w', 'k', 'f', \u001b[41m'h', 'j',\u001b[0m '%', 'B', '%', 'x', 'h', 't', 'w', '\u001b[41mj', 'd'\u001b[0m\u001b[41m, 'k\u001b[0m', 't', 's', 'y', '3', 'w', 'j', 's', 'i', 'j', 'w', '-', ',', 'X', 'h', 't', 'w', 'j', '%', '?', '%', ',', '%', '0', '%', 'x', 'y', 'w', '-', 'x', 'h', 't', 'w', 'j', '.', '1', '%', 'Y', 'w', 'z', 'j', '1', '%', 'h', 't', 'q', 't', 'w', '.', '\\x0f', '\\x0e', '\\x0f', '\\x0e', '(', '%', 'h', 'w', 'j', 'f', 'y', 'j', '%', 'f', '%', 'w', '\u001b[41mj', 'h'\u001b[0m, 'y', 'f', 's', 'l', 'z', 'q', 'f', 'w', '%', 't', 'g', 'o', '\u001b[41mj', 'h'\u001b[0m, 'y', '%', 'k', 't', 'w', '%', 'y', 'm', 'j', '%', 'y', 'j', '}', 'y', '\\x0f', '\\x0e', '(', '%', 'x', 'z', 'w', 'k', 'f', \u001b[41m'h', 'j',\u001b[0m '%', 't', 'g', 'o', '\u001b[41mj', 'h'\u001b[0m, 'y', '\\x0f', '\\x0e', 'x', 'h', 't', 'w', '\u001b[41mj', 'd'\u001b[0m, 'w', '\u001b[41mj', 'h'\u001b[0m, 'y', '%', 'B', '%', 'x', 'h', 't', 'w', '\u001b[41mj', 'd'\u001b[0m, 'x', 'z', 'w', 'k', 'f', \u001b[41m'h', 'j',\u001b[0m\u001b[41m '3'\u001b[0m, 'l', '\u001b[41mj', 'y', 'd'\u001b[0m, 'w', '\u001b[41mj', 'h'\u001b[0m, 'y', '-', '.', '\\x0f', '\\x0e', '\\x0f', '\\x0e', '(', '%', 'i', 'n', 'x', '\u001b[41mu', 'q',\u001b[0m 'f', '~', 'n', 's', 'l', '%', 'y', 'j', '}', 'y', '\\x0f', '\\x0e', 'l', 'f', 'r', '\u001b[41mj', 'd'\u001b[0m, '|', 'n', 's', 'i', 't', '|', '3', 'g', 'q', 'n', 'y', '-', 'x', 'h', 't', 'w', '\u001b[41mj', 'd'\u001b[0m, 'x', 'z', 'w', 'k', 'f', \u001b[41m'h', 'j',\u001b[0m '1', '%', 'x', 'h', 't', 'w', '\u001b[41mj', 'd'\u001b[0m, 'w', '\u001b[41mj', 'h'\u001b[0m, 'y', '.', '\\\u001b[41mx0f', '\\x0f\u001b[0m', '(', '%', 'l', 'f', 'r', 'j', '%', 't', '{', 'j', 'w', '%', 'k', 'z', 's', 'h', 'y', 'n', 't', 's', '\\x0f', 'i', '\u001b[41mj', 'k\u001b[0m', '%', 'l', 'f', 'r', '\u001b[41mj', 'd'\u001b[0m, 't', '{', 'j', 'w', '-', '.', '?', '\\\u001b[41mx0f', '\\x0f\u001b[0m', '\\x0e', '(', '%', 'h', 'w', 'j', 'f', 'y', 'n', 's', 'l', '%', 'k', 't', 's', 'y', '%', 't', 'g', 'o', '\u001b[41mj', 'h'\u001b[0m, 'y', '%', 'r', '~', \u001b[41m'd', 'k\u001b[0m', 't', 's', 'y', '\\x0f', '\\x0e', 'r', '~', \u001b[41m'd', 'k\u001b[0m', 't', 's', 'y', '%', 'B', '%', 'u', '~', 'l', 'f', 'r', '\u001b[41mj', '3'\u001b[0m\u001b[41m, 'k\u001b[0m', 't', 's', 'y', '3', 'X', '~', 'x', 'K', 't', 's', 'y', '-', ',', 'y', 'n', 'r', 'j', 'x', '%', 's', 'j', '|', '%', 'w', 't', 'r', 'f', 's', ',', '1', '%', ':', '5', '.', '\\x0f', '\\x0e', '\\x0f', '\\x0e', '(', '%', 'h', 'w', 'j', 'f', 'y', 'n', 's', 'l', '%', 'f', '%', 'y', 'j', '}', 'y', '%', 'x', 'z', 'w', 'k', 'f', \u001b[41m'h', 'j',\u001b[0m '%', 't', 's', '%', '|', 'm', 'n', 'h', 'm', '%', 'y', 'j', '}', 'y', '\\x0f', '\\x0e', '(', '%', '|', 'n', '\u001b[41mq', 'q',\u001b[0m '%', 'g', 'j', '%', 'i', 'w', 'f', '|', 's', '\\x0f', '\\x0e', 'l', 'f', 'r', '\u001b[41mj', 'd'\u001b[0m, 't', '{', '\u001b[41mj', 'w', 'd'\u001b[0m, 'x', 'z', 'w', 'k', 'f', \u001b[41m'h', 'j',\u001b[0m '%', 'B', '%', 'r', '~', \u001b[41m'd', 'k\u001b[0m', 't', 's', 'y', '3', 'w', 'j', 's', 'i', 'j', 'w', '-', '\\x0f', '\\x0e', '\\x0e', ',', '^', 't', 'z', 'w', '%', 'X', 'h', 't', 'w', 'j', '%', 'n', 'x', '%', '?', '%', ',', '%', '0', '%', 'x', 'y', 'w', '-', 'x', 'h', 't', 'w', 'j', '.', '1', '%', 'Y', 'w', 'z', 'j', '1', '%', 'w', 'j', 'i', '.', '\\x0f', '\\x0e', '\\x0f', '\\x0e', '(', '%', 'h', 'w', 'j', 'f', 'y', 'j', '%', 'f', '%', 'w', '\u001b[41mj', 'h'\u001b[0m, 'y', 'f', 's', 'l', 'z', 'q', 'f', 'w', '%', 't', 'g', 'o', '\u001b[41mj', 'h'\u001b[0m, 'y', '%', 'k', 't', 'w', '%', 'y', 'm', 'j', '%', 'y', 'j', '}', 'y', '\\x0f', '\\x0e', '(', '%', 'x', 'z', 'w', 'k', 'f', \u001b[41m'h', 'j',\u001b[0m '%', 't', 'g', 'o', '\u001b[41mj', 'h'\u001b[0m, 'y', '\\x0f', '\\x0e', 'l', 'f', 'r', '\u001b[41mj', 'd'\u001b[0m, 't', '{', '\u001b[41mj', 'w', 'd'\u001b[0m, 'w', '\u001b[41mj', 'h'\u001b[0m, 'y', '%', 'B', '%', 'l', 'f', 'r', '\u001b[41mj', 'd'\u001b[0m, 't', '{', '\u001b[41mj', 'w', 'd'\u001b[0m, 'x', 'z', 'w', 'k', 'f', \u001b[41m'h', 'j',\u001b[0m\u001b[41m '3'\u001b[0m, 'l', '\u001b[41mj', 'y', 'd'\u001b[0m, 'w', '\u001b[41mj', 'h'\u001b[0m, 'y', '-', '.', '\\x0f', '\\x0e', '\\x0f', '\\x0e', '(', '%', 'x', 'j', 'y', 'y', 'n', 's', 'l', '%', 'u', 't', 'x', 'n', 'y', 'n', 't', 's', '%', 't', 'k', '%', 'y', 'm', 'j', '%', 'y', 'j', '}', 'y', '\\x0f', '\\x0e', 'l', 'f', 'r', '\u001b[41mj', 'd'\u001b[0m, 't', '{', '\u001b[41mj', 'w', 'd'\u001b[0m, 'w', '\u001b[41mj', 'h'\u001b[0m, 'y', '3', 'r', 'n', 'i', 'y', 't', 'u', '%', 'B', '%', '-', '|', 'n', 's', 'i', 't', '|', 'd', '}', '4', '7', '1', '%', '|', 'n', 's', 'i', 't', '|', 'd', '~', '4', '9', '.', '\\x0f', '\\x0e', '\\x0f', '\\x0e', '(', '%', 'g', 'q', 'n', 'y', '%', '|', 'n', '\u001b[41mq', 'q',\u001b[0m '%', 'i', 'w', 'f', '|', '%', 'y', 'm', 'j', '%', 'y', 'j', '}', 'y', '%', 't', 's', '%', 'x', 'h', 'w', '\u001b[41mj', 'j',\u001b[0m 's', '\\x0f', '\\x0e', 'l', 'f', 'r', '\u001b[41mj', 'd'\u001b[0m, '|', 'n', 's', 'i', 't', '|', '3', 'g', 'q', 'n', 'y', '-', 'l', 'f', 'r', '\u001b[41mj', 'd'\u001b[0m, 't', '{', '\u001b[41mj', 'w', 'd'\u001b[0m, 'x', 'z', 'w', 'k', 'f', \u001b[41m'h', 'j',\u001b[0m '1', '%', 'l', 'f', 'r', '\u001b[41mj', 'd'\u001b[0m, 't', '{', '\u001b[41mj', 'w', 'd'\u001b[0m, 'w', '\u001b[41mj', 'h'\u001b[0m, 'y', '.', '\\x0f', '\\x0e', 'u', '~', 'l', 'f', 'r', '\u001b[41mj', '3'\u001b[0m, 'i', 'n', 'x', '\u001b[41mu', 'q',\u001b[0m 'f', '~', \u001b[41m'3', 'k\u001b[0m\u001b[41m', 'q',\u001b[0m 'n', 'u', '-', '.', '\\x0f', '\\x0e', '\\x0f', '\\x0e', '(', '%', 'f', 'k', 'y', 'j', 'w', '%', '7', '%', 'x', '\u001b[41mj', 'h'\u001b[0m, 't', 's', 'i', 'x', '%', '|', 'j', '%', '|', 'n', '\u001b[41mq', 'q',\u001b[0m\u001b[41m '%', 'v'\u001b[0m, 'z', 'n', 'y', '%', 'y', 'm', 'j', '%', 'u', 'w', 't', 'l', 'w', 'f', 'r', '\\x0f', '\\x0e', 'y', 'n', 'r', '\u001b[41mj', '3'\u001b[0m, 'x', '\u001b[41mq', 'j',\u001b[0m\u001b[41m 'j',\u001b[0m\u001b[41m 'u',\u001b[0m '-', '7', '.', '\\x0f', '\\x0e', '\\x0f', '\\x0e', '(', '%', 'i', '\u001b[41mj', 'f', 'h'\u001b[0m, 'y', 'n', '{', 'f', 'y', 'n', 's', 'l', '%', 'u', '~', 'l', 'f', 'r', 'j', '%', 'q', 'n', 'g', 'w', 'f', 'w', '~', '\\x0f', '\\x0e', 'u', '~', 'l', 'f', 'r', '\u001b[41mj', '3'\u001b[0m\u001b[41m, 'v'\u001b[0m, 'z', 'n', 'y', '-', '.', '\\x0f', '\\x0e', '\\x0f', '\\x0e', '(', '%', 'v', 'z', 'n', 'y', '%', 'y', 'm', 'j', '%', 'u', 'w', 't', 'l', 'w', 'f', 'r', '\\x0f', '\\x0e', 'v', 'z', 'n', 'y', '-', '.', '\\\u001b[41mx0f', '\\x0f\u001b[0m\u001b[41m', '\\x0f\u001b[0m', '(', '%', 'R', 'f', 'n', 's', '%', 'K', 'z', 's', 'h', 'y', 'n', 't', 's', '\\x0f', '|', 'm', 'n', '\u001b[41mq', 'j',\u001b[0m '%', 'Y', 'w', 'z', 'j', '?', '\\x0f', '\\x0e', '\\x0f', '\\x0e', '(', '%', 'm', 'f', 's', 'i', 'q', 'n', 's', 'l', '%', 'p', 'j', '~', '%', 'j', '{', 'j', 's', 'y', 'x', '\\x0f', '\\x0e', 'k', 't', 'w', '%', 'j', '{', 'j', 's', 'y', '%', 'n', 's', '%', 'u', '~', 'l', 'f', 'r', '\u001b[41mj', '3'\u001b[0m\u001b[41m, 'j',\u001b[0m '{', 'j', 's', 'y', '3', 'l', 'j', 'y', '-', '.', '?', '\\x0f', '\\x0e', '\\x0e', 'n', 'k', '%', 'j', '{', 'j', 's', 'y', '3', 'y', '~', '\u001b[41mu', 'j',\u001b[0m '%', 'B', 'B', '%', 'u', '~', 'l', 'f', 'r', '\u001b[41mj', '3'\u001b[0m, 'P', 'J', '^', 'I', 'T', '\\\\', 'S', '?', '\\x0f', '\\x0e', '\\x0e', '\\x0e', 'n', 'k', '%', 'j', '{', 'j', 's', 'y', '3', 'p', 'j', '~', '%', 'B', 'B', '%', 'u', '~', 'l', 'f', 'r', '\u001b[41mj', '3'\u001b[0m, 'P', 'd', 'Z', 'U', '?', '\\x0f', '\\x0e', '\\x0e', '\\x0e', '\\x0e', 'h', 'm', 'f', 's', 'l', '\u001b[41mj', 'd'\u001b[0m, 'y', 't', '%', 'B', '%', ',', 'Z', 'U', ',', '\\x0f', '\\x0e', '\\x0e', '\\x0e', 'n', 'k', '%', 'j', '{', 'j', 's', 'y', '3', 'p', 'j', '~', '%', 'B', 'B', '%', 'u', '~', 'l', 'f', 'r', '\u001b[41mj', '3'\u001b[0m, 'P', 'd', 'I', 'T', '\\\\', 'S', '?', '\\x0f', '\\x0e', '\\x0e', '\\x0e', '\\x0e', 'h', 'm', 'f', 's', 'l', '\u001b[41mj', 'd'\u001b[0m, 'y', 't', '%', 'B', '%', ',', 'I', 'T', '\\\\', 'S', ',', '\\x0f', '\\x0e', '\\x0e', '\\x0e', 'n', 'k', '%', 'j', '{', 'j', 's', 'y', '3', 'p', 'j', '~', '%', 'B', 'B', '%', 'u', '~', 'l', 'f', 'r', '\u001b[41mj', '3'\u001b[0m, 'P', 'd', 'Q', 'J', 'K', 'Y', '?', '\\x0f', '\\x0e', '\\x0e', '\\x0e', '\\x0e', 'h', 'm', 'f', 's', 'l', '\u001b[41mj', 'd'\u001b[0m, 'y', 't', '%', 'B', '%', ',', 'Q', 'J', 'K', 'Y', ',', '\\x0f', '\\x0e', '\\x0e', '\\x0e', 'n', 'k', '%', 'j', '{', 'j', 's', 'y', '3', 'p', 'j', '~', '%', 'B', 'B', '%', 'u', '~', 'l', 'f', 'r', '\u001b[41mj', '3'\u001b[0m, 'P', 'd', 'W', 'N', 'L', 'M', 'Y', '?', '\\x0f', '\\x0e', '\\x0e', '\\x0e', '\\x0e', 'h', 'm', 'f', 's', 'l', '\u001b[41mj', 'd'\u001b[0m, 'y', 't', '%', 'B', '%', ',', 'W', 'N', 'L', 'M', 'Y', ',', '\\\u001b[41mx0f', '\\x0f\u001b[0m', '\\x0e', '(', '%', 'N', 'k', '%', 'y', '|', 't', '%', 'p', 'j', '~', 'x', '%', 'u', 'w', 'j', 'x', 'x', 'j', 'i', '%', 'x', 'n', 'r', 'z', 'q', 'y', 'f', 's', 'j', 't', 'z', 'x', 'q', '~', '\\x0f', '\\x0e', '(', '%', '|', 'j', '%', 'i', 't', 's', ',', 'y', '%', '|', 'f', 's', 'y', '%', 'x', 's', 'f', 'p', 'j', '%', 'y', 't', '%', 'r', 't', '{', 'j', '%', 'n', 's', 'y', 't', '%', 'y', '|', 't', '\\x0f', '\\x0e', '(', '%', 'i', 'n', 'w', '\u001b[41mj', 'h'\u001b[0m, 'y', 'n', 't', 's', 'x', '%', 'x', 'n', 'r', 'z', 'q', 'y', 'f', 's', 'j', 't', 'z', 'x', 'q', '~', '\\x0f', '\\x0e', 'n', 'k', '%', 'h', 'm', 'f', 's', 'l', '\u001b[41mj', 'd'\u001b[0m, 'y', 't', '%', 'B', 'B', '%', ',', 'Z', 'U', ',', '%', 'f', 's', 'i', '%', 'i', 'n', 'w', '\u001b[41mj', 'h'\u001b[0m, 'y', 'n', 't', 's', '%', '&', 'B', '%', ',', 'I', 'T', '\\\\', 'S', ',', '?', '\\x0f', '\\x0e', '\\x0e', 'i', 'n', 'w', '\u001b[41mj', 'h'\u001b[0m, 'y', 'n', 't', 's', '%', 'B', '%', ',', 'Z', 'U', ',', '\\x0f', '\\x0e', 'n', 'k', '%', 'h', 'm', 'f', 's', 'l', '\u001b[41mj', 'd'\u001b[0m, 'y', 't', '%', 'B', 'B', '%', ',', 'I', 'T', '\\\\', 'S', ',', '%', 'f', 's', 'i', '%', 'i', 'n', 'w', '\u001b[41mj', 'h'\u001b[0m, 'y', 'n', 't', 's', '%', '&', 'B', '%', ',', 'Z', 'U', ',', '?', '\\x0f', '\\x0e', '\\x0e', 'i', 'n', 'w', '\u001b[41mj', 'h'\u001b[0m, 'y', 'n', 't', 's', '%', 'B', '%', ',', 'I', 'T', '\\\\', 'S', ',', '\\x0f', '\\x0e', 'n', 'k', '%', 'h', 'm', 'f', 's', 'l', '\u001b[41mj', 'd'\u001b[0m, 'y', 't', '%', 'B', 'B', '%', ',', 'Q', 'J', 'K', 'Y', ',', '%', 'f', 's', 'i', '%', 'i', 'n', 'w', '\u001b[41mj', 'h'\u001b[0m, 'y', 'n', 't', 's', '%', '&', 'B', '%', ',', 'W', 'N', 'L', 'M', 'Y', ',', '?', '\\x0f', '\\x0e', '\\x0e', 'i', 'n', 'w', '\u001b[41mj', 'h'\u001b[0m, 'y', 'n', 't', 's', '%', 'B', '%', ',', 'Q', 'J', 'K', 'Y', ',', '\\x0f', '\\x0e', 'n', 'k', '%', 'h', 'm', 'f', 's', 'l', '\u001b[41mj', 'd'\u001b[0m, 'y', 't', '%', 'B', 'B', '%', ',', 'W', 'N', 'L', 'M', 'Y', ',', '%', 'f', 's', 'i', '%', 'i', 'n', 'w', '\u001b[41mj', 'h'\u001b[0m, 'y', 'n', 't', 's', '%', '&', 'B', '%', ',', 'Q', 'J', 'K', 'Y', ',', '?', '\\x0f', '\\x0e', '\\x0e', 'i', 'n', 'w', '\u001b[41mj', 'h'\u001b[0m, 'y', 'n', 't', 's', '%', 'B', '%', ',', 'W', 'N', 'L', 'M', 'Y', ',', '\\\u001b[41mx0f', '\\x0f\u001b[0m', '\\x0e', '(', '%', 'R', 't', '{', 'n', 's', 'l', '%', 'y', 'm', 'j', '%', 'x', 's', 'f', 'p', '\u001b[41mj', '\\x0f\u001b[0m', '\\x0e', 'n', 'k', '%', 'i', 'n', 'w', '\u001b[41mj', 'h'\u001b[0m, 'y', 'n', 't', 's', '%', 'B', 'B', '%', ',', 'Z', 'U', ',', '?', '\\x0f', '\\x0e', '\\x0e', 'x', 's', 'f', 'p', '\u001b[41mj', 'd'\u001b[0m\u001b[41m, 'u',\u001b[0m 't', 'x', 'n', 'y', 'n', 't', 's', '`', '6', 'b', '%', '2', 'B', '%', '6', '5', '\\x0f', '\\x0e', 'n', 'k', '%', 'i', 'n', 'w', '\u001b[41mj', 'h'\u001b[0m, 'y', 'n', 't', 's', '%', 'B', 'B', '%', ',', 'I', 'T', '\\\\', 'S', ',', '?', '\\x0f', '\\x0e', '\\x0e', 'x', 's', 'f', 'p', '\u001b[41mj', 'd'\u001b[0m\u001b[41m, 'u',\u001b[0m 't', 'x', 'n', 'y', 'n', 't', 's', '`', '6', 'b', '%', '0', 'B', '%', '6', '5', '\\x0f', '\\x0e', 'n', 'k', '%', 'i', 'n', 'w', '\u001b[41mj', 'h'\u001b[0m, 'y', 'n', 't', 's', '%', 'B', 'B', '%', ',', 'Q', 'J', 'K', 'Y', ',', '?', '\\x0f', '\\x0e', '\\x0e', 'x', 's', 'f', 'p', '\u001b[41mj', 'd'\u001b[0m\u001b[41m, 'u',\u001b[0m 't', 'x', 'n', 'y', 'n', 't', 's', '`', '5', 'b', '%', '2', 'B', '%', '6', '5', '\\x0f', '\\x0e', 'n', 'k', '%', 'i', 'n', 'w', '\u001b[41mj', 'h'\u001b[0m, 'y', 'n', 't', 's', '%', 'B', 'B', '%', ',', 'W', 'N', 'L', 'M', 'Y', ',', '?', '\\x0f', '\\x0e', '\\x0e', 'x', 's', 'f', 'p', '\u001b[41mj', 'd'\u001b[0m\u001b[41m, 'u',\u001b[0m 't', 'x', 'n', 'y', 'n', 't', 's', '`', '5', 'b', '%', '0', 'B', '%', '6', '5', '\\\u001b[41mx0f', '\\x0f\u001b[0m', '\\x0e', '(', '%', 'X', 's', 'f', 'p', 'j', '%', 'g', 't', 'i', '~', '%', 'l', 'w', 't', '|', 'n', 's', 'l', '%', 'r', '\u001b[41mj', 'h'\u001b[0m, 'm', 'f', 's', 'n', 'x', 'r', '\\x0f', '\\x0e', '(', '%', 'n', 'k', '%', 'k', 'w', 'z', 'n', 'y', 'x', '%', 'f', 's', 'i', '%', 'x', 's', 'f', 'p', 'j', 'x', '%', 'h', 't', '\u001b[41mq', 'q',\u001b[0m 'n', 'i', 'j', '%', 'y', 'm', 'j', 's', '%', 'x', 'h', 't', 'w', 'j', 'x', '\\x0f', '\\x0e', '(', '%', '|', 'n', '\u001b[41mq', 'q',\u001b[0m '%', 'g', 'j', '%', 'n', 's', 'h', 'w', 'j', 'r', 'j', 's', 'y', 'j', 'i', '%', 'g', '~', '%', '6', '5', '\\x0f', '\\x0e', 'x', 's', 'f', 'p', '\u001b[41mj', 'd'\u001b[0m, 'g', 't', 'i', '~', '3', 'n', 's', 'x', 'j', 'w', 'y', '-', '5', '1', '%', 'q', 'n', 'x', 'y', '-', 'x', 's', 'f', 'p', '\u001b[41mj', 'd'\u001b[0m\u001b[41m, 'u',\u001b[0m 't', 'x', 'n', 'y', 'n', 't', 's', '.', '.', '\\x0f', '\\x0e', 'n', 'k', '%', 'x', 's', 'f', 'p', '\u001b[41mj', 'd'\u001b[0m\u001b[41m, 'u',\u001b[0m 't', 'x', 'n', 'y', 'n', 't', 's', '`', '5', 'b', '%', 'B', 'B', '%', 'k', 'w', 'z', 'n', 'y', \u001b[41m'd', 'u',\u001b[0m 't', 'x', 'n', 'y', 'n', 't', 's', '`', '5', 'b', '%', 'f', 's', 'i', '%', 'x', 's', 'f', 'p', '\u001b[41mj', 'd'\u001b[0m\u001b[41m, 'u',\u001b[0m 't', 'x', 'n', 'y', 'n', 't', 's', '`', '6', 'b', '%', 'B', 'B', '%', 'k', 'w', 'z', 'n', 'y', \u001b[41m'd', 'u',\u001b[0m 't', 'x', 'n', 'y', 'n', 't', 's', '`', '6', 'b', '?', '\\x0f', '\\x0e', '\\x0e', 'x', 'h', 't', 'w', 'j', '%', '0', 'B', '%', '6', '5', '\\x0f', '\\x0e', '\\x0e', 'k', 'w', 'z', 'n', 'y', 'd', 'x', 'u', 'f', '|', 's', '%', 'B', '%', 'K', 'f', 'q', 'x', '\u001b[41mj', '\\x0f\u001b[0m', '\\x0e', '\u001b[41mj', 'q',\u001b[0m 'x', 'j', '?', '\\x0f', '\\x0e', '\\x0e', 'x', 's', 'f', 'p', '\u001b[41mj', 'd'\u001b[0m, 'g', 't', 'i', '~', \u001b[41m'3', 'u',\u001b[0m 't', 'u', '-', '.', '\\x0f', '\\x0e', '\\x0e', '\\x0f', '\\x0e', 'n', 'k', '%', 's', 't', 'y', '%', 'k', 'w', 'z', 'n', 'y', 'd', 'x', 'u', 'f', '|', 's', '?', '\\x0f', '\\x0e', '\\x0e', 'k', 'w', 'z', 'n', 'y', \u001b[41m'd', 'u',\u001b[0m 't', 'x', 'n', 'y', 'n', 't', 's', '%', 'B', '%', '`', 'w', 'f', 's', 'i', 't', 'r', '3', 'w', 'f', 's', 'i', 'w', 'f', 's', 'l', 'j', '-', '6', '1', '%', '-', '|', 'n', 's', 'i', 't', '|', 'd', '}', '4', '4', '6', '5', '.', '.', '%', '/', '%', '6', '5', '1', '\\x0f', '\\x0e', '\\x0e', '\\x0e', '\\x0e', '\\x0e', '\\x0e', 'w', 'f', 's', 'i', 't', 'r', '3', 'w', 'f', 's', 'i', 'w', 'f', 's', 'l', 'j', '-', '6', '1', '%', '-', '|', 'n', 's', 'i', 't', '|', 'd', '~', '4', '4', '6', '5', '.', '.', '%', '/', '%', '6', '5', 'b', '\\x0f', '\\x0e', '\\x0e', '\\x0f', '\\x0e', 'k', 'w', 'z', 'n', 'y', 'd', 'x', 'u', 'f', '|', 's', '%', 'B', '%', 'Y', 'w', 'z', '\u001b[41mj', '\\x0f\u001b[0m', '\\x0e', 'l', 'f', 'r', '\u001b[41mj', 'd'\u001b[0m, '|', 'n', 's', 'i', 't', '|', \u001b[41m'3', 'k\u001b[0m', 'n', '\u001b[41mq', 'q',\u001b[0m '-', 'g', '\u001b[41mq', 'f', 'h'\u001b[0m, 'p', '.', '\\x0f', '\\x0e', '\\x0f', '\\x0e', 'k', 't', 'w', '%', 'u', 't', 'x', '%', 'n', 's', '%', 'x', 's', 'f', 'p', '\u001b[41mj', 'd'\u001b[0m, 'g', 't', 'i', '~', '?', '\\x0f', '\\x0e', '\\x0e', 'u', '~', 'l', 'f', 'r', '\u001b[41mj', '3'\u001b[0m, 'i', 'w', 'f', '|', '3', 'w', '\u001b[41mj', 'h'\u001b[0m, 'y', '-', 'l', 'f', 'r', '\u001b[41mj', 'd'\u001b[0m, '|', 'n', 's', 'i', 't', '|', '1', '%', 'l', 'w', '\u001b[41mj', 'j',\u001b[0m 's', '1', '\\x0f', '\\x0e', '\\x0e', '\\x0e', '\\x0e', '\\x0e', '\\x0e', 'u', '~', 'l', 'f', 'r', '\u001b[41mj', '3'\u001b[0m, 'W', '\u001b[41mj', 'h'\u001b[0m, 'y', '-', 'u', 't', 'x', '`', '5', 'b', '1', '%', 'u', 't', 'x', '`', '6', 'b', '1', '%', '6', '5', '1', '%', '6', '5', '.', '.', '\\x0f', '\\x0e', 'u', '~', 'l', 'f', 'r', '\u001b[41mj', '3'\u001b[0m, 'i', 'w', 'f', '|', '3', 'w', '\u001b[41mj', 'h'\u001b[0m, 'y', '-', 'l', 'f', 'r', '\u001b[41mj', 'd'\u001b[0m, '|', 'n', 's', 'i', 't', '|', '1', '%', '|', 'm', 'n', 'y', 'j', '1', '%', 'u', '~', 'l', 'f', 'r', '\u001b[41mj', '3'\u001b[0m, 'W', '\u001b[41mj', 'h'\u001b[0m, 'y', '-', '\\x0f', '\\x0e', '\\x0e', 'k', 'w', 'z', 'n', 'y', \u001b[41m'd', 'u',\u001b[0m 't', 'x', 'n', 'y', 'n', 't', 's', '`', '5', 'b', '1', '%', 'k', 'w', 'z', 'n', 'y', \u001b[41m'd', 'u',\u001b[0m 't', 'x', 'n', 'y', 'n', 't', 's', '`', '6', 'b', '1', '%', '6', '5', '1', '%', '6', '5', '.', '.', '\\\u001b[41mx0f', '\\x0f\u001b[0m', '\\x0e', '(', '%', 'L', 'f', 'r', 'j', '%', 'T', '{', 'j', 'w', '%', 'h', 't', 's', 'i', 'n', 'y', 'n', 't', 's', 'x', '\\x0f', '\\x0e', 'n', 'k', '%', 'x', 's', 'f', 'p', '\u001b[41mj', 'd'\u001b[0m\u001b[41m, 'u',\u001b[0m 't', 'x', 'n', 'y', 'n', 't', 's', '`', '5', 'b', '%', 'A', '%', '5', '%', 't', 'w', '%', 'x', 's', 'f', 'p', '\u001b[41mj', 'd'\u001b[0m\u001b[41m, 'u',\u001b[0m 't', 'x', 'n', 'y', 'n', 't', 's', '`', '5', 'b', '%', 'C', '%', '|', 'n', 's', 'i', 't', '|', 'd', '}', '\u001b[41m2', '6',\u001b[0m '5', '?', '\\x0f', '\\x0e', '\\x0e', 'l', 'f', 'r', '\u001b[41mj', 'd'\u001b[0m, 't', '{', 'j', 'w', '-', '.', '\\x0f', '\\x0e', 'n', 'k', '%', 'x', 's', 'f', 'p', '\u001b[41mj', 'd'\u001b[0m\u001b[41m, 'u',\u001b[0m 't', 'x', 'n', 'y', 'n', 't', 's', '`', '6', 'b', '%', 'A', '%', '5', '%', 't', 'w', '%', 'x', 's', 'f', 'p', '\u001b[41mj', 'd'\u001b[0m\u001b[41m, 'u',\u001b[0m 't', 'x', 'n', 'y', 'n', 't', 's', '`', '6', 'b', '%', 'C', '%', '|', 'n', 's', 'i', 't', '|', 'd', '~', '\u001b[41m2', '6',\u001b[0m '5', '?', '\\x0f', '\\x0e', '\\x0e', 'l', 'f', 'r', '\u001b[41mj', 'd'\u001b[0m, 't', '{', 'j', 'w', '-', '.', '\\\u001b[41mx0f', '\\x0f\u001b[0m', '\\x0e', '(', '%', 'Y', 't', 'z', 'h', 'm', 'n', 's', 'l', '%', 'y', 'm', 'j', '%', 'x', 's', 'f', 'p', 'j', '%', 'g', 't', 'i', '~', '\\x0f', '\\x0e', 'k', 't', 'w', '%', 'g', '\u001b[41mq', 't', 'h'\u001b[0m, 'p', '%', 'n', 's', '%', 'x', 's', 'f', 'p', '\u001b[41mj', 'd'\u001b[0m, 'g', 't', 'i', '~', '`', '6', '?', 'b', '?', '\\x0f', '\\x0e', '\\x0e', 'n', 'k', '%', 'x', 's', 'f', 'p', '\u001b[41mj', 'd'\u001b[0m\u001b[41m, 'u',\u001b[0m 't', 'x', 'n', 'y', 'n', 't', 's', '`', '5', 'b', '%', 'B', 'B', '%', 'g', '\u001b[41mq', 't', 'h'\u001b[0m, 'p', '`', '5', 'b', '%', 'f', 's', 'i', '%', 'x', 's', 'f', 'p', '\u001b[41mj', 'd'\u001b[0m\u001b[41m, 'u',\u001b[0m 't', 'x', 'n', 'y', 'n', 't', 's', '`', '6', 'b', '%', 'B', 'B', '%', 'g', '\u001b[41mq', 't', 'h'\u001b[0m, 'p', '`', '6', 'b', '?', '\\x0f', '\\x0e', '\\x0e', '\\x0e', 'l', 'f', 'r', '\u001b[41mj', 'd'\u001b[0m, 't', '{', 'j', 'w', '-', '.', '\\\u001b[41mx0f', '\\x0f\u001b[0m', '\\x0e', '(', '%', 'i', 'n', 'x', '\u001b[41mu', 'q',\u001b[0m 'f', '~', 'n', 's', 'l', '%', 'x', 'h', 't', 'w', '\u001b[41mj', '%', 'h'\u001b[0m, 't', 's', 'y', 'n', 's', 'z', 't', 'z', 'x', 'q', '~', '\\x0f', '\\x0e', 'x', 'm', 't', '|', 'd', 'x', 'h', 't', 'w', 'j', '-', '6', '1', '%', '|', 'm', 'n', 'y', 'j', '1', '%', ',', 'y', 'n', 'r', 'j', 'x', '%', 's', 'j', '|', '%', 'w', 't', 'r', 'f', 's', ',', '1', '%', '7', '5', '.', '\\\u001b[41mx0f', '\\x0f\u001b[0m', '\\x0e', '(', '%', 'W', '\u001b[41mj', 'k\u001b[0m', 'w', 'j', 'x', 'm', '%', 'l', 'f', 'r', 'j', '%', 'x', 'h', 'w', '\u001b[41mj', 'j',\u001b[0m 's', '\\x0f', '\\x0e', 'u', '~', 'l', 'f', 'r', '\u001b[41mj', '3'\u001b[0m, 'i', 'n', 'x', '\u001b[41mu', 'q',\u001b[0m 'f', '~', '3', 'z', 'u', 'i', 'f', 'y', 'j', '-', '.', '\\\u001b[41mx0f', '\\x0f\u001b[0m', '\\x0e', '(', '%', 'K', 'w', 'f', 'r', 'j', '%', 'U', 'j', 'w', '%', 'X', '\u001b[41mj', 'h'\u001b[0m, 't', 's', 'i', '%', '4', 'W', '\u001b[41mj', 'k\u001b[0m', 'w', 'j', 'x', 'm', '%', 'W', 'f', 'y', '\u001b[41mj', '\\x0f\u001b[0m', '\\x0e',\u001b[41m 'k', 'u',\u001b[0m\u001b[41m 'x', '3'\u001b[0m, 'y', 'n', 'h', 'p', '-', 'x', 's', 'f', 'p', '\u001b[41mj', 'd'\u001b[0m, 'x', '\u001b[41mu', 'j',\u001b[0m\u001b[41m 'j',\u001b[0m 'i', '.', '\\\u001b[41mx0f']\n",
      "k\u001b[0mey =5\n",
      "exec(decrypt(cipher, key))\n"
     ]
    },
    {
     "data": {
      "text/plain": [
       "re.compile(r'(\\Wd\\W|2\\W\\W|\\W\\Wk|\\Wh\\W|6\\W\\W|\\Wad|\\Wv\\W|x0f|h\\W\\W|3\\W\\W|q\\W\\W|j\\W\\W|\\W9\\W|7\\W\\W|\\W3\\W|dd\\W|d\\W\\W|u\\W\\W|add|\\Wch)',\n",
       "           re.UNICODE)"
      ]
     },
     "execution_count": 38,
     "metadata": {},
     "output_type": "execute_result"
    }
   ],
   "source": [
    "hlgradsinsequence(filename, 20, True, False, True, 6)"
   ]
  },
  {
   "cell_type": "markdown",
   "id": "490e87c1",
   "metadata": {
    "papermill": {
     "duration": 0.030514,
     "end_time": "2024-04-15T15:48:05.754374",
     "exception": false,
     "start_time": "2024-04-15T15:48:05.723860",
     "status": "completed"
    },
    "tags": []
   },
   "source": [
    "### The above highlights the sequences with the top gradients *in the file*. What happens if we highlight the sequences in the file that are part of the top gradients overall?"
   ]
  },
  {
   "cell_type": "code",
   "execution_count": 39,
   "id": "5bc5cc69",
   "metadata": {
    "execution": {
     "iopub.execute_input": "2024-04-15T15:48:05.817673Z",
     "iopub.status.busy": "2024-04-15T15:48:05.817295Z",
     "iopub.status.idle": "2024-04-15T15:48:05.829244Z",
     "shell.execute_reply": "2024-04-15T15:48:05.828404Z"
    },
    "papermill": {
     "duration": 0.04612,
     "end_time": "2024-04-15T15:48:05.831371",
     "exception": false,
     "start_time": "2024-04-15T15:48:05.785251",
     "status": "completed"
    },
    "tags": []
   },
   "outputs": [],
   "source": [
    "def hloveralltopgrads(f, num, verbose, absolutevalue):\n",
    "    if num <= 0:\n",
    "        print(\"Error\")\n",
    "        return\n",
    "    with open(f) as file:\n",
    "        fil = file.read()\n",
    "    file = fileDeal(fil)\n",
    "    v = str(makeVector(file))\n",
    "    v = np.array(transformVector(v))\n",
    "    v = v.reshape(1, -1)\n",
    "    x = list(v) \n",
    "    x_t = tf.cast(x, tf.float32) #this line is necessary for the gradientTape to work\n",
    "    with tf.GradientTape() as t:\n",
    "        t.watch(x_t)\n",
    "        y = model(x_t)\n",
    "\n",
    "    dy_dx = t.jacobian(y, x_t)\n",
    "    global ar\n",
    "    ar = np.array(dy_dx) #ar is short for array\n",
    "    winner_class = 1\n",
    "    gradsdf = pd.DataFrame(dy_dx[0][winner_class][0])\n",
    "    if absolutevalue:\n",
    "        gradsdf[0] = gradsdf[0].apply(abs)\n",
    "    ranked = gradsdf.sort_values(by = 0, ascending = False)[:num]\n",
    "    ranked['idx'] = ranked.index #need this in order to be able to manipulate things\n",
    "    ranked['original str'] = ranked['idx'].apply(get_string_back)\n",
    "    sequences = list(ranked['original str'])\n",
    "    regexes = []\n",
    "    for seq in sequences:\n",
    "        regexes.append(regexpressionmaker(seq))\n",
    "    sep = '|'\n",
    "    regexes = sep.join(regexes)\n",
    "    regexes = '(' + regexes + ')'\n",
    "    regex = re.compile(regexes)\n",
    "    #this will highlight the sequences with the highest gradients in the input\n",
    "    if verbose:\n",
    "        print(re.sub(regex, Fore.RED+ r'\\1' + Fore.RESET, fil))\n",
    "    return regex"
   ]
  },
  {
   "cell_type": "code",
   "execution_count": 40,
   "id": "dbb3c50b",
   "metadata": {
    "execution": {
     "iopub.execute_input": "2024-04-15T15:48:05.895025Z",
     "iopub.status.busy": "2024-04-15T15:48:05.894600Z",
     "iopub.status.idle": "2024-04-15T15:48:05.910895Z",
     "shell.execute_reply": "2024-04-15T15:48:05.909716Z"
    },
    "papermill": {
     "duration": 0.051202,
     "end_time": "2024-04-15T15:48:05.913570",
     "exception": false,
     "start_time": "2024-04-15T15:48:05.862368",
     "status": "completed"
    },
    "tags": []
   },
   "outputs": [],
   "source": [
    "def overalltopgradsinseq(f, num, verbose, absolutevalue, k):\n",
    "    if num <= 0:\n",
    "        print(\"Error\")\n",
    "        return\n",
    "    with open(f) as file:\n",
    "        fil = file.read()\n",
    "    file = fileDeal(fil)\n",
    "    v = str(makeVector(file))\n",
    "    v = np.array(transformVector(v))\n",
    "    v = v.reshape(1, -1)\n",
    "    x = list(v) \n",
    "    x_t = tf.cast(x, tf.float32) #this line is necessary for the gradientTape to work\n",
    "    with tf.GradientTape() as t:\n",
    "        t.watch(x_t)\n",
    "        y = model(x_t)\n",
    "\n",
    "    dy_dx = t.jacobian(y, x_t)\n",
    "    global ar\n",
    "    ar = np.array(dy_dx) #ar is short for array\n",
    "    winner_class = 1\n",
    "    gradsdf = pd.DataFrame(dy_dx[0][winner_class][0])\n",
    "    if absolutevalue:\n",
    "        gradsdf[0] = gradsdf[0].apply(abs)\n",
    "    ranked = gradsdf.sort_values(by = 0, ascending = False)[:num]\n",
    "    ranked['idx'] = ranked.index #need this in order to be able to manipulate things\n",
    "    ranked['original str'] = ranked['idx'].apply(get_string_back)\n",
    "    sequences = list(ranked['original str'])\n",
    "    regexes = []\n",
    "    for seq in sequences:\n",
    "        regexes.append(regexpressionmaker(seq))\n",
    "    sep = '|'\n",
    "    regexes = sep.join(regexes)\n",
    "    regexes = '(' + regexes + ')'\n",
    "    regex = re.compile(regexes)\n",
    "    matches = re.finditer(regex, fil)\n",
    "    new_pairs = []\n",
    "    first = True\n",
    "    #this only keeps matches that are within k distance of another match\n",
    "    for i in matches:\n",
    "        sp = i.span()\n",
    "        if (not first) and (sp[0] <= pre_sp[1] + k):\n",
    "            new_pairs.append((pre_sp, sp))\n",
    "        pre_sp = sp\n",
    "        first = False\n",
    "\n",
    "    if verbose:\n",
    "        #initialize variables\n",
    "        last = 0\n",
    "        \n",
    "        for p in new_pairs: \n",
    "            print(fil[last:p[0][0]], end=\"\")\n",
    "            print(Back.RED, end='')\n",
    "            print(fil[max(last, p[0][0]):p[1][1]], end='')\n",
    "            last = p[1][1]\n",
    "            print(Style.RESET_ALL, end='')\n",
    "        print(fil[last:])\n",
    "    return regex"
   ]
  },
  {
   "cell_type": "code",
   "execution_count": 41,
   "id": "78b54944",
   "metadata": {
    "execution": {
     "iopub.execute_input": "2024-04-15T15:48:05.978967Z",
     "iopub.status.busy": "2024-04-15T15:48:05.978111Z",
     "iopub.status.idle": "2024-04-15T15:48:06.219170Z",
     "shell.execute_reply": "2024-04-15T15:48:06.218058Z"
    },
    "papermill": {
     "duration": 0.278139,
     "end_time": "2024-04-15T15:48:06.222815",
     "exception": false,
     "start_time": "2024-04-15T15:48:05.944676",
     "status": "completed"
    },
    "scrolled": true,
    "tags": []
   },
   "outputs": [
    {
     "name": "stdout",
     "output_type": "stream",
     "text": [
      "\n",
      "def decrypt(f, k):\n",
      "            decrypted = \"\"\n",
      "            for i in f:\n",
      "                \u001b[31mj =\u001b[39m in\u001b[31mt(i\u001b[39m/k)\n",
      "                decrypted += chr(\u001b[31mj)\n",
      "\u001b[39m            return decrypted\n",
      "        \n",
      "cipher = [210, 218,\u001b[31m 22\u001b[39m4,\u001b[31m 22\u001b[39m2,\u001b[31m 22\u001b[39m8, 232, 64,\u001b[31m 22\u001b[39m2, 230, 20, 210, 218,\u001b[31m 22\u001b[39m4,\u001b[31m 22\u001b[39m2,\u001b[31m 22\u001b[39m8, 232, 64,\u001b[31m 22\u001b[39m8,\u001b[31m 19\u001b[39m4,\u001b[31m 22\u001b[39m0, 200,\u001b[31m 22\u001b[39m2, 218, 20, 200, 202, 204, 64, 208,\u001b[31m 19\u001b[39m4,\u001b[31m 22\u001b[39m0, 206, 218,\u001b[31m 19\u001b[39m4,\u001b[31m 22\u001b[39m0, 80, 238,\u001b[31m 22\u001b[39m2,\u001b[31m 22\u001b[39m8, 200, 88, 64, 238,\u001b[31m 22\u001b[39m8,\u001b[31m 22\u001b[39m2,\u001b[31m 22\u001b[39m0, 206, 230, 88, 64,\u001b[31m 22\u001b[39m8, 210, 206, 208, 232, 230, 88, 64, 216, 202, 232, 232, 202,\u001b[31m 22\u001b[39m8, 230, 82, 116, 20, 64, 64, 64, 64, 210, 204, 64, 238,\u001b[31m 22\u001b[39m8,\u001b[31m 22\u001b[39m2,\u001b[31m 22\u001b[39m0, 206, 230, 124, 96, 116, 20, 64, 64, 64, 64, 64, 64, 64, 64,\u001b[31m 22\u001b[39m4,\u001b[31m 22\u001b[39m8, 210,\u001b[31m 22\u001b[39m0, 232, 80, 68, 1\u001b[31m46,\u001b[39m\u001b[31m 22\u001b[39m0,\u001b[31m 19\u001b[39m8,\u001b[31m 22\u001b[39m2,\u001b[31m 22\u001b[39m8,\u001b[31m 22\u001b[39m8, 202,\u001b[31m 19\u001b[39m8, 232, 64, 206, 234, 202, 230, 230, 202, 230, 116, 64, 68, 88, 64, 216, 202, 232, 232, 202,\u001b[31m 22\u001b[39m8, 230, 82, 20, 64, 64, 64, 64\u001b[31m, 7\u001b[39m0\u001b[31m, 7\u001b[39m0, 218,\u001b[31m 19\u001b[39m4, 214, 202, 64, 232, 208, 202, 64,\u001b[31m 22\u001b[39m0,\u001b[31m 22\u001b[39m2,\u001b[31m 22\u001b[39m2, 230, 202, 94, 208,\u001b[31m 19\u001b[39m4,\u001b[31m 22\u001b[39m0, 206, 218,\u001b[31m 19\u001b[39m4,\u001b[31m 22\u001b[39m0, 20, 64, 64, 64, 64,\u001b[31m 22\u001b[39m4,\u001b[31m 22\u001b[39m8, 210,\u001b[31m 22\u001b[39m0, 232, 80, 68, 64, 64,\u001b[31m 19\u001b[39m0,\u001b[31m 19\u001b[39m0,\u001b[31m 19\u001b[39m0,\u001b[31m 19\u001b[39m0,\u001b[31m 19\u001b[39m0,\u001b[31m 19\u001b[39m0,\u001b[31m 19\u001b[39m0,\u001b[31m 19\u001b[39m0,\u001b[31m 19\u001b[39m0,\u001b[31m 19\u001b[39m0,\u001b[31m 19\u001b[39m0,\u001b[31m 19\u001b[39m0,\u001b[31m 19\u001b[39m0,\u001b[31m 19\u001b[39m0,\u001b[31m 19\u001b[39m0,\u001b[31m 19\u001b[39m0,\u001b[31m 19\u001b[39m0,\u001b[31m 19\u001b[39m0,\u001b[31m 18\u001b[39m4,\u001b[31m 22\u001b[39m0, 64, 248, 64, 64, 64, 64, 64, 64, 64, 64, 64, 64, 64, 64, 64, 64, 64, 64, 64, 64, 248,\u001b[31m 18\u001b[39m4,\u001b[31m 22\u001b[39m0, 64, 248, 64, 64, 64, 64, 64, 64, 64, 64, 64, 64, 64, 64, 64, 64, 64, 64, 64, 64, 248, 68, 82, 20, 64, 64, 64, 64, 210, 204, 64, 238,\u001b[31m 22\u001b[39m8,\u001b[31m 22\u001b[39m2,\u001b[31m 22\u001b[39m0, 206, 230, 124, 96, 116, 20, 64, 64, 64, 64, 64, 64, 64, 64,\u001b[31m 22\u001b[39m4,\u001b[31m 22\u001b[39m8, 210,\u001b[31m 22\u001b[39m0, 232, 80, 68, 64, 248, 64, 64, 64, 64, 64, 64, 64, 64, 64, 64, 64, 64, 64, 64, 64, 64, 64, 64, 158, 68, 82, 20, 64, 64, 64, 64, 210, 204, 64, 238,\u001b[31m 22\u001b[39m8,\u001b[31m 22\u001b[39m2,\u001b[31m 22\u001b[39m0, 206, 230, 124, 98, 64,\u001b[31m 19\u001b[39m4,\u001b[31m 22\u001b[39m0, 200, 64, 238,\u001b[31m 22\u001b[39m8,\u001b[31m 22\u001b[39m2,\u001b[31m 22\u001b[39m0, 206, 230, 120, 106, 116, 20, 64, 64, 64, 64, 64, 64, 64, 64,\u001b[31m 22\u001b[39m4,\u001b[31m 22\u001b[39m8, 210,\u001b[31m 22\u001b[39m0, 232, 80, 68, 64, 248, 64, 64, 64, 64, 64, 64, 64, 64, 64, 64, 64, 64, 64, 64, 64, 64, 64, 64, 248, 68, 82, 20, 64, 64, 64, 64, 210, 204, 64, 238,\u001b[31m 22\u001b[39m8,\u001b[31m 22\u001b[39m2,\u001b[31m 22\u001b[39m0, 206, 230, 122, 122, 106, 116, 20, 64, 64, 64, 64, 64, 64, 64, 64,\u001b[31m 22\u001b[39m4,\u001b[31m 22\u001b[39m8, 210,\u001b[31m 22\u001b[39m0, 232, 80, 68, 64, 248, 64, 64, 64, 64, 64, 64, 64, 64, 64, 64, 64, 64, 64, 64, 64, 64, 64, 94, 248, 68, 82, 20, 64, 64, 64, 64, 210, 204, 64, 238,\u001b[31m 22\u001b[39m8,\u001b[31m 22\u001b[39m2,\u001b[31m 22\u001b[39m0, 206, 230, 122, 122, 108, 116, 20, 64, 64, 64, 64, 64, 64, 64, 64,\u001b[31m 22\u001b[39m4,\u001b[31m 22\u001b[39m8, 210,\u001b[31m 22\u001b[39m0, 232, 80, 68, 64, 248, 64, 64, 64, 64, 64, 64, 64, 64, 64, 64, 64, 64, 64, 64, 64, 64, 64, 94, 248,\u001b[31m 18\u001b[39m4, 64, 68, 82, 20, 64, 64, 64, 64, 210, 204, 64, 238,\u001b[31m 22\u001b[39m8,\u001b[31m 22\u001b[39m2,\u001b[31m 22\u001b[39m0, 206, 230, 122, 122, 102, 116, 20, 64, 64, 64, 64, 64, 64, 64, 64,\u001b[31m 22\u001b[39m4,\u001b[31m 22\u001b[39m8, 210,\u001b[31m 22\u001b[39m0, 232, 80, 68, 64, 248, 64, 64, 64, 64, 64, 64, 64, 64, 64, 64, 64, 64, 64, 64, 64, 64, 64, 94, 68, 82, 20, 64, 64, 64, 64, 210, 204, 64, 238,\u001b[31m 22\u001b[39m8,\u001b[31m 22\u001b[39m2,\u001b[31m 22\u001b[39m0, 206, 230, 124, 102, 116, 20, 64, 64, 64, 64, 64, 64, 64, 64,\u001b[31m 22\u001b[39m4,\u001b[31m 22\u001b[39m8, 210,\u001b[31m 22\u001b[39m0, 232, 80, 68, 64, 248, 64, 64, 64, 64, 64, 64, 64, 64, 64, 64, 64, 64, 64, 64, 64, 64, 64, 94, 64,\u001b[31m 18\u001b[39m4, 64, 68, 82, 20, 64, 64, 64, 64, 210, 204, 64, 238,\u001b[31m 22\u001b[39m8,\u001b[31m 22\u001b[39m2,\u001b[31m 22\u001b[39m0, 206, 230, 124, 122, 102, 116, 20, 64, 64, 64, 64, 64, 64, 64, 64,\u001b[31m 22\u001b[39m4,\u001b[31m 22\u001b[39m8, 210,\u001b[31m 22\u001b[39m0, 232, 80, 68, 64, 248,\u001b[31m 18\u001b[39m4,\u001b[31m 22\u001b[39m0, 64, 248,\u001b[31m 18\u001b[39m4,\u001b[31m 22\u001b[39m0, 64, 248, 68, 82, 20, 64, 64, 64, 64, 210, 204, 64, 238,\u001b[31m 22\u001b[39m8,\u001b[31m 22\u001b[39m2,\u001b[31m 22\u001b[39m0, 206, 230, 122, 122, 100, 116, 20, 64, 64, 64, 64, 64, 64, 64, 64,\u001b[31m 22\u001b[39m4,\u001b[31m 22\u001b[39m8, 210,\u001b[31m 22\u001b[39m0, 232, 80, 68, 64, 248,\u001b[31m 18\u001b[39m4,\u001b[31m 22\u001b[39m0, 64, 248,\u001b[31m 18\u001b[39m4,\u001b[31m 22\u001b[39m0, 64, 248,\u001b[31m 18\u001b[39m4,\u001b[31m 22\u001b[39m0, 64, 248, 68, 82, 20, 64, 64, 64, 64, 210, 204, 64, 238,\u001b[31m 22\u001b[39m8,\u001b[31m 22\u001b[39m2,\u001b[31m 22\u001b[39m0, 206, 230, 64, 122, 122, 64, 98, 116, 20, 64, 64, 64, 64, 64, 64, 64, 64,\u001b[31m 22\u001b[39m4,\u001b[31m 22\u001b[39m8, 210,\u001b[31m 22\u001b[39m0, 232, 80, 68, 64, 248,\u001b[31m 18\u001b[39m4,\u001b[31m 22\u001b[39m0, 64, 248,\u001b[31m 18\u001b[39m4,\u001b[31m 22\u001b[39m0, 64, 248,\u001b[31m 18\u001b[39m4,\u001b[31m 22\u001b[39m0, 64, 248,\u001b[31m 18\u001b[39m4,\u001b[31m 22\u001b[39m0, 64, 248, 68, 82, 20, 64, 64, 64, 64, 210, 204, 64, 238,\u001b[31m 22\u001b[39m8,\u001b[31m 22\u001b[39m2,\u001b[31m 22\u001b[39m0, 206, 230, 64, 122, 122, 96, 116, 20, 64, 64, 64, 64, 64, 64, 64, 64,\u001b[31m 22\u001b[39m4,\u001b[31m 22\u001b[39m8, 210,\u001b[31m 22\u001b[39m0, 232, 80, 68, 64, 248,\u001b[31m 18\u001b[39m4,\u001b[31m 22\u001b[39m0, 64, 248,\u001b[31m 18\u001b[39m4,\u001b[31m 22\u001b[39m0, 64, 248,\u001b[31m 18\u001b[39m4,\u001b[31m 22\u001b[39m0, 64, 248,\u001b[31m 18\u001b[39m4,\u001b[31m 22\u001b[39m0, 64, 248,\u001b[31m 18\u001b[39m4,\u001b[31m 22\u001b[39m0, 64, 248, 68, 82, 20, 64, 64, 64, 64,\u001b[31m 22\u001b[39m4,\u001b[31m 22\u001b[39m8, 210,\u001b[31m 22\u001b[39m0, 232, 80, 68,\u001b[31m 19\u001b[39m0,\u001b[31m 19\u001b[39m0,\u001b[31m 19\u001b[39m0, 68, 82, 20, 64, 64, 64, 64\u001b[31m, 7\u001b[39m0\u001b[31m, 7\u001b[39m0, 218,\u001b[31m 19\u001b[39m4, 214, 202, 64, 232, 208, 202, 64,\u001b[31m 19\u001b[39m6, 216,\u001b[31m 19\u001b[39m4,\u001b[31m 22\u001b[39m0, 214, 230, 94, 204, 210, 216, 216, 64, 210,\u001b[31m 22\u001b[39m0, 64, 238, 208, 202,\u001b[31m 22\u001b[39m8, 202, 64,\u001b[31m 22\u001b[39m0, 202, 202, 200, 202, 200, 20, 64, 64, 64, 64, 232,\u001b[31m 22\u001b[39m2,\u001b[31m 22\u001b[39m4,\u001b[31m 22\u001b[39m8, 210,\u001b[31m 22\u001b[39m0, 232, 64, 122, 64, 68, 64, 64, 64, 64, 64, 64, 64, 68, 20, 64, 64, 64, 64, 204,\u001b[31m 22\u001b[39m2,\u001b[31m 22\u001b[39m8, 64, 210, 64, 210,\u001b[31m 22\u001b[39m0, 64, 238,\u001b[31m 22\u001b[39m2,\u001b[31m 22\u001b[39m8, 200, 116, 20, 64, 64, 64, 64, 64, 64, 64, 64, 210, 204, 64, 210, 64, 210,\u001b[31m 22\u001b[39m0, 64,\u001b[31m 22\u001b[39m8, 210, 206, 208, 232, 230, 116, 20, 64, 64, 64, 64, 64, 64, 64, 64, 64, 64, 64, 64, 232,\u001b[31m 22\u001b[39m2,\u001b[31m 22\u001b[39m4,\u001b[31m 22\u001b[39m8, 210,\u001b[31m 22\u001b[39m0, 232, 86, 122, 64, 210, 20, 64, 64, 64, 64, 64, 64, 64, 64, 202, 216, 230, 202, 116, 20, 64, 64, 64, 64, 64, 64, 64, 64, 64, 64, 64, 64, 232,\u001b[31m 22\u001b[39m2,\u001b[31m 22\u001b[39m4,\u001b[31m 22\u001b[39m8, 210,\u001b[31m 22\u001b[39m0, 232, 86, 122, 68,\u001b[31m 19\u001b[39m0, 68, 20, 64, 64, 64, 64, 64, 64, 64, 64, 232,\u001b[31m 22\u001b[39m2,\u001b[31m 22\u001b[39m4,\u001b[31m 22\u001b[39m8, 210,\u001b[31m 22\u001b[39m0, 232, 86, 122, 68, 64, 68, 20, 64, 64, 64, 64,\u001b[31m 22\u001b[39m4,\u001b[31m 22\u001b[39m8, 210,\u001b[31m 22\u001b[39m0, 232, 80, 232,\u001b[31m 22\u001b[39m2,\u001b[31m 22\u001b[39m4,\u001b[31m 22\u001b[39m8, 210,\u001b[31m 22\u001b[39m0, 232, 82, 20, 216, 202, 232, 232, 202,\u001b[31m 22\u001b[39m8, 230, 122, 68, 68, 64\u001b[31m, 7\u001b[39m0\u001b[31m, 7\u001b[39m0, 232, 208, 202, 64, 210,\u001b[31m 22\u001b[39m0,\u001b[31m 19\u001b[39m8,\u001b[31m 22\u001b[39m2,\u001b[31m 22\u001b[39m8,\u001b[31m 22\u001b[39m8, 202,\u001b[31m 19\u001b[39m8, 232, 64, 206, 234, 202, 230, 230, 202, 230, 20,\u001b[31m 22\u001b[39m8, 210, 206, 208, 232, 230, 64, 122, 64,\u001b[31m 18\u001b[39m2,\u001b[31m 18\u001b[39m6, 64\u001b[31m, 7\u001b[39m0\u001b[31m, 7\u001b[39m0, 232, 208, 202, 64,\u001b[31m 19\u001b[39m8,\u001b[31m 22\u001b[39m2,\u001b[31m 22\u001b[39m8,\u001b[31m 22\u001b[39m8, 202,\u001b[31m 19\u001b[39m8, 232, 64, 206, 234, 202, 230, 230, 202, 230, 20, 206, 234, 202, 230, 230, 202, 230, 122, 96, 64\u001b[31m, 7\u001b[39m0\u001b[31m, 7\u001b[39m0, 232, 208, 202, 64,\u001b[31m 22\u001b[39m0, 234, 218,\u001b[31m 19\u001b[39m6, 202,\u001b[31m 22\u001b[39m8, 64,\u001b[31m 22\u001b[39m2, 204, 64, 210,\u001b[31m 22\u001b[39m0,\u001b[31m 19\u001b[39m8,\u001b[31m 22\u001b[39m2,\u001b[31m 22\u001b[39m8,\u001b[31m 22\u001b[39m8, 202,\u001b[31m 19\u001b[39m8, 232, 64, 206, 234, 202, 230, 230, 202, 230, 20, 238,\u001b[31m 22\u001b[39m2,\u001b[31m 22\u001b[39m0, 122, 140,\u001b[31m 19\u001b[39m4, 216, 230, 202, 20,\u001b[31m 22\u001b[39m4,\u001b[31m 22\u001b[39m8, 210,\u001b[31m 22\u001b[39m0, 232, 80, 68, 174, 202, 216,\u001b[31m 19\u001b[39m8,\u001b[31m 22\u001b[39m2, 218, 202, 64, 232,\u001b[31m 22\u001b[39m2, 64, 208,\u001b[31m 19\u001b[39m4,\u001b[31m 22\u001b[39m0, 206, 218,\u001b[31m 19\u001b[39m4,\u001b[31m 22\u001b[39m0, 66, 68, 82, 20, 20, 20, 20, 238,\u001b[31m 22\u001b[39m2,\u001b[31m 22\u001b[39m8, 200, 64, 122, 64, 210,\u001b[31m 22\u001b[39m0,\u001b[31m 22\u001b[39m4, 234, 232, 80, 68, 160, 216,\u001b[31m 19\u001b[39m4, 242, 202,\u001b[31m 22\u001b[39m8, 64, 98, 88, 64, 210,\u001b[31m 22\u001b[39m0,\u001b[31m 22\u001b[39m4, 234, 232, 64, 242,\u001b[31m 22\u001b[39m2, 234,\u001b[31m 22\u001b[39m8, 64, 238,\u001b[31m 22\u001b[39m2,\u001b[31m 22\u001b[39m8, 200, 116,\u001b[31m 18\u001b[39m4,\u001b[31m 22\u001b[39m0, 68, 82, 20,\u001b[31m 22\u001b[39m2, 230, 92, 230, 242, 230, 232, 202, 218, 80, 68,\u001b[31m 19\u001b[39m8, 216, 202,\u001b[31m 19\u001b[39m4,\u001b[31m 22\u001b[39m8, 68, 82, 64, 20, 20, 20, 20, 238, 208, 210, 216, 202, 64,\u001b[31m 22\u001b[39m0,\u001b[31m 22\u001b[39m2, 232, 80, 238,\u001b[31m 22\u001b[39m2,\u001b[31m 22\u001b[39m0, 82, 64,\u001b[31m 19\u001b[39m4,\u001b[31m 22\u001b[39m0, 200, 64, 206, 234, 202, 230, 230, 202, 230, 120, 108, 116, 20, 64, 64, 64, 64, 208,\u001b[31m 19\u001b[39m4,\u001b[31m 22\u001b[39m0, 206, 218,\u001b[31m 19\u001b[39m4,\u001b[31m 22\u001b[39m0, 80, 238,\u001b[31m 22\u001b[39m2,\u001b[31m 22\u001b[39m8, 200, 88, 206, 234, 202, 230, 230, 202, 230, 88,\u001b[31m 22\u001b[39m8, 210, 206, 208, 232, 230, 88, 216, 202, 232, 232, 202,\u001b[31m 22\u001b[39m8, 230, 82, 20, 64, 64, 64, 64, 206, 234, 202, 230, 230, 64, 122, 64, 210,\u001b[31m 22\u001b[39m0,\u001b[31m 22\u001b[39m4, 234, 232, 80, 68, 160, 216,\u001b[31m 19\u001b[39m4, 242, 202,\u001b[31m 22\u001b[39m8, 64, 100, 88, 64, 206, 234, 202, 230, 230, 64,\u001b[31m 19\u001b[39m4, 64, 216, 202, 232, 232, 202,\u001b[31m 22\u001b[39m8, 116,\u001b[31m 18\u001b[39m4,\u001b[31m 22\u001b[39m0, 68, 82, 20, 64, 64, 64, 64, 210, 204, 64, 206, 234, 202, 230, 230, 64, 210,\u001b[31m 22\u001b[39m0, 64, 238,\u001b[31m 22\u001b[39m2,\u001b[31m 22\u001b[39m8, 200, 116, 20, 64, 64, 64, 64, 64, 64, 64, 64,\u001b[31m 22\u001b[39m8, 210, 206, 208, 232, 230, 86, 122, 206, 234, 202, 230, 230, 20, 64, 64, 64, 64, 202, 216, 230, 202, 116, 20, 64, 64, 64, 64, 64, 64, 64, 64, 216, 202, 232, 232, 202,\u001b[31m 22\u001b[39m8, 230, 86, 122, 206, 234, 202, 230, 230, 20, 64, 64, 64, 64, 64, 64, 64, 64, 206, 234, 202, 230, 230, 202, 230, 86, 122, 98, 20, 64, 64, 64, 64, 238,\u001b[31m 22\u001b[39m2,\u001b[31m 22\u001b[39m0, 64, 122, 64, 168,\u001b[31m 22\u001b[39m8, 234, 202, 20, 64, 64, 64, 64, 204,\u001b[31m 22\u001b[39m2,\u001b[31m 22\u001b[39m8, 64, 210, 64, 210,\u001b[31m 22\u001b[39m0, 64, 238,\u001b[31m 22\u001b[39m2,\u001b[31m 22\u001b[39m8, 200, 116, 20, 64, 64, 64, 64, 64, 64, 64, 64, 210, 204, 64,\u001b[31m 22\u001b[39m0,\u001b[31m 22\u001b[39m2, 232, 80, 210, 64, 210,\u001b[31m 22\u001b[39m0, 64,\u001b[31m 22\u001b[39m8, 210, 206, 208, 232, 230, 82, 116, 20, 64, 64, 64, 64, 64, 64, 64, 64, 64, 64, 64, 64, 238,\u001b[31m 22\u001b[39m2,\u001b[31m 22\u001b[39m0, 64, 122, 64, 140,\u001b[31m 19\u001b[39m4, 216, 230, 202, 20, 64, 64, 64, 64,\u001b[31m 22\u001b[39m2, 230, 92, 230, 242, 230, 232, 202, 218, 80, 68,\u001b[31m 19\u001b[39m8, 216, 202,\u001b[31m 19\u001b[39m4,\u001b[31m 22\u001b[39m8, 68, 82, 20, 210, 204, 64, 238,\u001b[31m 22\u001b[39m2,\u001b[31m 22\u001b[39m0, 116, 20, 64, 64, 64, 64, 208,\u001b[31m 19\u001b[39m4,\u001b[31m 22\u001b[39m0, 206, 218,\u001b[31m 19\u001b[39m4,\u001b[31m 22\u001b[39m0, 80, 238,\u001b[31m 22\u001b[39m2,\u001b[31m 22\u001b[39m8, 200, 88, 206, 234, 202, 230, 230, 202, 230, 88,\u001b[31m 22\u001b[39m8, 210, 206, 208, 232, 230, 88, 216, 202, 232, 232, 202,\u001b[31m 22\u001b[39m8, 230, 82, 20, 64, 64, 64, 64,\u001b[31m 22\u001b[39m4,\u001b[31m 22\u001b[39m8, 210,\u001b[31m 22\u001b[39m0, 232, 80, 68, 160, 216,\u001b[31m 19\u001b[39m4, 242, 202,\u001b[31m 22\u001b[39m8, 64, 100, 64, 238,\u001b[31m 22\u001b[39m2,\u001b[31m 22\u001b[39m0, 66, 68, 82, 20, 202, 216, 230, 202, 116, 20, 64, 64, 64, 64, 208,\u001b[31m 19\u001b[39m4,\u001b[31m 22\u001b[39m0, 206, 218,\u001b[31m 19\u001b[39m4,\u001b[31m 22\u001b[39m0, 80, 238,\u001b[31m 22\u001b[39m2,\u001b[31m 22\u001b[39m8, 200, 88, 206, 234, 202, 230, 230, 202, 230, 88,\u001b[31m 22\u001b[39m8, 210, 206, 208, 232, 230, 88, 216, 202, 232, 232, 202,\u001b[31m 22\u001b[39m8, 230, 82, 20, 64, 64, 64, 64,\u001b[31m 22\u001b[39m4,\u001b[31m 22\u001b[39m8, 210,\u001b[31m 22\u001b[39m0, 232, 80, 68, 178,\u001b[31m 22\u001b[39m2, 234, 64, 216,\u001b[31m 22\u001b[39m2, 230, 232, 92, 64, 168, 208, 202, 64, 238,\u001b[31m 22\u001b[39m2,\u001b[31m 22\u001b[39m8, 200, 64, 238,\u001b[31m 19\u001b[39m4, 230, 68, 88, 64, 238,\u001b[31m 22\u001b[39m2,\u001b[31m 22\u001b[39m8, 200, 82, 20, 20, 20, 20, 20, 20, 20, 20, 20, 20]\n",
      "key =2\n",
      "exec(decrypt(cipher, key))\n"
     ]
    },
    {
     "data": {
      "text/plain": [
       "re.compile(r'(448|222|\\W40|693|j\\W\\W|\\W18|\\W\\W7|\\W28|040|400|\\W91|t\\Wi|\\W22|\\W89|150|468|408|\\W19|46\\W|252)',\n",
       "           re.UNICODE)"
      ]
     },
     "execution_count": 41,
     "metadata": {},
     "output_type": "execute_result"
    }
   ],
   "source": [
    "filename = '/kaggle/input/script2algo2/script2algo2key1.py'\n",
    "hloveralltopgrads(filename, 20, True, False)"
   ]
  },
  {
   "cell_type": "code",
   "execution_count": 42,
   "id": "e7d28f3e",
   "metadata": {
    "execution": {
     "iopub.execute_input": "2024-04-15T15:48:06.292796Z",
     "iopub.status.busy": "2024-04-15T15:48:06.291706Z",
     "iopub.status.idle": "2024-04-15T15:48:06.525616Z",
     "shell.execute_reply": "2024-04-15T15:48:06.524406Z"
    },
    "papermill": {
     "duration": 0.274579,
     "end_time": "2024-04-15T15:48:06.528479",
     "exception": false,
     "start_time": "2024-04-15T15:48:06.253900",
     "status": "completed"
    },
    "tags": []
   },
   "outputs": [
    {
     "name": "stdout",
     "output_type": "stream",
     "text": [
      "\n",
      "def decrypt(f, k):\n",
      "            decrypted = \"\"\n",
      "            for i in f:\n",
      "                \u001b[41mj = int(i\u001b[0m/k)\n",
      "                decrypted += chr(j)\n",
      "            return decrypted\n",
      "        \n",
      "cipher = [210, 218,\u001b[41m 224, 22\u001b[0m\u001b[41m2, 22\u001b[0m8, 232, 64, 222, 230, 20, 210, 218,\u001b[41m 224, 22\u001b[0m\u001b[41m2, 22\u001b[0m8, 232, 64,\u001b[41m 228, 19\u001b[0m\u001b[41m4, 22\u001b[0m0, 200, 222, 218, 20, 200, 202, 204, 64, 208,\u001b[41m 194, 22\u001b[0m0, 206, 218,\u001b[41m 194, 22\u001b[0m0, 80, 238,\u001b[41m 222, 22\u001b[0m8, 200, 88, 64, 238,\u001b[41m 228, 22\u001b[0m\u001b[41m2, 22\u001b[0m0, 206, 230, 88, 64, 228, 210, 206, 208, 232, 230, 88, 64, 216, 202, 232, 232, 202, 228, 230, 82, 116, 20, 64, 64, 64, 64, 210, 204, 64, 238,\u001b[41m 228, 22\u001b[0m\u001b[41m2, 22\u001b[0m0, 206, 230, 124, 96, 116, 20, 64, 64, 64, 64, 64, 64, 64, 64,\u001b[41m 224, 22\u001b[0m8, 210, 220, 232, 80, 68, 1\u001b[41m46, 22\u001b[0m\u001b[41m0, 19\u001b[0m\u001b[41m8, 22\u001b[0m\u001b[41m2, 22\u001b[0m\u001b[41m8, 22\u001b[0m8, 202, 198, 232, 64, 206, 234, 202, 230, 230, 202, 230, 116, 64, 68, 88, 64, 216, 202, 232, 232, 202, 228, 230, 82, 20, 64, 64, 64, 64\u001b[41m, 70, 7\u001b[0m0, 218, 194, 214, 202, 64, 232, 208, 202, 64,\u001b[41m 220, 22\u001b[0m\u001b[41m2, 22\u001b[0m2, 230, 202, 94, 208,\u001b[41m 194, 22\u001b[0m0, 206, 218,\u001b[41m 194, 22\u001b[0m0, 20, 64, 64, 64, 64,\u001b[41m 224, 22\u001b[0m8, 210, 220, 232, 80, 68, 64, 64,\u001b[41m 190, 19\u001b[0m\u001b[41m0, 19\u001b[0m\u001b[41m0, 19\u001b[0m\u001b[41m0, 19\u001b[0m\u001b[41m0, 19\u001b[0m\u001b[41m0, 19\u001b[0m\u001b[41m0, 19\u001b[0m\u001b[41m0, 19\u001b[0m\u001b[41m0, 19\u001b[0m\u001b[41m0, 19\u001b[0m\u001b[41m0, 19\u001b[0m\u001b[41m0, 19\u001b[0m\u001b[41m0, 19\u001b[0m\u001b[41m0, 19\u001b[0m\u001b[41m0, 19\u001b[0m\u001b[41m0, 19\u001b[0m\u001b[41m0, 19\u001b[0m\u001b[41m0, 18\u001b[0m\u001b[41m4, 22\u001b[0m0, 64, 248, 64, 64, 64, 64, 64, 64, 64, 64, 64, 64, 64, 64, 64, 64, 64, 64, 64, 64, 248,\u001b[41m 184, 22\u001b[0m0, 64, 248, 64, 64, 64, 64, 64, 64, 64, 64, 64, 64, 64, 64, 64, 64, 64, 64, 64, 64, 248, 68, 82, 20, 64, 64, 64, 64, 210, 204, 64, 238,\u001b[41m 228, 22\u001b[0m\u001b[41m2, 22\u001b[0m0, 206, 230, 124, 96, 116, 20, 64, 64, 64, 64, 64, 64, 64, 64,\u001b[41m 224, 22\u001b[0m8, 210, 220, 232, 80, 68, 64, 248, 64, 64, 64, 64, 64, 64, 64, 64, 64, 64, 64, 64, 64, 64, 64, 64, 64, 64, 158, 68, 82, 20, 64, 64, 64, 64, 210, 204, 64, 238,\u001b[41m 228, 22\u001b[0m\u001b[41m2, 22\u001b[0m0, 206, 230, 124, 98, 64,\u001b[41m 194, 22\u001b[0m0, 200, 64, 238,\u001b[41m 228, 22\u001b[0m\u001b[41m2, 22\u001b[0m0, 206, 230, 120, 106, 116, 20, 64, 64, 64, 64, 64, 64, 64, 64,\u001b[41m 224, 22\u001b[0m8, 210, 220, 232, 80, 68, 64, 248, 64, 64, 64, 64, 64, 64, 64, 64, 64, 64, 64, 64, 64, 64, 64, 64, 64, 64, 248, 68, 82, 20, 64, 64, 64, 64, 210, 204, 64, 238,\u001b[41m 228, 22\u001b[0m\u001b[41m2, 22\u001b[0m0, 206, 230, 122, 122, 106, 116, 20, 64, 64, 64, 64, 64, 64, 64, 64,\u001b[41m 224, 22\u001b[0m8, 210, 220, 232, 80, 68, 64, 248, 64, 64, 64, 64, 64, 64, 64, 64, 64, 64, 64, 64, 64, 64, 64, 64, 64, 94, 248, 68, 82, 20, 64, 64, 64, 64, 210, 204, 64, 238,\u001b[41m 228, 22\u001b[0m\u001b[41m2, 22\u001b[0m0, 206, 230, 122, 122, 108, 116, 20, 64, 64, 64, 64, 64, 64, 64, 64,\u001b[41m 224, 22\u001b[0m8, 210, 220, 232, 80, 68, 64, 248, 64, 64, 64, 64, 64, 64, 64, 64, 64, 64, 64, 64, 64, 64, 64, 64, 64, 94, 248, 184, 64, 68, 82, 20, 64, 64, 64, 64, 210, 204, 64, 238,\u001b[41m 228, 22\u001b[0m\u001b[41m2, 22\u001b[0m0, 206, 230, 122, 122, 102, 116, 20, 64, 64, 64, 64, 64, 64, 64, 64,\u001b[41m 224, 22\u001b[0m8, 210, 220, 232, 80, 68, 64, 248, 64, 64, 64, 64, 64, 64, 64, 64, 64, 64, 64, 64, 64, 64, 64, 64, 64, 94, 68, 82, 20, 64, 64, 64, 64, 210, 204, 64, 238,\u001b[41m 228, 22\u001b[0m\u001b[41m2, 22\u001b[0m0, 206, 230, 124, 102, 116, 20, 64, 64, 64, 64, 64, 64, 64, 64,\u001b[41m 224, 22\u001b[0m8, 210, 220, 232, 80, 68, 64, 248, 64, 64, 64, 64, 64, 64, 64, 64, 64, 64, 64, 64, 64, 64, 64, 64, 64, 94, 64, 184, 64, 68, 82, 20, 64, 64, 64, 64, 210, 204, 64, 238,\u001b[41m 228, 22\u001b[0m\u001b[41m2, 22\u001b[0m0, 206, 230, 124, 122, 102, 116, 20, 64, 64, 64, 64, 64, 64, 64, 64,\u001b[41m 224, 22\u001b[0m8, 210, 220, 232, 80, 68, 64, 248,\u001b[41m 184, 22\u001b[0m0, 64, 248,\u001b[41m 184, 22\u001b[0m0, 64, 248, 68, 82, 20, 64, 64, 64, 64, 210, 204, 64, 238,\u001b[41m 228, 22\u001b[0m\u001b[41m2, 22\u001b[0m0, 206, 230, 122, 122, 100, 116, 20, 64, 64, 64, 64, 64, 64, 64, 64,\u001b[41m 224, 22\u001b[0m8, 210, 220, 232, 80, 68, 64, 248,\u001b[41m 184, 22\u001b[0m0, 64, 248,\u001b[41m 184, 22\u001b[0m0, 64, 248,\u001b[41m 184, 22\u001b[0m0, 64, 248, 68, 82, 20, 64, 64, 64, 64, 210, 204, 64, 238,\u001b[41m 228, 22\u001b[0m\u001b[41m2, 22\u001b[0m0, 206, 230, 64, 122, 122, 64, 98, 116, 20, 64, 64, 64, 64, 64, 64, 64, 64,\u001b[41m 224, 22\u001b[0m8, 210, 220, 232, 80, 68, 64, 248,\u001b[41m 184, 22\u001b[0m0, 64, 248,\u001b[41m 184, 22\u001b[0m0, 64, 248,\u001b[41m 184, 22\u001b[0m0, 64, 248,\u001b[41m 184, 22\u001b[0m0, 64, 248, 68, 82, 20, 64, 64, 64, 64, 210, 204, 64, 238,\u001b[41m 228, 22\u001b[0m\u001b[41m2, 22\u001b[0m0, 206, 230, 64, 122, 122, 96, 116, 20, 64, 64, 64, 64, 64, 64, 64, 64,\u001b[41m 224, 22\u001b[0m8, 210, 220, 232, 80, 68, 64, 248,\u001b[41m 184, 22\u001b[0m0, 64, 248,\u001b[41m 184, 22\u001b[0m0, 64, 248,\u001b[41m 184, 22\u001b[0m0, 64, 248,\u001b[41m 184, 22\u001b[0m0, 64, 248,\u001b[41m 184, 22\u001b[0m0, 64, 248, 68, 82, 20, 64, 64, 64, 64,\u001b[41m 224, 22\u001b[0m8, 210, 220, 232, 80, 68,\u001b[41m 190, 19\u001b[0m\u001b[41m0, 19\u001b[0m0, 68, 82, 20, 64, 64, 64, 64\u001b[41m, 70, 7\u001b[0m0, 218, 194, 214, 202, 64, 232, 208, 202, 64, 196, 216,\u001b[41m 194, 22\u001b[0m0, 214, 230, 94, 204, 210, 216, 216, 64, 210, 220, 64, 238, 208, 202, 228, 202, 64, 220, 202, 202, 200, 202, 200, 20, 64, 64, 64, 64, 232,\u001b[41m 222, 22\u001b[0m\u001b[41m4, 22\u001b[0m8, 210, 220, 232, 64, 122, 64, 68, 64, 64, 64, 64, 64, 64, 64, 68, 20, 64, 64, 64, 64, 204,\u001b[41m 222, 22\u001b[0m8, 64, 210, 64, 210, 220, 64, 238,\u001b[41m 222, 22\u001b[0m8, 200, 116, 20, 64, 64, 64, 64, 64, 64, 64, 64, 210, 204, 64, 210, 64, 210,\u001b[41m 220, 64, 22\u001b[0m8, 210, 206, 208, 232, 230, 116, 20, 64, 64, 64, 64, 64, 64, 64, 64, 64, 64, 64, 64, 232,\u001b[41m 222, 22\u001b[0m\u001b[41m4, 22\u001b[0m8, 210, 220, 232, 86, 122, 64, 210, 20, 64, 64, 64, 64, 64, 64, 64, 64, 202, 216, 230, 202, 116, 20, 64, 64, 64, 64, 64, 64, 64, 64, 64, 64, 64, 64, 232,\u001b[41m 222, 22\u001b[0m\u001b[41m4, 22\u001b[0m8, 210, 220, 232, 86, 122, 68, 190, 68, 20, 64, 64, 64, 64, 64, 64, 64, 64, 232,\u001b[41m 222, 22\u001b[0m\u001b[41m4, 22\u001b[0m8, 210, 220, 232, 86, 122, 68, 64, 68, 20, 64, 64, 64, 64,\u001b[41m 224, 22\u001b[0m8, 210, 220, 232, 80, 232,\u001b[41m 222, 22\u001b[0m\u001b[41m4, 22\u001b[0m8, 210, 220, 232, 82, 20, 216, 202, 232, 232, 202, 228, 230, 122, 68, 68, 64\u001b[41m, 70, 7\u001b[0m0, 232, 208, 202, 64, 210,\u001b[41m 220, 19\u001b[0m\u001b[41m8, 22\u001b[0m\u001b[41m2, 22\u001b[0m\u001b[41m8, 22\u001b[0m8, 202, 198, 232, 64, 206, 234, 202, 230, 230, 202, 230, 20, 228, 210, 206, 208, 232, 230, 64, 122, 64,\u001b[41m 182, 18\u001b[0m\u001b[41m6, 64, 7\u001b[0m\u001b[41m0, 7\u001b[0m0, 232, 208, 202, 64,\u001b[41m 198, 22\u001b[0m\u001b[41m2, 22\u001b[0m\u001b[41m8, 22\u001b[0m8, 202, 198, 232, 64, 206, 234, 202, 230, 230, 202, 230, 20, 206, 234, 202, 230, 230, 202, 230, 122, 96, 64\u001b[41m, 70, 7\u001b[0m0, 232, 208, 202, 64, 220, 234, 218, 196, 202,\u001b[41m 228, 64, 22\u001b[0m2, 204, 64, 210,\u001b[41m 220, 19\u001b[0m\u001b[41m8, 22\u001b[0m\u001b[41m2, 22\u001b[0m\u001b[41m8, 22\u001b[0m8, 202, 198, 232, 64, 206, 234, 202, 230, 230, 202, 230, 20, 238,\u001b[41m 222, 22\u001b[0m0, 122, 140, 194, 216, 230, 202, 20,\u001b[41m 224, 22\u001b[0m8, 210, 220, 232, 80, 68, 174, 202, 216,\u001b[41m 198, 22\u001b[0m2, 218, 202, 64, 232, 222, 64, 208,\u001b[41m 194, 22\u001b[0m0, 206, 218,\u001b[41m 194, 22\u001b[0m0, 66, 68, 82, 20, 20, 20, 20, 238,\u001b[41m 222, 22\u001b[0m8, 200, 64, 122, 64, 210,\u001b[41m 220, 22\u001b[0m4, 234, 232, 80, 68, 160, 216, 194, 242, 202, 228, 64, 98, 88, 64, 210,\u001b[41m 220, 22\u001b[0m4, 234, 232, 64, 242, 222, 234, 228, 64, 238,\u001b[41m 222, 22\u001b[0m8, 200, 116,\u001b[41m 184, 22\u001b[0m0, 68, 82, 20, 222, 230, 92, 230, 242, 230, 232, 202, 218, 80, 68, 198, 216, 202,\u001b[41m 194, 22\u001b[0m8, 68, 82, 64, 20, 20, 20, 20, 238, 208, 210, 216, 202, 64,\u001b[41m 220, 22\u001b[0m2, 232, 80, 238,\u001b[41m 222, 22\u001b[0m0, 82, 64,\u001b[41m 194, 22\u001b[0m0, 200, 64, 206, 234, 202, 230, 230, 202, 230, 120, 108, 116, 20, 64, 64, 64, 64, 208,\u001b[41m 194, 22\u001b[0m0, 206, 218,\u001b[41m 194, 22\u001b[0m0, 80, 238,\u001b[41m 222, 22\u001b[0m8, 200, 88, 206, 234, 202, 230, 230, 202, 230, 88, 228, 210, 206, 208, 232, 230, 88, 216, 202, 232, 232, 202, 228, 230, 82, 20, 64, 64, 64, 64, 206, 234, 202, 230, 230, 64, 122, 64, 210,\u001b[41m 220, 22\u001b[0m4, 234, 232, 80, 68, 160, 216, 194, 242, 202, 228, 64, 100, 88, 64, 206, 234, 202, 230, 230, 64, 194, 64, 216, 202, 232, 232, 202, 228, 116,\u001b[41m 184, 22\u001b[0m0, 68, 82, 20, 64, 64, 64, 64, 210, 204, 64, 206, 234, 202, 230, 230, 64, 210, 220, 64, 238,\u001b[41m 222, 22\u001b[0m8, 200, 116, 20, 64, 64, 64, 64, 64, 64, 64, 64, 228, 210, 206, 208, 232, 230, 86, 122, 206, 234, 202, 230, 230, 20, 64, 64, 64, 64, 202, 216, 230, 202, 116, 20, 64, 64, 64, 64, 64, 64, 64, 64, 216, 202, 232, 232, 202, 228, 230, 86, 122, 206, 234, 202, 230, 230, 20, 64, 64, 64, 64, 64, 64, 64, 64, 206, 234, 202, 230, 230, 202, 230, 86, 122, 98, 20, 64, 64, 64, 64, 238,\u001b[41m 222, 22\u001b[0m0, 64, 122, 64, 168, 228, 234, 202, 20, 64, 64, 64, 64, 204,\u001b[41m 222, 22\u001b[0m8, 64, 210, 64, 210, 220, 64, 238,\u001b[41m 222, 22\u001b[0m8, 200, 116, 20, 64, 64, 64, 64, 64, 64, 64, 64, 210, 204, 64,\u001b[41m 220, 22\u001b[0m2, 232, 80, 210, 64, 210,\u001b[41m 220, 64, 22\u001b[0m8, 210, 206, 208, 232, 230, 82, 116, 20, 64, 64, 64, 64, 64, 64, 64, 64, 64, 64, 64, 64, 238,\u001b[41m 222, 22\u001b[0m0, 64, 122, 64, 140, 194, 216, 230, 202, 20, 64, 64, 64, 64, 222, 230, 92, 230, 242, 230, 232, 202, 218, 80, 68, 198, 216, 202,\u001b[41m 194, 22\u001b[0m8, 68, 82, 20, 210, 204, 64, 238,\u001b[41m 222, 22\u001b[0m0, 116, 20, 64, 64, 64, 64, 208,\u001b[41m 194, 22\u001b[0m0, 206, 218,\u001b[41m 194, 22\u001b[0m0, 80, 238,\u001b[41m 222, 22\u001b[0m8, 200, 88, 206, 234, 202, 230, 230, 202, 230, 88, 228, 210, 206, 208, 232, 230, 88, 216, 202, 232, 232, 202, 228, 230, 82, 20, 64, 64, 64, 64,\u001b[41m 224, 22\u001b[0m8, 210, 220, 232, 80, 68, 160, 216, 194, 242, 202, 228, 64, 100, 64, 238,\u001b[41m 222, 22\u001b[0m0, 66, 68, 82, 20, 202, 216, 230, 202, 116, 20, 64, 64, 64, 64, 208,\u001b[41m 194, 22\u001b[0m0, 206, 218,\u001b[41m 194, 22\u001b[0m0, 80, 238,\u001b[41m 222, 22\u001b[0m8, 200, 88, 206, 234, 202, 230, 230, 202, 230, 88, 228, 210, 206, 208, 232, 230, 88, 216, 202, 232, 232, 202, 228, 230, 82, 20, 64, 64, 64, 64,\u001b[41m 224, 22\u001b[0m8, 210, 220, 232, 80, 68, 178, 222, 234, 64, 216, 222, 230, 232, 92, 64, 168, 208, 202, 64, 238,\u001b[41m 222, 22\u001b[0m8, 200, 64, 238, 194, 230, 68, 88, 64, 238,\u001b[41m 222, 22\u001b[0m8, 200, 82, 20, 20, 20, 20, 20, 20, 20, 20, 20, 20]\n",
      "key =2\n",
      "exec(decrypt(cipher, key))\n"
     ]
    },
    {
     "data": {
      "text/plain": [
       "re.compile(r'(448|222|\\W40|693|j\\W\\W|\\W18|\\W\\W7|\\W28|040|400|\\W91|t\\Wi|\\W22|\\W89|150|468|408|\\W19|46\\W|252)',\n",
       "           re.UNICODE)"
      ]
     },
     "execution_count": 42,
     "metadata": {},
     "output_type": "execute_result"
    }
   ],
   "source": [
    "overalltopgradsinseq(filename, 20, True, False, 6)"
   ]
  },
  {
   "cell_type": "code",
   "execution_count": 43,
   "id": "5d8f4e25",
   "metadata": {
    "execution": {
     "iopub.execute_input": "2024-04-15T15:48:06.593656Z",
     "iopub.status.busy": "2024-04-15T15:48:06.593242Z",
     "iopub.status.idle": "2024-04-15T15:48:06.857405Z",
     "shell.execute_reply": "2024-04-15T15:48:06.856118Z"
    },
    "papermill": {
     "duration": 0.301095,
     "end_time": "2024-04-15T15:48:06.861307",
     "exception": false,
     "start_time": "2024-04-15T15:48:06.560212",
     "status": "completed"
    },
    "scrolled": true,
    "tags": []
   },
   "outputs": [
    {
     "name": "stdout",
     "output_type": "stream",
     "text": [
      "\n",
      "def decrypt(f, k):\n",
      "        decrypted = \"\"\n",
      "        for i in f:\n",
      "            decrypted = decrypted.__add__(chr((ord(i)-k\u001b[31m)%1\u001b[39m28))\n",
      "        return decrypted\n",
      "        \n",
      "cipher = ['(', 'k', 'w', 't', 'r', '%', 'm', 'y', 'y', 'u', 'x', '?',\u001b[31m '4\u001b[39m',\u001b[31m '4\u001b[39m', '|', '|', '|', '3', 'l', '\u001b[31mj',\u001b[39m '\u001b[31mj',\u001b[39m 'p', 'x', 'k', 't', 'w', 'l', '\u001b[31mj',\u001b[39m '\u001b[31mj',\u001b[39m 'p', 'x', '3', 't', 'w', 'l',\u001b[31m '4\u001b[39m', 'x', 's', 'f', 'p', '\u001b[31mj',\u001b[39m '2', 'l', 'f', 'r', '\u001b[31mj',\u001b[39m '2', 'n', 's', '2', 'u', '~', 'y', 'm', 't', 's', '2', 'z', 'x', 'n', 's', 'l', '2', 'u', '~', 'l', 'f', 'r', '\u001b[31mj',\u001b[39m '2', 'r', 't', 'i', 'z', 'q', '\u001b[31mj',\u001b[39m\u001b[31m '4\u001b[39m', '\\x0f', '\\x0f', '(', '%', 'n', 'r', 'u', 't', 'w', 'y', 'n', 's', 'l', '%', 'q', 'n', 'g', 'w', 'f', 'w', 'n', '\u001b[31mj',\u001b[39m 'x', '\\x0f', 'n', 'r', 'u', 't', 'w', 'y', '%', 'u', '~', 'l', 'f', 'r', '\u001b[31mj',\u001b[39m '\\x0f', 'n', 'r', 'u', 't', 'w', 'y', '%', 'y', 'n', 'r', '\u001b[31mj',\u001b[39m '\\x0f', 'n', 'r', 'u', 't', 'w', 'y', '%', 'w', 'f', 's', 'i', 't', 'r', '\\x0f', '\\x0f', 'x', 's', 'f', 'p', '\u001b[31mj',\u001b[39m 'd', 'x', 'u', '\u001b[31mj',\u001b[39m '\u001b[31mj',\u001b[39m 'i', '%', 'B', '%', '6', ':', '\\x0f', '\\x0f', '(', '%', '\\\\', 'n', 's', 'i', 't', '|', '%', 'x', 'n', '\\x7f', '\u001b[31mj',\u001b[39m '\\x0f', '|', 'n', 's', 'i', 't', '|', 'd', '}', '%', 'B', '%', '<',\u001b[31m '7\u001b[39m', '5', '\\x0f', '|', 'n', 's', 'i', 't', '|', 'd', '~', '%', 'B', '%', '9', '=', '5', '\\x0f', '\\x0f', '(', '%', 'i', '\u001b[31mj',\u001b[39m 'k', 'n', 's', 'n', 's', 'l', '%', 'h', 't', 'q', 't', 'w', 'x', '\\x0f', 'g', 'q', 'f', 'h', 'p', '%', 'B', '%', 'u', '~', 'l', 'f', 'r', '\u001b[31mj',\u001b[39m '3', 'H', 't', 'q', 't', 'w', '-', '5',\u001b[31m '1\u001b[39m', '%', '5',\u001b[31m '1\u001b[39m', '%', '5', '.', '\\x0f', '|', 'm', 'n', 'y', '\u001b[31mj',\u001b[39m '%', 'B', '%', 'u', '~', 'l', 'f', 'r', '\u001b[31mj',\u001b[39m '3', 'H', 't', 'q', 't', 'w', '-',\u001b[31m '7\u001b[39m', ':', ':',\u001b[31m '1\u001b[39m', '%',\u001b[31m '7\u001b[39m', ':', ':',\u001b[31m '1\u001b[39m', '%',\u001b[31m '7\u001b[39m', ':', ':', '.', '\\x0f', 'w', '\u001b[31mj',\u001b[39m 'i', '%', 'B', '%', 'u', '~', 'l', 'f', 'r', '\u001b[31mj',\u001b[39m '3', 'H', 't', 'q', 't', 'w', '-',\u001b[31m '7\u001b[39m', ':', ':',\u001b[31m '1\u001b[39m', '%', '5',\u001b[31m '1\u001b[39m', '%', '5', '.', '\\x0f', 'l', 'w', '\u001b[31mj',\u001b[39m '\u001b[31mj',\u001b[39m 's', '%', 'B', '%', 'u', '~', 'l', 'f', 'r', '\u001b[31mj',\u001b[39m '3', 'H', 't', 'q', 't', 'w', '-', '5',\u001b[31m '1\u001b[39m', '%',\u001b[31m '7\u001b[39m', ':', ':',\u001b[31m '1\u001b[39m', '%', '5', '.', '\\x0f', 'g', 'q', 'z', '\u001b[31mj',\u001b[39m '%', 'B', '%', 'u', '~', 'l', 'f', 'r', '\u001b[31mj',\u001b[39m '3', 'H', 't', 'q', 't', 'w', '-', '5',\u001b[31m '1\u001b[39m', '%', '5',\u001b[31m '1\u001b[39m', '%',\u001b[31m '7\u001b[39m', ':', ':', '.', '\\x0f', '\\x0f', '(', '%', 'N', 's', 'n', 'y', 'n', 'f', 'q', 'n', 'x', 'n', 's', 'l', '%', 'u', '~', 'l', 'f', 'r', '\u001b[31mj',\u001b[39m '\\x0f', 'u', '~', 'l', 'f', 'r', '\u001b[31mj',\u001b[39m '3', 'n', 's', 'n', 'y', '-', '.', '\\x0f', '\\x0f', '(', '%', 'N', 's', 'n', 'y', 'n', 'f', 'q', 'n', 'x', '\u001b[31mj',\u001b[39m '%', 'l', 'f', 'r', '\u001b[31mj',\u001b[39m '%', '|', 'n', 's', 'i', 't', '|', '\\x0f', 'u', '~', 'l', 'f', 'r', '\u001b[31mj',\u001b[39m '3', 'i', 'n', 'x', 'u', 'q', 'f', '~', '3', 'x', '\u001b[31mj',\u001b[39m 'y', 'd', 'h', 'f', 'u', 'y', 'n', 't', 's', '-', ',', 'X', 's', 'f', 'p', '\u001b[31mj',\u001b[39m ',', '.', '\\x0f', 'l', 'f', 'r', '\u001b[31mj',\u001b[39m 'd', '|', 'n', 's', 'i', 't', '|', '%', 'B', '%', 'u', '~', 'l', 'f', 'r', '\u001b[31mj',\u001b[39m '3', 'i', 'n', 'x', 'u', 'q', 'f', '~', '3', 'x', '\u001b[31mj',\u001b[39m 'y', 'd', 'r', 't', 'i', '\u001b[31mj',\u001b[39m '-', '-', '|', 'n', 's', 'i', 't', '|', 'd', '}',\u001b[31m '1\u001b[39m', '%', '|', 'n', 's', 'i', 't', '|', 'd', '~', '.', '.', '\\x0f', '\\x0f', '(', '%', 'K', 'U', 'X', '%', '-', 'k', 'w', 'f', 'r', '\u001b[31mj',\u001b[39m 'x', '%', 'u', '\u001b[31mj',\u001b[39m 'w', '%', 'x', '\u001b[31mj',\u001b[39m 'h', 't', 's', 'i', '.', '%', 'h', 't', 's', 'y', 'w', 't', 'q', 'q', '\u001b[31mj',\u001b[39m 'w', '\\x0f', 'k', 'u', 'x', '%', 'B', '%', 'u', '~', 'l', 'f', 'r', '\u001b[31mj',\u001b[39m '3', 'y', 'n', 'r', '\u001b[31mj',\u001b[39m '3', 'H', 'q', 't', 'h', 'p', '-', '.', '\\x0f', '\\x0f', '(', '%', 'i', '\u001b[31mj',\u001b[39m 'k', 'n', 's', 'n', 's', 'l', '%', 'x', 's', 'f', 'p', '\u001b[31mj',\u001b[39m '%', 'i', '\u001b[31mj',\u001b[39m 'k', 'f', 'z', 'q', 'y', '%', 'u', 't', 'x', 'n', 'y', 'n', 't', 's', '\\x0f', 'x', 's', 'f', 'p', '\u001b[31mj',\u001b[39m 'd', 'u', 't', 'x', 'n', 'y', 'n', 't', 's', '%', 'B', '%', '`', '6', '5', '5',\u001b[31m '1\u001b[39m', '%', ':', '5', 'b', '\\x0f', '\\x0f', '(', '%', 'i', '\u001b[31mj',\u001b[39m 'k', 'n', 's', 'n', 's', 'l', '%', 'k', 'n', 'w', 'x', 'y', '%', '9', '%', 'g', 'q', 't', 'h', 'p', 'x', '%', 't', 'k', '%', 'x', 's', 'f', 'p', '\u001b[31mj',\u001b[39m '%', 'g', 't', 'i', '~', '\\x0f', 'x', 's', 'f', 'p', '\u001b[31mj',\u001b[39m 'd', 'g', 't', 'i', '~', '%', 'B', '%', '`', '`', '6', '5', '5',\u001b[31m '1\u001b[39m', '%', ':', '5', 'b',\u001b[31m '1\u001b[39m', '\\x0f', '\\x0e', '\\x0e', '\\x0e', '`', '>', '5',\u001b[31m '1\u001b[39m', '%', ':', '5', 'b',\u001b[31m '1\u001b[39m', '\\x0f', '\\x0e', '\\x0e', '\\x0e', '`', '=', '5',\u001b[31m '1\u001b[39m', '%', ':', '5', 'b',\u001b[31m '1\u001b[39m', '\\x0f', '\\x0e', '\\x0e', '\\x0e', '`', '<', '5',\u001b[31m '1\u001b[39m', '%', ':', '5', 'b', '\\x0f', '\\x0e', '\\x0e', '\\x0e', 'b', '\\x0f', '(', '%', 'k', 'w', 'z', 'n', 'y', '%', 'u', 't', 'x', 'n', 'y', 'n', 't', 's', '\\x0f', 'k', 'w', 'z', 'n', 'y', 'd', 'u', 't', 'x', 'n', 'y', 'n', 't', 's', '%', 'B', '%', '`', 'w', 'f', 's', 'i', 't', 'r', '3', 'w', 'f', 's', 'i', 'w', 'f', 's', 'l', '\u001b[31mj',\u001b[39m '-', '6',\u001b[31m '1\u001b[39m', '%', '-', '|', 'n', 's', 'i', 't', '|', 'd', '}',\u001b[31m '4\u001b[39m',\u001b[31m '4\u001b[39m', '6', '5', '.', '.', '%', '/', '%', '6', '5',\u001b[31m '1\u001b[39m', '\\x0f', '\\x0e', '\\x0e', '\\x0e', '\\x0e', 'w', 'f', 's', 'i', 't', 'r', '3', 'w', 'f', 's', 'i', 'w', 'f', 's', 'l', '\u001b[31mj',\u001b[39m '-', '6',\u001b[31m '1\u001b[39m', '%', '-', '|', 'n', 's', 'i', 't', '|', 'd', '~',\u001b[31m '4\u001b[39m',\u001b[31m '4\u001b[39m', '6', '5', '.', '.', '%', '/', '%', '6', '5', 'b', '\\x0f', '\\x0f', 'k', 'w', 'z', 'n', 'y', 'd', 'x', 'u', 'f', '|', 's', '%', 'B', '%', 'Y', 'w', 'z', '\u001b[31mj',\u001b[39m '\\x0f', '\\x0f', '(', '%', 'x', '\u001b[31mj',\u001b[39m 'y', 'y', 'n', 's', 'l', '%', 'i', '\u001b[31mj',\u001b[39m 'k', 'f', 'z', 'q', 'y', '%', 'x', 's', 'f', 'p', '\u001b[31mj',\u001b[39m '%', 'i', 'n', 'w', '\u001b[31mj',\u001b[39m 'h', 'y', 'n', 't', 's', '%', 'y', 't', '|', 'f', 'w', 'i', 'x', '\\x0f', '(', '%', 'w', 'n', 'l', 'm', 'y', '\\x0f', 'i', 'n', 'w', '\u001b[31mj',\u001b[39m 'h', 'y', 'n', 't', 's', '%', 'B', '%', ',', 'W', 'N', 'L', 'M', 'Y', ',', '\\x0f', 'h', 'm', 'f', 's', 'l', '\u001b[31mj',\u001b[39m 'd', 'y', 't', '%', 'B', '%', 'i', 'n', 'w', '\u001b[31mj',\u001b[39m 'h', 'y', 'n', 't', 's', '\\x0f', '\\x0f', '(', '%', 'n', 's', 'n', 'y', 'n', 'f', 'q', '%', 'x', 'h', 't', 'w', '\u001b[31mj',\u001b[39m '\\x0f', 'x', 'h', 't', 'w', '\u001b[31mj',\u001b[39m '%', 'B', '%', '5', '\\x0f', '\\x0f', '(', '%', 'i', 'n', 'x', 'u', 'q', 'f', '~', 'n', 's', 'l', '%', 'X', 'h', 't', 'w', '\u001b[31mj',\u001b[39m '%', 'k', 'z', 's', 'h', 'y', 'n', 't', 's', '\\x0f', 'i', '\u001b[31mj',\u001b[39m 'k', '%', 'x', 'm', 't', '|', 'd', 'x', 'h', 't', 'w', '\u001b[31mj',\u001b[39m '-', 'h', 'm', 't', 'n', 'h', '\u001b[31mj',\u001b[39m\u001b[31m '1\u001b[39m', '%', 'h', 't', 'q', 't', 'w',\u001b[31m '1\u001b[39m', '%', 'k', 't', 's', 'y',\u001b[31m '1\u001b[39m', '%', 'x', 'n', '\\x7f', '\u001b[31mj',\u001b[39m '.', '?', '\\x0f', '\\x0f', '\\x0e', '(', '%', 'h', 'w', '\u001b[31mj',\u001b[39m 'f', 'y', 'n', 's', 'l', '%', 'k', 't', 's', 'y', '%', 't', 'g', 'o', '\u001b[31mj',\u001b[39m 'h', 'y', '%', 'x', 'h', 't', 'w', '\u001b[31mj',\u001b[39m 'd', 'k', 't', 's', 'y', '\\x0f', '\\x0e', 'x', 'h', 't', 'w', '\u001b[31mj',\u001b[39m 'd', 'k', 't', 's', 'y', '%', 'B', '%', 'u', '~', 'l', 'f', 'r', '\u001b[31mj',\u001b[39m '3', 'k', 't', 's', 'y', '3', 'X', '~', 'x', 'K', 't', 's', 'y', '-', 'k', 't', 's', 'y',\u001b[31m '1\u001b[39m', '%', 'x', 'n', '\\x7f', '\u001b[31mj',\u001b[39m '.', '\\x0f', '\\x0e', '\\x0f', '\\x0e', '(', '%', 'h', 'w', '\u001b[31mj',\u001b[39m 'f', 'y', '\u001b[31mj',\u001b[39m '%', 'y', 'm', '\u001b[31mj',\u001b[39m '%', 'i', 'n', 'x', 'u', 'q', 'f', '~', '%', 'x', 'z', 'w', 'k', 'f', 'h', '\u001b[31mj',\u001b[39m '%', 't', 'g', 'o', '\u001b[31mj',\u001b[39m 'h', 'y', '\\x0f', '\\x0e', '(', '%', 'x', 'h', 't', 'w', '\u001b[31mj',\u001b[39m 'd', 'x', 'z', 'w', 'k', 'f', 'h', '\u001b[31mj',\u001b[39m '\\x0f', '\\x0e', 'x', 'h', 't', 'w', '\u001b[31mj',\u001b[39m 'd', 'x', 'z', 'w', 'k', 'f', 'h', '\u001b[31mj',\u001b[39m '%', 'B', '%', 'x', 'h', 't', 'w', '\u001b[31mj',\u001b[39m 'd', 'k', 't', 's', 'y', '3', 'w', '\u001b[31mj',\u001b[39m 's', 'i', '\u001b[31mj',\u001b[39m 'w', '-', ',', 'X', 'h', 't', 'w', '\u001b[31mj',\u001b[39m '%', '?', '%', ',', '%', '0', '%', 'x', 'y', 'w', '-', 'x', 'h', 't', 'w', '\u001b[31mj',\u001b[39m '.',\u001b[31m '1\u001b[39m', '%', 'Y', 'w', 'z', '\u001b[31mj',\u001b[39m\u001b[31m '1\u001b[39m', '%', 'h', 't', 'q', 't', 'w', '.', '\\x0f', '\\x0e', '\\x0f', '\\x0e', '(', '%', 'h', 'w', '\u001b[31mj',\u001b[39m 'f', 'y', '\u001b[31mj',\u001b[39m '%', 'f', '%', 'w', '\u001b[31mj',\u001b[39m 'h', 'y', 'f', 's', 'l', 'z', 'q', 'f', 'w', '%', 't', 'g', 'o', '\u001b[31mj',\u001b[39m 'h', 'y', '%', 'k', 't', 'w', '%', 'y', 'm', '\u001b[31mj',\u001b[39m '%', 'y', '\u001b[31mj',\u001b[39m '}', 'y', '\\x0f', '\\x0e', '(', '%', 'x', 'z', 'w', 'k', 'f', 'h', '\u001b[31mj',\u001b[39m '%', 't', 'g', 'o', '\u001b[31mj',\u001b[39m 'h', 'y', '\\x0f', '\\x0e', 'x', 'h', 't', 'w', '\u001b[31mj',\u001b[39m 'd', 'w', '\u001b[31mj',\u001b[39m 'h', 'y', '%', 'B', '%', 'x', 'h', 't', 'w', '\u001b[31mj',\u001b[39m 'd', 'x', 'z', 'w', 'k', 'f', 'h', '\u001b[31mj',\u001b[39m '3', 'l', '\u001b[31mj',\u001b[39m 'y', 'd', 'w', '\u001b[31mj',\u001b[39m 'h', 'y', '-', '.', '\\x0f', '\\x0e', '\\x0f', '\\x0e', '(', '%', 'i', 'n', 'x', 'u', 'q', 'f', '~', 'n', 's', 'l', '%', 'y', '\u001b[31mj',\u001b[39m '}', 'y', '\\x0f', '\\x0e', 'l', 'f', 'r', '\u001b[31mj',\u001b[39m 'd', '|', 'n', 's', 'i', 't', '|', '3', 'g', 'q', 'n', 'y', '-', 'x', 'h', 't', 'w', '\u001b[31mj',\u001b[39m 'd', 'x', 'z', 'w', 'k', 'f', 'h', '\u001b[31mj',\u001b[39m\u001b[31m '1\u001b[39m', '%', 'x', 'h', 't', 'w', '\u001b[31mj',\u001b[39m 'd', 'w', '\u001b[31mj',\u001b[39m 'h', 'y', '.', '\\x0f', '\\x0f', '(', '%', 'l', 'f', 'r', '\u001b[31mj',\u001b[39m '%', 't', '{', '\u001b[31mj',\u001b[39m 'w', '%', 'k', 'z', 's', 'h', 'y', 'n', 't', 's', '\\x0f', 'i', '\u001b[31mj',\u001b[39m 'k', '%', 'l', 'f', 'r', '\u001b[31mj',\u001b[39m 'd', 't', '{', '\u001b[31mj',\u001b[39m 'w', '-', '.', '?', '\\x0f', '\\x0f', '\\x0e', '(', '%', 'h', 'w', '\u001b[31mj',\u001b[39m 'f', 'y', 'n', 's', 'l', '%', 'k', 't', 's', 'y', '%', 't', 'g', 'o', '\u001b[31mj',\u001b[39m 'h', 'y', '%', 'r', '~', 'd', 'k', 't', 's', 'y', '\\x0f', '\\x0e', 'r', '~', 'd', 'k', 't', 's', 'y', '%', 'B', '%', 'u', '~', 'l', 'f', 'r', '\u001b[31mj',\u001b[39m '3', 'k', 't', 's', 'y', '3', 'X', '~', 'x', 'K', 't', 's', 'y', '-', ',', 'y', 'n', 'r', '\u001b[31mj',\u001b[39m 'x', '%', 's', '\u001b[31mj',\u001b[39m '|', '%', 'w', 't', 'r', 'f', 's', ',',\u001b[31m '1\u001b[39m', '%', ':', '5', '.', '\\x0f', '\\x0e', '\\x0f', '\\x0e', '(', '%', 'h', 'w', '\u001b[31mj',\u001b[39m 'f', 'y', 'n', 's', 'l', '%', 'f', '%', 'y', '\u001b[31mj',\u001b[39m '}', 'y', '%', 'x', 'z', 'w', 'k', 'f', 'h', '\u001b[31mj',\u001b[39m '%', 't', 's', '%', '|', 'm', 'n', 'h', 'm', '%', 'y', '\u001b[31mj',\u001b[39m '}', 'y', '\\x0f', '\\x0e', '(', '%', '|', 'n', 'q', 'q', '%', 'g', '\u001b[31mj',\u001b[39m '%', 'i', 'w', 'f', '|', 's', '\\x0f', '\\x0e', 'l', 'f', 'r', '\u001b[31mj',\u001b[39m 'd', 't', '{', '\u001b[31mj',\u001b[39m 'w', 'd', 'x', 'z', 'w', 'k', 'f', 'h', '\u001b[31mj',\u001b[39m '%', 'B', '%', 'r', '~', 'd', 'k', 't', 's', 'y', '3', 'w', '\u001b[31mj',\u001b[39m 's', 'i', '\u001b[31mj',\u001b[39m 'w', '-', '\\x0f', '\\x0e', '\\x0e', ',', '^', 't', 'z', 'w', '%', 'X', 'h', 't', 'w', '\u001b[31mj',\u001b[39m '%', 'n', 'x', '%', '?', '%', ',', '%', '0', '%', 'x', 'y', 'w', '-', 'x', 'h', 't', 'w', '\u001b[31mj',\u001b[39m '.',\u001b[31m '1\u001b[39m', '%', 'Y', 'w', 'z', '\u001b[31mj',\u001b[39m\u001b[31m '1\u001b[39m', '%', 'w', '\u001b[31mj',\u001b[39m 'i', '.', '\\x0f', '\\x0e', '\\x0f', '\\x0e', '(', '%', 'h', 'w', '\u001b[31mj',\u001b[39m 'f', 'y', '\u001b[31mj',\u001b[39m '%', 'f', '%', 'w', '\u001b[31mj',\u001b[39m 'h', 'y', 'f', 's', 'l', 'z', 'q', 'f', 'w', '%', 't', 'g', 'o', '\u001b[31mj',\u001b[39m 'h', 'y', '%', 'k', 't', 'w', '%', 'y', 'm', '\u001b[31mj',\u001b[39m '%', 'y', '\u001b[31mj',\u001b[39m '}', 'y', '\\x0f', '\\x0e', '(', '%', 'x', 'z', 'w', 'k', 'f', 'h', '\u001b[31mj',\u001b[39m '%', 't', 'g', 'o', '\u001b[31mj',\u001b[39m 'h', 'y', '\\x0f', '\\x0e', 'l', 'f', 'r', '\u001b[31mj',\u001b[39m 'd', 't', '{', '\u001b[31mj',\u001b[39m 'w', 'd', 'w', '\u001b[31mj',\u001b[39m 'h', 'y', '%', 'B', '%', 'l', 'f', 'r', '\u001b[31mj',\u001b[39m 'd', 't', '{', '\u001b[31mj',\u001b[39m 'w', 'd', 'x', 'z', 'w', 'k', 'f', 'h', '\u001b[31mj',\u001b[39m '3', 'l', '\u001b[31mj',\u001b[39m 'y', 'd', 'w', '\u001b[31mj',\u001b[39m 'h', 'y', '-', '.', '\\x0f', '\\x0e', '\\x0f', '\\x0e', '(', '%', 'x', '\u001b[31mj',\u001b[39m 'y', 'y', 'n', 's', 'l', '%', 'u', 't', 'x', 'n', 'y', 'n', 't', 's', '%', 't', 'k', '%', 'y', 'm', '\u001b[31mj',\u001b[39m '%', 'y', '\u001b[31mj',\u001b[39m '}', 'y', '\\x0f', '\\x0e', 'l', 'f', 'r', '\u001b[31mj',\u001b[39m 'd', 't', '{', '\u001b[31mj',\u001b[39m 'w', 'd', 'w', '\u001b[31mj',\u001b[39m 'h', 'y', '3', 'r', 'n', 'i', 'y', 't', 'u', '%', 'B', '%', '-', '|', 'n', 's', 'i', 't', '|', 'd', '}',\u001b[31m '4\u001b[39m',\u001b[31m '7\u001b[39m',\u001b[31m '1\u001b[39m', '%', '|', 'n', 's', 'i', 't', '|', 'd', '~',\u001b[31m '4\u001b[39m', '9', '.', '\\x0f', '\\x0e', '\\x0f', '\\x0e', '(', '%', 'g', 'q', 'n', 'y', '%', '|', 'n', 'q', 'q', '%', 'i', 'w', 'f', '|', '%', 'y', 'm', '\u001b[31mj',\u001b[39m '%', 'y', '\u001b[31mj',\u001b[39m '}', 'y', '%', 't', 's', '%', 'x', 'h', 'w', '\u001b[31mj',\u001b[39m '\u001b[31mj',\u001b[39m 's', '\\x0f', '\\x0e', 'l', 'f', 'r', '\u001b[31mj',\u001b[39m 'd', '|', 'n', 's', 'i', 't', '|', '3', 'g', 'q', 'n', 'y', '-', 'l', 'f', 'r', '\u001b[31mj',\u001b[39m 'd', 't', '{', '\u001b[31mj',\u001b[39m 'w', 'd', 'x', 'z', 'w', 'k', 'f', 'h', '\u001b[31mj',\u001b[39m\u001b[31m '1\u001b[39m', '%', 'l', 'f', 'r', '\u001b[31mj',\u001b[39m 'd', 't', '{', '\u001b[31mj',\u001b[39m 'w', 'd', 'w', '\u001b[31mj',\u001b[39m 'h', 'y', '.', '\\x0f', '\\x0e', 'u', '~', 'l', 'f', 'r', '\u001b[31mj',\u001b[39m '3', 'i', 'n', 'x', 'u', 'q', 'f', '~', '3', 'k', 'q', 'n', 'u', '-', '.', '\\x0f', '\\x0e', '\\x0f', '\\x0e', '(', '%', 'f', 'k', 'y', '\u001b[31mj',\u001b[39m 'w', '%',\u001b[31m '7\u001b[39m', '%', 'x', '\u001b[31mj',\u001b[39m 'h', 't', 's', 'i', 'x', '%', '|', '\u001b[31mj',\u001b[39m '%', '|', 'n', 'q', 'q', '%', 'v', 'z', 'n', 'y', '%', 'y', 'm', '\u001b[31mj',\u001b[39m '%', 'u', 'w', 't', 'l', 'w', 'f', 'r', '\\x0f', '\\x0e', 'y', 'n', 'r', '\u001b[31mj',\u001b[39m '3', 'x', 'q', '\u001b[31mj',\u001b[39m '\u001b[31mj',\u001b[39m 'u', '-',\u001b[31m '7\u001b[39m', '.', '\\x0f', '\\x0e', '\\x0f', '\\x0e', '(', '%', 'i', '\u001b[31mj',\u001b[39m 'f', 'h', 'y', 'n', '{', 'f', 'y', 'n', 's', 'l', '%', 'u', '~', 'l', 'f', 'r', '\u001b[31mj',\u001b[39m '%', 'q', 'n', 'g', 'w', 'f', 'w', '~', '\\x0f', '\\x0e', 'u', '~', 'l', 'f', 'r', '\u001b[31mj',\u001b[39m '3', 'v', 'z', 'n', 'y', '-', '.', '\\x0f', '\\x0e', '\\x0f', '\\x0e', '(', '%', 'v', 'z', 'n', 'y', '%', 'y', 'm', '\u001b[31mj',\u001b[39m '%', 'u', 'w', 't', 'l', 'w', 'f', 'r', '\\x0f', '\\x0e', 'v', 'z', 'n', 'y', '-', '.', '\\x0f', '\\x0f', '\\x0f', '(', '%', 'R', 'f', 'n', 's', '%', 'K', 'z', 's', 'h', 'y', 'n', 't', 's', '\\x0f', '|', 'm', 'n', 'q', '\u001b[31mj',\u001b[39m '%', 'Y', 'w', 'z', '\u001b[31mj',\u001b[39m '?', '\\x0f', '\\x0e', '\\x0f', '\\x0e', '(', '%', 'm', 'f', 's', 'i', 'q', 'n', 's', 'l', '%', 'p', '\u001b[31mj',\u001b[39m '~', '%', '\u001b[31mj',\u001b[39m '{', '\u001b[31mj',\u001b[39m 's', 'y', 'x', '\\x0f', '\\x0e', 'k', 't', 'w', '%', '\u001b[31mj',\u001b[39m '{', '\u001b[31mj',\u001b[39m 's', 'y', '%', 'n', 's', '%', 'u', '~', 'l', 'f', 'r', '\u001b[31mj',\u001b[39m '3', '\u001b[31mj',\u001b[39m '{', '\u001b[31mj',\u001b[39m 's', 'y', '3', 'l', '\u001b[31mj',\u001b[39m 'y', '-', '.', '?', '\\x0f', '\\x0e', '\\x0e', 'n', 'k', '%', '\u001b[31mj',\u001b[39m '{', '\u001b[31mj',\u001b[39m 's', 'y', '3', 'y', '~', 'u', '\u001b[31mj',\u001b[39m '%', 'B', 'B', '%', 'u', '~', 'l', 'f', 'r', '\u001b[31mj',\u001b[39m '3', 'P', 'J', '^', 'I', 'T', '\\\\', 'S', '?', '\\x0f', '\\x0e', '\\x0e', '\\x0e', 'n', 'k', '%', '\u001b[31mj',\u001b[39m '{', '\u001b[31mj',\u001b[39m 's', 'y', '3', 'p', '\u001b[31mj',\u001b[39m '~', '%', 'B', 'B', '%', 'u', '~', 'l', 'f', 'r', '\u001b[31mj',\u001b[39m '3', 'P', 'd', 'Z', 'U', '?', '\\x0f', '\\x0e', '\\x0e', '\\x0e', '\\x0e', 'h', 'm', 'f', 's', 'l', '\u001b[31mj',\u001b[39m 'd', 'y', 't', '%', 'B', '%', ',', 'Z', 'U', ',', '\\x0f', '\\x0e', '\\x0e', '\\x0e', 'n', 'k', '%', '\u001b[31mj',\u001b[39m '{', '\u001b[31mj',\u001b[39m 's', 'y', '3', 'p', '\u001b[31mj',\u001b[39m '~', '%', 'B', 'B', '%', 'u', '~', 'l', 'f', 'r', '\u001b[31mj',\u001b[39m '3', 'P', 'd', 'I', 'T', '\\\\', 'S', '?', '\\x0f', '\\x0e', '\\x0e', '\\x0e', '\\x0e', 'h', 'm', 'f', 's', 'l', '\u001b[31mj',\u001b[39m 'd', 'y', 't', '%', 'B', '%', ',', 'I', 'T', '\\\\', 'S', ',', '\\x0f', '\\x0e', '\\x0e', '\\x0e', 'n', 'k', '%', '\u001b[31mj',\u001b[39m '{', '\u001b[31mj',\u001b[39m 's', 'y', '3', 'p', '\u001b[31mj',\u001b[39m '~', '%', 'B', 'B', '%', 'u', '~', 'l', 'f', 'r', '\u001b[31mj',\u001b[39m '3', 'P', 'd', 'Q', 'J', 'K', 'Y', '?', '\\x0f', '\\x0e', '\\x0e', '\\x0e', '\\x0e', 'h', 'm', 'f', 's', 'l', '\u001b[31mj',\u001b[39m 'd', 'y', 't', '%', 'B', '%', ',', 'Q', 'J', 'K', 'Y', ',', '\\x0f', '\\x0e', '\\x0e', '\\x0e', 'n', 'k', '%', '\u001b[31mj',\u001b[39m '{', '\u001b[31mj',\u001b[39m 's', 'y', '3', 'p', '\u001b[31mj',\u001b[39m '~', '%', 'B', 'B', '%', 'u', '~', 'l', 'f', 'r', '\u001b[31mj',\u001b[39m '3', 'P', 'd', 'W', 'N', 'L', 'M', 'Y', '?', '\\x0f', '\\x0e', '\\x0e', '\\x0e', '\\x0e', 'h', 'm', 'f', 's', 'l', '\u001b[31mj',\u001b[39m 'd', 'y', 't', '%', 'B', '%', ',', 'W', 'N', 'L', 'M', 'Y', ',', '\\x0f', '\\x0f', '\\x0e', '(', '%', 'N', 'k', '%', 'y', '|', 't', '%', 'p', '\u001b[31mj',\u001b[39m '~', 'x', '%', 'u', 'w', '\u001b[31mj',\u001b[39m 'x', 'x', '\u001b[31mj',\u001b[39m 'i', '%', 'x', 'n', 'r', 'z', 'q', 'y', 'f', 's', '\u001b[31mj',\u001b[39m 't', 'z', 'x', 'q', '~', '\\x0f', '\\x0e', '(', '%', '|', '\u001b[31mj',\u001b[39m '%', 'i', 't', 's', ',', 'y', '%', '|', 'f', 's', 'y', '%', 'x', 's', 'f', 'p', '\u001b[31mj',\u001b[39m '%', 'y', 't', '%', 'r', 't', '{', '\u001b[31mj',\u001b[39m '%', 'n', 's', 'y', 't', '%', 'y', '|', 't', '\\x0f', '\\x0e', '(', '%', 'i', 'n', 'w', '\u001b[31mj',\u001b[39m 'h', 'y', 'n', 't', 's', 'x', '%', 'x', 'n', 'r', 'z', 'q', 'y', 'f', 's', '\u001b[31mj',\u001b[39m 't', 'z', 'x', 'q', '~', '\\x0f', '\\x0e', 'n', 'k', '%', 'h', 'm', 'f', 's', 'l', '\u001b[31mj',\u001b[39m 'd', 'y', 't', '%', 'B', 'B', '%', ',', 'Z', 'U', ',', '%', 'f', 's', 'i', '%', 'i', 'n', 'w', '\u001b[31mj',\u001b[39m 'h', 'y', 'n', 't', 's', '%', '&', 'B', '%', ',', 'I', 'T', '\\\\', 'S', ',', '?', '\\x0f', '\\x0e', '\\x0e', 'i', 'n', 'w', '\u001b[31mj',\u001b[39m 'h', 'y', 'n', 't', 's', '%', 'B', '%', ',', 'Z', 'U', ',', '\\x0f', '\\x0e', 'n', 'k', '%', 'h', 'm', 'f', 's', 'l', '\u001b[31mj',\u001b[39m 'd', 'y', 't', '%', 'B', 'B', '%', ',', 'I', 'T', '\\\\', 'S', ',', '%', 'f', 's', 'i', '%', 'i', 'n', 'w', '\u001b[31mj',\u001b[39m 'h', 'y', 'n', 't', 's', '%', '&', 'B', '%', ',', 'Z', 'U', ',', '?', '\\x0f', '\\x0e', '\\x0e', 'i', 'n', 'w', '\u001b[31mj',\u001b[39m 'h', 'y', 'n', 't', 's', '%', 'B', '%', ',', 'I', 'T', '\\\\', 'S', ',', '\\x0f', '\\x0e', 'n', 'k', '%', 'h', 'm', 'f', 's', 'l', '\u001b[31mj',\u001b[39m 'd', 'y', 't', '%', 'B', 'B', '%', ',', 'Q', 'J', 'K', 'Y', ',', '%', 'f', 's', 'i', '%', 'i', 'n', 'w', '\u001b[31mj',\u001b[39m 'h', 'y', 'n', 't', 's', '%', '&', 'B', '%', ',', 'W', 'N', 'L', 'M', 'Y', ',', '?', '\\x0f', '\\x0e', '\\x0e', 'i', 'n', 'w', '\u001b[31mj',\u001b[39m 'h', 'y', 'n', 't', 's', '%', 'B', '%', ',', 'Q', 'J', 'K', 'Y', ',', '\\x0f', '\\x0e', 'n', 'k', '%', 'h', 'm', 'f', 's', 'l', '\u001b[31mj',\u001b[39m 'd', 'y', 't', '%', 'B', 'B', '%', ',', 'W', 'N', 'L', 'M', 'Y', ',', '%', 'f', 's', 'i', '%', 'i', 'n', 'w', '\u001b[31mj',\u001b[39m 'h', 'y', 'n', 't', 's', '%', '&', 'B', '%', ',', 'Q', 'J', 'K', 'Y', ',', '?', '\\x0f', '\\x0e', '\\x0e', 'i', 'n', 'w', '\u001b[31mj',\u001b[39m 'h', 'y', 'n', 't', 's', '%', 'B', '%', ',', 'W', 'N', 'L', 'M', 'Y', ',', '\\x0f', '\\x0f', '\\x0e', '(', '%', 'R', 't', '{', 'n', 's', 'l', '%', 'y', 'm', '\u001b[31mj',\u001b[39m '%', 'x', 's', 'f', 'p', '\u001b[31mj',\u001b[39m '\\x0f', '\\x0e', 'n', 'k', '%', 'i', 'n', 'w', '\u001b[31mj',\u001b[39m 'h', 'y', 'n', 't', 's', '%', 'B', 'B', '%', ',', 'Z', 'U', ',', '?', '\\x0f', '\\x0e', '\\x0e', 'x', 's', 'f', 'p', '\u001b[31mj',\u001b[39m 'd', 'u', 't', 'x', 'n', 'y', 'n', 't', 's', '`', '6', 'b', '%', '2', 'B', '%', '6', '5', '\\x0f', '\\x0e', 'n', 'k', '%', 'i', 'n', 'w', '\u001b[31mj',\u001b[39m 'h', 'y', 'n', 't', 's', '%', 'B', 'B', '%', ',', 'I', 'T', '\\\\', 'S', ',', '?', '\\x0f', '\\x0e', '\\x0e', 'x', 's', 'f', 'p', '\u001b[31mj',\u001b[39m 'd', 'u', 't', 'x', 'n', 'y', 'n', 't', 's', '`', '6', 'b', '%', '0', 'B', '%', '6', '5', '\\x0f', '\\x0e', 'n', 'k', '%', 'i', 'n', 'w', '\u001b[31mj',\u001b[39m 'h', 'y', 'n', 't', 's', '%', 'B', 'B', '%', ',', 'Q', 'J', 'K', 'Y', ',', '?', '\\x0f', '\\x0e', '\\x0e', 'x', 's', 'f', 'p', '\u001b[31mj',\u001b[39m 'd', 'u', 't', 'x', 'n', 'y', 'n', 't', 's', '`', '5', 'b', '%', '2', 'B', '%', '6', '5', '\\x0f', '\\x0e', 'n', 'k', '%', 'i', 'n', 'w', '\u001b[31mj',\u001b[39m 'h', 'y', 'n', 't', 's', '%', 'B', 'B', '%', ',', 'W', 'N', 'L', 'M', 'Y', ',', '?', '\\x0f', '\\x0e', '\\x0e', 'x', 's', 'f', 'p', '\u001b[31mj',\u001b[39m 'd', 'u', 't', 'x', 'n', 'y', 'n', 't', 's', '`', '5', 'b', '%', '0', 'B', '%', '6', '5', '\\x0f', '\\x0f', '\\x0e', '(', '%', 'X', 's', 'f', 'p', '\u001b[31mj',\u001b[39m '%', 'g', 't', 'i', '~', '%', 'l', 'w', 't', '|', 'n', 's', 'l', '%', 'r', '\u001b[31mj',\u001b[39m 'h', 'm', 'f', 's', 'n', 'x', 'r', '\\x0f', '\\x0e', '(', '%', 'n', 'k', '%', 'k', 'w', 'z', 'n', 'y', 'x', '%', 'f', 's', 'i', '%', 'x', 's', 'f', 'p', '\u001b[31mj',\u001b[39m 'x', '%', 'h', 't', 'q', 'q', 'n', 'i', '\u001b[31mj',\u001b[39m '%', 'y', 'm', '\u001b[31mj',\u001b[39m 's', '%', 'x', 'h', 't', 'w', '\u001b[31mj',\u001b[39m 'x', '\\x0f', '\\x0e', '(', '%', '|', 'n', 'q', 'q', '%', 'g', '\u001b[31mj',\u001b[39m '%', 'n', 's', 'h', 'w', '\u001b[31mj',\u001b[39m 'r', '\u001b[31mj',\u001b[39m 's', 'y', '\u001b[31mj',\u001b[39m 'i', '%', 'g', '~', '%', '6', '5', '\\x0f', '\\x0e', 'x', 's', 'f', 'p', '\u001b[31mj',\u001b[39m 'd', 'g', 't', 'i', '~', '3', 'n', 's', 'x', '\u001b[31mj',\u001b[39m 'w', 'y', '-', '5',\u001b[31m '1\u001b[39m', '%', 'q', 'n', 'x', 'y', '-', 'x', 's', 'f', 'p', '\u001b[31mj',\u001b[39m 'd', 'u', 't', 'x', 'n', 'y', 'n', 't', 's', '.', '.', '\\x0f', '\\x0e', 'n', 'k', '%', 'x', 's', 'f', 'p', '\u001b[31mj',\u001b[39m 'd', 'u', 't', 'x', 'n', 'y', 'n', 't', 's', '`', '5', 'b', '%', 'B', 'B', '%', 'k', 'w', 'z', 'n', 'y', 'd', 'u', 't', 'x', 'n', 'y', 'n', 't', 's', '`', '5', 'b', '%', 'f', 's', 'i', '%', 'x', 's', 'f', 'p', '\u001b[31mj',\u001b[39m 'd', 'u', 't', 'x', 'n', 'y', 'n', 't', 's', '`', '6', 'b', '%', 'B', 'B', '%', 'k', 'w', 'z', 'n', 'y', 'd', 'u', 't', 'x', 'n', 'y', 'n', 't', 's', '`', '6', 'b', '?', '\\x0f', '\\x0e', '\\x0e', 'x', 'h', 't', 'w', '\u001b[31mj',\u001b[39m '%', '0', 'B', '%', '6', '5', '\\x0f', '\\x0e', '\\x0e', 'k', 'w', 'z', 'n', 'y', 'd', 'x', 'u', 'f', '|', 's', '%', 'B', '%', 'K', 'f', 'q', 'x', '\u001b[31mj',\u001b[39m '\\x0f', '\\x0e', '\u001b[31mj',\u001b[39m 'q', 'x', '\u001b[31mj',\u001b[39m '?', '\\x0f', '\\x0e', '\\x0e', 'x', 's', 'f', 'p', '\u001b[31mj',\u001b[39m 'd', 'g', 't', 'i', '~', '3', 'u', 't', 'u', '-', '.', '\\x0f', '\\x0e', '\\x0e', '\\x0f', '\\x0e', 'n', 'k', '%', 's', 't', 'y', '%', 'k', 'w', 'z', 'n', 'y', 'd', 'x', 'u', 'f', '|', 's', '?', '\\x0f', '\\x0e', '\\x0e', 'k', 'w', 'z', 'n', 'y', 'd', 'u', 't', 'x', 'n', 'y', 'n', 't', 's', '%', 'B', '%', '`', 'w', 'f', 's', 'i', 't', 'r', '3', 'w', 'f', 's', 'i', 'w', 'f', 's', 'l', '\u001b[31mj',\u001b[39m '-', '6',\u001b[31m '1\u001b[39m', '%', '-', '|', 'n', 's', 'i', 't', '|', 'd', '}',\u001b[31m '4\u001b[39m',\u001b[31m '4\u001b[39m', '6', '5', '.', '.', '%', '/', '%', '6', '5',\u001b[31m '1\u001b[39m', '\\x0f', '\\x0e', '\\x0e', '\\x0e', '\\x0e', '\\x0e', '\\x0e', 'w', 'f', 's', 'i', 't', 'r', '3', 'w', 'f', 's', 'i', 'w', 'f', 's', 'l', '\u001b[31mj',\u001b[39m '-', '6',\u001b[31m '1\u001b[39m', '%', '-', '|', 'n', 's', 'i', 't', '|', 'd', '~',\u001b[31m '4\u001b[39m',\u001b[31m '4\u001b[39m', '6', '5', '.', '.', '%', '/', '%', '6', '5', 'b', '\\x0f', '\\x0e', '\\x0e', '\\x0f', '\\x0e', 'k', 'w', 'z', 'n', 'y', 'd', 'x', 'u', 'f', '|', 's', '%', 'B', '%', 'Y', 'w', 'z', '\u001b[31mj',\u001b[39m '\\x0f', '\\x0e', 'l', 'f', 'r', '\u001b[31mj',\u001b[39m 'd', '|', 'n', 's', 'i', 't', '|', '3', 'k', 'n', 'q', 'q', '-', 'g', 'q', 'f', 'h', 'p', '.', '\\x0f', '\\x0e', '\\x0f', '\\x0e', 'k', 't', 'w', '%', 'u', 't', 'x', '%', 'n', 's', '%', 'x', 's', 'f', 'p', '\u001b[31mj',\u001b[39m 'd', 'g', 't', 'i', '~', '?', '\\x0f', '\\x0e', '\\x0e', 'u', '~', 'l', 'f', 'r', '\u001b[31mj',\u001b[39m '3', 'i', 'w', 'f', '|', '3', 'w', '\u001b[31mj',\u001b[39m 'h', 'y', '-', 'l', 'f', 'r', '\u001b[31mj',\u001b[39m 'd', '|', 'n', 's', 'i', 't', '|',\u001b[31m '1\u001b[39m', '%', 'l', 'w', '\u001b[31mj',\u001b[39m '\u001b[31mj',\u001b[39m 's',\u001b[31m '1\u001b[39m', '\\x0f', '\\x0e', '\\x0e', '\\x0e', '\\x0e', '\\x0e', '\\x0e', 'u', '~', 'l', 'f', 'r', '\u001b[31mj',\u001b[39m '3', 'W', '\u001b[31mj',\u001b[39m 'h', 'y', '-', 'u', 't', 'x', '`', '5', 'b',\u001b[31m '1\u001b[39m', '%', 'u', 't', 'x', '`', '6', 'b',\u001b[31m '1\u001b[39m', '%', '6', '5',\u001b[31m '1\u001b[39m', '%', '6', '5', '.', '.', '\\x0f', '\\x0e', 'u', '~', 'l', 'f', 'r', '\u001b[31mj',\u001b[39m '3', 'i', 'w', 'f', '|', '3', 'w', '\u001b[31mj',\u001b[39m 'h', 'y', '-', 'l', 'f', 'r', '\u001b[31mj',\u001b[39m 'd', '|', 'n', 's', 'i', 't', '|',\u001b[31m '1\u001b[39m', '%', '|', 'm', 'n', 'y', '\u001b[31mj',\u001b[39m\u001b[31m '1\u001b[39m', '%', 'u', '~', 'l', 'f', 'r', '\u001b[31mj',\u001b[39m '3', 'W', '\u001b[31mj',\u001b[39m 'h', 'y', '-', '\\x0f', '\\x0e', '\\x0e', 'k', 'w', 'z', 'n', 'y', 'd', 'u', 't', 'x', 'n', 'y', 'n', 't', 's', '`', '5', 'b',\u001b[31m '1\u001b[39m', '%', 'k', 'w', 'z', 'n', 'y', 'd', 'u', 't', 'x', 'n', 'y', 'n', 't', 's', '`', '6', 'b',\u001b[31m '1\u001b[39m', '%', '6', '5',\u001b[31m '1\u001b[39m', '%', '6', '5', '.', '.', '\\x0f', '\\x0f', '\\x0e', '(', '%', 'L', 'f', 'r', '\u001b[31mj',\u001b[39m '%', 'T', '{', '\u001b[31mj',\u001b[39m 'w', '%', 'h', 't', 's', 'i', 'n', 'y', 'n', 't', 's', 'x', '\\x0f', '\\x0e', 'n', 'k', '%', 'x', 's', 'f', 'p', '\u001b[31mj',\u001b[39m 'd', 'u', 't', 'x', 'n', 'y', 'n', 't', 's', '`', '5', 'b', '%', 'A', '%', '5', '%', 't', 'w', '%', 'x', 's', 'f', 'p', '\u001b[31mj',\u001b[39m 'd', 'u', 't', 'x', 'n', 'y', 'n', 't', 's', '`', '5', 'b', '%', 'C', '%', '|', 'n', 's', 'i', 't', '|', 'd', '}', '2', '6', '5', '?', '\\x0f', '\\x0e', '\\x0e', 'l', 'f', 'r', '\u001b[31mj',\u001b[39m 'd', 't', '{', '\u001b[31mj',\u001b[39m 'w', '-', '.', '\\x0f', '\\x0e', 'n', 'k', '%', 'x', 's', 'f', 'p', '\u001b[31mj',\u001b[39m 'd', 'u', 't', 'x', 'n', 'y', 'n', 't', 's', '`', '6', 'b', '%', 'A', '%', '5', '%', 't', 'w', '%', 'x', 's', 'f', 'p', '\u001b[31mj',\u001b[39m 'd', 'u', 't', 'x', 'n', 'y', 'n', 't', 's', '`', '6', 'b', '%', 'C', '%', '|', 'n', 's', 'i', 't', '|', 'd', '~', '2', '6', '5', '?', '\\x0f', '\\x0e', '\\x0e', 'l', 'f', 'r', '\u001b[31mj',\u001b[39m 'd', 't', '{', '\u001b[31mj',\u001b[39m 'w', '-', '.', '\\x0f', '\\x0f', '\\x0e', '(', '%', 'Y', 't', 'z', 'h', 'm', 'n', 's', 'l', '%', 'y', 'm', '\u001b[31mj',\u001b[39m '%', 'x', 's', 'f', 'p', '\u001b[31mj',\u001b[39m '%', 'g', 't', 'i', '~', '\\x0f', '\\x0e', 'k', 't', 'w', '%', 'g', 'q', 't', 'h', 'p', '%', 'n', 's', '%', 'x', 's', 'f', 'p', '\u001b[31mj',\u001b[39m 'd', 'g', 't', 'i', '~', '`', '6', '?', 'b', '?', '\\x0f', '\\x0e', '\\x0e', 'n', 'k', '%', 'x', 's', 'f', 'p', '\u001b[31mj',\u001b[39m 'd', 'u', 't', 'x', 'n', 'y', 'n', 't', 's', '`', '5', 'b', '%', 'B', 'B', '%', 'g', 'q', 't', 'h', 'p', '`', '5', 'b', '%', 'f', 's', 'i', '%', 'x', 's', 'f', 'p', '\u001b[31mj',\u001b[39m 'd', 'u', 't', 'x', 'n', 'y', 'n', 't', 's', '`', '6', 'b', '%', 'B', 'B', '%', 'g', 'q', 't', 'h', 'p', '`', '6', 'b', '?', '\\x0f', '\\x0e', '\\x0e', '\\x0e', 'l', 'f', 'r', '\u001b[31mj',\u001b[39m 'd', 't', '{', '\u001b[31mj',\u001b[39m 'w', '-', '.', '\\x0f', '\\x0f', '\\x0e', '(', '%', 'i', 'n', 'x', 'u', 'q', 'f', '~', 'n', 's', 'l', '%', 'x', 'h', 't', 'w', '\u001b[31mj',\u001b[39m '%', 'h', 't', 's', 'y', 'n', 's', 'z', 't', 'z', 'x', 'q', '~', '\\x0f', '\\x0e', 'x', 'm', 't', '|', 'd', 'x', 'h', 't', 'w', '\u001b[31mj',\u001b[39m '-', '6',\u001b[31m '1\u001b[39m', '%', '|', 'm', 'n', 'y', '\u001b[31mj',\u001b[39m\u001b[31m '1\u001b[39m', '%', ',', 'y', 'n', 'r', '\u001b[31mj',\u001b[39m 'x', '%', 's', '\u001b[31mj',\u001b[39m '|', '%', 'w', 't', 'r', 'f', 's', ',',\u001b[31m '1\u001b[39m', '%',\u001b[31m '7\u001b[39m', '5', '.', '\\x0f', '\\x0f', '\\x0e', '(', '%', 'W', '\u001b[31mj',\u001b[39m 'k', 'w', '\u001b[31mj',\u001b[39m 'x', 'm', '%', 'l', 'f', 'r', '\u001b[31mj',\u001b[39m '%', 'x', 'h', 'w', '\u001b[31mj',\u001b[39m '\u001b[31mj',\u001b[39m 's', '\\x0f', '\\x0e', 'u', '~', 'l', 'f', 'r', '\u001b[31mj',\u001b[39m '3', 'i', 'n', 'x', 'u', 'q', 'f', '~', '3', 'z', 'u', 'i', 'f', 'y', '\u001b[31mj',\u001b[39m '-', '.', '\\x0f', '\\x0f', '\\x0e', '(', '%', 'K', 'w', 'f', 'r', '\u001b[31mj',\u001b[39m '%', 'U', '\u001b[31mj',\u001b[39m 'w', '%', 'X', '\u001b[31mj',\u001b[39m 'h', 't', 's', 'i', '%',\u001b[31m '4\u001b[39m', 'W', '\u001b[31mj',\u001b[39m 'k', 'w', '\u001b[31mj',\u001b[39m 'x', 'm', '%', 'W', 'f', 'y', '\u001b[31mj',\u001b[39m '\\x0f', '\\x0e', 'k', 'u', 'x', '3', 'y', 'n', 'h', 'p', '-', 'x', 's', 'f', 'p', '\u001b[31mj',\u001b[39m 'd', 'x', 'u', '\u001b[31mj',\u001b[39m '\u001b[31mj',\u001b[39m 'i', '.', '\\x0f']\n",
      "key =5\n",
      "exec(decrypt(cipher, key))\n"
     ]
    },
    {
     "data": {
      "text/plain": [
       "re.compile(r'(448|222|\\W40|040|\\W22|\\W89|400|\\W28|j\\W\\W|\\W\\W4|468|693|70\\W|52\\W|\\W19|\\W\\W1|\\W18|\\W91|210|\\W\\W7)',\n",
       "           re.UNICODE)"
      ]
     },
     "execution_count": 43,
     "metadata": {},
     "output_type": "execute_result"
    }
   ],
   "source": [
    "filename = '/kaggle/input/script-5-algo-1-key-4/script5algo1key4.py'\n",
    "hloveralltopgrads(filename, 20, True, False)"
   ]
  },
  {
   "cell_type": "code",
   "execution_count": 44,
   "id": "d42548b4",
   "metadata": {
    "execution": {
     "iopub.execute_input": "2024-04-15T15:48:06.928168Z",
     "iopub.status.busy": "2024-04-15T15:48:06.927064Z",
     "iopub.status.idle": "2024-04-15T15:48:07.192179Z",
     "shell.execute_reply": "2024-04-15T15:48:07.191167Z"
    },
    "papermill": {
     "duration": 0.302616,
     "end_time": "2024-04-15T15:48:07.196406",
     "exception": false,
     "start_time": "2024-04-15T15:48:06.893790",
     "status": "completed"
    },
    "tags": []
   },
   "outputs": [
    {
     "name": "stdout",
     "output_type": "stream",
     "text": [
      "\n",
      "def decrypt(f, k):\n",
      "        decrypted = \"\"\n",
      "        for i in f:\n",
      "            decrypted = decrypted.__add__(chr((ord(i)-k)%128))\n",
      "        return decrypted\n",
      "        \n",
      "cipher = ['(', 'k', 'w', 't', 'r', '%', 'm', 'y', 'y', 'u', 'x', '?',\u001b[41m '4', '4\u001b[0m', '|', '|', '|', '3', 'l', '\u001b[41mj', 'j',\u001b[0m 'p', 'x', 'k', 't', 'w', 'l', '\u001b[41mj', 'j',\u001b[0m 'p', 'x', '3', 't', 'w', 'l', '4', 'x', 's', 'f', 'p', 'j', '2', 'l', 'f', 'r', 'j', '2', 'n', 's', '2', 'u', '~', 'y', 'm', 't', 's', '2', 'z', 'x', 'n', 's', 'l', '2', 'u', '~', 'l', 'f', 'r', 'j', '2', 'r', 't', 'i', 'z', 'q', '\u001b[41mj', '4\u001b[0m', '\\x0f', '\\x0f', '(', '%', 'n', 'r', 'u', 't', 'w', 'y', 'n', 's', 'l', '%', 'q', 'n', 'g', 'w', 'f', 'w', 'n', 'j', 'x', '\\x0f', 'n', 'r', 'u', 't', 'w', 'y', '%', 'u', '~', 'l', 'f', 'r', 'j', '\\x0f', 'n', 'r', 'u', 't', 'w', 'y', '%', 'y', 'n', 'r', 'j', '\\x0f', 'n', 'r', 'u', 't', 'w', 'y', '%', 'w', 'f', 's', 'i', 't', 'r', '\\x0f', '\\x0f', 'x', 's', 'f', 'p', 'j', 'd', 'x', 'u', '\u001b[41mj', 'j',\u001b[0m 'i', '%', 'B', '%', '6', ':', '\\x0f', '\\x0f', '(', '%', '\\\\', 'n', 's', 'i', 't', '|', '%', 'x', 'n', '\\x7f', 'j', '\\x0f', '|', 'n', 's', 'i', 't', '|', 'd', '}', '%', 'B', '%', '<', '7', '5', '\\x0f', '|', 'n', 's', 'i', 't', '|', 'd', '~', '%', 'B', '%', '9', '=', '5', '\\x0f', '\\x0f', '(', '%', 'i', 'j', 'k', 'n', 's', 'n', 's', 'l', '%', 'h', 't', 'q', 't', 'w', 'x', '\\x0f', 'g', 'q', 'f', 'h', 'p', '%', 'B', '%', 'u', '~', 'l', 'f', 'r', 'j', '3', 'H', 't', 'q', 't', 'w', '-', '5', '1', '%', '5', '1', '%', '5', '.', '\\x0f', '|', 'm', 'n', 'y', 'j', '%', 'B', '%', 'u', '~', 'l', 'f', 'r', 'j', '3', 'H', 't', 'q', 't', 'w', '-', '7', ':', ':', '1', '%', '7', ':', ':', '1', '%', '7', ':', ':', '.', '\\x0f', 'w', 'j', 'i', '%', 'B', '%', 'u', '~', 'l', 'f', 'r', 'j', '3', 'H', 't', 'q', 't', 'w', '-', '7', ':', ':', '1', '%', '5', '1', '%', '5', '.', '\\x0f', 'l', 'w', '\u001b[41mj', 'j',\u001b[0m 's', '%', 'B', '%', 'u', '~', 'l', 'f', 'r', 'j', '3', 'H', 't', 'q', 't', 'w', '-', '5', '1', '%', '7', ':', ':', '1', '%', '5', '.', '\\x0f', 'g', 'q', 'z', 'j', '%', 'B', '%', 'u', '~', 'l', 'f', 'r', 'j', '3', 'H', 't', 'q', 't', 'w', '-', '5', '1', '%', '5', '1', '%', '7', ':', ':', '.', '\\x0f', '\\x0f', '(', '%', 'N', 's', 'n', 'y', 'n', 'f', 'q', 'n', 'x', 'n', 's', 'l', '%', 'u', '~', 'l', 'f', 'r', 'j', '\\x0f', 'u', '~', 'l', 'f', 'r', 'j', '3', 'n', 's', 'n', 'y', '-', '.', '\\x0f', '\\x0f', '(', '%', 'N', 's', 'n', 'y', 'n', 'f', 'q', 'n', 'x', 'j', '%', 'l', 'f', 'r', 'j', '%', '|', 'n', 's', 'i', 't', '|', '\\x0f', 'u', '~', 'l', 'f', 'r', 'j', '3', 'i', 'n', 'x', 'u', 'q', 'f', '~', '3', 'x', 'j', 'y', 'd', 'h', 'f', 'u', 'y', 'n', 't', 's', '-', ',', 'X', 's', 'f', 'p', 'j', ',', '.', '\\x0f', 'l', 'f', 'r', 'j', 'd', '|', 'n', 's', 'i', 't', '|', '%', 'B', '%', 'u', '~', 'l', 'f', 'r', 'j', '3', 'i', 'n', 'x', 'u', 'q', 'f', '~', '3', 'x', 'j', 'y', 'd', 'r', 't', 'i', 'j', '-', '-', '|', 'n', 's', 'i', 't', '|', 'd', '}', '1', '%', '|', 'n', 's', 'i', 't', '|', 'd', '~', '.', '.', '\\x0f', '\\x0f', '(', '%', 'K', 'U', 'X', '%', '-', 'k', 'w', 'f', 'r', 'j', 'x', '%', 'u', 'j', 'w', '%', 'x', 'j', 'h', 't', 's', 'i', '.', '%', 'h', 't', 's', 'y', 'w', 't', 'q', 'q', 'j', 'w', '\\x0f', 'k', 'u', 'x', '%', 'B', '%', 'u', '~', 'l', 'f', 'r', 'j', '3', 'y', 'n', 'r', 'j', '3', 'H', 'q', 't', 'h', 'p', '-', '.', '\\x0f', '\\x0f', '(', '%', 'i', 'j', 'k', 'n', 's', 'n', 's', 'l', '%', 'x', 's', 'f', 'p', 'j', '%', 'i', 'j', 'k', 'f', 'z', 'q', 'y', '%', 'u', 't', 'x', 'n', 'y', 'n', 't', 's', '\\x0f', 'x', 's', 'f', 'p', 'j', 'd', 'u', 't', 'x', 'n', 'y', 'n', 't', 's', '%', 'B', '%', '`', '6', '5', '5', '1', '%', ':', '5', 'b', '\\x0f', '\\x0f', '(', '%', 'i', 'j', 'k', 'n', 's', 'n', 's', 'l', '%', 'k', 'n', 'w', 'x', 'y', '%', '9', '%', 'g', 'q', 't', 'h', 'p', 'x', '%', 't', 'k', '%', 'x', 's', 'f', 'p', 'j', '%', 'g', 't', 'i', '~', '\\x0f', 'x', 's', 'f', 'p', 'j', 'd', 'g', 't', 'i', '~', '%', 'B', '%', '`', '`', '6', '5', '5', '1', '%', ':', '5', 'b', '1', '\\x0f', '\\x0e', '\\x0e', '\\x0e', '`', '>', '5', '1', '%', ':', '5', 'b', '1', '\\x0f', '\\x0e', '\\x0e', '\\x0e', '`', '=', '5', '1', '%', ':', '5', 'b', '1', '\\x0f', '\\x0e', '\\x0e', '\\x0e', '`', '<', '5', '1', '%', ':', '5', 'b', '\\x0f', '\\x0e', '\\x0e', '\\x0e', 'b', '\\x0f', '(', '%', 'k', 'w', 'z', 'n', 'y', '%', 'u', 't', 'x', 'n', 'y', 'n', 't', 's', '\\x0f', 'k', 'w', 'z', 'n', 'y', 'd', 'u', 't', 'x', 'n', 'y', 'n', 't', 's', '%', 'B', '%', '`', 'w', 'f', 's', 'i', 't', 'r', '3', 'w', 'f', 's', 'i', 'w', 'f', 's', 'l', 'j', '-', '6', '1', '%', '-', '|', 'n', 's', 'i', 't', '|', 'd', '}',\u001b[41m '4', '4\u001b[0m', '6', '5', '.', '.', '%', '/', '%', '6', '5', '1', '\\x0f', '\\x0e', '\\x0e', '\\x0e', '\\x0e', 'w', 'f', 's', 'i', 't', 'r', '3', 'w', 'f', 's', 'i', 'w', 'f', 's', 'l', 'j', '-', '6', '1', '%', '-', '|', 'n', 's', 'i', 't', '|', 'd', '~',\u001b[41m '4', '4\u001b[0m', '6', '5', '.', '.', '%', '/', '%', '6', '5', 'b', '\\x0f', '\\x0f', 'k', 'w', 'z', 'n', 'y', 'd', 'x', 'u', 'f', '|', 's', '%', 'B', '%', 'Y', 'w', 'z', 'j', '\\x0f', '\\x0f', '(', '%', 'x', 'j', 'y', 'y', 'n', 's', 'l', '%', 'i', 'j', 'k', 'f', 'z', 'q', 'y', '%', 'x', 's', 'f', 'p', 'j', '%', 'i', 'n', 'w', 'j', 'h', 'y', 'n', 't', 's', '%', 'y', 't', '|', 'f', 'w', 'i', 'x', '\\x0f', '(', '%', 'w', 'n', 'l', 'm', 'y', '\\x0f', 'i', 'n', 'w', 'j', 'h', 'y', 'n', 't', 's', '%', 'B', '%', ',', 'W', 'N', 'L', 'M', 'Y', ',', '\\x0f', 'h', 'm', 'f', 's', 'l', 'j', 'd', 'y', 't', '%', 'B', '%', 'i', 'n', 'w', 'j', 'h', 'y', 'n', 't', 's', '\\x0f', '\\x0f', '(', '%', 'n', 's', 'n', 'y', 'n', 'f', 'q', '%', 'x', 'h', 't', 'w', 'j', '\\x0f', 'x', 'h', 't', 'w', 'j', '%', 'B', '%', '5', '\\x0f', '\\x0f', '(', '%', 'i', 'n', 'x', 'u', 'q', 'f', '~', 'n', 's', 'l', '%', 'X', 'h', 't', 'w', 'j', '%', 'k', 'z', 's', 'h', 'y', 'n', 't', 's', '\\x0f', 'i', 'j', 'k', '%', 'x', 'm', 't', '|', 'd', 'x', 'h', 't', 'w', 'j', '-', 'h', 'm', 't', 'n', 'h', '\u001b[41mj', '1\u001b[0m', '%', 'h', 't', 'q', 't', 'w', '1', '%', 'k', 't', 's', 'y', '1', '%', 'x', 'n', '\\x7f', 'j', '.', '?', '\\x0f', '\\x0f', '\\x0e', '(', '%', 'h', 'w', 'j', 'f', 'y', 'n', 's', 'l', '%', 'k', 't', 's', 'y', '%', 't', 'g', 'o', 'j', 'h', 'y', '%', 'x', 'h', 't', 'w', 'j', 'd', 'k', 't', 's', 'y', '\\x0f', '\\x0e', 'x', 'h', 't', 'w', 'j', 'd', 'k', 't', 's', 'y', '%', 'B', '%', 'u', '~', 'l', 'f', 'r', 'j', '3', 'k', 't', 's', 'y', '3', 'X', '~', 'x', 'K', 't', 's', 'y', '-', 'k', 't', 's', 'y', '1', '%', 'x', 'n', '\\x7f', 'j', '.', '\\x0f', '\\x0e', '\\x0f', '\\x0e', '(', '%', 'h', 'w', 'j', 'f', 'y', 'j', '%', 'y', 'm', 'j', '%', 'i', 'n', 'x', 'u', 'q', 'f', '~', '%', 'x', 'z', 'w', 'k', 'f', 'h', 'j', '%', 't', 'g', 'o', 'j', 'h', 'y', '\\x0f', '\\x0e', '(', '%', 'x', 'h', 't', 'w', 'j', 'd', 'x', 'z', 'w', 'k', 'f', 'h', 'j', '\\x0f', '\\x0e', 'x', 'h', 't', 'w', 'j', 'd', 'x', 'z', 'w', 'k', 'f', 'h', 'j', '%', 'B', '%', 'x', 'h', 't', 'w', 'j', 'd', 'k', 't', 's', 'y', '3', 'w', 'j', 's', 'i', 'j', 'w', '-', ',', 'X', 'h', 't', 'w', 'j', '%', '?', '%', ',', '%', '0', '%', 'x', 'y', 'w', '-', 'x', 'h', 't', 'w', '\u001b[41mj', '.', '1\u001b[0m', '%', 'Y', 'w', 'z', '\u001b[41mj', '1\u001b[0m', '%', 'h', 't', 'q', 't', 'w', '.', '\\x0f', '\\x0e', '\\x0f', '\\x0e', '(', '%', 'h', 'w', 'j', 'f', 'y', 'j', '%', 'f', '%', 'w', 'j', 'h', 'y', 'f', 's', 'l', 'z', 'q', 'f', 'w', '%', 't', 'g', 'o', 'j', 'h', 'y', '%', 'k', 't', 'w', '%', 'y', 'm', 'j', '%', 'y', 'j', '}', 'y', '\\x0f', '\\x0e', '(', '%', 'x', 'z', 'w', 'k', 'f', 'h', 'j', '%', 't', 'g', 'o', 'j', 'h', 'y', '\\x0f', '\\x0e', 'x', 'h', 't', 'w', 'j', 'd', 'w', 'j', 'h', 'y', '%', 'B', '%', 'x', 'h', 't', 'w', 'j', 'd', 'x', 'z', 'w', 'k', 'f', 'h', 'j', '3', 'l', 'j', 'y', 'd', 'w', 'j', 'h', 'y', '-', '.', '\\x0f', '\\x0e', '\\x0f', '\\x0e', '(', '%', 'i', 'n', 'x', 'u', 'q', 'f', '~', 'n', 's', 'l', '%', 'y', 'j', '}', 'y', '\\x0f', '\\x0e', 'l', 'f', 'r', 'j', 'd', '|', 'n', 's', 'i', 't', '|', '3', 'g', 'q', 'n', 'y', '-', 'x', 'h', 't', 'w', 'j', 'd', 'x', 'z', 'w', 'k', 'f', 'h', '\u001b[41mj', '1\u001b[0m', '%', 'x', 'h', 't', 'w', 'j', 'd', 'w', 'j', 'h', 'y', '.', '\\x0f', '\\x0f', '(', '%', 'l', 'f', 'r', 'j', '%', 't', '{', 'j', 'w', '%', 'k', 'z', 's', 'h', 'y', 'n', 't', 's', '\\x0f', 'i', 'j', 'k', '%', 'l', 'f', 'r', 'j', 'd', 't', '{', 'j', 'w', '-', '.', '?', '\\x0f', '\\x0f', '\\x0e', '(', '%', 'h', 'w', 'j', 'f', 'y', 'n', 's', 'l', '%', 'k', 't', 's', 'y', '%', 't', 'g', 'o', 'j', 'h', 'y', '%', 'r', '~', 'd', 'k', 't', 's', 'y', '\\x0f', '\\x0e', 'r', '~', 'd', 'k', 't', 's', 'y', '%', 'B', '%', 'u', '~', 'l', 'f', 'r', 'j', '3', 'k', 't', 's', 'y', '3', 'X', '~', 'x', 'K', 't', 's', 'y', '-', ',', 'y', 'n', 'r', 'j', 'x', '%', 's', 'j', '|', '%', 'w', 't', 'r', 'f', 's', ',', '1', '%', ':', '5', '.', '\\x0f', '\\x0e', '\\x0f', '\\x0e', '(', '%', 'h', 'w', 'j', 'f', 'y', 'n', 's', 'l', '%', 'f', '%', 'y', 'j', '}', 'y', '%', 'x', 'z', 'w', 'k', 'f', 'h', 'j', '%', 't', 's', '%', '|', 'm', 'n', 'h', 'm', '%', 'y', 'j', '}', 'y', '\\x0f', '\\x0e', '(', '%', '|', 'n', 'q', 'q', '%', 'g', 'j', '%', 'i', 'w', 'f', '|', 's', '\\x0f', '\\x0e', 'l', 'f', 'r', 'j', 'd', 't', '{', 'j', 'w', 'd', 'x', 'z', 'w', 'k', 'f', 'h', 'j', '%', 'B', '%', 'r', '~', 'd', 'k', 't', 's', 'y', '3', 'w', 'j', 's', 'i', 'j', 'w', '-', '\\x0f', '\\x0e', '\\x0e', ',', '^', 't', 'z', 'w', '%', 'X', 'h', 't', 'w', 'j', '%', 'n', 'x', '%', '?', '%', ',', '%', '0', '%', 'x', 'y', 'w', '-', 'x', 'h', 't', 'w', '\u001b[41mj', '.', '1\u001b[0m', '%', 'Y', 'w', 'z', '\u001b[41mj', '1\u001b[0m', '%', 'w', 'j', 'i', '.', '\\x0f', '\\x0e', '\\x0f', '\\x0e', '(', '%', 'h', 'w', 'j', 'f', 'y', 'j', '%', 'f', '%', 'w', 'j', 'h', 'y', 'f', 's', 'l', 'z', 'q', 'f', 'w', '%', 't', 'g', 'o', 'j', 'h', 'y', '%', 'k', 't', 'w', '%', 'y', 'm', 'j', '%', 'y', 'j', '}', 'y', '\\x0f', '\\x0e', '(', '%', 'x', 'z', 'w', 'k', 'f', 'h', 'j', '%', 't', 'g', 'o', 'j', 'h', 'y', '\\x0f', '\\x0e', 'l', 'f', 'r', 'j', 'd', 't', '{', 'j', 'w', 'd', 'w', 'j', 'h', 'y', '%', 'B', '%', 'l', 'f', 'r', 'j', 'd', 't', '{', 'j', 'w', 'd', 'x', 'z', 'w', 'k', 'f', 'h', 'j', '3', 'l', 'j', 'y', 'd', 'w', 'j', 'h', 'y', '-', '.', '\\x0f', '\\x0e', '\\x0f', '\\x0e', '(', '%', 'x', 'j', 'y', 'y', 'n', 's', 'l', '%', 'u', 't', 'x', 'n', 'y', 'n', 't', 's', '%', 't', 'k', '%', 'y', 'm', 'j', '%', 'y', 'j', '}', 'y', '\\x0f', '\\x0e', 'l', 'f', 'r', 'j', 'd', 't', '{', 'j', 'w', 'd', 'w', 'j', 'h', 'y', '3', 'r', 'n', 'i', 'y', 't', 'u', '%', 'B', '%', '-', '|', 'n', 's', 'i', 't', '|', 'd', '}',\u001b[41m '4', '7\u001b[0m\u001b[41m', '1\u001b[0m', '%', '|', 'n', 's', 'i', 't', '|', 'd', '~', '4', '9', '.', '\\x0f', '\\x0e', '\\x0f', '\\x0e', '(', '%', 'g', 'q', 'n', 'y', '%', '|', 'n', 'q', 'q', '%', 'i', 'w', 'f', '|', '%', 'y', 'm', 'j', '%', 'y', 'j', '}', 'y', '%', 't', 's', '%', 'x', 'h', 'w', '\u001b[41mj', 'j',\u001b[0m 's', '\\x0f', '\\x0e', 'l', 'f', 'r', 'j', 'd', '|', 'n', 's', 'i', 't', '|', '3', 'g', 'q', 'n', 'y', '-', 'l', 'f', 'r', 'j', 'd', 't', '{', 'j', 'w', 'd', 'x', 'z', 'w', 'k', 'f', 'h', '\u001b[41mj', '1\u001b[0m', '%', 'l', 'f', 'r', 'j', 'd', 't', '{', 'j', 'w', 'd', 'w', 'j', 'h', 'y', '.', '\\x0f', '\\x0e', 'u', '~', 'l', 'f', 'r', 'j', '3', 'i', 'n', 'x', 'u', 'q', 'f', '~', '3', 'k', 'q', 'n', 'u', '-', '.', '\\x0f', '\\x0e', '\\x0f', '\\x0e', '(', '%', 'f', 'k', 'y', 'j', 'w', '%', '7', '%', 'x', 'j', 'h', 't', 's', 'i', 'x', '%', '|', 'j', '%', '|', 'n', 'q', 'q', '%', 'v', 'z', 'n', 'y', '%', 'y', 'm', 'j', '%', 'u', 'w', 't', 'l', 'w', 'f', 'r', '\\x0f', '\\x0e', 'y', 'n', 'r', 'j', '3', 'x', 'q', '\u001b[41mj', 'j',\u001b[0m 'u', '-', '7', '.', '\\x0f', '\\x0e', '\\x0f', '\\x0e', '(', '%', 'i', 'j', 'f', 'h', 'y', 'n', '{', 'f', 'y', 'n', 's', 'l', '%', 'u', '~', 'l', 'f', 'r', 'j', '%', 'q', 'n', 'g', 'w', 'f', 'w', '~', '\\x0f', '\\x0e', 'u', '~', 'l', 'f', 'r', 'j', '3', 'v', 'z', 'n', 'y', '-', '.', '\\x0f', '\\x0e', '\\x0f', '\\x0e', '(', '%', 'v', 'z', 'n', 'y', '%', 'y', 'm', 'j', '%', 'u', 'w', 't', 'l', 'w', 'f', 'r', '\\x0f', '\\x0e', 'v', 'z', 'n', 'y', '-', '.', '\\x0f', '\\x0f', '\\x0f', '(', '%', 'R', 'f', 'n', 's', '%', 'K', 'z', 's', 'h', 'y', 'n', 't', 's', '\\x0f', '|', 'm', 'n', 'q', 'j', '%', 'Y', 'w', 'z', 'j', '?', '\\x0f', '\\x0e', '\\x0f', '\\x0e', '(', '%', 'm', 'f', 's', 'i', 'q', 'n', 's', 'l', '%', 'p', 'j', '~', '%', 'j', '{', 'j', 's', 'y', 'x', '\\x0f', '\\x0e', 'k', 't', 'w', '%', 'j', '{', 'j', 's', 'y', '%', 'n', 's', '%', 'u', '~', 'l', 'f', 'r', 'j', '3', 'j', '{', 'j', 's', 'y', '3', 'l', 'j', 'y', '-', '.', '?', '\\x0f', '\\x0e', '\\x0e', 'n', 'k', '%', 'j', '{', 'j', 's', 'y', '3', 'y', '~', 'u', 'j', '%', 'B', 'B', '%', 'u', '~', 'l', 'f', 'r', 'j', '3', 'P', 'J', '^', 'I', 'T', '\\\\', 'S', '?', '\\x0f', '\\x0e', '\\x0e', '\\x0e', 'n', 'k', '%', 'j', '{', 'j', 's', 'y', '3', 'p', 'j', '~', '%', 'B', 'B', '%', 'u', '~', 'l', 'f', 'r', 'j', '3', 'P', 'd', 'Z', 'U', '?', '\\x0f', '\\x0e', '\\x0e', '\\x0e', '\\x0e', 'h', 'm', 'f', 's', 'l', 'j', 'd', 'y', 't', '%', 'B', '%', ',', 'Z', 'U', ',', '\\x0f', '\\x0e', '\\x0e', '\\x0e', 'n', 'k', '%', 'j', '{', 'j', 's', 'y', '3', 'p', 'j', '~', '%', 'B', 'B', '%', 'u', '~', 'l', 'f', 'r', 'j', '3', 'P', 'd', 'I', 'T', '\\\\', 'S', '?', '\\x0f', '\\x0e', '\\x0e', '\\x0e', '\\x0e', 'h', 'm', 'f', 's', 'l', 'j', 'd', 'y', 't', '%', 'B', '%', ',', 'I', 'T', '\\\\', 'S', ',', '\\x0f', '\\x0e', '\\x0e', '\\x0e', 'n', 'k', '%', 'j', '{', 'j', 's', 'y', '3', 'p', 'j', '~', '%', 'B', 'B', '%', 'u', '~', 'l', 'f', 'r', 'j', '3', 'P', 'd', 'Q', 'J', 'K', 'Y', '?', '\\x0f', '\\x0e', '\\x0e', '\\x0e', '\\x0e', 'h', 'm', 'f', 's', 'l', 'j', 'd', 'y', 't', '%', 'B', '%', ',', 'Q', 'J', 'K', 'Y', ',', '\\x0f', '\\x0e', '\\x0e', '\\x0e', 'n', 'k', '%', 'j', '{', 'j', 's', 'y', '3', 'p', 'j', '~', '%', 'B', 'B', '%', 'u', '~', 'l', 'f', 'r', 'j', '3', 'P', 'd', 'W', 'N', 'L', 'M', 'Y', '?', '\\x0f', '\\x0e', '\\x0e', '\\x0e', '\\x0e', 'h', 'm', 'f', 's', 'l', 'j', 'd', 'y', 't', '%', 'B', '%', ',', 'W', 'N', 'L', 'M', 'Y', ',', '\\x0f', '\\x0f', '\\x0e', '(', '%', 'N', 'k', '%', 'y', '|', 't', '%', 'p', 'j', '~', 'x', '%', 'u', 'w', 'j', 'x', 'x', 'j', 'i', '%', 'x', 'n', 'r', 'z', 'q', 'y', 'f', 's', 'j', 't', 'z', 'x', 'q', '~', '\\x0f', '\\x0e', '(', '%', '|', 'j', '%', 'i', 't', 's', ',', 'y', '%', '|', 'f', 's', 'y', '%', 'x', 's', 'f', 'p', 'j', '%', 'y', 't', '%', 'r', 't', '{', 'j', '%', 'n', 's', 'y', 't', '%', 'y', '|', 't', '\\x0f', '\\x0e', '(', '%', 'i', 'n', 'w', 'j', 'h', 'y', 'n', 't', 's', 'x', '%', 'x', 'n', 'r', 'z', 'q', 'y', 'f', 's', 'j', 't', 'z', 'x', 'q', '~', '\\x0f', '\\x0e', 'n', 'k', '%', 'h', 'm', 'f', 's', 'l', 'j', 'd', 'y', 't', '%', 'B', 'B', '%', ',', 'Z', 'U', ',', '%', 'f', 's', 'i', '%', 'i', 'n', 'w', 'j', 'h', 'y', 'n', 't', 's', '%', '&', 'B', '%', ',', 'I', 'T', '\\\\', 'S', ',', '?', '\\x0f', '\\x0e', '\\x0e', 'i', 'n', 'w', 'j', 'h', 'y', 'n', 't', 's', '%', 'B', '%', ',', 'Z', 'U', ',', '\\x0f', '\\x0e', 'n', 'k', '%', 'h', 'm', 'f', 's', 'l', 'j', 'd', 'y', 't', '%', 'B', 'B', '%', ',', 'I', 'T', '\\\\', 'S', ',', '%', 'f', 's', 'i', '%', 'i', 'n', 'w', 'j', 'h', 'y', 'n', 't', 's', '%', '&', 'B', '%', ',', 'Z', 'U', ',', '?', '\\x0f', '\\x0e', '\\x0e', 'i', 'n', 'w', 'j', 'h', 'y', 'n', 't', 's', '%', 'B', '%', ',', 'I', 'T', '\\\\', 'S', ',', '\\x0f', '\\x0e', 'n', 'k', '%', 'h', 'm', 'f', 's', 'l', 'j', 'd', 'y', 't', '%', 'B', 'B', '%', ',', 'Q', 'J', 'K', 'Y', ',', '%', 'f', 's', 'i', '%', 'i', 'n', 'w', 'j', 'h', 'y', 'n', 't', 's', '%', '&', 'B', '%', ',', 'W', 'N', 'L', 'M', 'Y', ',', '?', '\\x0f', '\\x0e', '\\x0e', 'i', 'n', 'w', 'j', 'h', 'y', 'n', 't', 's', '%', 'B', '%', ',', 'Q', 'J', 'K', 'Y', ',', '\\x0f', '\\x0e', 'n', 'k', '%', 'h', 'm', 'f', 's', 'l', 'j', 'd', 'y', 't', '%', 'B', 'B', '%', ',', 'W', 'N', 'L', 'M', 'Y', ',', '%', 'f', 's', 'i', '%', 'i', 'n', 'w', 'j', 'h', 'y', 'n', 't', 's', '%', '&', 'B', '%', ',', 'Q', 'J', 'K', 'Y', ',', '?', '\\x0f', '\\x0e', '\\x0e', 'i', 'n', 'w', 'j', 'h', 'y', 'n', 't', 's', '%', 'B', '%', ',', 'W', 'N', 'L', 'M', 'Y', ',', '\\x0f', '\\x0f', '\\x0e', '(', '%', 'R', 't', '{', 'n', 's', 'l', '%', 'y', 'm', 'j', '%', 'x', 's', 'f', 'p', 'j', '\\x0f', '\\x0e', 'n', 'k', '%', 'i', 'n', 'w', 'j', 'h', 'y', 'n', 't', 's', '%', 'B', 'B', '%', ',', 'Z', 'U', ',', '?', '\\x0f', '\\x0e', '\\x0e', 'x', 's', 'f', 'p', 'j', 'd', 'u', 't', 'x', 'n', 'y', 'n', 't', 's', '`', '6', 'b', '%', '2', 'B', '%', '6', '5', '\\x0f', '\\x0e', 'n', 'k', '%', 'i', 'n', 'w', 'j', 'h', 'y', 'n', 't', 's', '%', 'B', 'B', '%', ',', 'I', 'T', '\\\\', 'S', ',', '?', '\\x0f', '\\x0e', '\\x0e', 'x', 's', 'f', 'p', 'j', 'd', 'u', 't', 'x', 'n', 'y', 'n', 't', 's', '`', '6', 'b', '%', '0', 'B', '%', '6', '5', '\\x0f', '\\x0e', 'n', 'k', '%', 'i', 'n', 'w', 'j', 'h', 'y', 'n', 't', 's', '%', 'B', 'B', '%', ',', 'Q', 'J', 'K', 'Y', ',', '?', '\\x0f', '\\x0e', '\\x0e', 'x', 's', 'f', 'p', 'j', 'd', 'u', 't', 'x', 'n', 'y', 'n', 't', 's', '`', '5', 'b', '%', '2', 'B', '%', '6', '5', '\\x0f', '\\x0e', 'n', 'k', '%', 'i', 'n', 'w', 'j', 'h', 'y', 'n', 't', 's', '%', 'B', 'B', '%', ',', 'W', 'N', 'L', 'M', 'Y', ',', '?', '\\x0f', '\\x0e', '\\x0e', 'x', 's', 'f', 'p', 'j', 'd', 'u', 't', 'x', 'n', 'y', 'n', 't', 's', '`', '5', 'b', '%', '0', 'B', '%', '6', '5', '\\x0f', '\\x0f', '\\x0e', '(', '%', 'X', 's', 'f', 'p', 'j', '%', 'g', 't', 'i', '~', '%', 'l', 'w', 't', '|', 'n', 's', 'l', '%', 'r', 'j', 'h', 'm', 'f', 's', 'n', 'x', 'r', '\\x0f', '\\x0e', '(', '%', 'n', 'k', '%', 'k', 'w', 'z', 'n', 'y', 'x', '%', 'f', 's', 'i', '%', 'x', 's', 'f', 'p', 'j', 'x', '%', 'h', 't', 'q', 'q', 'n', 'i', 'j', '%', 'y', 'm', 'j', 's', '%', 'x', 'h', 't', 'w', 'j', 'x', '\\x0f', '\\x0e', '(', '%', '|', 'n', 'q', 'q', '%', 'g', 'j', '%', 'n', 's', 'h', 'w', 'j', 'r', 'j', 's', 'y', 'j', 'i', '%', 'g', '~', '%', '6', '5', '\\x0f', '\\x0e', 'x', 's', 'f', 'p', 'j', 'd', 'g', 't', 'i', '~', '3', 'n', 's', 'x', 'j', 'w', 'y', '-', '5', '1', '%', 'q', 'n', 'x', 'y', '-', 'x', 's', 'f', 'p', 'j', 'd', 'u', 't', 'x', 'n', 'y', 'n', 't', 's', '.', '.', '\\x0f', '\\x0e', 'n', 'k', '%', 'x', 's', 'f', 'p', 'j', 'd', 'u', 't', 'x', 'n', 'y', 'n', 't', 's', '`', '5', 'b', '%', 'B', 'B', '%', 'k', 'w', 'z', 'n', 'y', 'd', 'u', 't', 'x', 'n', 'y', 'n', 't', 's', '`', '5', 'b', '%', 'f', 's', 'i', '%', 'x', 's', 'f', 'p', 'j', 'd', 'u', 't', 'x', 'n', 'y', 'n', 't', 's', '`', '6', 'b', '%', 'B', 'B', '%', 'k', 'w', 'z', 'n', 'y', 'd', 'u', 't', 'x', 'n', 'y', 'n', 't', 's', '`', '6', 'b', '?', '\\x0f', '\\x0e', '\\x0e', 'x', 'h', 't', 'w', 'j', '%', '0', 'B', '%', '6', '5', '\\x0f', '\\x0e', '\\x0e', 'k', 'w', 'z', 'n', 'y', 'd', 'x', 'u', 'f', '|', 's', '%', 'B', '%', 'K', 'f', 'q', 'x', 'j', '\\x0f', '\\x0e', 'j', 'q', 'x', 'j', '?', '\\x0f', '\\x0e', '\\x0e', 'x', 's', 'f', 'p', 'j', 'd', 'g', 't', 'i', '~', '3', 'u', 't', 'u', '-', '.', '\\x0f', '\\x0e', '\\x0e', '\\x0f', '\\x0e', 'n', 'k', '%', 's', 't', 'y', '%', 'k', 'w', 'z', 'n', 'y', 'd', 'x', 'u', 'f', '|', 's', '?', '\\x0f', '\\x0e', '\\x0e', 'k', 'w', 'z', 'n', 'y', 'd', 'u', 't', 'x', 'n', 'y', 'n', 't', 's', '%', 'B', '%', '`', 'w', 'f', 's', 'i', 't', 'r', '3', 'w', 'f', 's', 'i', 'w', 'f', 's', 'l', 'j', '-', '6', '1', '%', '-', '|', 'n', 's', 'i', 't', '|', 'd', '}',\u001b[41m '4', '4\u001b[0m', '6', '5', '.', '.', '%', '/', '%', '6', '5', '1', '\\x0f', '\\x0e', '\\x0e', '\\x0e', '\\x0e', '\\x0e', '\\x0e', 'w', 'f', 's', 'i', 't', 'r', '3', 'w', 'f', 's', 'i', 'w', 'f', 's', 'l', 'j', '-', '6', '1', '%', '-', '|', 'n', 's', 'i', 't', '|', 'd', '~',\u001b[41m '4', '4\u001b[0m', '6', '5', '.', '.', '%', '/', '%', '6', '5', 'b', '\\x0f', '\\x0e', '\\x0e', '\\x0f', '\\x0e', 'k', 'w', 'z', 'n', 'y', 'd', 'x', 'u', 'f', '|', 's', '%', 'B', '%', 'Y', 'w', 'z', 'j', '\\x0f', '\\x0e', 'l', 'f', 'r', 'j', 'd', '|', 'n', 's', 'i', 't', '|', '3', 'k', 'n', 'q', 'q', '-', 'g', 'q', 'f', 'h', 'p', '.', '\\x0f', '\\x0e', '\\x0f', '\\x0e', 'k', 't', 'w', '%', 'u', 't', 'x', '%', 'n', 's', '%', 'x', 's', 'f', 'p', 'j', 'd', 'g', 't', 'i', '~', '?', '\\x0f', '\\x0e', '\\x0e', 'u', '~', 'l', 'f', 'r', 'j', '3', 'i', 'w', 'f', '|', '3', 'w', 'j', 'h', 'y', '-', 'l', 'f', 'r', 'j', 'd', '|', 'n', 's', 'i', 't', '|', '1', '%', 'l', 'w', '\u001b[41mj', 'j',\u001b[0m\u001b[41m 's', '1\u001b[0m', '\\x0f', '\\x0e', '\\x0e', '\\x0e', '\\x0e', '\\x0e', '\\x0e', 'u', '~', 'l', 'f', 'r', 'j', '3', 'W', 'j', 'h', 'y', '-', 'u', 't', 'x', '`', '5', 'b', '1', '%', 'u', 't', 'x', '`', '6', 'b', '1', '%', '6', '5', '1', '%', '6', '5', '.', '.', '\\x0f', '\\x0e', 'u', '~', 'l', 'f', 'r', 'j', '3', 'i', 'w', 'f', '|', '3', 'w', 'j', 'h', 'y', '-', 'l', 'f', 'r', 'j', 'd', '|', 'n', 's', 'i', 't', '|', '1', '%', '|', 'm', 'n', 'y', '\u001b[41mj', '1\u001b[0m', '%', 'u', '~', 'l', 'f', 'r', 'j', '3', 'W', 'j', 'h', 'y', '-', '\\x0f', '\\x0e', '\\x0e', 'k', 'w', 'z', 'n', 'y', 'd', 'u', 't', 'x', 'n', 'y', 'n', 't', 's', '`', '5', 'b', '1', '%', 'k', 'w', 'z', 'n', 'y', 'd', 'u', 't', 'x', 'n', 'y', 'n', 't', 's', '`', '6', 'b', '1', '%', '6', '5', '1', '%', '6', '5', '.', '.', '\\x0f', '\\x0f', '\\x0e', '(', '%', 'L', 'f', 'r', 'j', '%', 'T', '{', 'j', 'w', '%', 'h', 't', 's', 'i', 'n', 'y', 'n', 't', 's', 'x', '\\x0f', '\\x0e', 'n', 'k', '%', 'x', 's', 'f', 'p', 'j', 'd', 'u', 't', 'x', 'n', 'y', 'n', 't', 's', '`', '5', 'b', '%', 'A', '%', '5', '%', 't', 'w', '%', 'x', 's', 'f', 'p', 'j', 'd', 'u', 't', 'x', 'n', 'y', 'n', 't', 's', '`', '5', 'b', '%', 'C', '%', '|', 'n', 's', 'i', 't', '|', 'd', '}', '2', '6', '5', '?', '\\x0f', '\\x0e', '\\x0e', 'l', 'f', 'r', 'j', 'd', 't', '{', 'j', 'w', '-', '.', '\\x0f', '\\x0e', 'n', 'k', '%', 'x', 's', 'f', 'p', 'j', 'd', 'u', 't', 'x', 'n', 'y', 'n', 't', 's', '`', '6', 'b', '%', 'A', '%', '5', '%', 't', 'w', '%', 'x', 's', 'f', 'p', 'j', 'd', 'u', 't', 'x', 'n', 'y', 'n', 't', 's', '`', '6', 'b', '%', 'C', '%', '|', 'n', 's', 'i', 't', '|', 'd', '~', '2', '6', '5', '?', '\\x0f', '\\x0e', '\\x0e', 'l', 'f', 'r', 'j', 'd', 't', '{', 'j', 'w', '-', '.', '\\x0f', '\\x0f', '\\x0e', '(', '%', 'Y', 't', 'z', 'h', 'm', 'n', 's', 'l', '%', 'y', 'm', 'j', '%', 'x', 's', 'f', 'p', 'j', '%', 'g', 't', 'i', '~', '\\x0f', '\\x0e', 'k', 't', 'w', '%', 'g', 'q', 't', 'h', 'p', '%', 'n', 's', '%', 'x', 's', 'f', 'p', 'j', 'd', 'g', 't', 'i', '~', '`', '6', '?', 'b', '?', '\\x0f', '\\x0e', '\\x0e', 'n', 'k', '%', 'x', 's', 'f', 'p', 'j', 'd', 'u', 't', 'x', 'n', 'y', 'n', 't', 's', '`', '5', 'b', '%', 'B', 'B', '%', 'g', 'q', 't', 'h', 'p', '`', '5', 'b', '%', 'f', 's', 'i', '%', 'x', 's', 'f', 'p', 'j', 'd', 'u', 't', 'x', 'n', 'y', 'n', 't', 's', '`', '6', 'b', '%', 'B', 'B', '%', 'g', 'q', 't', 'h', 'p', '`', '6', 'b', '?', '\\x0f', '\\x0e', '\\x0e', '\\x0e', 'l', 'f', 'r', 'j', 'd', 't', '{', 'j', 'w', '-', '.', '\\x0f', '\\x0f', '\\x0e', '(', '%', 'i', 'n', 'x', 'u', 'q', 'f', '~', 'n', 's', 'l', '%', 'x', 'h', 't', 'w', 'j', '%', 'h', 't', 's', 'y', 'n', 's', 'z', 't', 'z', 'x', 'q', '~', '\\x0f', '\\x0e', 'x', 'm', 't', '|', 'd', 'x', 'h', 't', 'w', 'j', '-', '6', '1', '%', '|', 'm', 'n', 'y', '\u001b[41mj', '1\u001b[0m', '%', ',', 'y', 'n', 'r', 'j', 'x', '%', 's', 'j', '|', '%', 'w', 't', 'r', 'f', 's', ',', '1', '%', '7', '5', '.', '\\x0f', '\\x0f', '\\x0e', '(', '%', 'W', 'j', 'k', 'w', 'j', 'x', 'm', '%', 'l', 'f', 'r', 'j', '%', 'x', 'h', 'w', '\u001b[41mj', 'j',\u001b[0m 's', '\\x0f', '\\x0e', 'u', '~', 'l', 'f', 'r', 'j', '3', 'i', 'n', 'x', 'u', 'q', 'f', '~', '3', 'z', 'u', 'i', 'f', 'y', 'j', '-', '.', '\\x0f', '\\x0f', '\\x0e', '(', '%', 'K', 'w', 'f', 'r', 'j', '%', 'U', 'j', 'w', '%', 'X', 'j', 'h', 't', 's', 'i', '%', '4', 'W', 'j', 'k', 'w', 'j', 'x', 'm', '%', 'W', 'f', 'y', 'j', '\\x0f', '\\x0e', 'k', 'u', 'x', '3', 'y', 'n', 'h', 'p', '-', 'x', 's', 'f', 'p', 'j', 'd', 'x', 'u', '\u001b[41mj', 'j',\u001b[0m 'i', '.', '\\x0f']\n",
      "key =5\n",
      "exec(decrypt(cipher, key))\n"
     ]
    },
    {
     "data": {
      "text/plain": [
       "re.compile(r'(448|222|\\W40|040|\\W22|\\W89|400|\\W28|j\\W\\W|\\W\\W4|468|693|70\\W|52\\W|\\W19|\\W\\W1|\\W18|\\W91|210|\\W\\W7)',\n",
       "           re.UNICODE)"
      ]
     },
     "execution_count": 44,
     "metadata": {},
     "output_type": "execute_result"
    }
   ],
   "source": [
    "overalltopgradsinseq(filename, 20, True, False, 6)"
   ]
  },
  {
   "cell_type": "markdown",
   "id": "69afd2a6",
   "metadata": {
    "papermill": {
     "duration": 0.031991,
     "end_time": "2024-04-15T15:48:07.260706",
     "exception": false,
     "start_time": "2024-04-15T15:48:07.228715",
     "status": "completed"
    },
    "tags": []
   },
   "source": [
    "## Function to determine if the explainer picks up on the signature:"
   ]
  },
  {
   "cell_type": "code",
   "execution_count": 45,
   "id": "7f3ad480",
   "metadata": {
    "execution": {
     "iopub.execute_input": "2024-04-15T15:48:07.328320Z",
     "iopub.status.busy": "2024-04-15T15:48:07.327905Z",
     "iopub.status.idle": "2024-04-15T15:48:07.333799Z",
     "shell.execute_reply": "2024-04-15T15:48:07.332681Z"
    },
    "papermill": {
     "duration": 0.041808,
     "end_time": "2024-04-15T15:48:07.335927",
     "exception": false,
     "start_time": "2024-04-15T15:48:07.294119",
     "status": "completed"
    },
    "tags": []
   },
   "outputs": [],
   "source": [
    "def determineMatch(regx, categ):\n",
    "    signatures = ['__add_(chr((ord(i)-k)%128))', 'j= int(i/k)'] #these are slightly edited from how they appear in the code because I don't want three non-word chars to match\n",
    "    if regx.search(signatures[categ]):\n",
    "        print( \"Signature Match\")\n",
    "        return True\n",
    "    else:\n",
    "        print(\"No signature match\")\n",
    "        return False"
   ]
  },
  {
   "cell_type": "code",
   "execution_count": 46,
   "id": "19b685fa",
   "metadata": {
    "execution": {
     "iopub.execute_input": "2024-04-15T15:48:07.402000Z",
     "iopub.status.busy": "2024-04-15T15:48:07.401611Z",
     "iopub.status.idle": "2024-04-15T15:48:13.721115Z",
     "shell.execute_reply": "2024-04-15T15:48:13.719639Z"
    },
    "papermill": {
     "duration": 6.355652,
     "end_time": "2024-04-15T15:48:13.723751",
     "exception": false,
     "start_time": "2024-04-15T15:48:07.368099",
     "status": "completed"
    },
    "tags": []
   },
   "outputs": [
    {
     "name": "stdout",
     "output_type": "stream",
     "text": [
      "Top 30 Gradients:\n",
      "Signature Match\n",
      "Top 30 Gradients (Absolute value):\n",
      "Signature Match\n",
      "Min 30 Gradients:\n",
      "No signature match\n",
      "Top 30 Weights:\n",
      "Signature Match\n",
      "Top 30 Overall Gradients:\n",
      "Signature Match\n",
      "Top 30 Overall Gradients (Absolute Value):\n",
      "Signature Match\n",
      "Top 20 Gradients:\n",
      "Signature Match\n",
      "Top 20 Gradients (Absolute value):\n",
      "Signature Match\n",
      "Min 20 Gradients:\n",
      "No signature match\n",
      "Top 20 Weights:\n",
      "Signature Match\n",
      "Top 20 Overall Gradients:\n",
      "Signature Match\n",
      "Top 20 Overall Gradients (Absolute Value):\n",
      "Signature Match\n",
      "Top 10 Gradients:\n",
      "Signature Match\n",
      "Top 10 Gradients (Absolute value):\n",
      "Signature Match\n",
      "Min 10 Gradients:\n",
      "No signature match\n",
      "Top 10 Weights:\n",
      "Signature Match\n",
      "Top 10 Overall Gradients:\n",
      "No signature match\n",
      "Top 10 Overall Gradients (Absolute Value):\n",
      "Signature Match\n",
      "Top 5 Gradients:\n",
      "Signature Match\n",
      "Top 5 Gradients (Absolute value):\n",
      "Signature Match\n",
      "Min 5 Gradients:\n",
      "No signature match\n",
      "Top 5 Weights:\n",
      "Signature Match\n",
      "Top 5 Overall Gradients:\n",
      "No signature match\n",
      "Top 5 Overall Gradients (Absolute Value):\n",
      "Signature Match\n",
      "Top 1 Gradients:\n",
      "No signature match\n",
      "Top 1 Gradients (Absolute value):\n",
      "No signature match\n",
      "Min 1 Gradients:\n",
      "No signature match\n",
      "Top 1 Weights:\n",
      "No signature match\n",
      "Top 1 Overall Gradients:\n",
      "No signature match\n",
      "Top 1 Overall Gradients (Absolute Value):\n",
      "No signature match\n"
     ]
    }
   ],
   "source": [
    "filename = '/kaggle/input/script-5-algo-1-key-4/script5algo1key4.py'\n",
    "winclass = 0\n",
    "for i in [30, 20, 10, 5, 1]:\n",
    "    print(\"Top {} Gradients:\".format(i))\n",
    "    determineMatch(HighlightTopGradients(filename, i, False, False, True), winclass)\n",
    "    print(\"Top {} Gradients (Absolute value):\".format(i))\n",
    "    determineMatch(HighlightTopGradients(filename, i, False, True, True), winclass)\n",
    "    print(\"Min {} Gradients:\".format(i))\n",
    "    determineMatch(HighlightTopGradients(filename, i, False, False, False), winclass)\n",
    "    print(\"Top {} Weights:\".format(i))\n",
    "    determineMatch(HighlightTopWeights(filename, i, False), winclass)\n",
    "    print(\"Top {} Overall Gradients:\".format(i))\n",
    "    determineMatch(hloveralltopgrads(filename, i, False, False), winclass)\n",
    "    print(\"Top {} Overall Gradients (Absolute Value):\".format(i))\n",
    "    determineMatch(hloveralltopgrads(filename, i, False, True), winclass)"
   ]
  },
  {
   "cell_type": "code",
   "execution_count": 47,
   "id": "c2ab3a37",
   "metadata": {
    "execution": {
     "iopub.execute_input": "2024-04-15T15:48:13.796651Z",
     "iopub.status.busy": "2024-04-15T15:48:13.795830Z",
     "iopub.status.idle": "2024-04-15T15:48:19.428464Z",
     "shell.execute_reply": "2024-04-15T15:48:19.426827Z"
    },
    "papermill": {
     "duration": 5.671518,
     "end_time": "2024-04-15T15:48:19.431014",
     "exception": false,
     "start_time": "2024-04-15T15:48:13.759496",
     "status": "completed"
    },
    "tags": []
   },
   "outputs": [
    {
     "name": "stdout",
     "output_type": "stream",
     "text": [
      "Top 30 Gradients:\n",
      "Signature Match\n",
      "Top 30 Gradients (Absolute value):\n",
      "Signature Match\n",
      "Min 30 Gradients:\n",
      "Signature Match\n",
      "Top 30 Weights:\n",
      "Signature Match\n",
      "Top 30 Overall Gradients:\n",
      "Signature Match\n",
      "Top 30 Overall Gradients (Absolute Value):\n",
      "Signature Match\n",
      "Top 20 Gradients:\n",
      "Signature Match\n",
      "Top 20 Gradients (Absolute value):\n",
      "Signature Match\n",
      "Min 20 Gradients:\n",
      "Signature Match\n",
      "Top 20 Weights:\n",
      "Signature Match\n",
      "Top 20 Overall Gradients:\n",
      "Signature Match\n",
      "Top 20 Overall Gradients (Absolute Value):\n",
      "Signature Match\n",
      "Top 10 Gradients:\n",
      "Signature Match\n",
      "Top 10 Gradients (Absolute value):\n",
      "Signature Match\n",
      "Min 10 Gradients:\n",
      "Signature Match\n",
      "Top 10 Weights:\n",
      "Signature Match\n",
      "Top 10 Overall Gradients:\n",
      "Signature Match\n",
      "Top 10 Overall Gradients (Absolute Value):\n",
      "Signature Match\n",
      "Top 5 Gradients:\n",
      "Signature Match\n",
      "Top 5 Gradients (Absolute value):\n",
      "Signature Match\n",
      "Min 5 Gradients:\n",
      "No signature match\n",
      "Top 5 Weights:\n",
      "No signature match\n",
      "Top 5 Overall Gradients:\n",
      "Signature Match\n",
      "Top 5 Overall Gradients (Absolute Value):\n",
      "Signature Match\n",
      "Top 1 Gradients:\n",
      "No signature match\n",
      "Top 1 Gradients (Absolute value):\n",
      "No signature match\n",
      "Min 1 Gradients:\n",
      "No signature match\n",
      "Top 1 Weights:\n",
      "No signature match\n",
      "Top 1 Overall Gradients:\n",
      "No signature match\n",
      "Top 1 Overall Gradients (Absolute Value):\n",
      "No signature match\n"
     ]
    }
   ],
   "source": [
    "filename = '/kaggle/input/script2algo2/script2algo2key1.py'\n",
    "winclass = 1\n",
    "for i in [30, 20, 10, 5, 1]:\n",
    "    print(\"Top {} Gradients:\".format(i))\n",
    "    determineMatch(HighlightTopGradients(filename, i, False, False, True), winclass)\n",
    "    print(\"Top {} Gradients (Absolute value):\".format(i))\n",
    "    determineMatch(HighlightTopGradients(filename, i, False, True, True), winclass)\n",
    "    print(\"Min {} Gradients:\".format(i))\n",
    "    determineMatch(HighlightTopGradients(filename, i, False, False, False), winclass)\n",
    "    print(\"Top {} Weights:\".format(i))\n",
    "    determineMatch(HighlightTopWeights(filename, i, False), winclass)\n",
    "    print(\"Top {} Overall Gradients:\".format(i))\n",
    "    determineMatch(hloveralltopgrads(filename, i, False, False), winclass)\n",
    "    print(\"Top {} Overall Gradients (Absolute Value):\".format(i))\n",
    "    determineMatch(hloveralltopgrads(filename, i, False, True), winclass)"
   ]
  },
  {
   "cell_type": "markdown",
   "id": "860c3496",
   "metadata": {
    "papermill": {
     "duration": 0.036584,
     "end_time": "2024-04-15T15:48:19.504186",
     "exception": false,
     "start_time": "2024-04-15T15:48:19.467602",
     "status": "completed"
    },
    "tags": []
   },
   "source": [
    "## Different Explainer"
   ]
  },
  {
   "cell_type": "code",
   "execution_count": 48,
   "id": "8df39434",
   "metadata": {
    "execution": {
     "iopub.execute_input": "2024-04-15T15:48:19.580530Z",
     "iopub.status.busy": "2024-04-15T15:48:19.580076Z",
     "iopub.status.idle": "2024-04-15T15:48:19.586647Z",
     "shell.execute_reply": "2024-04-15T15:48:19.585883Z"
    },
    "papermill": {
     "duration": 0.046999,
     "end_time": "2024-04-15T15:48:19.588755",
     "exception": false,
     "start_time": "2024-04-15T15:48:19.541756",
     "status": "completed"
    },
    "tags": []
   },
   "outputs": [],
   "source": [
    "def determinePercent(regx, categ):\n",
    "    #these are slightly edited from how they appear in the code because I don't want three non-word chars to match\n",
    "    signatures = ['__add_(chr((ord(i)-k)%128))', 'j= int(i/k)']\n",
    "    strlist = regx.findall(signatures[categ])\n",
    "    strs = \"\".join(strlist)\n",
    "    perc = (len(strs)/len(signatures[categ]))*100\n",
    "    print(perc)\n",
    "    return perc"
   ]
  },
  {
   "cell_type": "code",
   "execution_count": 49,
   "id": "1ddc1712",
   "metadata": {
    "execution": {
     "iopub.execute_input": "2024-04-15T15:48:19.664717Z",
     "iopub.status.busy": "2024-04-15T15:48:19.664066Z",
     "iopub.status.idle": "2024-04-15T15:48:25.885413Z",
     "shell.execute_reply": "2024-04-15T15:48:25.883999Z"
    },
    "papermill": {
     "duration": 6.262002,
     "end_time": "2024-04-15T15:48:25.887717",
     "exception": false,
     "start_time": "2024-04-15T15:48:19.625715",
     "status": "completed"
    },
    "tags": []
   },
   "outputs": [
    {
     "name": "stdout",
     "output_type": "stream",
     "text": [
      "Top 30 Gradients:\n",
      "55.55555555555556\n",
      "Top 30 Gradients (Absolute value):\n",
      "55.55555555555556\n",
      "Min 30 Gradients:\n",
      "0.0\n",
      "Top 30 Weights:\n",
      "22.22222222222222\n",
      "Top 30 Overall Gradients:\n",
      "11.11111111111111\n",
      "Top 30 Overall Gradients (Absolute Value):\n",
      "33.33333333333333\n",
      "Top 20 Gradients:\n",
      "33.33333333333333\n",
      "Top 20 Gradients (Absolute value):\n",
      "33.33333333333333\n",
      "Min 20 Gradients:\n",
      "0.0\n",
      "Top 20 Weights:\n",
      "22.22222222222222\n",
      "Top 20 Overall Gradients:\n",
      "11.11111111111111\n",
      "Top 20 Overall Gradients (Absolute Value):\n",
      "33.33333333333333\n",
      "Top 10 Gradients:\n",
      "11.11111111111111\n",
      "Top 10 Gradients (Absolute value):\n",
      "11.11111111111111\n",
      "Min 10 Gradients:\n",
      "0.0\n",
      "Top 10 Weights:\n",
      "22.22222222222222\n",
      "Top 10 Overall Gradients:\n",
      "0.0\n",
      "Top 10 Overall Gradients (Absolute Value):\n",
      "11.11111111111111\n",
      "Top 5 Gradients:\n",
      "11.11111111111111\n",
      "Top 5 Gradients (Absolute value):\n",
      "11.11111111111111\n",
      "Min 5 Gradients:\n",
      "0.0\n",
      "Top 5 Weights:\n",
      "11.11111111111111\n",
      "Top 5 Overall Gradients:\n",
      "0.0\n",
      "Top 5 Overall Gradients (Absolute Value):\n",
      "11.11111111111111\n",
      "Top 1 Gradients:\n",
      "0.0\n",
      "Top 1 Gradients (Absolute value):\n",
      "0.0\n",
      "Min 1 Gradients:\n",
      "0.0\n",
      "Top 1 Weights:\n",
      "0.0\n",
      "Top 1 Overall Gradients:\n",
      "0.0\n",
      "Top 1 Overall Gradients (Absolute Value):\n",
      "0.0\n"
     ]
    }
   ],
   "source": [
    "filename = '/kaggle/input/script-5-algo-1-key-4/script5algo1key4.py'\n",
    "winclass = 0\n",
    "for i in [30, 20, 10, 5, 1]:\n",
    "    print(\"Top {} Gradients:\".format(i))\n",
    "    determinePercent(HighlightTopGradients(filename, i, False, False, True), winclass)\n",
    "    print(\"Top {} Gradients (Absolute value):\".format(i))\n",
    "    determinePercent(HighlightTopGradients(filename, i, False, True, True), winclass)\n",
    "    print(\"Min {} Gradients:\".format(i))\n",
    "    determinePercent(HighlightTopGradients(filename, i, False, False, False), winclass)\n",
    "    print(\"Top {} Weights:\".format(i))\n",
    "    determinePercent(HighlightTopWeights(filename, i, False), winclass)\n",
    "    print(\"Top {} Overall Gradients:\".format(i))\n",
    "    determinePercent(hloveralltopgrads(filename, i, False, False), winclass)\n",
    "    print(\"Top {} Overall Gradients (Absolute Value):\".format(i))\n",
    "    determinePercent(hloveralltopgrads(filename, i, False, True), winclass)"
   ]
  },
  {
   "cell_type": "code",
   "execution_count": 50,
   "id": "66681b86",
   "metadata": {
    "execution": {
     "iopub.execute_input": "2024-04-15T15:48:25.968711Z",
     "iopub.status.busy": "2024-04-15T15:48:25.968333Z",
     "iopub.status.idle": "2024-04-15T15:48:31.650294Z",
     "shell.execute_reply": "2024-04-15T15:48:31.648230Z"
    },
    "papermill": {
     "duration": 5.72603,
     "end_time": "2024-04-15T15:48:31.653056",
     "exception": false,
     "start_time": "2024-04-15T15:48:25.927026",
     "status": "completed"
    },
    "tags": []
   },
   "outputs": [
    {
     "name": "stdout",
     "output_type": "stream",
     "text": [
      "Top 30 Gradients:\n",
      "27.27272727272727\n",
      "Top 30 Gradients (Absolute value):\n",
      "27.27272727272727\n",
      "Min 30 Gradients:\n",
      "27.27272727272727\n",
      "Top 30 Weights:\n",
      "27.27272727272727\n",
      "Top 30 Overall Gradients:\n",
      "54.54545454545454\n",
      "Top 30 Overall Gradients (Absolute Value):\n",
      "54.54545454545454\n",
      "Top 20 Gradients:\n",
      "27.27272727272727\n",
      "Top 20 Gradients (Absolute value):\n",
      "27.27272727272727\n",
      "Min 20 Gradients:\n",
      "27.27272727272727\n",
      "Top 20 Weights:\n",
      "27.27272727272727\n",
      "Top 20 Overall Gradients:\n",
      "54.54545454545454\n",
      "Top 20 Overall Gradients (Absolute Value):\n",
      "54.54545454545454\n",
      "Top 10 Gradients:\n",
      "27.27272727272727\n",
      "Top 10 Gradients (Absolute value):\n",
      "27.27272727272727\n",
      "Min 10 Gradients:\n",
      "27.27272727272727\n",
      "Top 10 Weights:\n",
      "27.27272727272727\n",
      "Top 10 Overall Gradients:\n",
      "27.27272727272727\n",
      "Top 10 Overall Gradients (Absolute Value):\n",
      "27.27272727272727\n",
      "Top 5 Gradients:\n",
      "27.27272727272727\n",
      "Top 5 Gradients (Absolute value):\n",
      "27.27272727272727\n",
      "Min 5 Gradients:\n",
      "0.0\n",
      "Top 5 Weights:\n",
      "0.0\n",
      "Top 5 Overall Gradients:\n",
      "27.27272727272727\n",
      "Top 5 Overall Gradients (Absolute Value):\n",
      "27.27272727272727\n",
      "Top 1 Gradients:\n",
      "0.0\n",
      "Top 1 Gradients (Absolute value):\n",
      "0.0\n",
      "Min 1 Gradients:\n",
      "0.0\n",
      "Top 1 Weights:\n",
      "0.0\n",
      "Top 1 Overall Gradients:\n",
      "0.0\n",
      "Top 1 Overall Gradients (Absolute Value):\n",
      "0.0\n"
     ]
    }
   ],
   "source": [
    "filename = '/kaggle/input/script2algo2/script2algo2key1.py'\n",
    "winclass = 1\n",
    "for i in [30, 20, 10, 5, 1]:\n",
    "    print(\"Top {} Gradients:\".format(i))\n",
    "    determinePercent(HighlightTopGradients(filename, i, False, False, True), winclass)\n",
    "    print(\"Top {} Gradients (Absolute value):\".format(i))\n",
    "    determinePercent(HighlightTopGradients(filename, i, False, True, True), winclass)\n",
    "    print(\"Min {} Gradients:\".format(i))\n",
    "    determinePercent(HighlightTopGradients(filename, i, False, False, False), winclass)\n",
    "    print(\"Top {} Weights:\".format(i))\n",
    "    determinePercent(HighlightTopWeights(filename, i, False), winclass)\n",
    "    print(\"Top {} Overall Gradients:\".format(i))\n",
    "    determinePercent(hloveralltopgrads(filename, i, False, False), winclass)\n",
    "    print(\"Top {} Overall Gradients (Absolute Value):\".format(i))\n",
    "    determinePercent(hloveralltopgrads(filename, i, False, True), winclass)"
   ]
  }
 ],
 "metadata": {
  "kaggle": {
   "accelerator": "none",
   "dataSources": [
    {
     "datasetId": 3964709,
     "sourceId": 6967199,
     "sourceType": "datasetVersion"
    },
    {
     "datasetId": 4446978,
     "sourceId": 7631877,
     "sourceType": "datasetVersion"
    },
    {
     "datasetId": 4447044,
     "sourceId": 7631953,
     "sourceType": "datasetVersion"
    },
    {
     "datasetId": 4447197,
     "sourceId": 7632156,
     "sourceType": "datasetVersion"
    },
    {
     "datasetId": 4002922,
     "sourceId": 7632281,
     "sourceType": "datasetVersion"
    },
    {
     "datasetId": 4516766,
     "sourceId": 7729947,
     "sourceType": "datasetVersion"
    },
    {
     "datasetId": 4550681,
     "sourceId": 7777134,
     "sourceType": "datasetVersion"
    },
    {
     "datasetId": 4550694,
     "sourceId": 7777152,
     "sourceType": "datasetVersion"
    },
    {
     "modelInstanceId": 15740,
     "sourceId": 18978,
     "sourceType": "modelInstanceVersion"
    }
   ],
   "dockerImageVersionId": 30558,
   "isGpuEnabled": false,
   "isInternetEnabled": true,
   "language": "python",
   "sourceType": "notebook"
  },
  "kernelspec": {
   "display_name": "Python 3",
   "language": "python",
   "name": "python3"
  },
  "language_info": {
   "codemirror_mode": {
    "name": "ipython",
    "version": 3
   },
   "file_extension": ".py",
   "mimetype": "text/x-python",
   "name": "python",
   "nbconvert_exporter": "python",
   "pygments_lexer": "ipython3",
   "version": "3.10.12"
  },
  "papermill": {
   "default_parameters": {},
   "duration": 57.747149,
   "end_time": "2024-04-15T15:48:33.319926",
   "environment_variables": {},
   "exception": null,
   "input_path": "__notebook__.ipynb",
   "output_path": "__notebook__.ipynb",
   "parameters": {},
   "start_time": "2024-04-15T15:47:35.572777",
   "version": "2.4.0"
  }
 },
 "nbformat": 4,
 "nbformat_minor": 5
}
